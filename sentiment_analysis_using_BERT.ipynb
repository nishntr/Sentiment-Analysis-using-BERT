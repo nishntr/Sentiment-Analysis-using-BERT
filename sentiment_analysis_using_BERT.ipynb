{
 "cells": [
  {
   "cell_type": "markdown",
   "metadata": {
    "id": "2XHqZoyEjhO-"
   },
   "source": [
    "# Sentiment Analysis with Deep Learning using BERT"
   ]
  },
  {
   "cell_type": "markdown",
   "metadata": {
    "id": "5QGlZ3--jhO_"
   },
   "source": [
    "## Data Analysis and Preprocessing"
   ]
  },
  {
   "cell_type": "code",
   "execution_count": 1,
   "metadata": {
    "colab": {
     "base_uri": "https://localhost:8080/",
     "height": 111,
     "resources": {
      "http://localhost:8080/nbextensions/google.colab/files.js": {
       "data": "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",
       "headers": [
        [
         "content-type",
         "application/javascript"
        ]
       ],
       "ok": true,
       "status": 200,
       "status_text": ""
      }
     }
    },
    "collapsed": true,
    "id": "1GoxVfcjjzfY",
    "outputId": "31e80f69-3bce-4348-b5bf-c255320b8f68"
   },
   "outputs": [
    {
     "data": {
      "text/html": [
       "\n",
       "     <input type=\"file\" id=\"files-1c4dfbf6-29d0-4ee5-b73b-d8a68e6cd7d2\" name=\"files[]\" multiple disabled\n",
       "        style=\"border:none\" />\n",
       "     <output id=\"result-1c4dfbf6-29d0-4ee5-b73b-d8a68e6cd7d2\">\n",
       "      Upload widget is only available when the cell has been executed in the\n",
       "      current browser session. Please rerun this cell to enable.\n",
       "      </output>\n",
       "      <script src=\"/nbextensions/google.colab/files.js\"></script> "
      ],
      "text/plain": [
       "<IPython.core.display.HTML object>"
      ]
     },
     "metadata": {
      "tags": []
     },
     "output_type": "display_data"
    },
    {
     "name": "stdout",
     "output_type": "stream",
     "text": [
      "Saving smile-annotations-final.csv to smile-annotations-final.csv\n"
     ]
    },
    {
     "data": {
      "text/plain": [
       "{'smile-annotations-final.csv': b'611857364396965889,\"@aandraous @britishmuseum @AndrewsAntonio Merci pour le partage! @openwinemap\",nocode\\n614484565059596288,\"Dorian Gray with Rainbow Scarf #LoveWins (from @britishmuseum http://t.co/Q4XSwL0esu) http://t.co/h0evbTBWRq\",happy\\n614746522043973632,\"@SelectShowcase @Tate_StIves ... Replace with your wish which the artist uses in next installation! It was entralling!\",happy\\n614877582664835073,\"@Sofabsports thank you for following me back. Great to hear from a diverse &amp; interesting panel #DefeatingDepression @RAMMuseum\",happy\\n611932373039644672,\"@britishmuseum @TudorHistory What a beautiful jewel / portrait. Is the \\'R\\' for Rex ?\",happy\\n611570404268883969,\"@NationalGallery @ThePoldarkian I have always loved this painting.\",happy\\n614456889863208960,\"@britishmuseum say wot, mate?\",nocode\\n614016385442807809,\"Two workshops on evaluating audience engagement @NationalGallery + @Cambridge_Uni early July http://t.co/8X3nLQVfQg http://t.co/4pNnjGzmEP\",nocode\\n610916556751642624,\"A Forest Road, by Thomas Gainsborough 1750 Oil on Canvas (@FitzMuseum_UK) http://t.co/e2MUQsbRBR\",nocode\\n614499696015503361,\"Lucky @FitzMuseum_UK! Good luck @MirandaStearn &amp; see you soon :) @fitalbott @JoReilly00\",happy\\n612869223354925056,\"\"\"1...2...\"\" \"\"non arr\\xc3\\xaate mon brush!\"\". l.Alma|A favourite custom|1909 @NationalGallery #bonlundi http://t.co/HpjvSJHGhP\",nocode\\n614497346521399296,\"The two works in our free #DuccioCaro exhibition play with space, movement, and architect... http://t.co/wdV2lzmgLu via @NationalGallery\",nocode\\n613601881441570816,\"Yr 9 art students are off to the @britishmuseum today. Enjoy!\",happy\\n611443771285188608,\"@NationalGallery Indeed\",nocode\\n611561745392513024,\"\\xe2\\x80\\x9c@britishmuseum: More #Waterloo200? Live #Periscope tonight with Dan Snow @thehistoryguy in #BonaparteAndTheBritish http://t.co/yEav7l6Lpq\\xe2\\x80\\x9d\",nocode\\n613696526297210880,\"@RAMMuseum Please vote for us as @sainsbury #sidwell\\'s local charity PRT http://t.co/IguyWk5MJT http://t.co/5kPGLNeW4H\",not-relevant\\n610746718641102848,\"#AskTheGallery Have you got plans to privatise any other roles @NationalGallery ?\",not-relevant\\n611172872044855296,\"New digital installation by Girton Artist in Residence @SonnyVadgama will be projected on the fa\\xc3\\xa7ade of the @FitzMuseum_UK tonight from 9pm!\",nocode\\n612648200588038144,\"@BarbyWT @britishmuseum so beautiful\",happy\\n612999088162783232,\"I\\'m with (with Sussanna at @nationalgallery) [pic] \\xe2\\x80\\x94 https://t.co/RT5OXRAmvR\",nocode\\n614912375288893440,\"@britishmuseum awesome museum\",happy\\n610435728565239809,\"@nationalgallery #AskTheGallery Why do you pay your brilliant staff so poorly?\",angry\\n611897570856714240,\"A sneak peek @BritishMuseum\\xe2\\x80\\x99s #IndigenousAustralia exhibition http://t.co/cZFrjkM2pK\",nocode\\n614698049328291844,\"Couldn\\'t agree more ; counting the days till we see @kettlesyard again ! https://t.co/5Re1PZr3HZ\",nocode\\n612924713883566080,\"#bennicholson @kettlesyard http://t.co/niI8OQYb3e http://t.co/RBMeP7d3tM\",nocode\\n613407692657397760,\"@museum140 @NationalGallery of course! #InstaMuseum\",nocode\\n614074786801709057,\"@britishmuseum soo beautiful\",happy\\n611634648846876672,\"@NationalGallery I do, I do, I do. :)\",happy\\n612736445820858368,\"@tateliverpool one of my favourite paintings! He was a great artist\",happy\\n614025292693180416,\"Free CPD afternoon for @PlymouthMuseum\\'s 2016 \\'War Games\\' exhibition on Thurs 2 Jul from 4pm #plymouth. Details at http://t.co/2ctn5flODc\",nocode\\n614184660906704896,\"The Magna Carta exhibition @britishmuseum was quite extraordinary. Very imaginatively done. Even a bit of Tony Hancock in there!\",happy\\n613359710343929857,\"Over 100 people signed up for \\'What\\'s It Worth?\\' @britishmuseum! Don\\'t miss out, book now! #cdavalue #PhDchat #ahrc10 http://t.co/ToFPL9m2YY\",not-relevant\\n610858270962675712,\"@plymouthcc @PlymouthMuseum\",nocode\\n612734845593219072,\"Kudos, @FitzMuseum_UK, for a top-flight WC exhibition!\",happy\\n615448394635575296,\"Jack from @britishmuseum blogs about how #museums can keep up with tech &amp; youngsters, its all in the collection - http://t.co/Tkd8aep3OT\",nocode\\n611481493257371649,\"@_TheWhitechapel @mitpress @monoskop http://t.co/fxp5kjuGV2\",nocode\\n612168095252267008,\"@stiveshouse @MillenniumArt @Tate_StIves @Tremenheere ooh... Please let us know how it is!!!\",happy\\n611634051502485504,\"I miss Cornwall so much. #ff @FernPitCafe @PentireNewquay @FalconInnMawgan @trebahgarden @Tate_StIves @NewquayRNLI @HeliganGardens\",not-relevant\\n610763295042224128,\"\\xc2\\xa310 off @accessart http://t.co/0biFQaXTQg membership plus offers from @royalacademy  @NationalGallery with @CASSART http://t.co/6JTpkIzyGg\",not-relevant\\n611529306917969922,\"@britishmuseum @Ophiolatrist Spain? Egypt?\",nocode\\n615107089619394560,\"Enjoying the amazing collections @britishmuseum with the family http://t.co/nSbD7DwNM1\",happy\\n615492699685318656,\"\\xc3\\x86dwen\\'s Brooch - story of an #AngloSaxon lady, filmed at @WestStowNews for @ElyMuseum &amp; @britishmuseum exhibition https://t.co/oRdig1DerL\",nocode\\n611239436739870720,\"@NationalGallery Beautiful painting.  Thank you.\",happy\\n612504789860118528,\"#definingbeauty @britishmuseum a truly breathtaking exhibition.fascinating on portrayals of women http://t.co/lyoR6HJEqL\",happy\\n613390719949099008,\"@DavidSmithArt @ThelmaHulbert @LisaLooly @DrawntoDevon @MooseAllain @roshvarosha haha not in my case...\",nocode\\n612328414201147392,\"The Great Court of the @britishmuseum #london. #photography http://t.co/6Oy3PPHnXy\",nocode\\n615279965664374784,\"@NationalGallery https://t.co/GHm3lO0hXY \\xf0\\x9f\\x91\\x8b\\xf0\\x9f\\x8e\\xa8\",nocode\\n613295358463057920,\"@britishmuseum It\\'s one of them things, innit?\",nocode\\n613044253921538048,\"Discover The Arts with Social Media: NOHO Co-Founder Rod McIntosh on NOHO Origins* https://t.co/tJmlzSRVvv @_TheWhitechapel #London #Art\",nocode\\n614911271079661568,\"@laiyaharvey thank you for the favourite, following you back, your mum @Andjustbeingme did a great job at #DefeatingDepression @RAMMuseum\",happy\\n612540027558580224,\"Treats for the end of June @HeatonsArtTrail followed by #JacksonPollock @tateliverpool *perfect summer*\",happy\\n615494776775950336,\"@Egondesign Is this Ivana moonlighting? @Tate_StIves #Hepworth http://t.co/N0fFLeGbU8\",nocode\\n611582675472777216,\"@tatteredstones @kettlesyard One of the best places in the country.\",happy\\n611534671915143168,\"@britishmuseum @SenderosP Rosetta stone\",nocode\\n612618724726702080,\"Gemma is visiting Australia today but has failed to find a Hemsworth. Keep trying! #AustrianGP @britishmuseum #Oz http://t.co/vdW5HT3g2S\",nocode\\n615216644550430721,\"@dr_shibley @britishmuseum Awwh - possum!\",happy\\n612202552764039168,\"Only two more weeks to see our exhibition on Roman food @CoriniumMuseum - stunning objects from @britishmuseum , @silchexcavation &amp; Corinium\",nocode\\n611947559444172801,\"Wonderful experience, hearing Tim Knox\\xe2\\x80\\x99s #objects2015 keynote on contents &amp; decor of UK country houses in gallery 3 of @FitzMuseum_UK!\",happy\\n611468228330680320,\"A little bit of #Waterloo1815 history @ThelmaHulbert @HonitonTown today https://t.co/VCcFPrRh81\",nocode\\n610834866435923969,\"Hooray! @MooseAllain wins Evolver Prize 2015! See it at @ThelmaHulbert from 4 July. http://t.co/GYKpsOb0W6\",happy\\n612261754882666496,\"Fabulous Enid Blyton exhibition @PlymouthMuseum. Great for kids of ALL ages! @LoveOurPast http://t.co/zmsvCN4aH5\",happy\\n612184473870970880,\"Castle Hill Open Day starts at 12. Art, dance, family activities, tours, talks, a nuclear bunker and more @kettlesyard #CastleHill15\",nocode\\n611523835125329920,\"@britishmuseum @aroberts_andrew How was the battle controlled? Drums,messages? Did regiments respond to the wrong drummers or instructions?\",nocode\\n613296900159209472,\"@britishmuseum coffin for babies?\",nocode\\n614755706881855488,\"@NationalGallery Important art and true culture, to effectively counter the culture of violence http://t.co/Ax0RKtghS1\",nocode\\n613736917599973376,\"Alla buon ora... Ti ho trovato finalmente... (at @BritishMuseum in London, Greater London) https://t.co/YYjpdv8H97\",nocode\\n610463913805774848,\"@7stories Enid Blyton exhib\\'n opens @PlymouthMuseum Wed 17 June! We\\'ve been helping set up http://t.co/OkrzbdXeVa http://t.co/9FDn5QZXbo\",happy\\n612264160311803905,\"KETTLE\\'S YARD: ANTIMUSEUM - meet the Archivist is buzzing! #CastleHill15 @kettlesyard #explorearchives http://t.co/c8UyiYMZpD\",happy\\n613296073138962432,\"\"\"Lot more I can do with \\xc2\\xa313.5m\"\": Director of @FitzMuseum_UK confirms they are not trying to buy export ban Cezanne http://t.co/cBzuD2P3pH\",nocode\\n614460759154798597,\"A week writing reports about reports suddenly brightened by the thought of #DefiningBeauty at @britishmuseum tomorrow with @LittleMissMoo\",happy\\n611230763531522048,\"La fama viene y va... @arteblanco @NationalGallery https://t.co/xzZEoCQkd3\",not-relevant\\n612252317241446400,\"Samba time! @britishmuseum @camdentalking #DiscoveryDay http://t.co/SHi5OPmVsN\",happy\\n613057647990824960,\"@NationalGallery The 2nd GENOCIDE against #Biafrans as promised by #Buhari has begun,3days of unreported aerial Bombardment in #Biafraland\",not-relevant\\n613677567619563520,\"Lots of ancient artefacts to enjoy @britishmuseum #amazingplace #toomuchforaquickvisit http://t.co/utnDOEiGXO\",happy\\n611906987052408832,\"I\\'m at @BritishMuseum in London, Greater London https://t.co/JxHG8pCw6s\",nocode\\n613976658723405824,\"St George slaying the dragon. German. 15th Century. @britishmuseum. Painted wooden church statuette http://t.co/BZrfSMJAwJ\",nocode\\n611844583224438784,\"Plus excellent prizes from the @britishmuseum http://t.co/soUo22G29A http://t.co/YrIWP415oR\",happy\\n615216447787270144,\"Feliz cumplea\\xc3\\xb1os,Rubens! Happy birthday,Rubens! @NationalGallery http://t.co/BeiJc5hNri http://t.co/UMRi93Y96C\",happy\\n610734851881345024,\"Behind the walls @_TheWhitechapel http://t.co/mylVk96joW\",nocode\\n613254691200331776,\"@BadDancer76 @SarahGee75 @tateliverpool midweek is better for me girls x\",nocode\\n615065883912765440,\"See Christopher Williams - The Production Line of Happiness - via @_TheWhitechapel http://t.co/uf8CYDsyiX http://t.co/tWTYeAD3Pe\",nocode\\n610741907426267136,\". @NationalGallery What message does oil sponsorship of the arts send to those ngotiating a climate deal in Paris this year #AsktheGallery\",angry\\n612463710335053824,\"@_TheWhitechapel  UNESCO-VENETO-THE OPERA una nuova idea di bellezza per l\\'Italia e il Mondo su, http://t.co/NsOuQRnFYV\",nocode\\n610255778503634944,\"Big pocket required RT @appendixjournal Ancient Roman version of Swiss Army knife, 3rd century CE, at @fitzmuseum_UK. http://t.co/Pol8JwnLna\",nocode\\n613634413730078720,\"MPs are to debate @NationalGallery privatisation tomorrow as #PCS strikes continue http://t.co/7UajHU12bg ask your MP to attend\",not-relevant\\n608624432752521216,\"I Love Museums http://t.co/LblvLtgxmR via @camunivmuseums @zoologymuseum @socltweet\",happy\\n613749482723930112,\".@IanLaveryMP can you attend adjournment debate tomorrow #noprivatisation @NationalGallery #reinstatecandy @NGNotForSale @PCSCultureGroup\",angry\\n611609774996746240,\"@SumoJim @britishmuseum http://t.co/IoCtSXGtjl\",nocode\\n612371445197447168,\"Excellent exhibition at @britishmuseum on Napoleonic era caricature/prints, well worth a look\",happy\\n615535685529903104,\"I\\'m at @NationalGallery in London, Greater London https://t.co/qVJtN7jq5d\",nocode\\n615245158699954177,\"In the Mesoamerican gallery at @BritishMuseum, Lord Shield Jaguar &amp; Lady Xoc of Yaxochilan summon spirits. http://t.co/dzlqOpA4Zo\",nocode\\n612598102336212993,\"@britishmuseum @drng today shortest day down under-winter solstice *waves*\",not-relevant\\n615135547321905152,\"@britishmuseum we love the badge! Here she is visiting Peel Park in 1851 http://t.co/VONu7avCip\",happy\\n614910137048797185,\"@britishmuseum @ahencyclopedia\",nocode\\n614064596794671104,\"@NationalGallery http://t.co/RCJUgBXuzM\",nocode\\n614423435645743104,\"#artcubed @stockleyacademy students day @NationalGallery #stockleyart #proudteacher http://t.co/DaI5AA8cp9\",nocode\\n611793550641098752,\"#FollowFriday @sistersofmoon @sewingcircus @SewBloominHappy @tateliverpool @FACT_Liverpool @LarksVintage http://t.co/eFoF3qsJjK\",not-relevant\\n615158141274202112,\"Remember #Waterloo @BritishMuseum satiric prints show http://t.co/CFKiu266QH or explore #IFPDA http://t.co/RNFAGjI0Lo http://t.co/u5V29POeJJ\",nocode\\n613782715545055232,\"This de Hooch \\'Courtyard of a House in Delft\\' us quite simply my favorite painting in @NationalGallery Thanks for placing it center stage.\",happy\\n614137043497713665,\"Termas: Underwater Throne photos taken by Ian Kingsnorth of my recent performance @Tate_StIves http://t.co/2ClcmROoh8 http://t.co/WhXjHh6PdA\",nocode\\n615138927666700288,\"* @hist_astro @britishmuseum It looks like there\\'s some #ArtisticLicence involved in that sketch of #SummerSolstice #sunrise at #Stonehenge.\",nocode\\n611249760658452480,\"@PlymouthMuseum new exhibition http://t.co/uZD8O51WOe  Famous 5 http://t.co/EDVCFIXDVy  btw, #7sTurns10 - @7Stories: http://t.co/cgUdCxkDhc\",nocode\\n614779118153003008,\"Yes! \\xe2\\x9d\\xa4\\xf0\\x9f\\x92\\x9b\\xf0\\x9f\\x92\\x9a\\xf0\\x9f\\x92\\x99\\xf0\\x9f\\x92\\x9c\\xe2\\x80\\x9c@V_Septembre: #LoveWins \\xf0\\x9f\\x8c\\x88  Georges #Seurat - \\xc3\\x89tude pour \"\"Baigneurs \\xc3\\xa0 Asni\\xc3\\xa8res\"\", @NationalGallery, 1883 http://t.co/8jmdOVoJb1\\xe2\\x80\\x9d\",nocode\\n612603409217142785,\"@ladywhitepeace1 @britishmuseum actually the longest day this year will be June 30th when the next leap second will be added at 23:59:60\",not-relevant\\n611971153238736896,\"A @heritagelottery grant helped us acquire \\'Whistlejacket\\' in 1997. Learn more: http://t.... http://t.co/DrJOxGFsXp via @NationalGallery\",happy\\n614115313316179968,\"@HackneyAbbott @NationalGallery @johnmcdonnellMP @pcs_union London London London\",not-relevant\\n614760652180189184,\"@britishmuseum It\\'s amazing! You\\'re always so up to date! The best museum in the world! Thanks!\",happy\\n614433267610185728,\"#indigenousAustralia @britishmuseum moving exh about effect of colonisation &amp; documents the peoples\\' fight for rights to their \\'country\\'.\",nocode\\n615490640592310272,\"Have you seen the #sand in the #paint? @NationalGallery   The #Beach at #Trouville (1870) by Claude #Monet http://t.co/66wZL3xCpn\",nocode\\n614408417717919744,\"@FitzMuseum_UK Yum! \\xf0\\x9f\\x98\\x80\",happy\\n612300159603593217,\"{ @britishmuseum } #Korea #China #art #London #ttot #lp #vacation #trip #photography #photo #Travel #travelpics http://t.co/wjMdbqJKKM\",nocode\\n613295669399396352,\"@britishmuseum Of course! Nothing more and nothing less than the eye of Horus! Greetings!\",happy\\n610881470576656386,\"@kdastgirkhan @NationalGallery u didn\\'t respond to my compliments,earlier?\",nocode\\n611536471938461696,\"@DerekSharplol @britishmuseum for the peninsula wars and the 1st defeat of Napolean.\",nocode\\n612239742361554944,\"@britishmuseum well deserved. Congrats!\",happy\\n614941836151521280,\"@britishmuseum loved the exhibition today! My mum especially loved it! X\",happy\\n612964814906884097,\"@MicroPasts @britishmuseum task 40821 of Foreign Weapons before starting my real job for the day - happy Monday! http://t.co/4tU8k7lgRi\",happy\\n614129980738531328,\"@RoyalMintUK @NationalGallery @OrdnanceSurvey @RoyalMail All vital and profitable national institutions. Don\\'t let the #Tories sell them off\",not-relevant\\n614381967644205056,\"User testing and 3D printing @RAMMuseum\",nocode\\n615152630738739200,\"@britishmuseum @GerardAraud Lenin\\'s favourite painter\",nocode\\n613313648589586432,\"I got 10/10 in \\'Can you guess the artwork?\\' http://t.co/jyDiunjQg3 #arthistorydegree #wellworthit @NationalGallery @Tate @NatGalleryAus\",happy\\n615135696714657795,\"@NationalGallery @sladurantaye And Rubens\\' Massacre of the Innocents @agotoronto http://t.co/S6JyNp1cLr\",nocode\\n612576172132704256,\"@HolbornDining one of the most delicious coffee\\'s ever @RosewoodLondon before tackling the Greek exhibition @britishmuseum\",nocode\\n610456280692604929,\"#AskTheGallery How much did @NationalGallery spend on employing CIS to staff the Rembrandt Exhibition and the Sainsbury Wing?\",not-relevant\\n612283683815456768,\"This is how a show should be hung. Don\\'t miss Christopher Williams\\' The Production Line of Happiness @_TheWhitechapel http://t.co/6GIaHBKSXD\",nocode\\n612273406797578240,\"A young friend has drawn us a great pic of @kettlesyard inside and out with his new @archiveshub pencil #CastleHill15 http://t.co/kAxZ2Vi2c8\",happy\\n610833467912400896,\"@ReclaimOurBard @pcs_union @NationalGallery : Culture? Funded by the P.R. budget? DO ME A FAVOUR. I wouldn\\'t go there if you paid me.\",disgust|angry\\n613034415724343296,\"@Peter_Bridgman got a painting in London Open at @_TheWhitechapel and couple of paintings in Reality at @walkergallery - both open mid July\",nocode\\n613032702359564288,\"Artist Larissa Sansour discusses the use of sci-fi in her films @_thewhitechapel 27 June with @FL_FLAMIN @Film_London http://t.co/TR3VI57skn\",nocode\\n610435626811424768,\"@nationalgallery #AskTheGallery When will you be re-instating Candy Udwin? Why should the arts be subject to private profit?\",angry\\n614448677562785792,\"Patients of Sharp Ward are enjoying historic views of the city thanks to @PlymouthMuseum http://t.co/TIx8wplLu9 http://t.co/x0H2a5lkHy\",happy\\n611534085975076864,\"Rosetta Stone \"\"@britishmuseum: .@SenderosP example of what the Napoleonic Wars brought out of Egypt #Waterloo200 http://t.co/SX7ks6lwwn\\xe2\\x80\\x9d\",nocode\\n610481355110154240,\"@Rossy__RORO   It is also a privilege to have the great @NationalGallery in London it is truly wonderful #arttherapy\",happy\\n612308143163502593,\"@Aisling_Pash @schemaly @britishmuseum Are you encouraging them to violate men\\'s privacy? Assault! This woman\\'s advocating assault!\",disgust|angry\\n612243489640828928,\"@NationalGallery The bird cage to represent infancy. The instrument to represent youth . The Armour to represent strength and manhood\",nocode\\n608374279328165889,\"Fantastic to be in London today speaking @ACEnterprises event. Met lovely people from @GH_Sudbury &amp; @CamUnivMuseums http://t.co/3uM1n3njPF\",happy\\n611340246165295104,\"@NationalGallery It\\'s a bright but cloudy day. If the sun is behind a cloud, there wouldn\\'t be a lot of shadow, maybe?\",not-relevant\\n611115652808605696,\"open source Events CMS @southbankcentre  - could this be what @CamUnivMuseums needs?  @robgethers #culturegeek\",nocode\\n610751425589714944,\"#askthegallery What do you take more pride in: Hanging classic artwork or hanging your staff out to dry? @NationalGallery\",angry\\n613061763865645056,\"@NationalGallery The 2nd GENOCIDE against #Biafrans as promised by #Buhari has begun,3days of unreported aerial Bombardment in #Biafraland\",not-relevant\\n614341859519938560,\"\"\"Crisis Through the Ages\"\" topic of our one-day conference. Booking is free but mandatory. Thx! @ManeyArchaeo @wellcometrust @britishmuseum\",nocode\\n612152943089971201,\"Walking through the #British #museum #London @britishmuseum @StreetArtLondon @bcn_arte #Art @DallasMuseumArt  : https://t.co/z9i1tR2Dy4\",nocode\\n613830951072829444,\"Excited for discussions on the potential, practicalities &amp;challenges of museum archival research #museumarchive @britishmuseum event in July\",happy\\n611800299804692480,\"@Hellboy919 @AboutLondon @MadameTussauds @BateauxLondon @britishmuseum @Camdencoffee @ThamesRIBExp @thamesclippers @EmiratesAirLDN thank you\",happy\\n610741355082551296,\"Thanks to Lucy &amp; co. New Rhythms Through New Eyes going up in the Education studio @kettlesyard in prep for Saturday! http://t.co/DMWyOwiy23\",happy\\n614852295055028224,\"Wonderful book from trip to the @britishmuseum today. Such a fun way to improve on geography knowledge! #maps http://t.co/JYYzIcGp4U\",happy\\n611578372456583168,\"I\\'m at @NationalGallery in London, Greater London https://t.co/6XTeuY6JEb\",nocode\\n611622400023744512,\"In London @nationalgallery, a beautiful Vermeer #inarttours #masterpieces https://t.co/VukC9cOZkD\",happy\\n610762408307638272,\".@NationalGallery ignores questions on sponsorship fees received from Shell. No surprises. #Artwash https://t.co/sTcbuC1dhz\",disgust\\n614369179051950080,\"CEO N Chandra welcomed 450 guests to the TCS UK reception which featured 400 yrs of #shakespeare magic @britishmuseum http://t.co/b0DR7pBRnK\",nocode\\n613315131913670657,\"Jackson Pollock @tateliverpool http://t.co/mLll6yHSd8 http://t.co/m2nk96LqCV\",nocode\\n614547679666917376,\"@ATG_Editorial at the #SoFAA dinner listening to the wonderful main speaker, Tim Knox of @FitzMuseum_UK\",happy\\n614112070053830656,\"Fantastic @johnmcdonnellMP standing up for workers @NationalGallery #noprivatisation while @edvaizey sits on fence! http://t.co/QzBYpUAtQt\",angry\\n615210597374930944,\"Enjoyed a couple of hours in side the British Museum @britishmuseum lonelyplanet #summer #NotSoSunny\\xe2\\x80\\xa6 https://t.co/BHGoPi3c8T\",happy\\n614734202643292160,\"not long till the blind spots exhibition! #jacksonpollock @tateliverpool \\xf0\\x9f\\x98\\x8d\",happy\\n612851185406623744,\"Lo viste? El tuit m\\xc3\\xa1s popular de hoy entre las personas que sigo http://t.co/L5gaYeSWie por @britishmuseum\",nocode\\n613744184495894529,\"@britishmuseum you have incredibly helpful staff here, from security team to support staff in rooms and galleries! #greatservice\",happy\\n611621564761669635,\"Amazing job team @britishmuseum - @periscopeco 2 in the bag. Massive thanks to @thehistoryguy. Happy #Waterloo200 peeps!\",happy\\n613749377954377728,\".@CarolineLucas can you attend adjournment debate tomorrow #noprivatisation @NationalGallery #reinstatecandy @NGNotForSale @PCSCultureGroup\",nocode\\n613081619977650176,\"@RAMMuseum / Exeter Redcoats ready for the @rugbyworldcup coming to @SandyParkExeter @RWC2015Exeter pic @maustinpics http://t.co/chHI9ZylF3\",nocode\\n613033457472663552,\"After his defeat at Waterloo, Napoleon abdicated for the second time http://t.co/bRUD9bNgj6  via @britishmuseum http://t.co/5SlVORrunq\",nocode\\n615233258368823297,\".@maxmara Art Prize winner Corin Sworn creates a new large-scale installation @_TheWhitechapel http://t.co/RFTa1anHVt http://t.co/oGF4ir0B1K\",nocode\\n611950193043472384,\"6 years ago today, the greatest museum opened: the #acropolismuseum. @britishmuseum #givethemback #elginmarbles #greece\",happy\\n614101418748866560,\"@britishmuseum Spartan! Do you suppose some knew when to pose?\",nocode\\n613680118700109824,\"BEATRICE GIBSON will present her new film THIS SATURDAY @_TheWhitechapel @FL_FLAMIN Book now: http://t.co/0rDWW3zHKv http://t.co/zQQTulLM3J\",nocode\\n613125846593896448,\"@britishmuseum @krisevans @adamlambert\",not-relevant\\n612990084099534848,\"Had an excellent lunchtime visit to @britishmuseum with @theresecoen this afternoon for the #DefiningBeauty exhibition.\",happy\\n614057655011819520,\"The perfect location to wear #VanessaGounden ... The @britishmuseum\\'s Great Court #WearableART #Artivism http://t.co/RAAvlb1AcW\",happy\\n614307958273515520,\"@pennyprileszky @stockleyacademy @NationalGallery whole trip free!\",happy\\n610706288398479360,\".@nationalgallery Reinstate Candy after tribunal success #AskTheGallery @PCSCultureGroup http://t.co/hiQ6QFT8o0\",nocode\\n610679437818892288,\"#ThemePark #Leisure Second phase of Cornwall\\xc3\\xa2\\xc2\\x80\\xc2\\x99s Tate St Ives steams ahead @Tate_StIves @ILoveCornwallUK @BAMC... http://t.co/Rc35aNAPXI\",nocode\\n613125523603103744,\"@britishmuseum @MrsSymbols @adamlambert\",nocode\\n614384123386441732,\"Praise for @tateliverpool  https://t.co/QlriENJBiV\",happy\\n610744227958517760,\"@NationalGallery what is the scope of getting some of the art and ideally complete exhibitions outside London? NW maybe  #AskTheGallery\",nocode\\n615252768966733825,\"...and @BritishMuseum have the Sutton Hoo Anglo-Saxon hoard, including the iconic helmet. Striking up close. http://t.co/gipigjfNAy\",happy\\n611806642863124480,\"Looking forward to seeing the Australia exhibition at @britishmuseum soon. My take on the Ancient Greece exhibit: http://t.co/ef2NOvoJJY\",happy\\n612309398665494528,\"@Canton_Chris that or piss @schemaly @britishmuseum\",not-relevant\\n614573453954428928,\"Evidence ?@RieHepworth @PaulKindersley @NTHepburn @kettlesyard  correct Christopher Wood and correct time frame ? http://t.co/PvbJqWAWmr\",nocode\\n610399436905254914,\"#job Development Officer - @RAMMuseum\\xe2\\x80\\x8b in #Exeter - closing date 10 July http://t.co/wL9M2ylIIZ #museumjobs\",not-relevant\\n614468643380965376,\"Work experience was great @FitzMuseum_UK http://t.co/qRbr8dBsGr\",happy\\n615449784497868800,\"@britishmuseum I\\'m curious to know what is the story behind this unsettling display? http://t.co/7yhqISLHSx\",nocode\\n614356943659008000,\"Frans Hals; We replaced the heavy 70s pastiche with a  Dutch 17th century rosewood moulding frame. @NationalGallery http://t.co/g0yhYbE0Pp\",nocode\\n614477090835034113,\"@RAMMuseum Thanks to Tom for helping me study Bronze Age metalwork this week for my #phd. Read about my visit here: http://t.co/O4kjQaxQd9\",happy\\n611467612271218688,\"My ToI Q&amp;A: W/writer,filmmaker &amp; first woman head of  @NationalGallery @RothschildHan on \\'The Improbability of Love\\': http://t.co/6UgzVuXY5W\",nocode\\n614752485748576257,\"@britishmuseum the trail has disappeared from that linked page.\",not-relevant\\n613736453143666692,\"Henry VIII crowned king #onthisday 1509.19th-century portrait (after Holbein) http://t.co/6g35yBbQqu http://t.co/XltevLY0Qh @britishmuseum\",nocode\\n613684890396135424,\"@WMNNews @Tate_StIves haven\\'t seen the garden yet but will soon. I\\'m a fan, that\\'s what I am!! Rhyme of the day http://t.co/NchNHWoJJA\",happy\\n614389336449130497,\"Visitors like 3D weather. Millionth @RAMMuseum visitor today! http://t.co/nmJMxf2XFw\",happy\\n611862978581954560,\"Get in the mood for #Pollock &amp; make some Jazzy Drips with the family http://t.co/WT31sacD13  @tateliverpool http://t.co/Ocn1AP9LPs\",nocode\\n615295501911502848,\"@_TheWhitechapel  : Cover Ulysses-nya Joyce karya Matisse : http://t.co/IoubnWlnCB\",nocode\\n614372529906524160,\"Ancient lives new discoveries @britishmuseum @VernonSys http://t.co/Kz7VujoSl4\",nocode\\n614730799322124288,\"@wzaparte Ich f\\xc3\\xbcrchte dass auch dann die Leute nicht kommen w\\xc3\\xbcrden. Siehe Text, warum. @DerSPIEGEL @MuseeLouvre @britishmuseum\",not-relevant\\n612771924360437760,\"The most erotic painting in The @NationalGallery  No! not the Bronzino!-- but--\\'Leda &amp; the Swan\\' after Michealangleo http://t.co/rOLeopUrOJ\",happy|surprise\\n612216422987640832,\"@Tate_StIves hear hear. Super interesting\",happy\\n612947190164623360,\"@NationalGallery Apart from the obvious skull? No idea!\",nocode\\n612636766303072256,\"@BBC_Culture @PlymouthMuseum Oh dear, why not Dame Laura Knight? Surely \\'The Beach\\' should be in this list!\",sad\\n615228895537799168,\"@FitzMuseum_UK http://t.co/LRg6D2CIvu\",nocode\\n611237759781588992,\"Following on from the UK\\'s newest royal baby @NationalGallery posts painting of original Queen Charlotte: https://t.co/wtBa6Gfai1\",nocode\\n611667572602368000,\"Ooh, this looks good - Jackson Pollock exhibition opens @tateliverpool 30th June http://t.co/74WzAzjotq http://t.co/1CQzS3x3Kl\",happy\\n611901875596754944,\"Nothing to do with football this one... its just a tiny bit exciting @tateliverpool #Pollock http://t.co/TUmZb6F7Gp\",happy\\n614163241950801920,\"TY / M @Seygnovert Also follow @LoudenStudio @NYAcademyofArt @NationalGallery 2017 Abstract Film Program\",nocode\\n610814061857611776,\"@NationalGallery EXPO BOISSONNET FRENCH ARTIST PARIS 2016   1958 http://t.co/Zjkmp4cpXm\",nocode\\n614405383889788928,\"Piero della Francesca, The #Baptism of #Christ 1448\\xe2\\x80\\x9350 #London @NationalGallery tempera su tavola cm 168\\xc3\\x97116 #river http://t.co/Se8YCaxtsB\",not-relevant\\n608559657293115392,\"#ILoveMuseums as they provide fantastic opportunities to #ExploreYourSubject as a prospective applicant for #university! @CamUnivMuseums\",happy\\n611883638481911808,\"Castle Hill Open Day \\xe2\\x80\\x93 @kettlesyard http://t.co/Cqd05Eqbm5\",nocode\\n613303739563249664,\"Fantastic performance by Kerry Yong after @beatricegibson film as part of @FL_FLAMIN evnt on Sat @_theWhitechapel http://t.co/IDkceOIoB6\",happy\\n610750959778693120,\".@NationalGallery #AskTheGallery http://t.co/xUWjRy64jU\",nocode\\n611528356861997056,\"@britishmuseum @JHGHendriks Wasn\\'t that the Grand Old Duke of York?\",nocode\\n611985912411635712,\"@britishmuseum smooch!\",nocode\\n614774940064157696,\"#ARTiculation speakers are presenting @britishmuseum with @arthistorians  http://t.co/pM6OT0phoN\",nocode\\n614387988668157956,\"@britishmuseum \\xe0\\xa4\\xb8\\xe0\\xa5\\x81\\xe0\\xa4\\xa1\\xe0\\xa5\\x8c\\xe0\\xa4\\xb2 \\xe0\\xa5\\x99\\xe0\\xa5\\x82\\xe0\\xa4\\xac\\xe0\\xa4\\xb8\\xe0\\xa5\\x82\\xe0\\xa4\\xb0\\xe0\\xa4\\xa4\\xe0\\xa5\\x80\",nocode\\n614123407098126336,\"I\\'ll be talking about The Greeks in Southern Italy at @britishmuseum tomorrow, Rm 73, 1.15pm. Happy memories of #Gravina #archaeology\",happy\\n611572147480363008,\"One of my favourite artefacts from one of my favourite museums @MAACambridge ! https://t.co/vsc3l73QuR\",happy\\n612319419121954816,\"HAPPY BIRTHDAY TO MY MAIN MAN (sorry @DanDiPiero) 400 YEARS YOUNG TODAY (in his great selfie from @NationalGallery) ! http://t.co/zL1yMv4Izb\",happy\\n614370619652722688,\"#FF Happy weekend! @CommunityArchae @britishmuseum @PyBossa @chancock_na @joshuathogue\",happy\\n610753748298764289,\"@NationalGallery Lovely choice!\",happy\\n615502503174668288,\"Jackson pollock and Glenn Ligon opening tomorrow at @tateliverpool great combo, both beautiful #NotToBeMissed\",happy\\n611491406813773824,\"@_TheWhitechapel @mitpress @monoskop http://t.co/dTz66QJhGz\",nocode\\n612232002671091712,\"@emmalbowkett @_TheWhitechapel Its Best thing about photography I guess :)\",happy\\n613091648352862209,\"\"\"@britishmuseum: Ancient Egyptians placed amulets onto mummies to harness supernatural powers  They have this eye everywhere.\",nocode\\n610830545250045952,\"@kdastgirkhan @nationalgallery hmmmmmmm nice\",happy\\n611481214730522624,\"Good to see you yesterday &amp; all the work in progress @flocktognews @wordpressdotcom The @ThelmaHulbert is coming together\",happy\\n615082324934438912,\"Looking forward to the #GlennLigon talk at @tateliverpool this afternoon :-)\",happy\\n612661059099475968,\"Portrait of Doge Leonardo Loredan - Giovanni Bellini, 1501 (On display @NationalGallery) http://t.co/PedW4mdjJV\",nocode\\n613683861889941504,\"Well worth catching before it ends early July #DefiningBeauty @britishmuseum http://t.co/qxIn5W7k9a\",happy\\n613757433710813184,\"Come to c it @tateliverpool staying @hotelindigo with @TravelBird_UK &amp; choose to go on #dazzleferry @MerseyFerries  https://t.co/B0UM0raumJ\",nocode\\n611565709781544960,\"Tomorrow I\\'ll have a London #art day, starting @TPGallery , then @britishmuseum and afterwards the @royalacademy . A strong dose of art! :-)\",happy\\n611532443703746561,\"@britishmuseum Did Napoleon have to have bandages on his haemorrhoids changed during the battle? Or just a myth? #Waterloo200\",nocode\\n611849119590707200,\"@MuseeLouvre @museiincomune @leCMN @GoldUnveiled @britishmuseum @MarDixon @Museo_MADRE Magnificent, would love to learn more about this hand\",happy\\n610821788730269697,\"Get your child\\'s creative juices flowing at \\'Imagination Station Special: Paper Picnic Time\\', tom\\'row at @PlymouthMuseum - 10.30-12, FREE!\",nocode\\n613742828288655360,\"\"\"A great modern British institution\"\" - great piece from the @guardian on the fantastic @tateliverpool : http://t.co/wm6Es7gk69\",happy\\n611998102388473856,\"...al vil \\xc3\\xb3leo @MilenioYucatan @revistayucatan @CulturaYucatan @SejuveYuc @GranMMM @NationalGallery @gobiernoyucatan http://t.co/BhDhnzWN4V\",nocode\\n613307853936439296,\"@britishmuseum  podr\\xc3\\xada tratarse de la divinidad fenicia del cereal?\",nocode\\n612008913978978304,\"@britishmuseum Excelente colecci\\xc3\\xb3n!\",happy\\n612921779187773440,\"Tomorrow: @_TheWhitechapel Gallery Children\\xe2\\x80\\x99s Commission goes on display, featuring work by Brazilian artist Rivane Neuenschwander\",nocode\\n612591618122731520,\"@HistoryGems @britishmuseum gives me the shivers every time I see this #aweinspiring\",happy|surprise\\n612626150121172992,\"A peachy morning at the excellent \"\"Defining Beauty\"\" exhibition @britishmuseum\",happy\\n612619423694782464,\"@britishmuseum May there be Peace in the North. South. East &amp; West. May there be Peace throughout the world. Druid summer solstice, AH Rite\",nocode\\n612591455551553540,\"@_TheWhitechapel One of my 5 favourite places for contemporary art ! Great discovery today ! #artinlondon #gallery http://t.co/zAOImhy7JG\",happy\\n613049567039385604,\"Buzzing on WINGIT #LDN RT @PeytonandByrne It\\'s wine o\\'clock at the National Cafe with oliverpeyton @nationalgallery tonight - half price...\",happy\\n614371534770176000,\"#ff @JoeHReportage @JoannaEdenMusic @kevinhenry88 @KentwellHall @kettlesyard @EssexLibraries @looetic @law_saffron @LS_Fitness\",not-relevant\\n611466186677723136,\"Great night in Cambridge with the Zugubal dancers from the Torres Strait! @MAACambridge http://t.co/HidjzmWvgA\",happy\\n611798284663959552,\"@_TheRowanTree_ Thank you. Have a lovely weekend x @sewingcircus @SewBloominHappy @tateliverpool @FACT_Liverpool @LarksVintage\",happy\\n613365589550202881,\"@AdamKoszary @BW_126 Liking @RAMMuseum \\'s use of Instagram to show behind the scenes &amp; things visitors might miss on a visit. #InstaMuseum\",happy\\n614014563579772928,\"We made a virtual @britishmuseum for our games art students work http://t.co/BUxCb2nov9\",nocode\\n614328360584540164,\"Off for a meet @RAMMuseum about some really exciting stuff for #exeter grey day will be #beautiful #breakfastofkings http://t.co/lRwKbGxOLk\",happy\\n608561308468846595,\"@CamUnivMuseums @ilovemuseum I love Museums because they remind us that others before found a way to survive and also Periwigs  are great:)\",happy\\n612348120060555264,\"#Cambridge will not be the same for my next visits but I look forward to the results! @kettlesyard @rorieborealis  https://t.co/0spfnIyHiK\",happy\\n614787007265419265,\"The monumental \\'Italian Woman\\' is by Corot, although he was best known as a landscape pai... http://t.co/mUzceCnoTK via @NationalGallery\",nocode\\n611092653338415104,\"#cfp #conference \\'negotiating art. dealers and museums\\' @NationalGallery #london april 2016: http://t.co/xhh2iqURte\",nocode\\n611215486253166593,\"Hidden watercolour treasures go on display at @FitzMuseum_UK - http://t.co/Yz5DTi4jGU http://t.co/4jG25VK2bi\",happy\\n612946639595171840,\"@britishmuseum turquoise eyes!!!\",surprise\\n612197303911346177,\"saw Indigenous Australia exhibition @britishmuseum superbly presented but with harrowing vision of colonisation http://t.co/oLM2iQRLvh\",happy|sad\\n614486093891805184,\"Weekend of last chances feat. Modern Heroism: Printmaking and the legacy of Napoleon @FitzMuseum_UK &amp; Richard Billingham @Townergallery #art\",nocode\\n614492521226440704,\"Thank you for the #FF @BHandL @GTroopRHA @sinonevero @suzilove @ThelmaHulbert @LansonLoyalty @AntiqueMag @BHL_valuer @trueyankees\",happy\\n612165027387297792,\"@britishmuseum @JSuhermanBailey this seems quite clear in the copy. Unfair to take that one word &amp; apply to entire thing.\",angry\\n611529088398958592,\"@britishmuseum why did Napoleon keep using columns against British line? #Waterloo200\",nocode\\n614363309047984128,\"#ff @CamUnivMuseums @CuriosityFair @ecstasyofwilko @wilkojohnson @CanveyIsIand @CIFC @CICC100 @DorringtonsLtd @DirectorySW @DrenchLtd\",not-relevant\\n610797540682899456,\"Don\\'t miss @Tate_StIves\\' Material Histories seminar, inc. #Linder &amp; Dawn Ades in conversation http://t.co/BLyfFRn04G http://t.co/OzAHd8W2J8\",nocode\\n613252750235836416,\"Would this be of interest @Objects2015 @ArtatARB @kettlesyard ? https://t.co/DQjQEKi0It\",nocode\\n611831070850461696,\"#IndigenousAustralia at @britishmuseum is beautiful, enlightening and thought-provoking. Well worth a visit!\",happy\\n613293156948410368,\"@FitzMuseum_UK ta, the release we were sent wasn\\'t clear, but will amend that now\",nocode\\n612637377228578816,\"The Place\\'s subtle dance piece performed with AgeUK @britishmuseum Defining Beauty exhibition didn\\'t really work; bring back the bacchantes?\",sad\\n612923062590275584,\"PICTURES: #EnidBlyton #exhibition in #Plymouth #Museum | http://t.co/FtjyJcgsAV via @WMNNews #devon @PlymouthMuseum http://t.co/syuU8tNXMq\",nocode\\n612872051427274752,\"One of Ch. Shivaji\\'s original portrait is housed in @britishmuseum http://t.co/zlcdNxpQGA #MarathiLondon http://t.co/pXiXzTiVV4\",nocode\\n611625177944862721,\"Ooo we bet this was good @britishmuseum! #presentfilms https://t.co/iqVGoqG1Wh\",happy\\n611564098602450944,\"In London?  Missing Cleveland?  Then get thee to the @NationalGallery for this elite show: http://t.co/icLbKnjHLx\",nocode\\n615487157306826752,\"@kettlesyard PPL of CAMBRIDGE/PETERBOROUGH!! Final casting week, don\\'t be shy! Filming July 13th-17th. E claire.gellard@shiver.tv RT\",not-relevant\\n612578509593149441,\"THE TWEETETTES TIMES is out! http://t.co/hxrjtCGx9J Stories via @britishmuseum\",nocode\\n615535640252428291,\"Now Showing: Images Moving Out Onto Space, work from eight artists spanning 50 years @Tate_StIves https://t.co/P0pXGOfCP3\",nocode\\n611047594995924992,\"#NG365 Willem Duyster\\'s \"\"Soldiers Fighting Over Booty in a Barn\"\" (c.1623-24) @NationalGallery #art http://t.co/Emj3mGrD2Q\",nocode\\n615500105131630593,\"Press view at @tateliverpool for #jacksonpollock #blindspots http://t.co/aEzjmkbGv1\",nocode\\n614721194097553408,\"A lot of the scholarly establishment will dismiss these as modern ideas inapplicable to the material &gt; @foxvertebrae @britishmuseum\",nocode\\n615500010436849665,\"Jackson Pollock press view @tateliverpool and some lovely themed spattered cupcakes http://t.co/lr567edB1H\",happy\\n614896239050670081,\"Books, films, Greeks, coffee, curry. Perfect Saturday with @ml42. @britishmuseum @Foyles @FoppCovent @monmouthcoffee @Dishoom @CurzonBbury\",happy\\n614467534230843392,\"@RathfernPS Had a brilliant(but tiring)trip to the @britishmuseum with Nebula class today,very well behaved great ambassadors for the school\",happy\\n613078091397771264,\"@69quietgirl @britishmuseum Excellent point. Just add the lack of decent medical services and suspect water supplies and the present is fine\",disgust|angry\\n610439874462773248,\"@NationalGallery #AskTheGallery Nicholas Penny pls reinstate Candy Unwin who a judge confirmed  was sacked for Trade Union activism\",nocode\\n613316906624385024,\"Turner at @museugulbenkian @NationalGallery http://t.co/xyoRrqd45w\",nocode\\n612202653582495744,\"in #Cambridge today? check out Castle Hill Open Day http://t.co/n1gW9gmfXQ  @kettlesyard #CastleHill15 @MuseumofCamb http://t.co/VymNZlDKZj\",nocode\\n615173059998298112,\"Lovely afternoon at the @britishmuseum - amazing! Thank you for keeping our museums free.\",happy\\n612538487909273600,\"@kettlesyard  we miss you too!\",happy\\n611065127702409216,\"@tateliverpool @richard51185877 What a great idea THANK YOU  Liverpool such a great City with amazing History which I study\",happy\\n612308035428577280,\"@britishmuseum @TripAdvisor Well deserved. Congratulations.\",happy\\n611537641545297921,\"I would say this, but you should come and see Christopher Williams @_TheWhitechapel before it closes on Sunday.\",nocode\\n615099688270888960,\"Spending my Sunday morning roaming the Indigenous Australia exhibition :) (at @BritishMuseum) https://t.co/Ui05Xf3c5D\",happy\\n613323613266124800,\"@britishmuseum How is this a mystery when the tweet identifies them as \\'ancient Greek bronze greaves from 500 BC\\'? Genuinely confused...\",nocode\\n612207925453561856,\"@britishmuseum @TripAdvisor Thing to do in London today? Take action to end scam, lie of austerity. http://t.co/mcnS6UdU1z #endausteritynow\",not-relevant\\n610373662420660224,\"@NationalGallery A glimpse into #Tiepolo\\'s inner world: MERCHANTS OF LIGHT, a new historical novel by Marta Maretich. http://t.co/J1RMRzia3p\",nocode\\n612560639437897728,\"Beatrice Gibson, Sarah Turner &amp; Larissa Sansour present materials that inspire their work @_TheWhitechapel Bk now! http://t.co/WyAVUVdbwL\",nocode\\n611915424339480576,\"Hadrian! We\\'re off to visit his wall next! @britishmuseum w/ @bquentin3 &amp; zada_beda thanks to\\xe2\\x80\\xa6 https://t.co/nixI2mU9ch\",happy\\n612554991610556416,\"At the @NationalGallery looking at the picture by Matan Ben Cnaan. Winner of this year\\'s BP competition\",nocode\\n613706842166947840,\"\\xe2\\x80\\x9c@NationalGallery:  http://t.co/AQDBwifeZG http://t.co/RA5fZQNdUP\\xe2\\x80\\x9d Such a good painting\",happy\\n614141652320538624,\"@HackneyAbbott @NationalGallery @johnmcdonnellMP @pcs_union thanks Diane your presence &amp; contribution very much appreciated by strikers ;-)\",happy\\n614716813138599936,\"So me and @foxvertebrae went to the Defining Beauty exhibition at the @britishmuseum yesterday, and I thought I\\'d tweet some musings.\",happy\\n611574066068226049,\"@cheeky_maggy @britishmuseum wasn\\'t that Nap III (Paris, I mean)?\",nocode\\n611606028929638400,\"@NealSpencer_BM @britishmuseum Ahah! The place where I spent my Saturdays and Sundays out of my Wokhingham school and made cards....\",happy\\n614473566877257728,\"Strikers at @Shell -sponsored @NationalGallery protest against #privatisation #kayaktivists #ShellNo @revbillytalen http://t.co/kLkbccLnFo\",angry\\n615437176751398912,\"Last week of Defining Beauty @britishmuseum http://t.co/pHCW5DJOW1\",nocode\\n608956204900085762,\"Don\\'t forget our AS &amp; A\\' Level \\'Subject Tasters Week\\' coming this September across @CamUnivMuseums. Book your FREE place today 01223 332904\",not-relevant\\n610725142306627584,\"Do you have a burning question for @NationalGallery Director Nicholas Penny? Now\\'s your chance to ask! #AskTheGallery\",nocode\\n613644990053548032,\"#FathiHassan #theOffering 2007 #photograph #photography @britishmuseum #photographycollection\\xe2\\x80\\xa6 https://t.co/iFgB2yD7wA\",nocode\\n614904459030884352,\"@britishmuseum Gorgeous\",happy\\n615181153448792064,\"@britishmuseum  He looks thrilled.\",nocode\\n613738446910304258,\"Summer of art happening! Audrey Hepburn @NPG, Barbara Hepworth @TateBritain, Summer exhibition @RAA and Pollock @TateLiverpool! Happy days!\",happy\\n611843376602681344,\"@britishmuseum Thank You :-)\",happy\\n613652314520485888,\"\\xe2\\x80\\x9cEvery good painter paints what he is.\\xe2\\x80\\x9d Jackson #Pollock coming soon @tateliverpool http://t.co/pu5O38k0GQ http://t.co/qvojc8RUNQ\",nocode\\n612025635754651648,\"Completed my week\\'s dose of Ancient Greece 2night at @britishmuseum #DefiningBeauty expo. Quite a spectacle and not busy. Worth seeing.\",happy\\n613708459477999616,\"Tonight (24/06) 6.30pm @Carousel_LDN discussion on collage in contemporary art with @_TheWhitechapel for our #BrooklynVsLondon exhibition.\",nocode\\n611585778490179584,\"@BM_AG #privateview @NationalGallery @HelenHillyard @artfund opening of the new Baroque galleries - amazing http://t.co/nfIDolC0fT\",happy\\n613352642547466240,\"@_TheWhitechapel. Contemporary ad after Christopher Williams. http://t.co/GRPmEyYyHn\",nocode\\n612577616026054656,\"@britishmuseum I\\'m in. Who do I send my cv to? http://t.co/36Zu31T0Pw\",nocode\\n615150427873652737,\"@NationalGallery C\\'mon, that could be anybody.\",nocode\\n613332395564077056,\"Have you heard about Soundscapes? Hint: it\\'s about paintings, DJs, museums, the @NationalGallery, &amp; it\\'s pretty cool. http://t.co/KQWgdXn9LY\",happy\\n615295718606004225,\"@NationalGallery  : Cover Ulysses-nya Joyce karya Matisse : http://t.co/IoubnWlnCB\",nocode\\n613695282652553216,\"@KurtBravo @NationalGallery @Investigart @cipripedia Muy propio para hoy. He visto muchos San Juanitos hoy por las calles de Bejar\",nocode\\n611527080170389504,\"@britishmuseum can u fit in 140characters y learning abt #Waterloo200 is significant? Taken out of curriculum in NJ &amp; I\\'d like that changed!\",nocode\\n612611176313323520,\"Et \\xc3\\xa0 Sandro aussi @NationalGallery #venus #mars #botticelli http://t.co/aC4VNVKYvy\",nocode\\n615444918702620672,\"@britishmuseum Wimbledon starts to today any one for tennis.\",nocode\\n610759577311801344,\"or here https://t.co/R2tO79Easn .An in house solution proposed to meet flexibility needs. Come on @NationalGallery - it\\'s time to TALK.\",disgust|angry\\n613671975119122433,\"@jbouie Listened to Germany: Memories of a Nation podcasts from @britishmuseum? Many show efforts to grapple with brutal history.\",nocode\\n615487713039491072,\"\\'He broke it. He broke the lute\\'   http://t.co/qGlKYiPRKk   @NationalGallery http://t.co/GecwY9NhpQ\",nocode\\n613728453196582912,\"Looking forward to Age Friendly Museums Network tomorrow @britishmuseum presenting on @StrokeAssocLDN &amp; @HornimanMuseum partnership\",happy\\n612955403664670720,\"I\\'m at @BritishMuseum in London, Greater London https://t.co/9gF23U5r33\",nocode\\n612300570964140032,\"{ @britishmuseum } #Napoleon #China #art #London #ttot #lp #vacation #trip #photography #photo #Travel #travelpics http://t.co/iuDGPRtcII\",nocode\\n611874447906209792,\"Superstition &amp; religion: 4-leafed clover encloses \\'T\\' for Thomas Becket. #pilgrimbadges @britishmuseum @LloyddeBeer http://t.co/WhvW7lm5zQ\",nocode\\n611815763196907520,\"#Win tickets to Jackson #Pollock: Blind Spots at @tateliverpool! 5 pairs to #giveaway http://t.co/Wr19uS63rh    #art #Liverpool #comp\",nocode\\n610522967471206400,\"@NationalGallery @state_hermitage\",nocode\\n614432053753475072,\"Magic Carpet Storytelling @kidsinmuseums  @NationalGallery  https://t.co/95pUT0NPNR\",nocode\\n614910534681513984,\"@JessHarri thank you for the RT, following you back, great to see the panelists in action at #DefeatingDepression @RAMMuseum\",happy\\n612212953383862272,\"Checking out the Art Corner in Queen Square this weekend? @FringeArtsBath @BathBoules @WeLoveBath @NOWBath @ICIABath http://t.co/Kii53DaHPT\",nocode\\n612336227354853376,\"\\xe9\\xa2\\xa8\\xe5\\x88\\xba\\xe3\\x81\\xa8\\xe8\\xa8\\x80\\xe3\\x81\\x88\\xe3\\x81\\xb0TED\\xe3\\x83\\x88\\xe3\\x83\\xbc\\xe3\\x82\\xaf\\xe3\\x81\\xa7\\xe3\\x82\\x82\\xe8\\xa8\\x80\\xe5\\x8f\\x8a\\xe3\\x81\\x97\\xe3\\x81\\x9f1640\\xe5\\xb9\\xb4\\xe4\\xbb\\xa3\\xe3\\x82\\xa4\\xe3\\x82\\xae\\xe3\\x83\\xaa\\xe3\\x82\\xb9\\xe3\\x81\\xae\\xe4\\xbc\\x81\\xe6\\xa5\\xad\\xe7\\x8b\\xac\\xe5\\x8d\\xa0\\xe6\\x89\\xb9\\xe5\\x88\\xa4\\xe3\\x80\\x82\\xe3\\x82\\x82\\xe3\\x81\\xaf\\xe3\\x82\\x84\\xe4\\xba\\xba\\xe9\\x96\\x93\\xe3\\x81\\xa7\\xe3\\x81\\x99\\xe3\\x82\\x89\\xe3\\x81\\x82\\xe3\\x82\\x8a\\xe3\\x81\\xbe\\xe3\\x81\\x9b\\xe3\\x82\\x93w British Museum: Collection image gallery @britishmuseum http://t.co/mx5tMg6dN3\",nocode\\n613507111700590592,\"@PrintQuarterly  @Prntmakngonline @_TheWhitechapel @Museo_MAXXI\",nocode\\n614950088754884608,\"@AHistoricoMNA @britishmuseum\",nocode\\n611086695329480704,\"Rayban_Outlet_65,Click_24 http://t.co/sMiDEXlzlK http://t.co/LREnUrzz6U @RAMGolfSociety @RAMIREZLUNA @RAMMuseum @RAMON1144 @RAMONGUTIERREZO\",nocode\\n614821392421363713,\"Form/process/context: \"\"space is a meeting point of histories\"\" @FL_FLAMIN Artist Sarah Turner in conversation w Karen Mirza @_TheWhitechapel\",nocode\\n614093720674267136,\"Job Desc.: \"\"3D Models\"\". Back at @britishmuseum today with the African Rock Art team... http://t.co/uClPF58nxM http://t.co/eAPA3BWd2j\",nocode\\n611530447244255233,\"\"\"@britishmuseum: We\\xe2\\x80\\x99re here with #Bonaparte What about the importance of Napoleon and the Egyptian culture ?\",not-relevant\\n615536436369080320,\"I\\'m at @NationalGallery in London, Greater London w/ @sandersonabby https://t.co/qpuDgt1kzT http://t.co/iCWaQ24PbQ\",nocode\\n615158279828844545,\"Cup depicting Odysseus and a rather sad Achilles, via @britishmuseum archives http://t.co/r8udd0ktjb http://t.co/iLkvKnMhhR\",nocode\\n611957236949209089,\"Explore the art of Castle Hill this Sat with a tour of the New Hall Art Collection @MECCambridge &amp; last chance to visit @kettlesyard\",nocode\\n611438321802309632,\"Reading @SStraine on mega-Pollock @tateliverpool in the @stylistmagazine certainly perked up the morning commute! http://t.co/6f9hTVkKQi\",happy\\n611130840408584192,\"I just told @tate @britishmuseum @NPGLondon &amp; @RoyalOperaHouse to #DropBP Sponsorship. Join me: http://t.co/RBqHZy2rOo\",nocode\\n614699052458975232,\"This is one of the rooms @Tate_StIves Ravine Neuenschwander now well worth a visit u become part of it too? http://t.co/nXK7jfvFyp\",happy\\n614113009837981697,\"Fantastic introduction to the re-displayed Baroque galleries @BM_AG today at pre-1900 European Paintings SSN Study Day with @NationalGallery\",happy\\n611085612024745984,\"@RAMMuseum RT Hi, Check out our crowdfunding campaign by Pauser http://t.co/jODvZVBWJ0 help us and create new #graffiti #streetart\",not-relevant\\n613346237132218372,\"@NationalGallery The 2rd GENOCIDE against #Biafrans as promised by #Buhari has begun,3days of unreported aerial Bombardment in #Biafraland\",not-relevant\\n610357807385341952,\"@FitzMuseum_UK I would love to know the source\",happy\\n611916673252134914,\"@FundforTeachers can\\'t express gratitude 4 this visit inside our Art History 101 textbk! W/ @bquentin3 @britishmuseum http://t.co/P6Ev1q1J5O\",happy\\n612552615801548800,\"Don\\'t miss Christopher Williams\\' exhibition about photography @_TheWhitechapel #britaininsider @londonlivindoll http://t.co/DWxZvo7C9u\",nocode\\n614388307846369281,\"@kettlesyard #SINCru\\'s annual #HipHop #Theatre summer #show \"\"7,295 Silent Steps\"\" takes place 1st weekend of #July http://t.co/GCekGvK0Gz\",nocode\\n611531532608610304,\"@britishmuseum @Nickuae why was it pejorative? Was it a comment about class?\",nocode\\n614335190329114624,\"@FourFeetFilms Enjoy! When Van Gogh lived here for a short while he wrote about his walks over the Thames to work and @NationalGallery.\",happy\\n614038854757183488,\"Real life Iron #Throne #GameofThrones #GoT @britishmuseum http://t.co/sLCDbrx5rb\",nocode\\n611514917120774144,\"John H. Taylor du @britishmuseum \"\"The collecting activities of Giovanni d\\'Athanasi\"\" #objetEgyptien http://t.co/4hCcd1nb6E\",nocode\\n613330258738180097,\"@ICIABath we are trying to create Fun Palaces across Bath bringing science and arts together. Are you interested?  http://t.co/aU8gGTvDXp\",nocode\\n612381005349978112,\"#london @visitlondon @NationalGallery #awesome http://t.co/z4wYeXUBuI\",happy\\n612186717181898752,\"@Godchecker @britishmuseum much better.\",happy\\n611592851504414721,\"@samerelfidy @HistoryLibya @OsamaTashani @britishmuseum \\xd9\\x85\\xd8\\xb4\\xd9\\x83\\xd9\\x84\\xd8\\xa9 \\xd9\\x84\\xd9\\x85\\xd8\\xa7 \\xd8\\xaa\\xd8\\xa8\\xd8\\xaf\\xd8\\xa7 \\xd9\\x85\\xd8\\xaa\\xd8\\xad\\xd9\\x85\\xd8\\xb3 \\xd9\\x88\\xd8\\xae\\xd8\\xa7\\xd8\\xb4 \\xd8\\xa8\\xd8\\xab\\xd9\\x82\\xd8\\xa9 \\xd9\\x88\\xd8\\xa7\\xd9\\x86\\xd8\\xaa \\xd9\\x85\\xd8\\xa7\\xd8\\xaa\\xd9\\x86\\xd8\\xaf\\xd8\\xb1\\xd9\\x8a\\xd8\\xb4 \\xd8\\xb9\\xd9\\x84\\xd9\\x8a\\xd9\\x87\\xd8\\xa7\",nocode\\n613979296177201152,\"This morning students have been given some free time to explore Cambridge\\'s museums. @CamUnivMuseums #ExploreYourSubject #SWOpenDay\",nocode\\n613792925391032320,\"@odonnellhugh @britishmuseum\",nocode\\n613283072121765889,\"Very funny fast talking #MC @theiAwards - a great night, beautiful venue @NationalGallery\",happy\\n612616882252853248,\"Cannot believe 3 years in London &amp; it\\'s my first visit to the British Museum! It\\'s massive! @britishmuseum http://t.co/Qf9F0qTNkj\",happy\\n610746881472364544,\"@kettlesyard YES! And we\\'re very excited about completing our epic Tippett cycle with you tomorrow evening too!\",happy\\n614797899340349440,\"#Win a pair of tickets to Jackson #Pollock: Blind Spots at @tateliverpool! http://t.co/Wr19uS63rh   #art #exhibition #Liverpool\",nocode\\n613345647597645824,\"@lothargoetz Mirror Image - a frieze of monoprints @Holeeditions @MertensFrames @_TheWhitechapel http://t.co/KGbnko2YoA\",nocode\\n615472948917456896,\"Hi @MAACambridge &amp; @TheMuseumOfLiz. Pls can you share our sponsored #Roman road walk with your followers? https://t.co/Hz9b4wZbVJ\",not-relevant\\n614123419064336385,\".@tateliverpool\\'s Blind Spots exploring Jackson Pollock\\'s black pourings opens 30 June http://t.co/svG1IzgM9t http://t.co/Awml2oE2HL\",nocode\\n614875623648043008,\"@city_calm you have a new follower, thank you for favouriting my RT. Really interesting panel #DefeatingDepression @RAMMuseum\",happy\\n610567774281297920,\"@NationalGallery #AskTheGallery What would you do to better adapt to the needs of foreign visitors?\",nocode\\n615209016160059392,\"Thank You \\xf0\\x9f\\x98\\x98 RT @CCBMLov: @MidoriTakaki @Nantronica You ARE hopefully one day soon you will have your work at the @britishmuseum \\xf0\\x9f\\x98\\x8a\",not-relevant\\n614070780918370305,\"@NationalGallery Tomorrow, history, art &amp; science collide during #FellowFriday with @ebdrago. Hope you can join us! http://t.co/hSb9vDspsz\",nocode\\n613840732206559232,\"@NationalGallery  sexy porn sex with dance and sexual intercours https://t.co/YljzmBvSO9\",not-relevant\\n610740257726799874,\"If you\\'ve got a spare fiver, @kettlesyard have almost reached their redevelopment funding target http://t.co/TEvhD5ICBq\",nocode\\n611230952073859073,\"Discover The Arts with Social Media: NOHO Featured Artist Natalie Ryde https://t.co/Gl8amrJgwd @_TheWhitechapel #London #Art #Video\",nocode\\n610487067865423872,\"Christopher Williams: The Production Line of Happiness showing @_TheWhitechapel till June 21 http://t.co/x5kgjdszTX\",nocode\\n614117200652333056,\"@HackneyAbbott @BarnetTradesCcl @NationalGallery @johnmcdonnellMP @pcs_union oh you won\\'t get Ed to intervene, he hasn\\'t with library cuts.\",disgust\\n614056577428004864,\"@FL_FLAMIN @nia_loves_films @_TheWhitechapel fantastic - thank you!\",happy\\n615253181354901505,\"@_TheWhitechapel \"\"Toward Parliament square at dusk\"\". I hope you all enjoy this painting. http://t.co/cjY46idGyJ http://t.co/ZKTDELAPkT\",happy\\n614046139084636160,\"The Dartmouth Museum Daily is out! http://t.co/DRFJjmT28J Stories via @FitzMuseum_UK @MuseumsAtNight @HilaryMcGowan\",happy\\n614830915282411520,\"May have bought more stuff from the Mexican bit of the @britishmuseum :D http://t.co/XmvUJGIigx\",happy\\n614791120086794240,\"@chemingineer @aaroo4 Saw it @NationalGallery (London) last year and looked for signs of damage but saw none. Conservationists deserve merit\",happy|surprise\\n613396614544261120,\"Apotropaic! RT @britishmuseum: Today\\'s #MysteryObject - ancient Greek bronze greaves 500 BC! http://t.co/IM4j6O3SkU http://t.co/jbNoLsd9qe\",nocode\\n610222579354333184,\"Go this week! @CreativeDebuts @FunkyArtGallery @GlobalArtAgency @ShoreditchHype @Brick_Lane_Art @_TheWhitechapel http://t.co/93FcNMiTUU\",happy\\n613070020126601216,\"@RAMMuseum  Hello. If you are interested in Kundalini, Enlightenment, Liberation, etc., check this:  https://t.co/N2mbD6Zrpf\",nocode\\n612298368874885120,\"\"\"La Gare Saint-Lazare\"\" de Claude Monet @NationalGallery #London http://t.co/ctnlAZcU9M\",nocode\\n614128641329491968,\"@Smerchant84 RT @lisamaythomas: The Touch Diaries trailer! https://t.co/TG6HPOQ4IK premiere 9th July @ICIABath @BathDance @theatrebristol\",happy\\n615247605166116865,\"The @BritishMuseum has an \\'Enlightenment\\' gallery. It\\'s kind of the \\'Batman Begins\\' of the place. http://t.co/y6cOmANylc\",nocode\\n615473627958538240,\"CEO Daniel Gandesha will be speaking at the @WiredUK money #startup event at @britishmuseum on 8th July: http://t.co/ssV9XuW9gN\",nocode\\n610392656338882560,\"#ChristopherWilliams The Production Line of Happiness @_TheWhitechapel on until Sunday. Dynamic &amp; refreshing http://t.co/fPla90shml\",happy\\n610851702519021569,\"@ExeterLiving @MooseAllain @ThelmaHulbert Fab. :)\",happy\\n613686050280579072,\"@britishmuseum heading to visit mummies and statues.\",nocode\\n613433362506715136,\"Dr Sculthorpe provides insightful talk to @artfund members about #IndigenousAustralia exhibition @britishmuseum http://t.co/J51wWzXSvf\",happy\\n613726642758918144,\"The @RAMMuseum in Exeter is definitely worth a visit. They have a #Samurai! #ILoveMuseums @brinton83 @crazybird001  https://t.co/1OAGRLHmak\",happy\\n612400187613532160,\"Visited the @FitzMuseum_UK today! Inspiration is everywhere :) http://t.co/xq3U4bvz3Y\",happy\\n611115939082424321,\"F is for Funky Fiddle Leaf but also for the fabulous @FitzwilliamColl and @FitzMuseum_UK http://t.co/JUwM1VV89t\",happy\\n612563757374525440,\"@MarcusRomer @kettlesyard @andrewnairne The truth is I had a brain freeze and couldn\\'t remember your name.\",not-relevant\\n613802783460982785,\"Brilliant Day, Loved drinking too much coffee with the lovely @lisajewelluk @NationalGallery\",happy\\n611657179452583937,\"Find great content producers on #Periscope like @britishmuseum http://t.co/9FJeQAZvXQ  @periscopeco @periscopetv http://t.co/PTx5tkaWvZ\",happy\\n612537488750592000,\"Entrance Hall of Royal Academy, Somerset House by George Johann Scharf 1836 (@britishmuseum). http://t.co/JkndjhmQc5\",nocode\\n614388485852655616,\"Congrats @samcurtisart, v exciting. Looking forward to the show. Starts 15th July - not to miss! @_TheWhitechapel\",happy\\n612942389511106560,\"Lo viste? El tuit m\\xc3\\xa1s popular de hoy entre las personas que sigo http://t.co/HZwcLEHrv1 por @britishmuseum\",nocode\\n611644801042280448,\"@kettlesyard - sparkling strings of  light adding to the ambience at Kettles Yard this sunny afternoon http://t.co/dVm0zpXXly\",happy\\n611836592379011072,\"@NationalGallery Great 2 c #Rembrandt\\'s back from loan in Rooms 23 &amp; 24 Missed them so much!\",happy\\n610432027352002560,\"Crossing the red line. @fitzmuseum_uk @cambridgeuniversity #cambridgeuniversity #iphoneonly #shotoniphone6 #museum \\xe2\\x80\\xa6 http://t.co/lJ4s0syi3O\",nocode\\n615519865412157442,\"#Pollock review \\xe2\\x80\\x93 this is art as nervous breakdown... and it\\'s majestic http://t.co/2VuJL7t9BC via @guardian Until 18 October @tateliverpool\",happy\\n612010016422424576,\"Friday off. Christopher Williams @_thewhitechapel #whitechapelgallery \\xf0\\x9f\\x91\\x8f\\xf0\\x9f\\x8f\\xbb https://t.co/b0hJLUxgg7\",nocode\\n613974337570406401,\"Great visit to the @britishmuseum yesterday. Expect photos.......\",happy\\n614030422666838016,\"@MorpethSch students got to try their hand at curating an exhibition @_TheWhitechapel yesterday, check it out http://t.co/Va9kAkGT2z\",nocode\\n610498030576529408,\"Great day filming #Roman #gems @FitzMuseum_UK with @gassingabout. Watch this space for the finished video! http://t.co/nvf8kEVkJj\",happy\\n610565793705787392,\"@NationalGallery Director Nicholas Penny, why was Candy Udwin sacked for? was it because she is vocal about the Tory\\'s plan #AskTheGallery\",not-relevant\\n613342915620958208,\"@britishmuseum @Deirdre2_borgia Looks incredibly uncomfortable to wear...\\xf0\\x9f\\x91\\xa2\",nocode\\n612601028098326528,\"They did and they will: Coin minted in Amphipolis in #Greece 330 BC depicting Zeus, today in the @BritishMuseum. http://t.co/Vv0IsKfQR7\",nocode\\n612253624438235136,\"@NationalGallery the glass means fragility and the book are fortification plans says museum text Tizian far superior https://t.co/pYZBvPbiYV\",nocode\\n613337192358916096,\"@Tate @tateliverpool I will be hammering the door down to see that exhibition, fantastic opportunity to see a well curated exhibition\",happy\\n613753743214006272,\"Looking forward to joining this evening\\'s #DefeatingDepression event at @RAMMuseum - hosted by @UoE_MedHist\",happy\\n615470099022127104,\".@NationalGallery loved the Drawing in Silver and Gold exhibit. Fascinating process and breadth of use thru centuries of #art!\",happy\\n613279740510773248,\"So pleased this was selected and will be at @ThelmaHulbert Gallery in July/August #EvolverPrize2015 http://t.co/yA60vLNPTk\",happy\\n614548877186854913,\"Saw #definingbeauty at @britishmuseum today and it is just glorious. Seriously, the arse on that exhibition. Wow.\",happy\\n613268388748652544,\"\\xc2\\xa313m Cezanne painting will leave Cambridge\\'s @FitzMuseum_UK- unless a UK buyer comes forward: http://t.co/JUDB49cQcz http://t.co/gWmNfNAE3K\",nocode\\n610410903784292352,\"@tateliverpool @uccrew_sthelens  tom?\",nocode\\n614407115134902272,\"Coming soon from @TheEES near  @SoaneMuseum @camdentalking @britishmuseum @FoundlingMuseum @LoveCamden @DickensMuseum http://t.co/Xx78LXC3X4\",nocode\\n610883786411245568,\"Thank you Caroline Campbell for this aft @NationalGallery.I\\'m so glad I came to #London to take you to @SanFrancisco http://t.co/J7WDpKSJXL\",happy\\n611618085150294017,\"@SplashDSM @britishmuseum e.g. arc de triomphe, part of the louvre were napoleon B\",nocode\\n612305625570246656,\"Van Gogh &amp; Monet @NationalGallery #London http://t.co/tBaeuSl7Xc\",nocode\\n615494588942426112,\"BritishMuseum: RT @Alias_Ailsa: Loved #ancientlives exhibition @britishmuseum! Brilliant use of technology, amazin\\xe2\\x80\\xa6 http://t.co/LR7CW55YOy\",happy\\n613819077149237256,\"@britishmuseum for a wonderful summer party http://t.co/p9CCVNcQE8\",happy\\n613311564553302016,\"@britishmuseum a death mask??\",surprise\\n611919160902316032,\"@NationalGallery\\'s Matt Morgan explores the display of light in art from Turner to Eliasson! Later: 8pm #alsofestival http://t.co/7YRTpDZaTQ\",nocode\\n610576888575205379,\"Solidarity @greenpeace #kayaktivists We r fighting @Shell &amp; @NationalGallery who want 2 privatise 400 workers here #ShellNo #noprivatisation\",angry\\n612218949896404992,\"@britishmuseum @TripAdvisor I put the @NatGalleryAus and @V_and_A ahead of you; however I fear changes coming to both\",nocode\\n613428849880244224,\"Really loved #DefiningBeauty @britishmuseum. Outstanding exhibit+ worth it for last 2 sculptures alone. Closes 5 July http://t.co/F3GZWdGSdX\",happy\\n612117651062591488,\"@britishmuseum Discover the diversity of http://t.co/2kbdAhhHxK http://t.co/YqWY358aci\",nocode\\n614851834147172352,\"Still time to book for @PlymouthMuseum and @YorkArtGallery #newexpressions #fieldvisits #KeithHarrison #PhilipEglin https://t.co/sq0JZ7SD4X\",nocode\\n611796541204860928,\"@PamHartshorne @britishmuseum  Sounds wonderful\\xf0\\x9f\\x98\\x8a- enjoy\",happy\\n611532415232831488,\"Really enjoying @britishmuseum tweets. Well worth a follow.\",happy\\n614079256562372608,\"Just finished deinstalling @kettlesyard Now closing for 2 years redevelopment. Look forward to seeing new space\",happy\\n612964603669168128,\"@britishmuseum why was the wounded eye of Horus used so much?\",nocode\\n612691236118470656,\"@tateliverpool #FathersDay My father\\'s Carl Kohler 1919-2006 selfportrait from 1946. http://t.co/29rx0PjLxh http://t.co/rcY8bI0dbZ\",nocode\\n613365356049121280,\"Ace dragon tiles at the @britishmuseum http://t.co/S6BLYPW7dR\",happy\\n614479148904501248,\"L\\'immense toile majeure de #Seurat (mal connu en France) Baigneurs \\xc3\\xa0 Asni\\xc3\\xa8res est \\xc3\\xa0 Londres @NationalGallery http://t.co/ogo1jI8q3C\",nocode\\n614687866409586688,\"Thanks @britishmuseum for preserving #Palmyre http://t.co/kQPEpqSUU6\",happy\\n613275711906967552,\"@NationalGallery Welcome aboard!\",happy\\n612191856831631360,\".@Tate_StIves curator Laura Smith talking on 2018 show on Virginia Woolf &amp; women artists. #MaterialHistories http://t.co/jDmlhxQDFn\",nocode\\n610744579650940928,\"@NationalGallery @Duff_Stuff_ Always start with the Perugino- then try other stuff!\",nocode\\n610790838235451392,\"@FitzMuseum_UK Rather lovely promotional animation: https://t.co/IF96Cy4zy3\",happy\\n613584753258659841,\"What lies beneath: drapery and the suggested form http://t.co/xY8I9SWmOM via @britishmuseum\",nocode\\n611523488659189760,\"@britishmuseum @JHGHendriks This Dutch horse survived: https://t.co/Ft2tViG040\",nocode\\n611624091741782017,\"Congratulations to our @artfund @NationalGallery trainee @HelenHillyard on a fantastic #Baroque redisplay @BM_AG! http://t.co/RXVTc7bXhG\",happy\\n614485130078494720,\"Glad Day #LoveWins (from @britishmuseum) http://t.co/Q4XSwL0esu http://t.co/voivfqwJYD\",happy\\n611614579844587520,\"@britishmuseum Loving it! Periscope is broadcasting sideways here though (might be just my browser)...\",happy\\n612272686153236480,\"We are still open for another hour! Please come down and visit us. #CastleHill15 @CambridgeNewsUK @kettlesyard http://t.co/6e7IZyaATw\",nocode\\n613352259611676672,\"@britishmuseum Superbe Mus\\xc3\\xa9e http://t.co/4I8idPlBFt\",happy\\n611093719736037376,\"@kettlesyard @IrregularCircle love this place :-)\",happy\\n613392722427310080,\"@CarolineLawrenc @britishmuseum Didn\\'t he also invite a local wit at the forum to publicly ok him? Always liked Vespasian.\",nocode\\n610732299504779264,\"#AskTheGallery @NationalGallery Dear director, i really would like to know.... http://t.co/ohJxCNRWu5\",nocode\\n610796035833757696,\"Look out for @SIN_Cru_ performing at @kettlesyard #CastleHill Open Day this Saturday 20th June! #Dance #BBoying Info: http://t.co/7PgnqtHiw3\",nocode\\n612011672081985537,\"#FF @YardsBrewJason @YarwoodLeather @YardiesBath @BYMClaire @yarpmedia @mrneilly @Your_Bath @YourBath2015 @BathCoUK @Bath_Jobs_UK @ICIABath\",not-relevant\\n611878425213693952,\"The extension to @KettlesYard... http://t.co/FAKNxBg8gO\",nocode\\n608287703105470464,\"20th June @SidneySussex will be transformed into a museum of all things #art @CamUnivMuseums @CamWhatsOn\",nocode\\n610476867334873088,\"Saturday @_TheWhitechapel: screenings + discussions w/ Beatrice Gibson, Sarah Turner + Larissa Sansour @FL_FLAMIN http://t.co/8tI8cJilMP\",nocode\\n614925839835250689,\"Crocodile mask @britishmuseum #IndigeousAustralia exhibition http://t.co/Sgg6tqDuCm\",nocode\\n612963114229846016,\"@NationalGallery The 2rd GENOCIDE against #Biafrans as promised by #Buhari has begun,3days of unreported aerial Bombardment in #Biafraland\",not-relevant\\n614708533179904000,\"USA Armchair Travelers See The Impressionists of National Gallery July 14th! http://t.co/D5WfIOCZPb @NationalGallery http://t.co/hl4L0GJ6wq\",happy\\n611459781493170176,\"#AskTheGallery @NationalGallery Dear director, i really need to know... http://t.co/ZOKi0WmpLw\",nocode\\n611722802534707200,\"@LucyWheeler16 @kettlesyard Thank YOU for a lovely evening!\",happy\\n614465995118407680,\"@britishmuseum thanks!\",happy\\n614794915822723072,\"@TheFrameBlog @NationalGallery She\\'s a beauty. Beauty is so hard to come by these days.\",happy\\n610481765770231809,\"Review: Christopher Williams \\'The Production Line of Happiness\"\" @_TheWhitechapel  til 21.06, text by Becky Sykes  http://t.co/ENtZTD7q9p\",nocode\\n615577895986139136,\"@WhiteLightEvent @Caz3822 @walker_a supplying core colour points and wireless PA system @NationalGallery @NASDAQ #eventprofs\",not-relevant\\n614735587011088384,\"@MartinUMueller Da ist auch leider die Kultur- und Sprachpolitik im Ausland schuld. Kurz: Bratwurst statt Kultur @britishmuseum @DerSPIEGEL\",nocode\\n611208735726411777,\"I\\'m at @NationalGallery in London, Greater London https://t.co/SFdgCxbEgj\",nocode\\n611959221773451264,\"Painting of 6-armed deity, Yama-deva, standing on bull, holding sun &amp; moon, China, Tang Dyn. c851-950 @britishmuseum. http://t.co/Yu0nVBxikw\",nocode\\n610832703710187520,\"We are over the moon to present our new website for @ThelmaHulbert - our local, award winning art gallery http://t.co/4VglZP9TbB #Honiton\",happy\\n611854072833003521,\"@MuseeLouvre @museiincomune @leCMN @GoldUnveiled @britishmuseum @MarDixon @Museo_MADRE\",nocode\\n612300381138354176,\"{ @britishmuseum } #Japan #art #London #ttot #lp #vacation #trip #photography #photo #Travel #travelpics http://t.co/guxzh4DWhw\",nocode\\n612608163276279808,\"I\\'m following @kettlesyard, @frederickvan, @martinjonesaz and @ChidiNwanyanwu on @spreaker https://t.co/O9sccqGZhm\",not-relevant\\n612673514357825537,\"Fantastic closing exhibition @kettlesyard providing inspiration in #drawing and #sculpture #New#Rhythms http://t.co/OU7l7SaRt0\",happy\\n611820168994521088,\"Great Terry Frost show opened @LeedsArtGallery last night. Congrats to @CuratorSarah and @Tate_StIves http://t.co/5VfGYYRvCL\",happy\\n614556693679206400,\"Fascinating talk @CVHISTORYFEST on Goya\\'s portraits by @XBray  - looking forward to seeing your Goya exhibition @NationalGallery in Autumn!\",happy\\n610394362183307264,\"@peterliversidge @_TheWhitechapel \\xe2\\x9c\\x8a\\xf0\\x9f\\x92\\x97\",nocode\\n611885201090838528,\"@leCMN @GoldUnveiled @museiincomune @tokikodasa @MuseeLouvre @museecarnavalet @MuseumWeek @Museo_MADRE @britishmuseum so interesting!\",happy\\n613048226304946177,\"\\xe2\\x80\\x9c@britishmuseum: Born in 823: Frankish emperor Charles the Bald, heir to Charlemagne\\'s throne http://t.co/ss2T1VNnOc http://t.co/fYBRijSXYN\\xe2\\x80\\x9d\",nocode\\n613749228184162304,\"Gr8 read @guardian http://t.co/fP34V5a0zB on @tateliverpool Gr8 package Jackson Pollock + @hotelindigo @TravelBird_UK http://t.co/yclQU5e2Pp\",happy\\n613746248223453186,\"#LaMaisonduCanada a \\xc3\\xa9t\\xc3\\xa9 con\\xc3\\xa7ue par Sir Robert Smirke, qui a con\\xc3\\xa7u aussi le @britishmuseum http://t.co/2RKWd6RYY8\",nocode\\n610467277859897344,\"El Diario de la ProfeCaro is out! http://t.co/OemlHbpDjV Stories via @NationalGallery @digitaltext @PortalGeekEP\",happy\\n610492515758833664,\"Monday morning #fieldtrip pt 2: thanks to Mark Godfrey and @_TheWhitechapel. Must-see exhibition that ends Sunday. http://t.co/OeGU898UGF\",happy\\n610796410615791616,\"@NationalGallery how about non-digital audiences? \\xf0\\x9f\\x98\\x89\",nocode\\n611560506768408576,\"Join us at Castle Hill Open Day Sat 20 June 12-5pm.We\\'ll be in Castle St Methodist Church car park. @kettlesyard http://t.co/SZ5mJC6tnN\",nocode\\n614071356787961857,\"@ElizabethFell1 @AnnaBrady_Art @LAPADAorg @MasterpieceFair @Pitt_Rivers and @britishmuseum\",nocode\\n610435560390443008,\"It\\'s #MolluscMonday at @RAMMuseum rock #snail #shell from Clyst St Mary, Devon. More here: http://t.co/xZGRxVmJC4 http://t.co/Mj7Z6tazKz\",nocode\\n614030557115215872,\"Watch the grand opening of \\'The Edge\\' @UniofBath  https://t.co/RiR3NP4ztS  http://t.co/SK10qtwZgl @ICIABath  #arts #dance #performingarts\",nocode\\n612763483654918144,\"Gold brooch of \\'Helios\\' or sun-god, from the workshop of Castellani, Italy, c.1860s @britishmuseum. http://t.co/MH9TYP5pdn\",happy\\n613286260602503168,\"James Richards\\' Soundscape installation w/ Francis Bacon\\'s art. I hear touches of P. Glass &amp;S. Reich @_thewhitechapel http://t.co/RNieRITYLq\",nocode\\n610744085993930752,\"@NationalGallery @artecielocom Your painting of a guy getting taken away by a big black eagle - what\\'s the story behind it ? #AskTheGallery\",nocode\\n610391427881783296,\"https://t.co/KIfbjFNcZV we\\'re hiring a new Development Officer @tateliverpool #job #arts #liverpool\",not-relevant\\n612586428908879872,\"@britishmuseum   Incredible that new father    AfterMarcellus Laroon II John Smith the mezzotinter  1680/1743 http://t.co/OBnWPePS4V\",nocode\\n614001378135015424,\"Harry Eyres in Newsweek says @NationalGallery director prefers in-house option - he must now return to talks with us http://t.co/iuGR4GyhQu\",not-relevant\\n612299059680944128,\"{ @britishmuseum } #art #London #ttot #lp #vacation #trip #photography #photo #Travel #travelpics http://t.co/vkXkz5Wc64\",nocode\\n608964877483433984,\"Innovation: The Emperor\\'s New Clothes? Have a read of our discussion during the day http://t.co/T6CSMK9KcX @CamUnivMuseums @ukmcg\",nocode\\n615478205521248256,\"@RB_Rings @britishmuseum nice parallel!  Thanks.\",happy\\n613734478100492288,\"Spectacular! (@ Fitzwilliam Museum - @fitzmuseum_uk in Cambridge, Cambridgeshire) https://t.co/fs3Q3cVURE\",happy\\n614964834300506112,\"rt\"\"@britishmuseum: A pair of ancient Greek bronze greaves from 500 BC! http://t.co/5vMIikmKIM http://t.co/SFdv4lKMQ0\"\"\",nocode\\n613296681304616960,\"advance notice: Museums as Method: Collections, Research, Universities conference @CamUnivMuseums @CRASSHlive Mar \\'16 http://t.co/4Zaefuig2k\",nocode\\n612059187988856832,\"@soehraard_b @ConsortiumX @britishmuseum  No dancing, the hair is pulled over the face when mourning.\",nocode\\n612198025096785920,\"@kettlesyard @steakandhonour My two favourite things!!\",happy\\n611856975194816516,\"Indigenous Australia: enduring civilisation. So good, no words! @britishmuseum\",happy\\n611897605417664512,\"Join us next week for an eye-opening workshop on anthropomorphism in art: http://t.... http://t.co/XGazRAUXko via @NationalGallery\",nocode\\n611744382299959296,\"Call for Papers: On the relationship between art dealers and museums. Conference by @NationalGallery http://t.co/x8WFSVNr6p\",nocode\\n613309194612142081,\"Years 3 &amp; 4 having a fantastic time at the @britishmuseum #mummies #aztec #history #education #romans http://t.co/NjKAQBARxM\",happy\\n613675408752529408,\"Great to see the The Guardian\\'s Exhbition of the week is our Jackson Pollock show at @TateLiverpool  http://t.co/P0EjGDjY4e\",happy\\n614075357747146752,\"An exciting announcement soon :) @RAMMuseum #excited\",happy\\n613000014374248448,\"Project curator sought for South Africa exhibition @britishmuseum; closing date 26 June: https://t.co/xnnVSIteBC #twitterstorians #museums\",not-relevant\\n610947723609686016,\"Great talk @MuseumofCamb Weds night 7pm - what @kettlesyard will look like after its redevelopment http://t.co/UQnwUjiQzH\",happy\\n610751145351491585,\"@NationalGallery What\\'s your favourite colour?\",nocode\\n613838557300531200,\"@_TheWhitechapel what do you think of my biro illustrations? Pls RT. Thanks! http://t.co/kcfA0zJFDF http://t.co/TmmOiPjjQv\",not-relevant\\n612059359850446848,\"@Nephys @ConsortiumX @britishmuseum ah!\",nocode\\n610565880112660483,\"@NationalGallery @greekisinart ART=FREEDOM Visited the gallery but unable to see the impressionist paintings belonging to collection.When up\",sad\\n610364950041731072,\"Many congratulations to Sir Nicholas Penny of @NationalGallery on his knighthood. His intro to London Art Week 2015: http://t.co/jF5XlN5wIM\",nocode\\n612309840715624448,\"Tour dates for Longford Castle, open only 28 days a year, are on sale now: http://... http://t.co/k5abwUMFxb via @NationalGallery\",nocode\\n612904146337988608,\"Sunflowers compliments our #NorthbankInBloom perfectly! #summer @NationalGallery  https://t.co/leivOrUTqn\",happy\\n614389662845661184,\"@Bethlem_Gallery @samcurtisart @_TheWhitechapel Ooh, fab - just down the road from work so that\\'s at least one lunch hour sorted!\",happy\\n612026671206633472,\"@sewyoursoul Oh Whistle jacket is my daughter\\'s favourite picture in @NationalGallery ...she has her own route around it &amp; he\\'s last.\",happy\\n611847396876795904,\"@britishmuseum They are extremely beautiful. Thank you very much for sharing.\",happy\\n612236859759009792,\"@NationalGallery one is surely a bird set free. But why a glass in the old age? Musical instrument epitomises songs of young heart\",nocode\\n612599438968782848,\"@britishmuseum @Sheanderthal And why is Father\\'s Day and the solstice observed together? There is one theory: http://t.co/T6wTdeuifq\",nocode\\n615460379955560448,\"Get the story behind 6 must-see pieces @BritishMuseum #IndigenousAustralia exhibition http://t.co/ot0VMoFUvC http://t.co/Nbrvi4tqQz\",nocode\\n613650879674085376,\"If you haven\\'t checked out #TARA the TRUST FOR AFRICAN ROCK ART you should! TARA have teamed up w @BritishMuseum... http://t.co/UH00tqwuMA\",happy\\n611645475339567104,\"@britishmuseum happy #waterloo day #waterloo200 http://t.co/x0T4dpKfJN\",happy\\n615141260953812992,\"@britishmuseum please add yourself to our website and app it\\'s Free and you can offer vouchers! http://t.co/YzSkX9Efnz #familyday 0-19yrs\",nocode\\n611614130697543680,\"Lovely discussing art, #mentalhealth and #mindfulness with Rachel from @NationalGallery tonight @mcrartgallery.  #MAGwellbeing #sharing\",happy\\n613307669923954688,\"The Rowena Markham Daily is out! http://t.co/mAMdE6ldt5 Stories via @_TheWhitechapel\",nocode\\n614109647981703168,\"the defining beauty exhibition at @britishmuseum was so overwhelmingly stunning today. it ends next week so PLEASE make it a priority + go.\",happy\\n614522182471782400,\"@LalitKModi ur the boss man! #BJP #Congress @narendramodi @britishmuseum @visitlondon @PMOIndia are all for your service. Come: @makeinindia\",happy\\n611881902610493440,\".@britishmuseum have a #conferencing &amp; #event showcase on Wed 1 July from 6.45pm. RSVP to VenueHire@britishmuseum.org http://t.co/mWDsVEclvX\",not-relevant\\n615068673154379776,\"@NationalGallery we were @ the museum last week and wondered about the shadow on her face. Is that from the umbrella? It looks a bit odd.\",nocode\\n611196251552501762,\"@frizzychick @FitzMuseum_UK jealous of the museums you\\'ve got on your doorstep\",nocode\\n611519619640229888,\"This summer view the \\'portraits of an icon\\' as @NationalGallery delve into the life of Audrey #Hepburn http://t.co/RxkuA6tav3\",nocode\\n614038685571502080,\"Greatly enjoyed the #DefiningBeauty exhibition at the @britishmuseum: http://t.co/qlPUFtwaA2 http://t.co/XjnbuirXPZ\",happy\\n613320697994178561,\"#London #Soundscapes features new music composed in response to paintings in @NationalGallery: http://t.co/fBkUaTeHzh http://t.co/RPpcpKnt5O\",nocode\\n613354637161312256,\"James Richards devises a \"\"sonic filter\"\" for Bacon\\xe2\\x80\\x99s painting @_thewhitechapel http://t.co/UdL030Jh2F by @MaryGNguyen http://t.co/yAqtYMAgme\",nocode\\n612162427258540033,\"Christopher Williams @_thewhitechapel Last weekend to see the show, which is excellent and should\\xe2\\x80\\xa6 https://t.co/neebEspOVl\",happy\\n612259010973147140,\"Getting excited about telling aboriginal tales &amp; playing #didgeridoo @britishmuseum during tonight\\'s sleepover http://t.co/ZXFf34SgAd\",happy\\n610470011854028801,\"@NationalGallery Which current living artist is most likely to be a highlight of the NG in 100 years? #AskTheGallery https://t.co/ytmnPnwTMm\",nocode\\n611195197846876160,\"@tateliverpool Great stuff! I\\'ll be there ASAP :0)\",happy\\n613440572766949376,\"@WomenoftheWI @RAMMuseum   Wonderful!\",happy\\n615433342473871360,\"City Of Liverpool News is out! http://t.co/JCtndf7HZG Stories via @tateliverpool @Biennial @MerseyMaritime\",nocode\\n611553183589007360,\"#Gainsborough was a leading portrait painter, but his private inclination was for landsca... http://t.co/hbLUujuZ0c via @NationalGallery\",nocode\\n613641044035530752,\"Handmade capes by Brazilian artist, Ricans Neuenchewander of London school children\\'s fears. @_thewhitechapel #colour http://t.co/hhsOsojZOr\",nocode\\n612939040598401024,\"Out with Y7 at the @britishmuseum  We\\'ve learnt about ancient Cyrus &amp; now enjoying the Greek &amp; Roman galleries! http://t.co/QZq80UH1bO\",happy\\n612749310963265538,\"A little blue man. A @britishmuseum souvenir who has been there from the start! https://t.co/Iou9zr6ssn http://t.co/iIyRtboZFt\",happy\\n613324661938614272,\"Yummy lunch now to check out #waddesdon and #DefiningBeauty at @britishmuseum #self-authorisedsabbatical ;-)\",happy\\n614109057998323712,\"This looks great, so hard to decide which day to go to http://t.co/vnNOh5ly1r @BathDance @chaptertweets @ICIABath\",happy\\n611705054639357952,\"@LoudenStudio @PearlLamFineArt @NYAcademyofArt @NationalGallery A pleasure.Enjoying the catalogue immensely!Thanks!\",happy\\n610475185972609024,\"@Asamsakti   Benvenuto Tisi A Pagan Sacrifice  1526 @NationalGallery  London  UK\",nocode\\n611183822613389312,\"We want to celebrate kids creativity online! Enter our summer exhibition @Tate_StIves http://t.co/SbmINe79fR http://t.co/WFnAFQU0iV\",nocode\\n611593793314402304,\"@Tate_StIves urges visitors to enjoy the sheer pleasure of colour here @LeedsArtGallery - please do http://t.co/6xRRkWUQCW\",happy\\n613749278805258240,\".@RhonddaBryant can you attend adjournment debate tomorrow #noprivatisation @NationalGallery #reinstatecandy @NGNotForSale @PCSCultureGroup\",nocode\\n611839765810384896,\"Love history? Visit @britishmuseum today! Love history &amp; #RealAle ? Visit @tottenhamsoho open since 1826! http://t.co/tzYc3FIaBX\",happy\\n614882099405946881,\"@EncounterTT thank you for following me back. Great to meet you @RAMMuseum learning about #DefeatingDepression\",happy\\n615069485670760448,\"Check out the @britishmuseum #Africanrockart image project: http://t.co/I5ifDiBYDn http://t.co/MWF5x6klvQ\",nocode\\n614070658880946177,\"@Tate_StIves The best activities, has the TATE.\",happy\\n613115102720606208,\"Tiger in a Tropical Storm (Surprised), by Henri Rousseau 1891 Oil on Canvas (@NationalGallery) http://t.co/jLflH0uUzC\",nocode\\n610748345586438144,\"@NationalGallery Any advice for graduates looking to work in the arts? #AskTheGallery\",nocode\\n614209341269377024,\"@HistoriadeCadiz @ahencyclopedia Cuando he visto @britishmuseum me tem\\xc3\\xad lo peor, pero no, afortunadamente los sarc\\xc3\\xb3fagos est\\xc3\\xa1n en C\\xc3\\xa1diz.\",nocode\\n612265648023072768,\"Thanks to our great dance tutors &amp; all that joined the taster sessions &amp; flashmob practice @ICIABath today\",happy\\n611594611962867712,\"#tbt Lucian Freud proves that beauty is only skin deep @NationalGallery http://t.co/rShA3Y9l5Q\",nocode\\n613294844627320832,\"@britishmuseum #books Countdown! Corrections and cover lists! FIND by @andygarmont http://t.co/hRepRkoQuD ... http://t.co/Mi4Fc6w1pD\",nocode\\n613344818505363456,\"The @britishmuseum has kindly loaned the beautiful \\xc3\\x86dwen\\xe2\\x80\\x99s brooch to us for this new exhibition! #AngloSaxon #Viking http://t.co/eIU5MG2yx8\",happy\\n615150243592728576,\"Two very different but equally beautiful events @britishmuseum @kewgardens http://t.co/bL5qUySIx4\",happy\\n614386686689189888,\"Seriously proud of our curator @samcurtisart for being selected in this year\\'s Whitechapel opening. http://t.co/xxy252S2fp @_TheWhitechapel\",happy\\n610695792140140544,\"The Top 5 Art shows 2C in London @LondonArtCritic http://t.co/1O0aORjSJM \\xc2\\xa0 @PianoNobile85 @_TheWhitechapel @ExploreWellcome @CGP_London\",nocode\\n611935981038665728,\"@dotfivesticks @torillo59 @britishmuseum facile dimenticare\",nocode\\n610572585655472132,\"Proposals for Reykjavik. 2014. No.11  @_TheWhitechapel @SeanKellyNY @InglebyGallery @MattsGallery @tignortronics https://t.co/BvwKC66h73\",nocode\\n608549815727869953,\"We were v honoured to be a small part of a unique short film by artist @BedwyrWIlliams with other @CamUnivMuseums \\xf0\\x9f\\x90\\x8b https://t.co/SGPBa6gKpW\",happy\\n614120021527277569,\"Had plenty of thought creating, mind blowing art to behold @tateliverpool today with @redfolio &amp; Mindart http://t.co/B3Rgh4tMe9\",happy\\n614067291865550848,\"Don\\'t miss wonders of the ancient world @britishmuseum #DefiningBeauty show \\xe2\\x98\\x85\\xe2\\x98\\x85\\xe2\\x98\\x85\\xe2\\x98\\x85 http://t.co/YM6Xv4Dtyp http://t.co/KvshOctQQo\",happy\\n613320835550605312,\"@britishmuseum greavy.\",nocode\\n613679305701392385,\"@radionica #TemplosCulturales Quisiera conocer @britishmuseum y el @smithsonian\",nocode\\n613997004092481538,\".@NationalGallery Director N. Penny favours \"\"in-house solution\"\" Come back to talks then! @pcs_union got #Alternative  http://t.co/UOdrADopXr\",angry\\n613624015316471808,\"#CAPP_eu meets in #Helsinki with @CreateIreland @tateliverpool @ludwigmuseum @thisisliveart @TheHeartofGlass @KunsthalleOS @agoracollective\",nocode\\n610487926229704704,\"@NationalGallery #AskTheGallery As a director what is the main objective you would like to achieve? How would you achieve it? Thanks :)!\",happy\\n614864973706072064,\"See Christopher Williams - The Production Line of Happiness - via @_TheWhitechapel http://t.co/iB6HV6Unj5 http://t.co/sIIL6LAXhA\",nocode\\n613294099437875201,\"Goodbye @kettlesyard see you in 2.25 years! http://t.co/WFjBAiWbfM\",sad\\n615204678192730112,\"Quick sketches of paintings in Sainsbury wing @NationalGallery by @stockleyacademy KS3 #stockleyart #artcubed http://t.co/KKuOaBya6O\",nocode\\n614795984766418944,\"Greek jar, c. 480 BCE, showing Odysseus\\' ship passing the sirens. Via @britishmuseum archives http://t.co/Im42FWnqVJ http://t.co/n8RvGJVFCj\",nocode\\n612533745099345920,\"Happy Father\\'s Day &amp; Solstice! Guided tours @NationalGallery are at 11.30, 2.30 &amp; 4.00 - expect Fathers and Suns! http://t.co/9lOifHZxpD\",happy\\n611937834044399616,\"Last chance to see LA-based #ChristopherWilliams who deconstructs and demystifies photography @_TheWhitechapel http://t.co/HsxFtAFboo\",happy\\n611588764683632641,\"Starting \"\"Refugee restorers, Sir Kenneth Clark and the NG\"\" talk. @GillespieStudio @Conservators_uk @NationalGallery http://t.co/UFenFcBOKM\",nocode\\n614438847288582144,\"@newmanmpaul @ThelmaHulbert Well done!\",happy\\n612606567523975168,\"@britishmuseum Love this!\",happy\\n614792027792871425,\"Really enjoying insightful day of screenings/events @_TheWhitechapel @FL_FLAMIN artists Larissa Sansour, Beatrice Gibson&amp;Sarah Turner\",happy\\n615500426234982400,\"Loving the Jackson Pollock inspired cupcakes @tateliverpool #pressview today. http://t.co/3MPNwJkA5n\",happy\\n611618569844097025,\"For \\'Silent Sticks\\', Corin Sworn researched commedia dell\\'arte, mistaken identity, costumes, props @_TheWhitechapel http://t.co/Aw4uUw8k7U\",nocode\\n610847148805066752,\"@NationalGallery Perhaps it was only sunny on the other side of the canal?\",nocode\\n615251957658337280,\"These Celltic helmets in @BritishMuseum prove that Britons looked stupid while trying to look hard for millennia. http://t.co/VSCGDeW6W3\",nocode\\n615524743425445888,\"Looking forward to this archive exhibition on the Kibbo Kift Kindred 1920-1932 @_TheWhitechapel Oct 2015 http://t.co/88jq8X7zL5\",happy\\n612558060549185536,\"@DrLivGibbs @britishmuseum  What is now the Courthauld Institute entrance. http://t.co/k4KkziQ5gW\",nocode\\n610429930430722048,\"If u\\'re concerned&gt;outsourcing&amp;volunteering r the root of many evils, u might want to use #AskTheGallery to let @NationalGallery know. Cheers\",sad|disgust\\n610323478277943296,\"#NG365 Jan Steen\\'s \"\"Skittle Players Outside an Inn\"\" @NationalGallery #art #DutchArt http://t.co/lejgzXDZLu\",nocode\\n613982295834234880,\"@NationalGallery henry8, austriace, ranklj\",nocode\\n614501918648438784,\"Here is the award winner John arriving at the event at the Camden Community Learning Awards at @britishmuseum #London http://t.co/1YzzYYeFCi\",nocode\\n615277767156977665,\"@britishmuseum all resolved, the link works now, thank you very much!\",happy\\n611544121560440832,\"@britishmuseum was the muddy ground that slowed the artillery the worst enemy of Bonaparte? #Waterloo200\",nocode\\n615453666628272129,\"Ma\\xc3\\xb1ana se inaugura la expo #BlindSpots de #JacksonPollock en la @tateliverpool abierta hasta el 18 de Octubre #arte http://t.co/WLzKXR6eX9\",nocode\\n612274496758624256,\"@Enticknap76 @britishmuseum @_Britt_Leigh The Rosseta is invaluable.\",nocode\\n613040156908630016,\"@vienna_huff @ThelmaHulbert Wow awesome Vie, excellent news! Keep up the great work!\",happy\\n610831923074740224,\"@kettlesyard seeing how many last minute visits I can fit in before the closure and fabulous redevelopment ... http://t.co/glcpVc3Ezo\",happy\\n610425235582623744,\"Great event to kick start @FMGlobal #Airmic2015 at @tateliverpool. Thanks to our guests http://t.co/1tWtRzP7B6\",happy\\n613649405309231104,\"#Solidarity from USDAW C133 to @pcs_union on Day 39 of strike against @NationalGallery privatisation #ReinsateCandy http://t.co/NO5lYh7B5M\",angry\\n612371169606565888,\"Earlier, Whitney McVeigh speaking about her work in St.Peter\\'s Church @kettlesyard #CastleHill15 @whit_mcveigh http://t.co/KJ7fy95MEj\",nocode\\n615144004401930240,\"Great sound installation by James Richard incl. Frances Bacon @_TheWhitechapel @UOGFINEART @trumanbrewery @FreeRangeShows #degreeshow\",happy\\n615514049430847488,\"11th July I\\'m teaching a study morning at the @NationalGallery on Van Gogh\\'s weird painting, \\'Two Crabs\\'. Book here http://t.co/dpqTlw3VyF\",nocode\\n614831308758491136,\"@britishmuseum big pen?\",nocode\\n612197968112951296,\"@britishmuseum are there tix left for Defining Beauty today? Shows sold out online. Tks.\",nocode\\n610434250953916416,\"On this weeks half price Monday wine club at #NationalCafe @NationalGallery is Stopham Estate Rose from Sussex http://t.co/agZhUcXim0\",nocode\\n614770792627372032,\"Harbour Cottages is sailing off to a lovely new home :) @LivArtFair @tateliverpool @LoveNorthernArt http://t.co/6ZfuB5j7M9\",happy\\n612040011047768064,\"In other news I found the female scholar in Ancient Greece @britishmuseum #DefiningBeauty Terracotta, 4th century BC http://t.co/dkhDTzswlf\",nocode\\n613683277447213060,\"Jackson #Pollock at @TateLiverpool is @guardian Exhibition of the Week - we have special offers for conf delegates on http://t.co/GDDbrBtd24\",nocode\\n614712120958128128,\"@NationalGallery Degas, but he\\'s not on the list.\",nocode\\n614108275504730112,\"Sir Mark Jones, former Director of @V_and_A is giving a lecture on this subject @britishmuseum on Saturday the 27th of June... #medals\",nocode\\n612938438963265536,\"Great &amp; Exciting news for @Tate_StIves We look forward to our next visit! #Cornwall  https://t.co/IsrfGC5LnK\",happy\\n612999731975991296,\"Going to London. Go. British Museum: Bonaparte and the British @britishmuseum http://t.co/sFbRPc04BP\",nocode\\n610749901484519424,\"New blog post by Paul Willis formerly @PlymouthMuseum, \\'Sir Joshua Reynolds: Sketchbooks to Genius\\' | http://t.co/Zpg8UUjWCN #Reynolds\",nocode\\n614024705025122304,\"My highlight of #DefiningBeauty at the @britishmuseum was this personified vine, bff of Bacchus: http://t.co/kCJC2KHPhC\",happy\\n613778121699930112,\"You can view works by de Hooch, known for orderly interiors and sunny courtyards, in room... http://t.co/eJW2acM8AX via @NationalGallery\",nocode\\n613686536215789570,\"FLAMIN: the Artists Present\\xe2\\x80\\xa6  Screenings, events and discussions @FL_FLAMIN @_TheWhitechapel Sat 27 June, 1.20\\xe2\\x80\\x936pm http://t.co/qEzPZ0TqeJ\",nocode\\n612207305095020544,\"@judrop1948 Thank you Julia, dear lady X. Hi to ---&gt; @Duck_Di @DuncanSalkeld @Heather1576 @NottArchaeology @AidanBaker @britishmuseum\",nocode\\n613057713510023168,\"@NationalGallery 2nd GENOCIDE against #Biafra by #Buhari has begun,3days of unreported aerial Bombardment in #Biafra http://t.co/wKWao0IQ32\",not-relevant\\n610268986165592064,\"SPQ-RT @appendixjournal: ancient Roman Swiss Army knife, 3rd century CE, at @fitzmuseum_UK. http://t.co/RXJX1GJ2B1 http://t.co/iSXXiRRCLV\",nocode\\n612885683942858752,\"@Tate_StIves is gifted 2nd studio by Barbara Hepworth\\'s family watch my report 1330 @BBCSpotlight\",nocode\\n614908976166252544,\"Fantastic day incl #LondonPride lunch at Wahaca #DefiningBeauty @britishmuseum &amp; paddling in Hyde Park. Now  nice glass of Rose and #Kanye\",happy\\n614173991998234624,\"Thank you @stockleyacademy @NationalGallery looking forward to it :)\",happy\\n611517198327263232,\"@britishmuseum what did they do with those who announced Napoleon\\'s victory?\",nocode\\n611572739938369537,\"Object biographies are now a major focus of museum development -esp after @britishmuseum \\'s http://t.co/dwEjGSYll2 #objects2015\",nocode\\n612546991445417984,\"@tateliverpool lovely picture that\",happy\\n615108303564210177,\"Massive queues at gates of @britishmuseum today for security bag searches. Sad to see, but necessary.\",sad\\n614192390933385216,\"@cpdickenson @rogueclassicist @britishmuseum Germanicus maybe?\",nocode\\n612237866123571202,\"@NationalGallery And of course a plume and a laurel wreath. The first means impetousness of youth, the second rewards achievements\",nocode\\n611468994307092481,\"Wonderful to see today @ThelmaHulbert #valuation @HonitonTown #History #Waterloo1815 @1815Project @Waterloo200org http://t.co/yvqPhjRZvl\",happy\\n614387429299105792,\"Looking forward to @britishmuseum tomorrow eve for Greek Art Defining Beauty. Msg us for tix http://t.co/PCSrcyIxr4 http://t.co/ZapM1Tmzt0\",happy\\n610434325193076736,\"@NationalGallery Is it ever ok to dispose of works? Under what conditions? #AskTheGallery\",nocode\\n611535568732696576,\"What lies beneath: drapery and the suggested form http://t.co/1MOcK52y7E via @britishmuseum\",nocode\\n611594479271849984,\"@johnlangdon26 @kettlesyard agree. Lovely place to work/volunteer? Amazing domestic #architectural spaces &amp; #art. I want to visit every wk!\",happy\\n611542291036143616,\"@SternbergClarke @britishmuseum We\\'re commemorating the #BattleofWaterloo with #BeefWellingtonDay &gt;&gt;http://t.co/eCjUoD8JRu\",nocode\\n612126885636608001,\"The Artist Project: Sarah Sze from MMA Digital Media on Vimeo cc: @britishmuseum @chr1sm1chaels @MattBannert  https://t.co/AEiU5gfdnb\",nocode\\n612969909568598016,\"Doin a meetin (at @BritishMuseum in London, Greater London) https://t.co/ELeVnExtUN\",nocode\\n613330934688051200,\"Bad times at the National Gallery! Stop the privatisation of services at the @NationalGallery! https://t.co/ypfYtLhYus via @38_degrees\",angry\\n614142354153279488,\"Ancient artefact meets new technology for RAMM\\xe2\\x80\\x99s millionth visitor @RAMMuseum #Exeter http://t.co/k0mzZNT5r3 http://t.co/9TaARMlXX2\",nocode\\n613421218566246400,\"Follow us on Instagram to see the finer details in our rooms and our collection: http://t... http://t.co/gnSSJZhAnM via @NationalGallery\",nocode\\n614389543408570368,\"@britishmuseum Wish you could extend the exhibition, \\xf0\\x9f\\x98\\xad, I will only be in London in August...\",sad\\n614005591019622400,\"@NationalGallery @BMAGcurators Beautiful Guido Reni ! I also love his pupil Cagnacci... \"\"The Death of Cleopatra\"\" http://t.co/pJJs7ghFYf\",happy\\n615249410902114304,\"@MrStuchbery @britishmuseum Saw one of these in The Cloisters in New York - magnificent work!\",happy\\n614508526816391168,\"Ancient beauty and modern lives http://t.co/WgjVKmZ0WC via @BritishMuseum\",nocode\\n612093046730149888,\"Hear about a rare collection of #Indigenous Australian objects on display at the @britishmuseum http://t.co/8Tl2rVs75g\",nocode\\n612251777224835072,\"Loving the Samba Band @britishmuseum #DiscoveryDay\",happy\\n614107968469106690,\"Are you interested in #medals of Louis XIV or French history in general? Or have you seen @britishmuseum\\'s Triumph &amp; Disaster exhibition?\",nocode\\n611826657557676032,\"Photography Today is out! http://t.co/mOEJt3vNon Stories via @Jamsphere @_TheWhitechapel @KenRosatoABC7\",happy\\n611834798194225153,\"Thanks Alex. Great to hear from you! Will pass that on. @alexpeterss @FAHACS @britishmuseum\",happy\\n612273637060546561,\"@Gaia_sGarden @britishmuseum Yes that is why is a treasure!\",happy\\n615390875103952900,\"Ancient beauty and modern lives http://t.co/jlniWotj0g via @britishmuseum\",nocode\\n614015752329383936,\"COMPETITION: Visit our FB page for details on how to win 2 FREE tickets to see #DefiningBeauty or #IndigenousAustralia at @britishmuseum\",nocode\\n613316807663976448,\"@britishmuseum @GenXMedia looks like a greave, but designed to be stitched directly onto substrate of leather or padding.\",nocode\\n610558502071848962,\"@NationalGallery #AskTheGallery We are boycotting the National Gallery until you reinstate Candy Unwin and stop privatisation...\",angry\\n613732194675200002,\"Great @penn_state pic! #SHCTravel @britishmuseum  https://t.co/WCtjm3PPbG\",happy\\n614452831714586624,\"@britishmuseum @Moonbootica Wow, he was a very old 32.\",surprise\\n614774436089040896,\"MT @NationalGallery The monumental \\'Italian Woman\\' by Corot, best known as a landscape painter http://t.co/rIEtTypLYF http://t.co/cCHLqahyZH\",nocode\\n614418266564481025,\"@neilcford @metoffice I am indeed keeping a safe distance today.  Other Informatics Lab colleagues are at @RAMMuseum today. cc @LabbyTheRat\",nocode\\n612947159462375425,\"@NationalGallery I do. I use this in my history class for Renaissance art\",nocode\\n612638196648775680,\"Can\\'t wait for this, its going to be BIG @_TheWhitechapel http://t.co/usdQGFFf3V #yesjim\",happy\\n612963249588469760,\"Found this yesterday @BritishMuseum - desperately needs more info on the exhibit though :( Pillar of Emperor Ashoka http://t.co/0XtD8ly3nX\",sad\\n610377994184585216,\"Just landed on my desk #dazzleferry looking great @tateliverpool @Biennial http://t.co/EUvoI3wVot\",happy\\n611186397538594816,\"@ThelmaHulbert You are more than welcome - great to work with another local business. #CosmicUK\",happy\\n614801756829171712,\"Thanks to @NationalGallery doing an amazing job explaining paintings to people with visual impairment\\xe2\\x80\\xa6 https://t.co/PjSAS8ukby\",happy\\n615534649369083908,\"OMG! I thought she was asleep upstairs!@3speeders @Tate_StIves\",surprise\\n614034149712728064,\"It\\'s our weekly #ZapRecommends feat. The Skriker at @MIFestival, Jackson Pollock at @tateliverpool + more! http://t.co/iCiARJL5Ld\",nocode\\n611978983480107008,\"@britishmuseum sorry don\\'t know where \"\" in anyway\"\" came from!!\",not-relevant\\n612937452454563840,\"New exhibition @MAACambridge reunites 100-yr-old photographs with indigenous communities in Siberia &amp; Inner Mongolia https://t.co/EUczbCYMFU\",nocode\\n612873684840136704,\"\\xe2\\x80\\x9c@carvh12: \\xe2\\x80\\x9c@VanGoghTheLife: Sunflowers, 1889. @VanGoghMuseum. Now at London\\'s @NationalGallery! http://t.co/Y2oNfs4zIW\\xe2\\x80\\x9d\\xe2\\x80\\x9d\",nocode\\n613676353842487297,\"Amazing!!!! \\xf0\\x9f\\x98\\x8d\\xf0\\x9f\\x8e\\xa8 @NationalGallery http://t.co/cOSlvmCHLh\",happy\\n610763751265038336,\"@davidcharlesbow: @NationalGallery #AskTheGallery Pete and Dud have a few questions. http://t.co/D5Eet1Y56F The Leonardo cartoon is a hoot!\",happy\\n614919676259381248,\"Absolutely loved #DefiningBeauty at @britishmuseum So many treasures plus my peerless friend @LittleMissMoo Roll on Shakespeare Roadtrip!\",happy\\n613293502609403904,\"Nursery students getting very messy at @tateliverpool today. Loads of fun! https://t.co/mNT322T5se\",happy\\n613618459503652864,\"Exhibition of the Week http://t.co/6cCHcKKAwO Jackson Pollock at @tateliverpool @Gdnartanddesign http://t.co/7TNlxPYIsp\",nocode\\n612736558597320704,\"Has any got reliable links on the history of the #beninbronzes @britishmuseum @HornimanMuseum #nigeria #RT\",nocode\\n613584589378953216,\"#NG365 Jacob van Ruisdael\\'s \"\"Two Watermills and an Open Sluice at Singraven\"\" @NationalGallery #art @JohnConstableRA http://t.co/zFdXhuono7\",nocode\\n613683938096230400,\"New blog post #NewBlogger #museums @NationalGallery  https://t.co/45Oyixd0DC\",nocode\\n614487937477124096,\"A very intresting insight into ancient Egypt @britishmuseum exhibition Ancient Lives #8mummies\",happy\\n612946026614423552,\"Perino del Vaga: drawing of Vertumnus &amp; Pomona from #Ovid\\'s poem #Metamorphoses @britishmuseum http://t.co/CW9L5wI8BE http://t.co/3JiMXkhOcm\",nocode\\n615396673125249024,\"@DrDonnaYates they arefrom about 500 BC and are now in the @britishmuseum\",nocode\\n612189368153960448,\"New Blog \"\"Finally made it to @kettlesyard this week \\xf0\\x9f\\x8c\\x80 \\xe2\\x9c\\xa8 #kettlesyard...\"\" http://t.co/MOOXtIov6R , pebbles, interiors, kettlesyard\",happy\\n614078984075235328,\"Not my current mood! I\\'ve just had a glorious morning in the Print Room @britishmuseum with Durer &amp; Rembrandt &amp; this! http://t.co/KbYpYSFSiP\",happy\\n613719612136521728,\"Congratulations to our very own @tateliverpool on receiving such a glowing report from @guardian http://t.co/r6gRS814yO #itsliverpool\",happy\\n614772895584284672,\"Drawing twice in one week @FitzMuseum_UK Feeling creative\",happy\\n611118432898125824,\"Second phase of Cornwall s Tate St Ives steams ahead @Tate_StIves @ILoveCornwallUK @BAMConstructUK @attractionsmag http://t.co/MluJ7LuymQ\",nocode\\n613321954792181760,\"We\\'re giving away 5 pairs of tickets to Jackson #Pollock: Blind Spots at @tateliverpool! http://t.co/Wr19uS63rh  #art #Liverpool #win\",nocode\\n615086219857371136,\"@pwadey @NationalGallery Stunning!\",happy\\n615474520665796608,\"5 things: #Pollock @tateliverpool, opening http://t.co/Oc9P0yhNCl\",nocode\\n614414814027358209,\"Attending @FitzMuseum_UK lecture on 18c gold boxes. Tangents: luxury - social ritual - possessions...smartwatches? http://t.co/w8ccP1QHKo\",nocode\\n610561366630469634,\"@NationalGallery: Tweet your questions #AskTheGallery for our Q&amp;A with Director Nicholas Penny http://t.co/n9Uaw73AJk http://t.co/okaCNd7Yne\",nocode\\n613754688413036544,\"@_TheWhitechapel what time to meet on 5th July re tour around Gallery\\'s neighbourhood please?\",nocode\\n611544273067057152,\"See me speak at \\'The London Open: Live\\' event 30 July, 6.30pm at @_TheWhitechapel with @LIMITACTION2015 @sk_kira http://t.co/81v5lIsHtu\",nocode\\n611548202874052608,\"\\'Traditions in Contemporary Arab Culture\\' 27 June - complement to July events @BritishMuseum  https://t.co/GSvsBfnAc4 http://t.co/RmeSVfU8u2\",nocode\\n611205543584223232,\"Stop the privatisation of services at the @NationalGallery! Sign the petition now: https://t.co/w0xozuIolp via @38_degrees\",angry\\n610749384079372288,\"#AskTheGallery @NationalGallery is there a painting or paintings you wished was part of the nationals collection?\",nocode\\n610723611641544704,\"@alexmonro @Cambscene @FitzMuseum_UK I must go and find out!\",nocode\\n613390771543277568,\"@ThelmaHulbert :-) @newmanmpaul @LisaLooly @DrawntoDevon @MooseAllain @roshvarosha\",not-relevant\\n612985658974433281,\"@Tate thank you for sharing!:  http://t.co/t4YVZQ6HG4 via @NationalGallery\",happy\\n615400366851665920,\"Project @britishmuseum en http://t.co/Nd7PJwhZe8 ter bescherming Afrikaanse rotskunst http://t.co/n9C1j8Bm8Q Met database en crowdfunding\",nocode\\n611951733829435392,\"@_TheWhitechapel How are you doing? I would like to show you this http://t.co/5B26kAIF6p\",nocode\\n611916585721286657,\"\\'Jackson #Pollock: Blind Spots\\' is @tateliverpool from 30 June - 18 October! http://t.co/BlZdwfRZ0c @itsnicethat http://t.co/wwXS0gbpq2\",happy\\n612158964130816000,\"Really pleased to be part of @kettlesyard #CastleHill15 Come see the Cold War bunker &amp; the historic artefacts from Cambs we store there.\",happy\\n610864335955587073,\"@harrietdouch @NationalGallery The trees have shadows on the far bank.\",nocode\\n614721671799439360,\"@NationalGallery I was introduced to the wonderful work of Canaletto on my 1st visit to your amazing gallery his paintings are breathtaking\",happy\\n614774759289655296,\"Testing out the @camsciencecntr stamp for this summer\\'s museum passport @CamUnivMuseums #SatM2015 http://t.co/uqgGHukiNC\",nocode\\n611204372131745792,\"Our curatorial trainee @HelenHillyard will re-launch the Baroque Galleries @BM_AG this we... http://t.co/ycHeNuWAOD via @NationalGallery\",not-relevant\\n614536383231692800,\"This #Goya was stolen from the @NationalGallery in 1961, returned in 1965, and had a cameo in #JamesBond\\'s Dr. No. http://t.co/wYwYeZsVFh\",nocode\\n611544067604918273,\"@britishmuseum @69quietgirl @Charles_XII - and will again... #austerity\",sad\\n615255908009025536,\"@MrStuchbery @britishmuseum looks like Paul Weller!\",not-relevant\\n615076045667082240,\"I\\'m on a train on my way south for a fun filled few days. @britishmuseum @NHM_London woo hoo!\",happy\\n611524452568956930,\"@Ophiolatrist @britishmuseum He read Machiavelli, and many more that Hitler followed similar policies or were inspired by Napoleon\",nocode\\n615088940094259201,\"Finally made it and well worth it #Britishmuseum #Greek #sculpture @britishmuseum https://t.co/YSBFsPAC7Q\",happy\\n613496082174087168,\"Making an impression: MARCUS AGRIPPA @britishmuseum bookshop. Spotted by Karl Galinsky. @penswordbooks @casematepub http://t.co/VT55iT2nYp\",nocode\\n610333534310506496,\"The Top 5 Art shows 2C in London @LondonArtCritic http://t.co/3m3STr5gIE \\xc2\\xa0 @PianoNobile85 @_TheWhitechapel @ExploreWellcome @CGP_London\",nocode\\n612993217240412160,\"Simon, myself &amp; our New Knight Piano, destined for the Edge Practice Rooms. Thank you Kath &amp; Simon Arnold. @ICIABath http://t.co/bZWKXDqaWk\",happy\\n612283376284905472,\"Thanks to the wonderful artists who made us this fantastic lantern! #artseducation #DiscoveryDay @britishmuseum http://t.co/B7j96mdRUN\",happy\\n614777306284957697,\"We are thrilled to have Neil MacGregor here from the @britishmuseum talking about Germany: Memories of a Nation. Sponsor - @bailliegifford\",happy\\n610561127601315840,\"lindersterling\\'s photo https://t.co/NBUIUvsXDH @kettlesyard @CircuitCambs\",nocode\\n614111612119724032,\"@ruthgarmon97 @britishmuseum @MarcelBETR @andresstifler3 @antoniovargas97 @Gerardivi Els frisos del Parten\\xc3\\xb3... Maremeua!\",nocode\\n612227637671559169,\"Luke\\'s @AFCCommunity friend @DogsTrust Fudge @britishmuseum http://t.co/3bDIdPIH7V\",nocode\\n615176084854820864,\"Cool: @britishmuseum putting 30,000 years, 25,000 digital images of African rock art online http://t.co/Pkp6S7twM3 http://t.co/wXc70lRXDG\",happy\\n610360844258570240,\"@RLGCHoylake @tateliverpool  @tell_liverpool @liverpoolmag  Friday, 19/06/15  Speke Hall Friday, 19/06/15  Speke Hall http://t.co/QpBKCxbWVv\",nocode\\n612217248166641668,\"One of the most beautiful Places in London: @NationalGallery http://t.co/ycPBGVW64B\",happy\\n613430401999220736,\"Our book \\'Alfred Wallis Cornish Primitive Painter\\' has 100 fabulous paintings @Tate_StIves @StIvesSociety http://t.co/N81bg96b7M\",happy\\n614083129234595841,\"@britishmuseum #wonderful :) http://t.co/jIHDsg8bc2\",happy\\n615552168133791744,\"Can\\'t wait to see Jackson #Pollock: Blind Spots @tateliverpool w/ @sstraine. Sending all best wishes for the opening https://t.co/3J4cJY0eDP\",happy\\n613420593233444865,\"Can you help @_TheWhitechapel raise \\xc2\\xa31 million by July 2015! Visit http://t.co/kBlVRKKMjI #artsfunding #retweet http://t.co/LUgZtKQBgJ\",nocode\\n614038714075979776,\"@NationalGallery Hey :) Appreciate if u check out my first release. https://t.co/rLWjdHBHMr #electronicmusic #darkstars\",not-relevant\\n611636966325624832,\"An article on @britishmuseum research featuring @Amesemi  https://t.co/2ips2hhice\",nocode\\n614483658666287105,\"#LoveWins (from the @britishmuseum) http://t.co/WPw3pvXD9h\",happy\\n613991846818267136,\"Join the #PCS @NationalGallery protest tmrw in Trafalgar Sq from 5pm &amp; back the strikers who are out until 2 July http://t.co/xICZXra1Rf\",nocode\\n614420982191771648,\"Magic Carpet Storytelling @NationalGallery Sun morning https://t.co/Zm26YMKoSV #kidsinmuseums #familydayout #weekend #whatson #london #art\",nocode\\n614391409299357696,\"here for the second day in a row because you can never finish looking at the exhibits (at @BritishMuseum) https://t.co/clRvfPco8w\",happy\\n611808893300277248,\"@JillianLevick @FitzMuseum_UK I\\'m on the science park if you want to grab a coffee!\",not-relevant\\n611650306762502144,\"@guillermosolana @museothyssen Gotthard #Schuh  Boys viewing Agnolo #Bronzino\\xe2\\x80\\x99s Allegory at @NationalGallery 1937 http://t.co/pm6uzO0vCa\",nocode\\n611493060548104192,\"#AskTheGallery @NationalGallery Dear director, i really need to know... http://t.co/UiZDnDi9FN\",nocode\\n615253895946850304,\"Here\\'s a reliquary head of St Eustace from @BritishMuseum. It had bits from 9 saints in there (allegedly)! http://t.co/FDkMuDULwv\",happy|surprise\\n615225802985222144,\"@ACSArtists @YSculpture @HepworthGallery Duccio | Caro display open now @NationalGallery http://t.co/6Crm3XRaz4 http://t.co/FQjHWlV47J\",nocode\\n613986003922092032,\"Off to @britishmuseum for #definingbeauty wanted to go for ages finishes next week\",happy\\n612973470595555328,\"It\\'s #MolluscMonday at @RAMMuseum Sea slugs by PH Gosse. More here: http://t.co/yqrfOmXsgK http://t.co/w4PTz5Yf4b\",nocode\\n612288162719731716,\"Summer at the Museums Gets Ready for Take Off! http://t.co/02BPVyy0Zi via @camunivmuseums\",happy\\n614022002387587072,\"The Spark: week of free workshops on social justice/debt @SparkSpaceLdn @dropthedebt @_TheWhitechapel 20-26 July http://t.co/NOoKaYHoNp\",nocode\\n611522501437489152,\"@britishmuseum Care to share the story of \"\"Waterloo Teeth\"\"?\",nocode\\n613721407843733504,\"Great article about the wonderful @tateliverpool http://t.co/hr9qlUIYDn @VLBiz @VisitLiverpool @itsliverpool @LiverpoolLEP @bisnorthwest\",happy\\n612944903937458176,\"Practising Artist required to run workshops @PlymouthMuseum http://t.co/WKfkJusLWX Quote required. Deadline: Fri 26 June #artopps\",nocode\\n612208698925035521,\"@britishmuseum One of my best London memories, thank you \\xf0\\x9f\\x98\\x80\",happy\\n611589336392433664,\".,@PenguinUKBooks @aroberts_andrew @britishmuseum allezlesbleus http://t.co/soJHbrfIku\",nocode\\n612952984868270080,\"@NationalGallery I used this portrait to explain to staff about symbolism and art of knowing your client. The clues are all there! Love it\",happy\\n611534117591629825,\"@britishmuseum Incredible!\",happy\\n610766050431488000,\"#Portrait of #WilhelmSasnal \\xc2\\xa9 by Gabriela Fulanty http://t.co/JtrXRMIKJQ #photography #artwork #art @_TheWhitechapel http://t.co/RFO4ssg1EK\",nocode\\n615414956532629504,\"@britishmuseum It was correct.\",nocode\\n613759236963725312,\"Farron Gorey selfies before his performance at Mbantua Festival, Alice Springs #IndigenousAustralia @britishmuseum http://t.co/MegmEIXUdg\",nocode\\n614473406675873792,\"Strikers at @Shell -sponsored @NationalGallery protest against #privatisation #kayaktivists #ShellNo @NaomiAKlein http://t.co/CW6wyEw8Mo\",angry\\n610755488372948992,\"@jadeflahertyxo @tateliverpool obviously! I\\'ll come home next month for it. Yay\",happy\\n610753318646874112,\"@NationalGallery @NPGLondon @pcs_union I won\\'t be seeing the Goya. After 50 years of pictures NGL on my pariah list until Candy reinstated\",angry\\n611511398447874048,\"@britishmuseum @aroberts_andrew #Waterloo200 So then: With communication being awful and battle fields open for even beer sellers: why did /\",nocode\\n611839505046372352,\"#ff @FightingCocksWA @FryArtGallery @FitzMuseum_UK @SWTFootballClub @force36ltd @Flightplan_UK @SaffronWaldenGC @GiveBloodNHS @Gouldspetshop\",nocode\\n614027213432877056,\"@britishmuseum: .@britishlibrary opened at St Pancras #onthisday in 1998! Learn more about our shared history http://t.co/XiTG7N3pVZ\",nocode\\n614010612105015296,\"@britishmuseum @LisaGalvin_BM Beautifully Balanced #BeeArticle. I know of being stung while in trance. I swotted \\'bees\\' with Jackal\\'s tail\",nocode\\n615170228499152902,\"I\\'m at @BritishMuseum in London, Greater London https://t.co/mvYoUVob2X\",nocode\\n612179473656643585,\"@britishmuseum Enchanting mythologically inspired Renaissance jewellery! ~ \"\"WoW!\"\" I love the mermaid riding a seahorse &lt;3\",happy\\n615485762272894976,\"@tateliverpool Member\\'s Preview of #JacksonPollock #BlindSpots yesterday at #TateLiverpool FANTASTIC exhibition - congratulations!\",happy\\n615484810715381760,\"@lisamaythomas &amp; dancers have arrived @ICIABath! Glad to have you in residence till Touch Diraies premier 9th July https://t.co/MriDjrhCbN\",happy\\n613670440733536256,\"Neil MacGregor @britishmuseum delivering #QueensLecture @TUBerlin today on \"\"Symbols of a Nation\"\": http://t.co/gh3mruLEXW #QueenInGermany\",nocode\\n614152172805169152,\"Visited the #SocialFabric exhibit today at @RAMMuseum. So much culture and history in one room \\xf0\\x9f\\x8c\\xbf#MegaInspiration http://t.co/GOnFu38RFt\",happy\\n613653815208869889,\"@britishmuseum Kids (and their parents) can discover Henry VIII \\'s life and his fellow Francis I of France https://t.co/3fiktDmDau\",nocode\\n615193477362642944,\"View from @tateliverpool @CruiseLpool @lpoolwaterfront @LivEchonews @scousescene http://t.co/8UHPjU85Uy\",nocode\\n613673644846399492,\"#JamesRichards install @_TheWhitechapel pairs Bacon\\xe2\\x80\\x99s Study for a Portrait W sounds of silence http://t.co/hPsd2G6OXp http://t.co/ukIHP9tvi2\",nocode\\n608672178234646529,\"My kids have special names for @CamUnivMuseums . Mike the Knight Museum, Dinosaur Museum &amp; Museum of Cold Places #LoveMuseums #Cambridge\",happy\\n613047941008371713,\"@britishmuseum:King of England Edward I born #onthisday in 1239. amedieval seal from his reign http://t.co/kHXKruIHaE http://t.co/wzYKEoF8zY\",nocode\\n614761360887562241,\"Why Jackson #Pollock gave up painting... http://t.co/bSdG9u4sjZ MUST: \\'Blind Spots\\' at @tateliverpool, 30 Jun-18 Oct http://t.co/WxX9pONqqT\",nocode\\n613675563308437504,\"@DyingMatters Lessons in Death and Living @NationalGallery reflects on relevance of paintings of death for us today http://t.co/fS8dtBot3Z\",nocode\\n614016152612786176,\"@CarolineLawrenc @britishmuseum They\\'re so cute!\",happy\\n611543759545856000,\"@britishmuseum @thehistoryguy Gosh periscope is definitely on trend. High profile people using it and I have not even tried it yet.\",surprise\\n611922717428813825,\"Breathtaking display @britishmuseum but nothing makes me swoon like the Barberini Faun #DefiningBeauty http://t.co/gInGd7Vcel\",happy\\n611620385813966848,\"@eguilbs I forget the correct hashtag, but was about how the @britishmuseum could move towards a better future in the digital age. Was cool!\",happy\\n612643045146636290,\"@BonVoyageurs @britishmuseum Beautiful post!\",happy\\n615141532065234944,\"The @NationalGallery - a perfect haven on a rainy London Sunday\",happy\\n611577913431982080,\"@HistoryLibya @britishmuseum \\xd8\\xa7\\xd9\\x84\\xd9\\x84\\xd9\\x87 \\xd8\\xa7\\xd9\\x83\\xd8\\xa8\\xd8\\xb1 \\xd8\\xb9\\xd9\\x84\\xd9\\x8a \\xd8\\xa7\\xd9\\x84\\xd9\\x84\\xd9\\x8a\\xd8\\xa8\\xd9\\x8a\\xd9\\x86\",nocode\\n611094972775931904,\"Blog post: #AsktheGallery how not to engage with an angry audience. @NationalGallery brushes questions aside http://t.co/kfTCCyxFAD\",angry\\n613920998761467904,\"The Astronomers of Babylon (explorable website) by @britishmuseum http://t.co/XSyJcM1ua8 http://t.co/NqoViXK22h\",nocode\\n611529505824481280,\"@PenguinUKBooks @aroberts_andrew @britishmuseum Did Napoleon\\'s uniform survive... &amp; if so, where is it now?\",nocode\\n610574870339022849,\"Day 1 of filming today... I will be visiting @tateliverpool @SlaveryMuseum @MuseumLiverpool and many more places! #vlog #day1\",happy\\n614964696899305472,\"@britishmuseum Great update! It\\'s now featured on on http://t.co/3r5WPxT0Jc http://t.co/vBECDK2bj5\",happy\\n611536375205232640,\"@britishmuseum  \\'\\xe3\\x80\\x80\\xe3\\x80\\x80,\\xe2\\x8c\\x92 \\xe3\\x80\\x81 \\xef\\xbc\\xbf\\xef\\xbc\\x8f/\\xef\\xbc\\xbf_\\\\\\xef\\xbc\\xbc\\xef\\xbc\\xbf \\'\\xe4\\xb9\\x9b\\xe5\\xbd\\xa1\\xe3\\x85\\x8e_\\xe3\\x85\\x8e \\xe4\\xb9\\x9b ,,= \\xe4\\xb9\\x80_-\\xe4\\xb8\\xbf=,\\xe3\\x80\\x81 \\xef\\xbc\\x8f/ \\\\\\xef\\xbc\\xbc^\\xe3\\x80\\x80\\\\\\xef\\xbc\\xbc \\xef\\xbc\\xbc\\xe4\\xba\\x8c:\\\\ \\xef\\xbc\\xbc:)/\\xef\\xbc\\x8f \\xe3\\x80\\x80/\\' \\xef\\xbc\\x8f^\\xef\\xbc\\xbc \\\\ \\xef\\xbc\\x88\\xef\\xbc\\x8f\\\\ \\xef\\xbd\\x9c /\\xef\\xbc\\xbc) .\\xe3\\x80\\x80/\\xe4\\xba\\x8c\\xef\\xbd\\x9c\\xe4\\xba\\x8c\\\\ \\xe3\\x80\\x80\\xe3\\x80\\x80_|\\xef\\xbd\\x9c|_ \\xe3\\x80\\x80\\xef\\xbc\\x88\\xef\\xbc\\xbf/\\\\\\xef\\xbc\\xbf) #Waterloo200\",nocode\\n610573518774870016,\"Take a virtual tour of 18 rooms at the @NationalGallery http://t.co/zqKc4oIAnZ #museos\",nocode\\n613744983036669952,\"@tate_kids @Tate_StIves \\xf0\\x9f\\x92\\x98\\xf0\\x9f\\x92\\x98\\xf0\\x9f\\x92\\x98\",not-relevant\\n614345905555251200,\"Exhibition sounds fab - #photographs #indigenous #Siberia #Mongolia @MAACambridge #sensory #relational #knowledge https://t.co/VGC0o9HHpA\",happy\\n611897165867286528,\"More on Napoleon by @aroberts_andrew at the @britishmuseum tonight at 6.30pm @KingsCollegeLon @kingshistory http://t.co/U0E1kRX9GO\",nocode\\n612338324041302016,\"@vexxxed yes please! Saw his show @_TheWhitechapel years ago.\",happy\\n615476596229730304,\"Wimbledon join @Disney and the @NationalGallery in the list of destinations that are clamping down on selfie sticks http://t.co/gQH8PSmn4A\",nocode\\n611798292582821888,\"@CamUnivMuseums to take part in Subject Taster Week in Sept for post 16 students https://t.co/zvUIt6wGpk http://t.co/BpK9x0TWGV\",nocode\\n611813165534461952,\"@BMAGcurators @NationalGallery @artfund @HelenHillyard @BM_AG\",nocode\\n614183552159207426,\"#donottouch @britishmuseum (not the real one - promise!) http://t.co/FCZSLOixQr\",happy\\n612600345085095936,\"@elginism does it mean the @britishmuseum justifies Elgin\\'s theft as he was protecting the #Sculptures from the Ottomans occupation of #GR?\",nocode\\n613976048229838848,\".@Bobstaah @NationalGallery thanks Bobby. I\\'m heading to London in a couple of weeks - I\\'ll take a look. ELC\",happy\\n614440956088164354,\"#DefiningBeauty at @britishmuseum looks at how ancient Greeks used human body as object of beauty &amp; bearer of meaning http://t.co/Rb5NMTLYql\",nocode\\n614418538820993024,\"@britishmuseum Omg, he looks totally like Al Pacino! http://t.co/jHgsdUsFCn /@schriftart\",surprise\\n612955186915614720,\".@UNESCO @foreignoffice @EFittonBrown @UKinYemen @UKinSaudiArabia @MatthewRycroft1 @JaneMarriottFCO @britishmuseum  https://t.co/HkdtDAdLTa\",not-relevant\\n610391914622357504,\"Are the Rothschild bronzes by #Michelangelo?@FitzMuseum_UK is holding a conference to find out http://t.co/X11IZD0uts http://t.co/QM0K31ZmTM\",nocode\\n611119970391461888,\"BAM construction wins contract to extend and refurbish Tate St Ives  http://t.co/zC6ephBlVE @Tate_StIves #StIves... http://t.co/vgE6I5avrn\",nocode\\n611443712686706688,\"We hope that Y12 history of art pupils enjoy their visit to @kettlesyard today\",happy\\n614453256945803264,\"@britishmuseum Thank you very much!\",happy\\n613755654436712448,\"@NationalGallery If you studied the OU\\'s Introduction to Humanities, you\\'ll know this painting well\",nocode\\n613621888040992768,\"Researcher @Mona3Dimaging discussed 3D imaging cultural heritage on our #engineering pod https://t.co/XAkzb1Ikzw @3D_Digi_SI @britishmuseum\",nocode\\n611533211928240128,\"@britishmuseum @CFontainebleau @MuseeArmee  I picture it waiting to be rescued from an ancient attic....thank you!\",happy\\n612859756248629249,\"@GurmeetKaur6 @britishmuseum tx\",nocode\\n611239444046327808,\"I just told @tate @britishmuseum @NPGLondon &amp; @RoyalOperaHouse to #DropBP Sponsorship. Join me: http://t.co/gmbtUDKh6m\",angry\\n612717800612868096,\"@GraziaMgb616 @britishmuseum la prossima volta? \\xf0\\x9f\\x98\\xad\\xf0\\x9f\\x98\\xad\\xf0\\x9f\\x98\\xad\\xf0\\x9f\\x98\\xad alla fine i libri fanno male??dove lo trovo un jamie??nemmeno uno vagamente simile....\",nocode\\n613115872434094080,\"War, by Henri Rousseau 1891 Oil on Canvas (@NationalGallery) http://t.co/Pxkw82CFln\",nocode\\n613728108491968512,\"St Botolph\\'s Priory, remains of Tudor #Colchester \\xe2\\x80\\x9c@britishmuseum: Henry VIII was crowned king #onthisday in 1509.\"\" http://t.co/CuwQ06J2Nw\",nocode\\n611531981696946177,\"@TessaK3 @britishmuseum The shit of kings frightened by Napoleon.\",nocode\\n611618374133661696,\"@britishmuseum thank you for a fascinating scope\",happy\\n611619022472355840,\"@britishmuseum interesting #periscope broadcast with @thehistoryguy - but landscape format very difficult to view on phones - please amend\",happy|sad\\n613302757110452224,\"Pretty cool #curator up right now at the Polar Museum in Cambridge @CamUnivMuseums http://t.co/4nPmeW5we7 (pun semi-intended...)\",happy\\n614166092777439232,\"I\\'ve won two free tickets to the private viewing of the Jackson Pollock exhibition @tateliverpool can\\'t wait!!!!! \\xf0\\x9f\\x98\\x8a\",happy\\n615469080980664320,\"Who\\'s going to the Jackson Pollock PV @tateliverpool tonight? Great @Guardian piece on why he gave up painting: http://t.co/VnN7vZK1af\",happy\\n613710898994221058,\"@britishmuseum \\xd0\\xa1\\xd0\\xbe\\xd1\\x81\\xd1\\x82\\xd0\\xbe\\xd1\\x8f\\xd0\\xbd\\xd0\\xb8\\xd0\\xb5 - \\xd1\\x84\\xd0\\xb0\\xd0\\xbd\\xd1\\x82\\xd0\\xb0\\xd1\\x81\\xd1\\x82\\xd0\\xb8\\xd0\\xba\\xd0\\xb0, 14-\\xd0\\xb9 \\xd0\\xb2\\xd0\\xb5\\xd0\\xba !!!\",not-relevant\\n614840376877318144,\"QT\\xe2\\x80\\x9c@britishmuseum: New on the blog: Richard Parkinson discusses sexual identity #Pride2015 http://t.co/yJrbgstgeB http://t.co/nxi8KZc9tY\\xe2\\x80\\x9d\",nocode\\n611949953301282816,\"Now for the keynote of the Piero della Francesca conference, by James R. Banker @NationalGallery @CourtauldStudy\",nocode\\n610743773128228865,\"It\\'s a great day to #AskTheGallery with both @NationalGallery &amp; @Tate opening their Twitter doors for live questions&gt; http://t.co/tYH5tk8k4x\",happy\\n614730474192281601,\"@DorothyJonesDJ @Gilleeece @Arch_Archive If open &amp; I was in London I would have a nose at http://t.co/PlXdJbfnR1 or always  @britishmuseum\",nocode\\n611453812591595520,\"@NationalGallery @CMorosiere real sisters\",not-relevant\\n613321178829168640,\"@SassyClyde We won\\'t stop til @britishmuseum dumps #BP. Fill in a feedback form when you\\'re there &amp; watch this space: http://t.co/o2JlUnGi1y\",angry\\n608313651393646592,\"@CamUnivMuseums hurry up and email us your contact number &amp; age for a chat! Time is running out...! E: claire.gellard@shiver.tv! Pls RT!\",not-relevant\\n611913769128587264,\"@britishmuseum Here #Buddha cutting his hair in renunciation #Gandhara @AshmoleanMuseum http://t.co/5DJCGvk9Mw\",nocode\\n612579017443680256,\"All I can say is WOW - @britishmuseum: Your groundbreaking #8mummies exhibition is fantastic http://t.co/zlty9A4srL\",happy\\n608297265770340352,\"Save the date for Artist Talk: Svend Bayer @PlymouthMuseum http://t.co/0GkwYNNgm4 Tues 14 July, 1.10pm\",nocode\\n615195105872494592,\"Really enjoyed the #GlennLigon talk @tateliverpool earlier today. His exhibition is truly stimulating!\",happy\\n613775850073403392,\"Currently @RAMMuseum to discuss #DefeatingDepression with @UofE_Research. Should be interesting.\",nocode\\n610200429906018307,\"@VictoriaRance @kettlesyard @V_and_A these are so beautiful! #GaudierBrzeska\",happy\\n615254779216986112,\"A great @BritishMuseum exhibit is the Lewis Chessmen.Terrific artistry - want to pick up a replica &amp; learn the game! http://t.co/cYjsDCMB1T\",happy\\n613321314154078208,\"@britishmuseum   Statue of Poseidon - National Museum Athens\",nocode\\n614397492449423360,\"@stockleyacademy students are a joy to be spending a day with @NationalGallery #stockleyart http://t.co/q7IKWrQh6q\",happy\\n615182481394913284,\"@britishmuseum Is he holding an orange? Someone had better watch out!\",surprise\\n610388812166901760,\"Get ready for @FL_FLAMIN the Artists Present w/ Beatrice Gibson+ Sarah Turner @_TheWhitechapel http://t.co/HgWldChrCF http://t.co/fSEXRX6pla\",nocode\\n612574989305425921,\"Supercool @britishmuseum !! You seriously rock :D\",happy\\n611417689865777152,\"Frames in Focus: Sansovino Frames ... and so much more at the National Gallery #London  @NationalGallery\",nocode\\n613054144732098560,\"The Emperor #Napoleon in His Study at the Tuileries, (1812), Painted by #Jacques_Louis_David,@NationalGallery of #Art http://t.co/g3aKAnanrS\",nocode\\n615185741786783748,\"@LondonArtCritic\\'s Top 5 Art Shows to 2C in London this week http://t.co/L8MqhHE3nw @LaceyContemp @britishmuseum http://t.co/vlshGgaDou\",nocode\\n614720185904312320,\"It would have been great to see that material approached using queer theory. @foxvertebrae @britishmuseum\",sad\\n613811029206794240,\"Je ne savais pas qu\\xe2\\x80\\x99il existait une version pr\\xc3\\xa9c\\xc3\\xa9dente \\xc3\\xa0 celle  @CourtauldStudy et surtout si diff\\xc3\\xa9rente. @NationalGallery @paulperr1 #Manet\",nocode\\n611158837438099456,\"Blind Spots, #Pollock black paintings @tateliverpool sounds fascinating, hope I can make the journey north @thetimes http://t.co/V2Y5lPiq2p\",happy\\n610112969364484096,\"Practising Artist required to run workshops @PlymouthMuseum http://t.co/WKfkJusLWX Quote required. Deadline: Fri 26 June #artopps\",nocode\\n613434802574749696,\"From The Tomb Of #Nebamun \\xe2\\x80\\x94 1350 BC | #Egyptology #Archaeology #AncientEgypt @britishmuseum http://t.co/moqNQANDZb\",nocode\\n613909362608893952,\"@britishmuseum UNESCO  VENETO -THE OPERA collection, per cambiare la storia del Mondo, http://t.co/NsOuQRnFYV\",nocode\\n614437147576279040,\"@psframes @NationalGallery a much welcomed change.\",happy\\n614032842721394688,\".@_TheWhitechapel\\'s triennial London Open celebrates creativity across the capital 15 July http://t.co/zkGhAvEBrA http://t.co/A6Ep3JRsLb\",nocode\\n610747654046355456,\"@NationalGallery #AskTheGallery Why do you appear to support privatisation? Why don\\'t you value your staff more and support them?\",angry\\n612437359909564416,\"#QueenVictoria\\'s Jubilee Souvenir Badge @britishmuseum http://t.co/52QRZx0QXM\",nocode\\n610673649440456704,\"The Ratzingeriana is out! http://t.co/MWZJMC4rcF Stories via @LB2S @FitzMuseum_UK\",happy\\n613361932704305152,\"@ICIABath FABulous :-)\",happy\\n611624459129237504,\"Thanks @EmmaHiggCN for lovely review! @kettlesyard  https://t.co/3rMImVpqHJ\",happy\\n614335844535640064,\"@NationalGallery in Italian \"\"Still Life\"\" is \"\"Natura  Morta\"\"= \"\"Dead Nature,\"\"while they are more alive than ever....\",nocode\\n611600636107456512,\"@liveatlica collection in excellent company @LeedsArtGallery - thanks to all involved. @Tate_StIves @newlynexchange http://t.co/fQ34sgf0v6\",happy\\n613801260886675456,\"@CUBGEducation @MAACambridge ooh sounds good!\",happy\\n612929870675476480,\"@NationalGallery The 2rd GENOCIDE against #Biafrans as promised by #Buhari has begun,3days of unreported aerial Bombardment in #Biafraland\",not-relevant\\n613386271751294977,\"Rosalba Carriera\\'s Portrait has also retained its original Venetian 18th century frame @NationalGallery http://t.co/ZqyC4HLsFV\",nocode\\n613249812633403392,\"#musicalinstruments in art. Johannes Vermeer 1632-1675 A Lady seated at a Virginal @NationalGallery #genre #oil http://t.co/M7l6pfS56y\",nocode\\n613081179172941824,\"Discount_Rayban_19,Online_31 http://t.co/qT8e7T4nJG http://t.co/bc64zXbXMR @tateliverpool @tatiadrytwitt @tatianacosta10 @tatianahere\",nocode\\n610046847026118657,\"Thresholds poet @CamUnivMuseums @classarch Sean Borodale\\'s Bee Journal R3 listen again : http://t.co/TIgagP3M9A\\xe2\\x80\\x9d\",nocode\\n518717559278153730,\"Tomorrow at #cheltlitfest @CraigClunas talks about @britishmuseum exhibition on Ming dynasty http://t.co/6jU9D1nYv3 http://t.co/LqefFzebQr\",nocode\\n612573129257394176,\"@redhead262 @Tate_StIves @Tate In the garden, yes!  But not in the gallery. How will I restrain myself from patting #Tides 1946 ?\",happy\\n611861273068834816,\"@britishmuseum w/ @bquentin3 &amp; zada_beda feeling like 21st Century is underperforming &amp; not sure\\xe2\\x80\\xa6 https://t.co/Q0Dmt8MPZU\",sad\\n614754480358342656,\"Link http://t.co/6E5WzwVikN por @britishmuseum es el tuit m\\xc3\\xa1s popular en mis \\'news feed\\' de hoy\",nocode\\n613675928527470592,\"@MooseAllain I look forward to congratulating you in person :-) @roshvarosha @LisaLooly @newmanmpaul @DrawntoDevon @ThelmaHulbert\",happy\\n610749427729498112,\"@nationalgallery Nicholas Penny, how does it feel to get a knighthood?!\",nocode\\n613743976064122880,\"@NationalGallery One of my favourite paintings!\",happy\\n611551278263611393,\"#painting #inprogress #GerardDavid @nationalgallery #oil so much Thursday fun! https://t.co/4YTblNpLaz\",happy\\n611782969410371584,\"@johnmbrampton @CambridgeNewsUK @kettlesyard Thank you, John!\",happy\\n615501672299761664,\"@Needforcaffeine @lisaj2108 @FitzMuseum_UK Had a personal tour, no less... ;)\",happy\\n611206696371908608,\"Thanks for an inspiring day + warm welcome @FitzMuseumEduca @carreno_k @RachelSinfield @CamUnivMuseums\",happy\\n614357853583839232,\"#FF follow Friday! @britishmuseum @Hellena7007 @CreateHistorian @indianamonts @DrVictoria01\",nocode\\n612198309344768000,\"A \\xe2\\x80\\x98sparkling show\\xe2\\x80\\x99 of Turner, Singer Sargent, C\\xc3\\xa9zanne watercolours @FitzMuseum_UK, Cambridge http://t.co/VJnko74IO5 http://t.co/WLJSb0s1qe\",happy\\n610420583684292608,\"@NationalGallery When will you reinstate Candy Udwin? #AskTheGallery\",nocode\\n612194281994846208,\"@britishmuseum @sovonstar We should share this with DAN BAIRD ~ GOTHIC ARTIST this drawing is by artist SALVATOR ROSA born 1615 ~ ETCHING!\",happy\\n611619198771560449,\"@britishmuseum @thehistoryguy NOTHING  CHANGED % NON \\xc3\\x88 CAMBIATO NULLA % \\xd0\\x9d\\xd0\\x98\\xd0\\xa7\\xd0\\x95\\xd0\\x93\\xd0\\x9e \\xd0\\x9d\\xd0\\x95 \\xd0\\x98\\xd0\\x97\\xd0\\x9c\\xd0\\x95\\xd0\\x9d\\xd0\\x98\\xd0\\x9b\\xd0\\x9e\\xd0\\xa1\\xd0\\xac (((((( NO HA CAMBIADO NADA\",nocode\\n613664350998544384,@NationalGallery,not-relevant\\n615440593452421120,\"Relics and experiments at Barbara Hepworth\\'s studio in St Ives @Tate_StIves #artiststudio # cornwall #scupture http://t.co/3aJLxm05Zg\",nocode\\n614008056104534016,\"@NationalGallery What a beauty! #Baroque\",happy\\n614423212466810881,\"\"\"@corneliagracchi: @PSmirn @britishmuseum Approximately 25% less than he/she once \"\"urned\"\"\"\" Precisely!\",nocode\\n612800174839042048,\"ATTN: Museum of stolen property. Hand back our culture. @britishmuseum http://t.co/KNfY53G7Gt #SOSBLAKAUSTRALIA #NOconsent\",angry\\n614474103605604352,\"Strikers at @Shell -sponsored @NationalGallery protest against #privatisation #kayaktivists #ShellNo @billmckibben http://t.co/UnGD3naDSn\",angry\\n615113126753734656,\"@ColinGoffin @imagineinquiry Hi, from the @britishmuseum queue. http://t.co/xkZAjuCXlL\",nocode\\n613450071061852160,\"@adelegeras @FitzMuseum_UK never heard of it , next time i\\'m in uk will happy to visit:)\",happy\\n611799460159619072,\"Sunset in the Auvergne, by Th\\xc3\\xa9odore Rousseau.  Thought to be completed 1844  (@NationalGallery) http://t.co/q5C4d0xWfF\",nocode\\n612216254967980036,\"@Tate_StIves great to hear her talk about the event. I definitely left with a \\'feeling of madness\\' #materialhistories\",happy\\n614371180343099392,\"So pleased our fav artist Richard Long wins @_TheWhitechapel award, incredible body of work in \\'Time and Space\\' http://t.co/8uO9ecyeGK\",happy\\n614347166711218176,\"The chorus of @MedeaNX @Britishmuseum http://t.co/rFdRA7lHOc\",nocode\\n614844941332803584,\"Great afternoon at @britishmuseum #DefiningBeauty exhibition with @RiaSarantaridou and @brownie72 :)\",happy\\n613323324387688448,\"Rock art can be helpful in learning about different ways in which camels were used in 1st mill CE http://t.co/yJ7uqCDr6V @britishmuseum\",nocode\\n611191638094970882,\"@artfund @NationalGallery @HelenHillyard Hi, is it possible to make it clear that the Baroque Galleries open to public Fri June 19? Thanks!\",nocode\\n611521989577154560,\"@britishmuseum @BBCTwo Great news, I\\'ve been taping the series and listening to BBC4 as well - fascinating and informative, many thanks!\",happy\\n613677226542919680,\"@NationalGallery \\xf0\\x9f\\x98\\xa2 http://t.co/wXjHe34Dkp\",nocode\\n612938450547904512,\"\\xe2\\x80\\x9c@britishmuseum: Born #onthisday in 1898: artist M C Escher, representation of Tower of Babel http://t.co/YhiLc4svUw http://t.co/8sfOWxmL1q\\xe2\\x80\\x9d\",nocode\\n609317733402939393,\"Volunteers needed for ARTIST ROOMS: Gerhard Richter @PlymouthMuseum http://t.co/8leTEA8rUs Deadline: Thurs 3 Sept #artopps\",not-relevant\\n615494949686145024,\"@britishmuseum So much teeth problems un ancient Egypt!!! \\xf0\\x9f\\x98\\x81\",surprise\\n613773576605446144,\"@Kateprintmaker @ComptonVerney This is a real treat, full of inspiration from the @britishmuseum Curious Beasts http://t.co/Gbw1snPRLW\",happy\\n614790196329103360,\"Thrilled to listen to erudite Neil MacGregor from @britishmuseum talking about Germany @CVHISTORYFEST http://t.co/zalas08jDb\",happy\\n612176324183126016,\"@gilescolborne speaking at the @britishmuseum is pretty exciting / daunting... Still trying to decide whether to bring my Mummy or not! \\xf0\\x9f\\x98\\x89\",happy|surprise\\n611839637691052032,\"@britishmuseum by Nicholas Hilliard?\",nocode\\n612324752649228288,\"What lies beneath: drapery and the suggested form @britishmuseum  http://t.co/GCUs1yOBHP\",nocode\\n610345145486209024,\"Director @NationalGallery Nicholas Penny is hosting twitter Q&amp;A on Tue 16th June 10.30am-11.30am #AskTheGallery info: http://t.co/IyiGgvW22C\",not-relevant\\n610586863783530497,\"@artinsociety Thanks, good article @NationalGallery @NeilKC41 #BertheMorisot\\'s dau #JulieManet\\'s diary re her family http://t.co/tlj0vPPM35\",happy\\n613425301985607680,\"Also enjoyed James Richards speaker-bombarding Francis Bacon with soundscape @_TheWhitechapel http://t.co/83UWPwtaiR\",happy\\n613435114098274304,\"From The Tomb Of #Nebamun \\xe2\\x80\\x94 1350 BC | #Egyptology #Archaeology #AncientEgypt @britishmuseum http://t.co/NhMPGK787R\",nocode\\n615229119157022720,\"@_TheWhitechapel Please follow contemporary conceptual paintings @royalacademy 2005 Visitor artist @ChitraRamnathan http://t.co/aqu0bfvzO2\",nocode\\n615493292105576448,\"Will someone take me to see the mummies at the @britishmuseum please please please??? \\xf0\\x9f\\x99\\x8f\\xf0\\x9f\\x8f\\xbc\",happy\\n615439528120160256,\"Whale move again http://t.co/qoWiqtA4LP via @camunivmuseums @zoologymuseum @migratorymatt @whale_whispers #raisethewhale\",nocode\\n613783942911651840,\"Engaging work from @opticalmeg at @RAMMuseum #photography #art #wellcometrust http://t.co/yyuw27UH7v\",happy\\n615444235869941760,\"Morning folks! Last week left for 13-18 year olds to win 2 free tix to Defining Beauty at @britishmuseum. Go to our Facebook page for info\",nocode\\n614818209762574336,\"Being good at hunting pays off. King kisses Tristram as a reward @britishmuseum #pride #Pride2015 #PrideinLondon http://t.co/rvUzN5vnpG\",happy\\n611857553316839424,\"A good idea to refresh the perception of the @NationalGallery collection or a modish attempt at trendiness? http://t.co/HHiHr1CXVa\",nocode\\n610432213998551040,\"@Tate #markgodfrey speaking to the #cca #rca students at @_TheWhitechapel this morning #christopherwilliams http://t.co/dkBrmSxCP9\",nocode\\n614860091536371712,\"The 2 things that most moved Angela Merkel at the @britishmuseum Germany show: Luther\\'s Bible &amp; the model of the Friedrichstrasse station.\",nocode\\n613363637244157952,\"@annietrev @britishmuseum Two Britons held over Auschwitz theft http://t.co/kA4d2igJxo\",not-relevant\\n611451135057076224,\"@NationalGallery This is one of my favourite paintings at the National Gallery, I know where it\\'s hung. Beautiful!\",happy\\n612182594428514304,\"Today, find us at Castle Hill Open Day 2015 @kettlesyard at the Methodist Church. #CastleHill15   Serving 12-4. http://t.co/pMO3b0vZOY\",nocode\\n611631778055516161,\"@britishmuseum that was a marvelous @periscopeco broadcast on Napoleon just now. Great use of this new service.\",happy\\n615250438078787584,\"These two men in @BritishMuseum from Jebel Sahaba died 13,000 years ago, their bodies riddled with arrows. http://t.co/xJNjmKjB87\",nocode\\n611550853619527682,\"@britishmuseum @thehistoryguy at what time?\",not-relevant\\n610858366089457664,\"Find out how @TateCollectives @tateliverpool worked with #camhs FRESH with Tate Collective Liverpool | Circuit https://t.co/p9KT6DHP5h\",nocode\\n612553579187052544,\"I\\'m at @BritishMuseum in London, Greater London http://t.co/eLzYpV0p08\",nocode\\n611530882189524992,\"@britishmuseum do you think that Napoleon lost because of Russian campain or Waterloo?\",nocode\\n614876306870784002,\"@UofE_Research thank you for following me back. Well done for gathering such an interesting panel for #DefeatingDepression @RAMMuseum\",happy\\n613405874426650624,\"The exquisite #Waddesdon Bequest @britishmuseum is absolutely exceptional. Not to be missed. &amp; it\\'s free! #museumhour http://t.co/Et4h7kRLCr\",happy\\n613345005705527296,\"Had a wonderful time @britishmuseum with @JLMcAleer. Thank you for having me! @SOCLtweet http://t.co/MecWvVlR7E\",happy\\n611222257277362177,\"PLUS:) WILL MAKE RAINS in CALIFORNIA please CLEAN yours STREET  DRAINERS  AVOID FLOODS my HONEY$ HASKELL ART @NationalGallery  THANK YOU RT\",not-relevant\\n614081272290394112,\"@tateliverpool Hi there! We\\'ve just created this guide of #Liverpool and mentioned you. http://t.co/erjPmVbNMD\",nocode\\n610838857483857920,\"@NationalGallery #lovely\",happy\\n612781072208801793,\"Link http://t.co/OPHb3esWIp por @britishmuseum es el tuit m\\xc3\\xa1s popular en mis \\'news feed\\' de hoy\",not-relevant\\n614054652590616577,\"Plaga de orientales. (at @BritishMuseum in London, Greater London) https://t.co/MPgrKbBbwq\",nocode\\n615197838386069505,\"The Ligon/Pollock exhibition .@tateliverpool that opened today is one of the best in ages. Glenn  Ligon also seems such a nice guy #pollock\",happy\\n612914480683577344,\"Book for Making &amp; Promoting British Art @PlymouthMuseum http://t.co/gZePLgdc95 Tues 23 June, 1.10pm, \\xc2\\xa32\",nocode\\n615223494155051008,\"@britishmuseum He looks so happy......not.\",nocode\\n614363920757866496,\"@psframes @NationalGallery # I #LOVE The National Gallery!\",happy\\n613667956627779584,\"@NationalGallery brought son to see Stubbs - v disappointed by room closures re strike action- why close the most popular rooms?\",sad|angry\\n615275784719175680,\"The Alchemist by Pieter Bruegel the Elder  #art for #StrangeandNorrell in @britishmuseum http://t.co/WMyG34ieii\",nocode\\n611875644222386176,\"@Libby_Brodie @NationalGallery interesting variety\",happy\\n613277342237106176,\"Delicious Dorset crab with avocado and gazpacho @ the beautiful @NationalGallery with @EventConcept #gailsmithflowers http://t.co/sJOfm6E66y\",happy\\n614891120498114560,@NationalGallery,not-relevant\\n613637339794042880,\"Looking forward to our public engagement event #DefeatDepression  @RAMMuseum @UofE_Research this evening http://t.co/GAG3iJveaC\",happy\\n614416742203412480,\"@britishmuseum @emussj Greatest car park attendant this country has ever seen.\",happy\\n614447641771003904,\"At @RAMMuseum listening to @chrisrwatson Ebb &amp; Flow summer with @Paul4Cowick &amp; Gerald http://t.co/NrW8xmehgc\",nocode\\n614006783795970048,\"Early morning viewing of Defining Beauty at @britishmuseum quite the inspiration for the rest of the day. What a complete treat.\",happy\\n614525710456221696,\"\\xe2\\x80\\x9c@NationalGallery: placing the trees on a diagonal axis, Rousseau conveys a sense of the wind http://t.co/j0vVeGYJTr\"\" For you, @whatSFSaid\",nocode\\n612571758340796417,\"@HistoryGems @britishmuseum something from ancient Egypt ?\",nocode\\n615203002887090176,\"Enjoying the afternoon at @NationalGallery. #artheals\",happy\\n612033187800182784,\"\\'I prefer #art to fast cars\\': fund manager helps British Museum buy Picasso works http://t.co/qhm51iLLL9 @BritishMuseum #Picasso\",nocode\\n610788793143152640,\"@kettlesyard @Countrylifemag look forward to visiting this week. #art #Cambridge\",happy\\n612910356252364800,\"Frames can be works of art on their own. Visit our free #SansovinoFrames exhibition http:... http://t.co/RaxtWpBXYv via @NationalGallery\",happy\\n521014255852986369,\"I\\'m introducing @britishmuseum Director Neil MacGregor-Germany:Memories of a Nation at #cheltlitfest tomorrow http://t.co/JoyLMUh2Tm Come!\",happy\\n614789536774778880,\"#DefiningBeauty @britishmuseum finally visited the exhibition before it closed next week.. Well worth the trip to London. A brilliant time.\",happy\\n612293507710107649,\"I\\'m at @NationalGallery in London, Greater London https://t.co/yA2BEDdTEf\",nocode\\n613965442328211460,\"@pwadey @NationalGallery I have turned the exposure up on this painting to enable easier viewing. #TooDark http://t.co/EBXLSSIDIZ\",nocode\\n614488769635311616,\"\\xc2\\xbfComo se ve la serpiente mexica de dos cabezas a colores? En el @britishmuseum nos ense\\xc3\\xb1an http://t.co/GKgbC3Q4aI http://t.co/ebRUk4jent\",nocode\\n612004395564335104,\"If you haven\\'t seen the Christopher Williams show @_TheWhitechapel it finishes this Sunday. Go. Really, go. GO. http://t.co/8HgcUpn4Mn\",happy\\n614391083351588864,\"Sad, but amazing and exciting things will be happening to @kettlesyard ! https://t.co/ncSFNv1yqU\",happy\\n611532469343547392,\"@eclectic5 @britishmuseum @PenguinUKBooks @aroberts_andrew he donated it to somebody, as i recall vaguely now\",nocode\\n615233923862372352,\"@barjanas @britishmuseum Portraiture is so fascinating...love all these hidden meanings! Thanks for the info!\",happy\\n611846993372127232,\"@NationalGallery Weekend getting better &amp; better, #GrantSimonRogers taking #DailyGuidedTour #Entertaining &amp; #Engaging with his group.\",happy\\n612299161405407233,\"{ @britishmuseum } #art #London #ttot #lp #vacation #trip #photography #photo #Travel #travelpics http://t.co/lqvLLQSJkE\",nocode\\n614312351043555328,\"@Hellboy919 @AboutLondon @MadameTussauds @BateauxLondon @britishmuseum @thetattershall @ThamesRIBExp @OXO_Tower @thamesclippers thank you \\xf0\\x9f\\x98\\x8a\",happy\\n614878804536913920,\"@jilldomoney thank you for the RT, following you back, great to see @SWMH_IoPPN represented at #DefeatingDepression @RAMMuseum\",happy\\n610739257922166785,\"After this weekend @kettlesyard, the \\'Louvre of the pebble\\', closes for 2 years. Go visit while you have the chance! http://t.co/B10YcZGEAT\",nocode\\n614077259838844929,\"@britishmuseum What did they do with all the tourists?\",nocode\\n615092280953802753,\"Don\\'s miss the #events showcase at @britishmuseum on 1 July http://t.co/a4t7hZY1On #eventprofsuk #London\",nocode\\n614489517840551936,\"Muse, adult art group enjoy Watercolour painting inspired by visit Ruskin\\'s Turner and Elements of Nature shows. @FitzMuseum_UK @CamWhatsOn\",nocode\\n614872691137511424,\"A rare delight to be in the @britishmuseum when it is so quiet and the light of a summer\\'s evening is so splendid http://t.co/MuCGAtPeci\",happy\\n614082472926707713,\"@KirkbrideDebbie @Anchor_Trust @britishmuseum yes i met her. We were tlkg abt the amazing number of visitors they got for @CareHomeOpenDay\",happy\\n615120985738637312,\"Great Baramundi fish @OlympiaAntiques with Clive Loveless. Aboriginal art having a moment with @britishmuseum show http://t.co/581qukhBVt\",happy\\n614362185414889472,\"@psframes @NationalGallery Ma\\xc2\\xades\\xc2\\xadto\\xc2\\xadso.\",nocode\\n612577127574188032,\"F\\xc3\\xbcr alle V\\xc3\\xa4ter unter uns. #FathersDay @britishmuseum https://t.co/vHvE4F5Q4m http://t.co/GgSY05TO96\",nocode\\n612201320888537088,\"This is our final weekend before a 2 year closure to complete our building project. After Sunday we will be in other places @kettlesyard\",nocode\\n610829244097282048,\"@NationalGallery I\\'ve been making some like-paintings photos. Pls, exibition would be possible? http://t.co/QMPVfT11DU\",not-relevant\\n615042724480192512,\"British Museum: Abstract art: ornaments and aesthetics in Bronze Age Britain and Ireland @BritishMuseum http://t.co/DgjF9u4iyC\",nocode\\n612993742430081024,\"@NationalGallery The 2nd GENOCIDE against #Biafrans ,3days of unreported aerial Bombardment in CrossRiver #Biafraland http://t.co/icHOCTG1ad\",not-relevant\\n610372844233564160,\"Watch a short of Piero della Francesca\\xe2\\x80\\x99s The Baptism of Christ \\xe2\\x80\\x94 now at 11.20:49 CET #ikonotv @NationalGallery http://t.co/jNhUehp5uG\",nocode\\n610175968611799042,\"Looking forward to #soundscapes @NationalGallery - \\'hear\\' the paintings, \\'see\\' the sounds: how intriguingly enticing! http://t.co/vHceZlWXcm\",happy\\n614392018719145984,\"Lo viste? El tuit m\\xc3\\xa1s popular de hoy entre las personas que sigo http://t.co/GnzAQrkHvV por @britishmuseum\",nocode\\n614382225631657984,\"St Ives Cornwall News is out! http://t.co/cCO8Jai0GJ Stories via @Tate_StIves\",happy\\n612662000221466624,\"@NationalGallery That is a fascinating bit of art history. Thanks! I LOVE Albrecht Durer\\'s art. Gloria Poole,RN,artist, Missouri\",happy\\n612167950120919040,\"St Conall Cael\\'s Bell &amp; Shrine 6century Shrine 10 century @ Donegal County Museum on loan from @britishmuseum http://t.co/dMwZa9nz0O\",nocode\\n613334113001598976,\"\\xe2\\x80\\x9cEvery good painter paints what he is.\\xe2\\x80\\x9d Jackson #Pollock coming soon @tateliverpool  http://t.co/4smBKBD6zb http://t.co/RGkbPirGu9\",nocode\\n611489369254400000,\"a chance to see @FL_FLAMIN artists (friends of ours) #sarahturner  http://t.co/Nw1PQbXxNL @_TheWhitechapel\",nocode\\n610529852119216130,\"@NationalGallery #AskTheGallery #noprivatisation https://t.co/0N7UGP7h1Z #ReinstateCandy http://t.co/ZaDR8HN01F\",angry\\n613232707976433664,\"Search for your \\'Treasured Possession\\' @FitzMuseum_UK ; a museum with more treasures than you could imagine \\xf0\\x9f\\x8e\\x8e\\xf0\\x9f\\x8e\\x8f\\xf0\\x9f\\x8e\\xad\\xf0\\x9f\\x97\\xbf\\xf0\\x9f\\x93\\x9a\\xf0\\x9f\\x93\\xaf\\xf0\\x9f\\x9a\\x8b\\xf0\\x9f\\x8f\\x86 http://t.co/uGcTqDAMQy\",happy\\n610419654046167040,\"@CJRFineArtist thanks. Like you say, you have to have a go :-) @ThelmaHulbert\",happy\\n611193421726896128,\"And discussed further by @tateliverpool\\'s Darren Pih, here: http://t.co/BhXb4koHke Richard Hawkins: #HijikataTwist\",nocode\\n613394625299107840,\"Spectacular gems and Renaisance jewellery at the new Waddesdon Bequest gallery @britishmuseum . Go admire! http://t.co/gwFUw1FscR\",happy\\n611585867593846785,\"\\'Bonaparte\\'s interview with the astronomer at Milan\\', c. 1800 @britishmuseum #Waterloo200 http://t.co/nUNQh59LkJ http://t.co/U2xCqBTWQd\",nocode\\n611504462654476288,\"Starting my sister\\'s hen do @britishmuseum was an excellent idea. V friendly security guards.  https://t.co/hCXWIH0NSD\",happy\\n614072670120972288,\"@PlymouthMuseum We have a #WarMemorial workshop coming up in your area! Please help us save our War Memorials! https://t.co/OBZOcasNpi\",nocode\\n610568384959414273,\"@JohnConstableRA @NationalGallery @pwadey   I\\'m intrigued by the portraits and text on the walls of this picture &amp; the lady with the beans?\",happy|surprise\\n611105158659997696,\"@psframes @NationalGallery # I Love The National Gallery! #Beautiful!\",happy\\n613719063316066309,\"Visit Giovanni di Paolo\\'s four #BapistPredella panels @NationalGallery including Birth of John the Baptist, 1454 : http://t.co/3ZEOBf1clF\",nocode\\n611478894848442368,\"Painter #JackSmith was #bornthisday in 1928 @Flowers_NewYork @_TheWhitechapel http://t.co/FTwGDkRkSZ\",nocode\\n614083955831271424,\"@sferg100 @WhitworthArt @Mini_Stories I\\'m not sadly, at a session in @britishmuseum run by @AgeofCreativity about older people in museums :)\",happy\\n612932143220674560,\"Cambridge\\'s world famous @kettlesyard closes for two years for major redevelopment http://t.co/9MY7sXBTPH\",nocode\\n614099629911707650,\"In London today visiting @NewDesigners @britishmuseum @WallaceMuseum. Obligatory Great Court shot... http://t.co/bi5kvltovK\",happy\\n612982694734131200,\"@CElaine @MicroPasts @britishmuseum Wow great to see it!! Hope to get new app up soon! ; )\",happy\\n611851012794511361,\"#FF @britishlibrary @britishmuseum @theballetbag @josiedaisy @wahaca @IValueTheArts\",nocode\\n615149708181311493,\"Exquisite works by #painter Paul Rubens presented by @britishmuseum  https://t.co/8BJpLjPiqU\",happy\\n613967705658499072,\"@tateliverpool \\xf0\\x9f\\x9b\\x80\\xf0\\x9f\\x8d\\x9e\\xe2\\x98\\x95\\xef\\xb8\\x8f\\xf0\\x9f\\x93\\xb2\\xf0\\x9f\\x8f\\xa2\",nocode\\n612673403116515328,\"What a bustling wind\\'r blowing in this amzing painting. Your senses almost feel the sea air @NationalGallery #paint https://t.co/7sbeiDnyvq\",happy\\n611187860021092352,\"I am now a proud member of @tateliverpool if I could only work put how to book a ticket as a member ;0) @laconicphoto @HoylandH @Tate\",happy\\n614524737885081600,\"Thank you @VivStylz @GerryMas The first show @_TheWhitechapel saw 178 paintings being displayed! Several of them are known today\",happy\\n613312863331966976,\"From The Tomb Of #Nebamun \\xe2\\x80\\x94 1350 BC | #Egyptology #Archaeology #AncientEgypt @britishmuseum http://t.co/q5MAh8LzWz\",nocode\\n612213742831542273,\"A real must-see @britishmuseum \\'Defining Beauty: The Body in Ancient Greek Art\\' #London #art http://t.co/2veJjf3IZb http://t.co/mlJ2a9olx4\",happy\\n611533782991155200,\"Top story: @britishmuseum: \\'How tall was Napoleon? Did he say \\'not tonight Jose\\xe2\\x80\\xa6 http://t.co/PR6GFhHCo6, see more http://t.co/NQzOpsaH4Z\",nocode\\n613705186469629952,\"BAME applicants esp welcome for 1 year cultural traineeship @CamUnivMuseums  Deadline 30 June @cultural_co http://t.co/OD8xBrHiyZ\",not-relevant\\n612683374038118400,\"@ItalianTouristB @britishmuseum @MuseoEgizio https://t.co/350k9RiVNI \"\"Yes it\\'s real &amp; not man made\"\"  Discovered in 2012\",nocode\\n613294903628562432,\"@britishmuseum a greave?\",nocode\\n612334618298183681,\"\"\"@chicjwelcouture: http://t.co/uvcr3DfnYk\"\" Incredible jewels at the @britishmuseum \\'s new gallery.\",happy\\n614004328773349376,\"@Bobstaah @NationalGallery I will.\",nocode\\n610753095941885952,\"Aunt Fanny says there\\'s a simply wizard Enid Blyton exhibition coming to @PlymouthMuseum: http://t.co/KHdUizx2xj http://t.co/nc31aHBJmF\",nocode\\n614752293913788416,\"30 \\xd0\\xb2\\xd0\\xb5\\xd0\\xbb\\xd0\\xb8\\xd0\\xba\\xd0\\xb8\\xd1\\x85 \\xd1\\x85\\xd1\\x83\\xd0\\xb4\\xd0\\xbe\\xd0\\xb6\\xd0\\xbd\\xd0\\xb8\\xd0\\xba\\xd0\\xbe\\xd0\\xb2 \\xd0\\xb8\\xd0\\xb7 \\xd1\\x81\\xd0\\xbe\\xd0\\xb1\\xd1\\x80\\xd0\\xb0\\xd0\\xbd\\xd0\\xb8\\xd1\\x8f \\xd0\\x9b\\xd0\\xbe\\xd0\\xbd\\xd0\\xb4\\xd0\\xbe\\xd0\\xbd\\xd1\\x81\\xd0\\xba\\xd0\\xbe\\xd0\\xb9 @NationalGallery \\xd0\\xb6\\xd0\\xb4\\xd1\\x83\\xd1\\x82 \\xd0\\xbf\\xd0\\xbe\\xd0\\xba\\xd0\\xb0 \\xd0\\xb2\\xd1\\x8b \\xd1\\x83\\xd0\\xb7\\xd0\\xbd\\xd0\\xb0\\xd0\\xb5\\xd1\\x82\\xd0\\xb5 \\xd1\\x87\\xd1\\x82\\xd0\\xbe-\\xd1\\x82\\xd0\\xbe \\xd0\\xbd\\xd0\\xbe\\xd0\\xb2\\xd0\\xbe\\xd0\\xb5 \\xd0\\xbe \\xd0\\xbd\\xd0\\xb8\\xd1\\x85. https://t.co/zE2pnCfkaL\",nocode\\n615213705840697345,\"What lies beneath: drapery and the suggested form http://t.co/j3sIeudNMT via @britishmuseum\",nocode\\n611633330539372545,\"@tateliverpool \\xe2\\x80\\x9c #BobandRoberta: I am angry more artists that have a profile are not speaking up #foundationcourses. http://t.co/0Jqrql7vfK\\xe2\\x80\\x9d\",angry\\n615467545391464449,\"The body as beauty and bearer of meaning - Last few days of Defining Beauty, The Body in Ancient Greek Art exh @britishmuseum - ends 5 Jul\",nocode\\n615527872296562688,\"Glowing 5 stars for @tateliverpool - Jackson Pollock review \\xe2\\x80\\x93 this is art as nervous breakdown ... and it\\'s majestic http://t.co/VX6yhyRAIz\",happy\\n611495362919067648,\"@bbcarts @ICALondon @TimeOutArt @artfund @artlicks @FriezeLondon @_TheWhitechapel @GoldsmithsUoL @LondonAlumni @ArtMonthly\",nocode\\n613645315103686656,\"That\\'s a cool #statistic! Well done @FitzMuseum_UK  https://t.co/ydo7hkNR32\",happy\\n612998612897894400,\"So tired after @britishmuseum sleepover. No seats on train from London to Nottingham either! Didgeridoo man\\'s dreamtime tales were great!\",happy\\n612224157313437696,\"What to do this weekend? Try #ChristopherWilliams staged photographs @_TheWhitechapel http://t.co/NdsjvaHXEr http://t.co/aOlKbylZGj\",nocode\\n615555918265208832,\"@NationalGallery final chance 30% off framed art - ends midnight tonight! \\xf0\\x9f\\x8c\\x9e Enter SUNSHINE code \\xf0\\x9f\\x8c\\x9e  https://t.co/rTT2L7H2Tk\",nocode\\n611633410793172992,\"@Tate_StIves \\xe2\\x80\\x9c #BobandRoberta: I am angry more artists that have a profile are not speaking up! #foundationcourses. http://t.co/0Jqrql7vfK\\xe2\\x80\\x9d\",angry\\n613370876713697280,\"reconnecting Mongolian &amp; Siberian people with their history: new exhibition River Stars Reindeer @MAACambridge http://t.co/hBwewsKN38\",nocode\\n613643745267990528,\"250 000 mennesker s\\xc3\\xa5 Balkes \\xc2\\xabVard\\xc3\\xb8hus Festning\\xc2\\xbb i London. N\\xc3\\xa5 er bildet tilbake i Bergen: http://t.co/TifLd9S4kk @BA_no @NationalGallery\",nocode\\n613693779095097344,\"@nthepburn @tate_stives A tour of the inspirational town as a Tate Britain retrospective opens http://t.co/qPv3bvmtwm\",nocode\\n611645556713222144,\"@britishmuseum @thehistoryguy shame about the idiots who post rude comments throughout!\",sad\\n613727660309614593,\"I\\'m at @BritishMuseum in London, Greater London http://t.co/HhLWKBwXEn\",nocode\\n614054988483063808,\"Great insight into #BarbaraHepworth show @Tate &amp; the exhibitions exploring her art @HepworthGallery &amp; @Tate_StIves   http://t.co/Bfsx6v9QvA\",happy\\n613074477891588096,\"http://t.co/34ADkMrGDL Interview with @shubbakfestival  director previewing next month\\'s extravaganza. See u at the @britishmuseum  11/07\",nocode\\n611432329408438272,\"What better way to get creative inspiration than to go to the Museum \\xe2\\x9c\\xa8  @NationalGallery http://t.co/zvpmtSBVXy\",happy\\n610766704692592640,\". @Tate LOVE Bomberg\\'s #JuJitsu @tateliverpool! \\xe2\\x80\\x98the new life should find its expression in a new art\\' http://t.co/RvZ4rkPTeI\",happy\\n614679533493596160,\"#NG365 Jacob van Ruisdael\\'s \"\"A Rocky Hill with Three Cottages\"\" @NationalGallery #art #twitart @JohnConstableRA http://t.co/9FMEBJaNoE\",nocode\\n614747841119043584,\"@StephenXKing @profjoecain @britishmuseum I never knew they had one!\",nocode\\n612910509743079424,\"@v_and_a stylish ceramics from a very talented artist #anthonytheakston #pelicanjug #ceramics @britishmuseum http://t.co/6HiNqZPjur\",happy\\n610599509593300994,\"@NationalGallery #AskTheGallery Dr P - wouldn\\'t you like to leave with a noble gesture? Stop #privatisation, #ReinstateCandy, support union.\",angry\\n613717741468422144,\"This #C\\xc3\\xa9zanne masterpiece, on loan to @FitzMuseum_UK, is at risk of being sold abroad. http://t.co/ByPoUTjsT4 http://t.co/2CxrTYsJEL\",nocode\\n615456784208297984,\"#Pollock #Ligon press view @tateliverpool with 3 LSAD graduates http://t.co/Y95VAL9x0S\",nocode\\n610403319899648000,\"Steve\\'s UK art &amp; creative Daily is out! http://t.co/Qc6OmlPcpb Stories via @sunrayswench @tateliverpool @ShappiKhorsandi\",nocode\\n611281026992746496,\"#BPPortrait #photography # awards @NationalGallery  https://t.co/8K06CxIABL\",nocode\\n615566920578789377,\"Volunteers needed for ARTIST ROOMS: Gerhard Richter @PlymouthMuseum http://t.co/8leTEA8rUs Deadline: Fri 3 July #artopps\",nocode\\n613707591395463168,\"Day out with the Japanese Embassy @JAPANinUK and @britishmuseum http://t.co/ZhSS8sU56e\",nocode\\n613988273569067008,\"@Frieda_M @kettlesyard that\\'s fabulous! thanks :)\",happy\\n611530381238661120,\"@TessaK3 @britishmuseum there\\'s this ABBA song?\",nocode\\n613427973648162816,\"Lessons in death and living @NationalGallery 4 July, 2\\xe2\\x80\\x934 http://t.co/fS8dtBot3Z with Jon Underwood &amp; Christina Bradstreet\"\" @morbidanatomy\",nocode\\n613391114570231810,\"Last chance to catch Defining Beauty: The Body in Ancient Greek Art @britishmuseum  \\xe2\\x98\\x85\\xe2\\x98\\x85\\xe2\\x98\\x85\\xe2\\x98\\x85\\xe2\\x98\\x85 http://t.co/99PAuyk8i6 http://t.co/Q512Tam8KB\",nocode\\n613360873499791361,\"Weapons of resistance: Jandamarra, a hero of the Bunuba people http://t.co/FTDh1VXSiI via @britishmuseum\",nocode\\n612919339822501888,\"#Artist #impression of #SummerSolstice by #Bertram #Buchanan (early #20th #century) from @britishmuseum  https://t.co/Z4yVrpBysl\",nocode\\n612420814290448384,\"Thanks for the recent follow @MistaShoe @britishmuseum @BelleUnplugged Happy to connect :) have a great Sunday. (via http://t.co/FD3GdckSjq)\",not-relevant\\n612748333656973312,\"Fabulous day @britishmuseum with @sarahdawnscott ... Greek beauty, Australia, Napoleonic propaganda &amp; so much more! http://t.co/cMyh2JC6sO\",happy\\n610774259871428608,\"Our #soundssublime festival returns on 18 Jul! Free events at @smitf_london &amp; @NationalGallery http://t.co/Qolm6hDtKR http://t.co/3GAgeWZhEU\",nocode\\n612258905545158656,\"What a delicate delight for the eyes this is #art @Bugglepuffbooks @MuseumModernArt @NationalGallery @mallgalleries  https://t.co/zox9yMvcaM\",happy\\n614757505273602049,\"Fab Indigenous Australia exhibition @britishmuseum, do visit before it closes! http://t.co/hHOgqL0jOB\",happy\\n612290333217542144,\"@britishmuseum That was fascinating! Thank you for posting!\",happy\\n612572742664253440,\"@HistoryGems It looks Egyptian, and judging from the shape, my guess is a mummified young crocodile. @britishmuseum\",nocode\\n611135001950855168,\"Coming up this Sat! See you 1.30-4.30pm with some interesting #archive material re architecture of @kettlesyard https://t.co/P7JFASKROd\",nocode\\n614753137715474432,\"Brief visit to the @britishmuseum and back home. http://t.co/1OL9lh7rX5\",nocode\\n613323056409366528,\"I\\'m at @BritishMuseum in London, Greater London https://t.co/GVAVRAL0a0\",nocode\\n611573519139401728,\"As @kettlesyard prepares to close for two years director @andrewnairne is live @BBCCambs 5.45 http://t.co/cFczQUosa4\",nocode\\n613271142493736960,\"Fascinating mtg at @britishmuseum to meet with curators &amp; mgmt to discuss closer working links with schools &amp; museum resources. #history\",happy\\n612981860310847489,\"@CamUnivMuseums with support from @Cambridge_Uni giving an insight to degree subjects. Post 16 \\'Subject Taster Week\\' http://t.co/jlsrQeeXbt\",nocode\\n610456601779171329,\"#AskTheGallery How much did @NationalGallery receive in sponsorship fees from Shell for branding the Rembrandt exhibition?\",nocode\\n614537336957874180,\"Went to the Indigenous Australians exhibition @britishmuseum this evening - fascinating and fabulous - not too many dots\",happy\\n613392285947035648,\"@guardian @GuardianEdu @HauserWirth @_WhiteCube @_TheWhitechapel @Tate @TateYPs @TateEtcMag @BobandRoberta @SaatchiAr http://t.co/4LEjmtcv1T\",not-relevant\\n614091613585936384,\"@simonpzwallis @HepworthGallery @Tate @Tate_StIves\",nocode\\n611855413202526208,\"Ancient roman wedding ring from the @britishmuseum .  See the clasped hands, just like in the novel Summer of Fire http://t.co/PvdKeYce4t\",happy\\n612989269825576960,\"@Tate @NationalGallery @followthisguide one of my favorites also!\",happy\\n615593102137499648,\"Watch my report on #pollock at @tateliverpool on @AJENews http://t.co/sXQavcwcRv\",nocode\\n612993820272144384,\"Ragani Vasant, Manley Ragmala c 1610 #MughalMonday @britishmuseum http://t.co/mQGp8ZhIn3\",nocode\\n613272701164240896,\"@kettlesyard Hey! Check out the national singing competition Open Mic UK! Open to all types of acts and all ages! http://t.co/Sv0B1LE8ik\",not-relevant\\n611975850150510592,\"@_TheWhitechapel  https://t.co/vdhkxN4B1G\",not-relevant\\n612649161083777024,\"I\\'m at @BritishMuseum in London, Greater London https://t.co/dpQPPSeQnt\",nocode\\n614074578399305728,\"Sign up to @NationalGallery e-news and you could win an #ExhibitionOnScreen DVD http://t.co/CgvLI1Ohok\",nocode\\n615487799186300928,\"It makes my heart sing to see the #Elgin #marbles at the @britishmuseum #inspiration #art \\xe2\\x80\\xa6 http://t.co/QJocxENA0X http://t.co/Y1xzNTVtoq\",happy\\n612664104013176832,\"Had a great @IndianaJones tour of the @britishmuseum with @eustonchurch, now at @HTBChurch enjoying The Five service. http://t.co/uZkZgz0h6c\",happy\\n610586513643016192,\"Jim\\'s bathroom @kettlesyard where we find an old glass milk bottle filled with #Foxglove #Nigella &amp;\\xe2\\x80\\xa6 https://t.co/u99A2xhN1k\",nocode\\n615589888688304128,\"From @PlymouthginUk to the World! @PlymouthMuseum exhibition opens tonight until October. Learn about the #legend http://t.co/9iqc8VsSxG\",nocode\\n612618971909607424,\"@britishmuseum nice one\",happy\\n615477097583218688,\"@britishmuseum Thank you so much for your amazing \\'Defining Beauty\\' exhibition. It\\'s an aesthetic feast!\",happy\\n615458547615301632,\"Tomorrow opens \\'Jackson Pollock: Blind Spots\\' at the @tateliverpool \\xe2\\x98\\x9ehttp://t.co/Ry6WV7XruH\",nocode\\n612905928220762112,\"@NationalGallery The second GENOCIDE against #Biafrans as promised by #Buhari has begun, 3 days of unreported aerial Bombardment in #Biafra\",not-relevant\\n614506703078486016,\"Because today wasn\\'t perfect enough: gelato affogato @NationalGallery http://t.co/GgjcPMbTic\",happy\\n610853102376239104,\"@NationalGallery New trailer for Many Beautiful Things ft. #MichelleDockery released via @PasteMagazine http://t.co/LWTn9YcD2z\",nocode\\n614017811191603200,\"By Gaye Sculthorpe, Curator for Oceania @britishmuseum  https://t.co/ENxIgbfSOw\",nocode\\n614079021240983556,\"@britishmuseum how wonderfully unpopulated!\",happy\\n615159774733312000,\"@D2Zen @britishmuseum @CarisaMarie11 are you saying you\\'re not the Wicked Witch of the PNW but really Deborah the Good Witch of the UpperMW?\",not-relevant\\n610407768466542592,\"Ceri-Anne, Arts Administrator @kettlesyard &amp; me enjoying the ++ weather doing a recky for Castle Hill Open Day signs! http://t.co/O9S6AGplXF\",not-relevant\\n613633946975358976,\"Don\\'t miss James Richards\\'s sonic installation of Francis Bacon\\'s 1953 Study for a Portrait @_TheWhitechapel. http://t.co/eZ6ZijhCWI\",nocode\\n612289515991003136,\"Lovely day @britishmuseum @ogeducation for #DiscoveryDay- thanks all #artseducation http://t.co/sEU6ITEMde\",happy\\n611922813016879105,\"From The Tomb Of #Nebamun \\xe2\\x80\\x94 1350 BC | #Egyptology #Archaeology #AncientEgypt @britishmuseum http://t.co/xkblOg44iV\",nocode\\n611088101801361408,\"@NationalGallery who owns all this Art?\",nocode\\n615266818933063680,\"@ustvmad @tateliverpool @CruiseLpool @LivEchonews @scousescene fantastic!!\",happy\\n613322476559409152,\"The history of avant-garde museology. #ArseniyZhilyaev in conversation @_TheWhitechapel Thur 2 July, 7pm http://t.co/6e6adOMycd\",nocode\\n612582079210070016,\"Link http://t.co/NWRpsyIgwK por @britishmuseum es el tuit m\\xc3\\xa1s popular en mis \\'news feed\\' de hoy\",nocode\\n611878507803734016,\"@leCMN @museiincomune @britishmuseum @MuseeLouvre @MarDixon @Museo_MADRE @louvrepourtous @museecarnavalet @MuseumWeek e noi rispondiamo!\",nocode\\n611977138099625984,\"Discover The Arts with Social Media: NOHO Featured Artists Blandine Bardeau and Hermoine Carline https://t.co/Ol5utECOPW @_TheWhitechapel \\xf0\\x9f\\x8e\\xa8\",nocode\\n613347162601168896,\"Helen Wilson talks about her CDA PhD work w/ @OfficialUoM @britishmuseum. Do innovative techniques add to #cdavalue? http://t.co/kIa2uUXcbX\",nocode\\n614344414455050240,\"Off to London for #CivilisedBodies @ucl and then to talk about  \\'Greek bodies\\' @britishmuseum this evening. A day of bodies!\",nocode\\n614441573292601344,\"#FF @ApartmentCo @Bath_NESomerset @ShopatCuriosity @theoakbath @ICIABath @BathCoUK @chmind @decohouse3 @ElectricBearUK @trinityinnbath\",nocode\\n611494172772724736,\"Here\\'s me trying a spot of life drawing at (fabulous) @KettlesYard in Cambridge http://t.co/RQo4O4ybI3\",happy\\n611308343668416513,\"Art museums can open up a whole new world to our children http://t.co/T9GPocIaj0 via @trekaroo @NationalGallery http://t.co/kNQU3gEC5d\",happy\\n614727454230466560,\"15-25 and near @Tate_StIves today? Join in with RE-A-LINE: performance, talks and artist led workshops, 11.00-15.00: http://t.co/vthktROdA7\",nocode\\n612022174518525952,\"Thank you, Sir. @HowieHobbit @ShannonGrissom @CASSART @LondiniumLife @NationalGallery @NPGLondon @Tate @tintedsteam @royalacademy\",nocode\\n615422776489443328,\"On my way to @tateliverpool this morning for the press view of The new Jackson Pollock show\",nocode\\n615466048377126916,\"@britishmuseum, thanks a tonne! I also loved the podcast Neil MacG did on it - intriguing to say the least that a \\'faery tale\\' was...real?!\",happy\\n611524487511699456,\"@britishmuseum Fascinating, thanks. What an odd place to exile anyone to!\",happy\\n614404078177767424,\"What can the Old Masters teach us about living a meaningful life? via @NationalGallery http://t.co/U6PlUMgf20 http://t.co/2f5KTBu6Cj\",nocode\\n615184671039717376,\"@britishmuseum I think he was crowned in 1520.\",nocode\\n612078357430185985,\".@cbcideas @thegetty @HaidaHeritage @NewCdnMedia @guardian @britishmuseum @morethanadodo: An important talk.Would love to visit Haida Gwaii\",happy\\n611541009206505472,\"@LandOfHistory @JHGHendriks @britishmuseum @aroberts_andrew yes\",not-relevant\\n613129912262729728,@NationalGallery,nocode\\n615159457325170689,\"@fossildotty @cpdickenson @britishmuseum I\\'ve missed it too - will have to look for it next time ;)\",happy\\n613648062230216704,\"So excited! Less than a week until the #JacksonPollock exhibition starts at @tateliverpool #cantwait \\xf0\\x9f\\x8e\\xa8\",happy\\n615087792155172866,\"@NationalGallery # Sooo #ROMANTIC!\",happy\\n614025301404717056,\"Free CPD afternoon for @PlymouthMuseum\\'s 2016 \\'War Games\\' exhibition on Thurs 2 Jul from 4pm #plymouth. Details at http://t.co/KOx38sbezi\",nocode\\n613298058911182848,\"Looking forward to Amelia Smith speaking in \\'CDA innovation showcase\\' @NationalGallery @BirkbeckNews http://t.co/iBin9Vl65K #cdavalue\",happy\\n613253157246894080,\"The @britishmuseum #defining beauty exhibition was wonderful ,looking at the body in Greek art ,like being at home ! http://t.co/qAAGubc5Jf\",happy\\n612247364074668032,\"Gloomy weather getting you down \\xe2\\x98\\x94\\xef\\xb8\\x8f\\xf0\\x9f\\x98\\x9e? Go to @kettlesyard for their last day before 2 yr refurb; instant feel good fun http://t.co/xSQ9K5NjBr\",happy\\n614036199238447104,\"@NationalGallery and you could always read Art as Therapy http://t.co/r8w290HbGS\",nocode\\n614172410804346880,\"@britishmuseum Absolutely amazing space and venue for ShakespeareanTCS summer drinks party http://t.co/aysKxbMF82\",happy\\n610548368050401280,\"@jessworth @clarapa @NationalGallery  staff, trustees, managers should have an informal, friendly open chat. Why not? Clear air.\",nocode\\n615505780817690624,\"1 week left to apply for the Head of Marketing role @Tate_StIves. Could you play a significant part in it\\'s success? http://t.co/sAJhLpLXJe\",not-relevant\\n613381501711822848,\"@NationalGallery The 2nd GENOCIDE against #Biafrans as promised by #Buhari has begun,3days of unreported aerial Bombardment in #Biafraland\",not-relevant\\n611798404755099648,\"@PamHartshorne @britishmuseum then it\\'s a must to take the time to take it all in #enjoythemoment\",happy\\n611887571300405248,\"Art update! Ready for the new @ClassicCottages guests, hope they like them! #ElisabethClarke @Tate_StIves poster http://t.co/2T0iD9Za9R\",happy\\n612668491926269952,\"Loved @britishmuseum\\'s #IndigenousAustralia exhibit this aft although surprised that #PaulKeating 1992 speech didn\\'t feature in timeline\",happy|surprise\\n611618607202729984,\"@benfaster @britishmuseum yes a day is not enough... what is #Futureofmuseums? I have not heard of this\",happy|surprise\\n610874656124477440,\"#PhilGrabsky\\'s latest blog shares an interesting article related to the @NationalGallery exhibition about Durand-Ruel http://t.co/diPHlaLvXF\",nocode\\n611545227644510208,\"British Museum: Bonaparte and the British @britishmuseum http://t.co/VttV7mLv4g\",nocode\\n612939963261390849,\"Steve\\'s UK art &amp; creative Daily is out! http://t.co/6HyxPIoh7c Stories via @LANobleGallery @tateliverpool @UCLMuseums\",nocode\\n610271175386624000,\"@appendixjournal @Steven_Strauss @FitzMuseum_UK Fascinating! Thanks for posting this!\",happy\\n613104981273657344,\"View not bad from @NationalGallery caf\\xc3\\xa9 either! http://t.co/tk6oLR5758\",happy\\n611535506267074560,\"@DesRon94 @CatwomanFran @OspreyBooks @britishmuseum good question - @SmithsonianMag have an answer http://t.co/IyLmmaOOeh\",nocode\\n614797591944011777,\"Summertime in Cambridge: #Running, flying, sitting around and ... singing. @FitzMuseum_UK http://t.co/eQhS4P5vtA\",happy\\n613330803540365312,\"@NationalGallery Have you got any interesting talks coming up? Feel free to add them to our site :) http://t.co/cBal12sNnt\",nocode\\n615082528618188800,\"Inspiring architecture of the @britishmuseum Saw the Rosetta Stone &amp; many cool treasures!\\xe2\\x80\\xa6 https://t.co/5K9hDPwy5u\",happy\\n615173815291772928,\"@whit_mcveigh @kettlesyard has it gone elsewhere for 2 years? Notice that @TempleNewsam #Leeds has #gaudierbrzeska show.\",nocode\\n612536109483094016,\"@CoppermillPoets @VestryHouse @WMGallery @britishmuseum @WalthamForestRR @WalthamForestCo  THANK YOU  SO  MUCH   \\xf0\\x9f\\x92\\x96 X http://t.co/mnSbBiIN9i\",happy\\n615539542318313473,\"Learn more about #Pollock\\'s black paintings in our stunning catalogue for @tateliverpool show http://t.co/3ArceRsQ3v http://t.co/WBIewQlxBF\",nocode\\n615492224814452736,\"@britishmuseum hundred, wool, scrlj\",nocode\\n612218937938456576,\"Great day so far! @kettlesyard @cabinet_curios @CambridgeNewsUK #CastleHill15 http://t.co/pq5uNXrBdK\",happy\\n614682085995991040,\"@britishmuseum symbol frm the past. Attitudes of tolerance are never fixed. They are being constantly re-negotiated. http://t.co/5TRG0lTueX\",nocode\\n612198805044334594,\"Don\\'t miss the brilliant Christopher Williams show @_TheWhitechapel before it closes tomorrow. http://t.co/h3Xn9X9vIP http://t.co/uU7tGGCo34\",nocode\\n612226367053275136,\"Pop Up Dance by North Cambridge Accademy @kettlesyard #CastleHill2015 https://t.co/7Czse2gzqG\",nocode\\n612343461111537664,\"@helena_bonett @Tate_StIves so good to see the film. I missed them rolling down the hill in real time... #materialhistories\",happy\\n611883943697235968,\".@britishmuseum are hiring a Graduate Trainee: Fundraising. Paid, 1 year, full time. Deadline: 29/06/15 https://t.co/E9YibxbiLm\",not-relevant\\n615492928815783936,\"Spent the morning learning about #8mummies @britishmuseum. Fascinating and well-presented; a right balance of objects, info and interaction!\",happy\\n612958298485207040,\"Jackson Pollock: Blind Spots opens @tateliverpool on 30 June. Can\\'t wait. http://t.co/RGEJSnWgB9  #art #Liverpool\",happy\\n613299018496651264,\"@_TheWhitechapel @marieantoynette oops http://t.co/6c200iOox9\",nocode\\n614600805350539264,\"@NationalGallery @BMAGcurators Europa seems quite happy to be abducted by the bull (Zeus). :)\",happy\\n615491255452233728,\"JUST REALIZED I WILL BE ABLE TO SEE THE #8mummies EXHIBITION AT THE @britishmuseum I AM SO HAPPY\",happy\\n613267675205214209,\"Working meeting at @britishmuseum &gt; what a great start to the day http://t.co/AGTGo7JwyM\",happy\\n615521609319870464,\"\\xe2\\x80\\x98soundscapes\\xe2\\x80\\x99 opens soon at @nationalgallery \\xe2\\x80\\x94 @jamie___xx, @nicomuhly, @chrisrwatson &amp; more: http://t.co/XV9NWpQ7Y0 http://t.co/y1pJwb38nY\",nocode\\n610574888659746817,\"@JohnConstableRA @SirWilliamD @NationalGallery @pwadey it\\'s a Mosque now\",nocode\\n611599256957386752,\"Barbara Pezzini lecture \\'@NationalGallery and modern British art\\' next Monday! @ahrcpress #CDPPhd @UoMSALC @agms10  https://t.co/tVHsYGDaxc\",nocode\\n611531238080409602,\"@DerekSharplol @britishmuseum Napoleon was defeated, but you british are afraid of him until today.\",nocode\\n613455168630321152,\"@myginat @FitzMuseum_UK It\\'s my local http://t.co/G6OZpkzqKK class.\",nocode\\n612689296856887297,\"@britishmuseum @state_hermitage \\xd0\\xa6\\xd0\\xb0\\xd1\\x80\\xd1\\x8c \\xd0\\xa0\\xd0\\xbe\\xd1\\x81\\xd1\\x81\\xd0\\xb8\\xd0\\xb8 \\xd0\\xb3\\xd1\\x80\\xd1\\x8f\\xd0\\xb4\\xd1\\x83\\xd1\\x89\\xd0\\xb8\\xd0\\xb9 \\xd0\\xa1\\xd0\\xb5\\xd1\\x80\\xd0\\xb3\\xd0\\xb5\\xd0\\xb9 \\xd0\\x97\\xd0\\xb0\\xd0\\xb1\\xd0\\xb0\\xd0\\xb1\\xd0\\xbe\\xd0\\xbd\\xd0\\xbe\\xd0\\xb2  http://t.co/isKlpxiCYp\",not-relevant\\n615059870610497536,\"@BBC_Culture @britishmuseum @CoppermillPoets such an  interesting article about cabinets of curiosities \\xf0\\x9f\\x92\\x99 \\xf0\\x9f\\x93\\x9d \\xf0\\x9f\\x93\\x8e http://t.co/jO4gPHQ0pq\",happy\\n613030067963326465,\"Drawings @britishmuseum \\'Defining Beauty\\' exhibition. http://t.co/UWcopRBPh1\",nocode\\n613663425428881408,\"Crumbs @NMMGreenwich with Dudley, and @britishmuseum posting Henry VIII, feel a bit threatened by my Museum tweets as a Catholic today :(\",sad\\n610810978968711168,\"@PlymouthMuseum yes please!\",happy\\n614704511836377088,\"Take #AWalkontheWildSide today with a visit to the art gallery. FREE admission, prints from the @britishmuseum and so much more! #VisitKent\",happy\\n613005728324919297,\"Wellcome to Instagram, @NationalGallery (https://t.co/KHGP71ECet)! Just in time for #InstaMuseum tomorrow :D http://t.co/SRLXesHNVw\",happy\\n614776195226431488,\"Headless Ones. [photo] #London #flickstackr @BritishMuseum http://t.co/UUOw2fRGh5\",nocode\\n615185064561913860,\"I\\'m at @NationalGallery in London, Greater London https://t.co/K5UVxhSPcY\",nocode\\n611820146290761730,\"@BBCWalesNews @BBCNews Syracuse\\'s (the Greek colony) coin (Demareteion, BC 480), @britishmuseum and Paolo Orsi Museum http://t.co/cXe0SF5nZ9\",nocode\\n613849497895071744,\"\"\"Publishing Art Writing\"\" Sam Thorne @Tate_StIves.  @guerrillagirls Scorecard - 30 Critics cited (29 Male - 1 Female) @VisualArtsSW.\",nocode\\n613295096788680704,\"@britishmuseum \\xe7\\x9b\\xbe\\xef\\xbc\\x9f shields\",nocode\\n611895802554904576,\"Eliminating an ancient blinding scourge: trachoma in Africa @BritishMuseum talk from @LSHTM_press July 10 http://t.co/tfmSutudHB\",nocode\\n611261757399658496,\"@NationalGallery Anyone know any artists in China who need an assistant in Oct \\'15? Pls RT to spread the word!\",not-relevant\\n611806366198571008,\"Cambridge-bound to fulfill my lifelong dream of seeing the @FitzMuseum_UK. And maybe a punt. #travel #England #cambridge\",happy\\n615493466085158913,\"Looks interesting: upcoming Archaeology of Childhood (2016) exhibition at @MAACambridge: https://t.co/tqBQTkKIHP #histchild #twitterstorians\",happy\\n611177291989839872,\"On @RTENationwide tonight learn about the Irish at Waterloo with @seanwhelanRTE  @23kildare @NationalGallery https://t.co/H85YuYoUtf\",nocode\\n612209189868433408,\"@britishmuseum @PerinSarosh. All the best to Camden Family Learning for today\\'s event\",happy\\n615248571907067904,\"@BedfordHaddock @britishmuseum Yup.\",nocode\\n612890123332534272,\"The Barbara Hepworth studios are a must if you visit @Tate_StIves  https://t.co/nSnwq8gShS\",happy\\n613027594464821249,\"\\xe2\\x80\\x9c@NationalGallery: Colbetween Dutch painters was common when Hackaert and Berchem painted \\'A Stag Hunt in a Forest\\'. http://t.co/Zc5XWSK7eQ\\xe2\\x80\\x9d\",nocode\\n611903313626464256,\"Fantastic opening night @LeedsArtGallery for  Sir Terry Frost. Wonderful curation by @Tate_StIves http://t.co/EkKd3v27GV\",happy\\n613625464691802112,\"\\xe2\\x80\\x9c@NationalGallery: Today is the Feast Day of John the Baptist. Explore his life through art: http://t.co/db03l0sXz8 http://t.co/MTeUJaB9jW\\xe2\\x80\\x9d\",nocode\\n611845373225779200,\"Kessel: Canaletto\\'s \\'The Feast Day of Saint Roch\\' from @NationalGallery depicts a temporary exhibition #objects2015 http://t.co/IJzZo1PbDt\",nocode\\n614058069388095488,\"@bobelousova1978 another picture from outside the @NationalGallery #London http://t.co/XG67M50cVj\",nocode\\n615184291182587904,\"@tateliverpool Really enjoyed the exhibition today. Now want to find out more :-)\",happy\\n611667848323289088,\".@britishmuseum .@thehistoryguy \"\"#England is a #Nation of #Shopkeepers.\"\" #Napoleon #Bonaparte\",nocode\\n614844439333371904,\"@britishmuseum @compassiom Thank you for posting this, it\\'s amazing! I have shared on social media.\",happy\\n611521014909022209,\"@Ophiolatrist @britishmuseum which led to 1st WW which led to Fascism, Stalin &amp; Hitler\",nocode\\n615522649926696961,\"#Roman #Devon #devontop100 #romanbritain #romandevon  #archeology  #devon @RAMMuseum @IpplepenDig @archaeologymag http://t.co/OsssXY26MC\",nocode\\n614692507021086721,\"Happening today @_TheWhitechapel #FlaminProductions Booking essential http://t.co/FH1PWm1HhT\",nocode\\n612570714428809216,\"@HerFaithness But she wouldn\\'t mind!! Her St Ives garden is one of my favourite places ... @Tate_StIves @Tate\",happy\\n611418177440980992,\"#Nigella &amp; #aquilegia caught amongst scrolls of #Grace&amp;speed Birds of #gaudierbrzeska in Helen\\'s bedroom @kettlesyard http://t.co/5ufaLpWxET\",nocode\\n611874451555262464,\"Gare Rue Verte, #Rouen, no.7 - Cyril Power c.1929 @britishmuseum http://t.co/8OoZ2AroTy http://t.co/X5aRzOnJUp\",nocode\\n611610620866265088,\"30 mins til @periscopeco 2 from @britishmuseum - Dan Snow live on the 200th anniversary of #waterloo1815 in #BonaparteAndTheBritish\",nocode\\n611555578280833024,\"@TheCatsDiary @britishmuseum It really is a horrible thought - marginally better than having no teeth, I suppose...\",nocode\\n614111496331767808,\"Londres: @britishmuseum @Llopeziborra @MarcelBETR @andresstifler3  @antoniovargas97 @Gerardivi http://t.co/FKeWmeSaNz\",nocode\\n613370360680026112,\"@NationalGallery @pcs_union strikers raise \\xc2\\xa31,000 on @pplsassembly  protest http://t.co/SzmJN1zMF7 #reinstateCandy http://t.co/7vCMoHbV8W\",angry\\n611978825862393856,\"@NationalGallery Will u do some posts of #breastfeeding for Nat\\'l #celebratebreastfeeding week 20-28th June? https://t.co/p3yZ0Y0g5i\",nocode\\n613019782946750464,\"Stonehenge on summer solstice,sun rising behind slaughter stone,Bertram Buchanan 1889-1920 http://t.co/sauHcABhXm @britishmuseum v @KChavda\",nocode\\n612601437965713412,\"@NichollsJill I will! World Premiere was in Jan at @_TheWhitechapel , hopefully another screening soon!!\",happy\\n611977825051111424,\"Clandestine Pics @Tate @NationalGallery @berwickstlondon Old Compton St Soho! http://t.co/zOpTyqACYC\",happy\\n613293657110790144,\"Today\\'s view @tate_stives http://t.co/73YavZgvpF\",nocode\\n610742608953016320,\"@NationalGallery @terrydgeography hard to reduce the price of rail travel given it\\'s, er, privatised...\",not-relevant\\n614918703868706816,\"Find great content producers on #Periscope like @britishmuseum http://t.co/9FJeQAZvXQ  @periscopeco @periscopetv http://t.co/w15caPQnk5\",happy\\n612273731289903104,\"@britishmuseum very upset with your invigilators. Very rude  arrogant when enforcing the no drinking rule.\",angry\\n612954382284550144,\"Lunch break #insect #alternative #protein @britishmuseum \\xf0\\x9f\\x90\\x9c\\xf0\\x9f\\x90\\x9c\\xf0\\x9f\\x90\\x9c http://t.co/z7l50Isgq1\",nocode\\n614355844914876416,\"I\\'m at @BritishMuseum in London, Greater London https://t.co/yvjU0QNi9i\",nocode\\n614096186077782017,\"Obligatory Great Court shot @britishmuseum http://t.co/QfqbjTzBBF http://t.co/LS4gndvXzu\",nocode\\n611870727457898496,\"Link del d\\xc3\\xada! El link m\\xc3\\xa1s popular entre la gente que sigo es http://t.co/fl3yKhdLiT por @britishmuseum\",not-relevant\\n612302224153268224,\"#BingeThinking @britishmuseum - 3 exhibitions in 1 day.  #DefiningBeauty, #indigenousAustralia, #ancientLives - breathtaking\",happy\\n615096610918236160,\"Today is the final day to enter our art DVD and book bundle giveaway: http://t.co/B0UG6... http://t.co/FTHeSN85oe via @NationalGallery\",nocode\\n614117746125766657,\"Wondrous day out in Liverpool with @redfolio &amp; Mindart. Peter Blake\\'s Razzle Dazzle Ferry &amp; @tateliverpool Brilliant! http://t.co/bnwQ9XjTpt\",happy\\n614085366392451072,\"@ArtDecoBiz @britishmuseum hahaha they are still seriously beautiful and in my head they smell so strong I can smell them from here \\xf0\\x9f\\x98\\x8dxx\",happy\\n612205703130968064,\"#CastleHill15 today with @kettlesyard. Don\\'t miss out - family fun 12-5pm. What could @base_dance do for you? \\xf0\\x9f\\x8e\\xad\\xf0\\x9f\\x92\\x83\\xf0\\x9f\\x8f\\xbc\\xf0\\x9f\\x8e\\xb5\\xf0\\x9f\\x91\\x8d\\xf0\\x9f\\x8f\\xbb\\xf0\\x9f\\x98\\x80 http://t.co/etBImtj8KR\",nocode\\n615478784783986688,\"Want to learn about #IndigenousAustralia? Follow us &amp; RT this &amp; you may #win 2 tickets @britishmuseum #BenugoTickets http://t.co/Yeh5M9iuRY\",nocode\\n612251863061278720,\"Great to see @sufeamono on the panel @CircuitPHF #Circuit2015 @Tate today @tateliverpool  @TateCollectives http://t.co/INVy8z3dQC\",happy\\n614767094345936896,\"@StephenXKing @profjoecain @britishmuseum I took this picture while I was in the archive. Coolest sea monster ever. http://t.co/EmdZUwFeBB\",happy\\n613817368792420354,\"Yes @RobGilroy @simonblackwell The genesis of the Group started exhibiting in 1925 but their first \"\"Group\"\" show was @_TheWhitechapel in 1928\",nocode\\n611566817170038784,\"A senior rabbi, a leading composer and the director of the @britishmuseum were given honorary @Cambridge_Uni degrees: http://t.co/LD46m0YwoH\",nocode\\n615138422127226880,\"@NationalGallery really wonderful!!!\",happy\\n614083015069814784,\"FYI .@NationalGallery @NGNotForSale #ReinstateCandy https://t.co/WD2pKLExET\",angry\\n611475822860439552,\"Starting #reading \"\"Participation\"\" by #ClaireBishop @_TheWhitechapel @mitpress (thanks to @monoskop) http://t.co/XjiFTmHu0D\",nocode\\n612541410043015168,\"Looking for a special way to spend #FathersDay? We\\'ve got lots of great events to choose ... http://t.co/XMiuVov3Ho via @NationalGallery\",nocode\\n614113369411289088,\"Looking forward to Amelia Smith speaking in \\xe2\\x80\\x98CDA innovation showcase\\xe2\\x80\\x99 @NationalGallery @BirkbeckNews http://t.co/RrkDLpBC1S #cdavalue\",happy\\n611159929219629056,\"A second day of inspiration for our AS artists @tateliverpool and @theBluecoat http://t.co/wKkfyT52CY\",happy\\n613098099528105984,\"Commercial, not collegial: Why are @BritishMuseum fees for art loans to Abu Dhabi not disclosed under UK\\'s FOI law? http://t.co/PmcmRtHJT2\",angry\\n612981553929580544,\"Sad to see @kettlesyard closed, but knowing it\\'ll be back, bigger and better, makes it a tiny bit better! http://t.co/NnTIQ2T6Ps\",happy|sad\\n612003002547834880,\"Spent the evening @britishmuseum &amp; couldn\\'t stop smiling altho was sorry the  Reading Room was closed. http://t.co/N5hKuRtbKS\",happy|sad\\n611590252252237824,\"Ending the first day of #objects2015 @MAACambridge with an evening visit of the museum http://t.co/aUM8zHaO6v\",nocode\\n612274629969883136,\"Culture + land + health are all entwined #IndigenousAustralia @britishmuseum http://t.co/SdvRj9V8Nu http://t.co/ovPqPAAY1M\",nocode\\n613723694221893632,\"\\xe2\\x80\\x9c@NationalGallery: The Greek inscription on the sitter\\'s cap in this work translates to \\'Alas, I desire too much\\' we are all a bit like that\",nocode\\n615433713594318848,\"Looking forward to Glenn Ligon &amp; Jackson Pollock opening @tateliverpool tonight.\",happy\\n611811366597472256,\"Congratulations to our @artfund @NationalGallery trainee @HelenHillyard on a fantastic #Baroque redisplay @BM_AG! http://t.co/WcvdflCQbt\"\"\",happy\\n612696542609305600,\"MT \"\"@EuropesHistory: Anglo-Saxon drinking horn from the Taplow burial, late 6th C AD On display @britishmuseum http://t.co/5fjjAi255v\"\" #mead\",nocode\\n610507069368729600,\"\"\"How to Appear Without a Trace\"\" by #NicoleCoson at @_TheWhitechapel http://t.co/XDCL4LSeZg http://t.co/31pW5EGWyY\",nocode\\n612627774906314753,\"@_TheWhitechapel @ChitraRamnathan\\'s body of work portrays emotion of happiness, widely acquired, public art. http://t.co/RFc4u2bHtQ\",nocode\\n611522798092197888,\"Join the @artfund at Australia House for a Talk: Indigenous Australia - Tuesday 23rd June http://t.co/s86yS4Afhu @KclSoriano @britishmuseum\",nocode\\n612963499405348864,\"@NationalGallery @Londoncraftweek how weird you should say that when I\\'ve been at #barberinstitute and took this pic http://t.co/P1iQcqQ8nY\",surprise\\n613374136220557312,\"@britishmuseum Cod piece made of armor?\",surprise\\n614073900511678464,\"@britishmuseum we would LOVE if you could attend our #DIY #poetry &amp; #illustration #bookLaunch this Sunday:) ThankYou http://t.co/7beOfBDR3o\",happy\\n615498878452940800,\"A work of art ;) Enjoying my Jackson Pollock cupcake at @tateliverpool press view today. Tastes as\\xe2\\x80\\xa6 https://t.co/4JYr05uopk\",happy\\n614069761329242112,\"Excited for an evening of #Shakespeare @britishmuseum, a large canape recep @HRP_Events #Banqueting House &amp; our 2nd eve in a row @wabbey!\",happy\\n613397404050526209,\"@britishmuseum @MangoBwoy That\\'s awesome!\",happy\\n614343163474505728,\"REVIEW: #IndigenousAustralia : Enduring Civilization @britishmuseum If institutionalizing indigenous art heals **** http://t.co/3z0Fc5WFJn\",nocode\\n615292055858868224,\"@britishmuseum @BeardyHowse Hapsburg jaw in evidence there.\",nocode\\n611628716234571776,\"@britishmuseum thanks a visit is on the cards \\xf0\\x9f\\x98\\x8a\",happy\\n612891468739555328,\"@BHL_valuer @ThelmaHulbert @HonitonTown @1815Project that\\'s a treat! Didn\\'t see names until closer look. Amazing textile survivor\",happy\\n611955377031262208,\"@britishmuseum Looking forward to the sleep-over tomorrow! Not so much carting sleeping bags around London :(\",happy\\n613389573301870592,\"@ThelmaHulbert Twitter pictures would give the best chance of recognition @newmanmpaul @LisaLooly @DrawntoDevon @MooseAllain @roshvarosha\",nocode\\n614823202615734277,\"Read what our Director, Nicholas Penny, has to say about @LondonArtWeek, beginning 3 July... http://t.co/a8nxOiMGJA via @NationalGallery\",nocode\\n615165286388506624,\"Now at the @britishmuseum. http://t.co/jRCDFjIxZC\",nocode\\n611188913676419072,\"@tateliverpool sorry as a member I mean :0)\",not-relevant\\n613947171545718784,\"#NG365 Jacob van Ruisdael\\'s \"\"A Pool Surrounded by Trees\"\" @NationalGallery #art @JohnConstableRA http://t.co/Gy3bKnq477\",nocode\\n611494497525071872,\"Here\\'s me trying a spot of life drawing at (fabulous) @KettlesYard in Cambridge http://t.co/cnq220VyIL\",happy\\n610695792605691906,\"The Top 5 Art shows 2C in London @LondonArtCritic http://t.co/KpXRCE7a3c \\xc2\\xa0 @PianoNobile85 @_TheWhitechapel @ExploreWellcome @CGP_London\",nocode\\n614734399096160256,\"@wzaparte @britishmuseum @DerSPIEGEL Absolut. Das Verkaufen liegt den Berliner Museen nicht so wirklich...\",not-relevant\\n612616944852836352,\"@jubo85 @NationalGallery Hahaha! When you showed me and that woman eavesdropped, then we saw her go over to the spot right after.\",happy\\n610766528112365569,\"@FitzMuseum_UK Khufu found ? Cheops gefunden? Build 500 m high Pyramids! Interaktive eBooks! http://t.co/CSaeu54XsQ \\xe2\\x80\\xa6 http://t.co/zc8MyCnMJ2\",nocode\\n614921410696359937,\"Gustave Caillebotte: The Painter\\'s Eye 27.06.2015-04.10.2015 @NationalGallery ,Washington http://t.co/U4mVY1f4v4 http://t.co/r9brJMtYeo\",nocode\\n611487712521121792,\"Pick up a copy of the beautiful Catalogue of The Cabinet of Curiosities at the blue caravan. @CRASSHlive @kettlesyard http://t.co/PTcW3ypFOa\",nocode\\n614042633095266304,\"Day dreaming about my date with these fine fellas at the @NationalGallery #AdventureswithTuck\\xe2\\x80\\xa6 https://t.co/FaxllnLya4\",happy\\n612587645701648384,\"@britishmuseum @Cisthene1 @gabjamom1 pretty cool!\",happy\\n611562795331649536,\"@louiseallain How lovely. What a thoughtful young woman (?). Amazing the grace with which many bear their disabilities ... @britishmuseum\",happy\\n612312414688833537,\"This will be our view tonight on @Britishmuseum #sleepover http://t.co/jUDZrexYol\",nocode\\n610371460117471232,\"New gallery exhibit is a hit with visitors @ThelmaHulbert http://t.co/jFt5kraeAg\",happy\\n614441973559201792,\"@britishmuseum preciosas y muy representativas....\",happy\\n612561934576132096,\"@NickClancarty\\'s speech in Lords included #noprivatisation @NationalGallery #reinstatecandy http://t.co/Qvzg6mBXDN  #reinstatecandy\"\"\",nocode\\n611828494910287872,\"Excited about Castle Hill Open Day tomorrow @kettlesyard Loads of great stuff for families and all free too! http://t.co/0pL86Vvhl3\",happy\\n614655473669664768,\"\"\"@CharleJHuguenin: Parmi les grandes neiges de #Monet @nationalgallery http://t.co/yLTs4ovvlv\"\"  Me gusta.\",not-relevant\\n614452316880662528,\"Greek bodies!! Tonight. On panel @BritishMuseum. Classicism and nationalism: the Greek body in Enlightenment Europe http://t.co/CJITfQMdxB\",nocode\\n614403664522924032,\"@MUSEOSCOLIMA @britishmuseum Thank you very much!!\",happy\\n612992275853869057,\"TATE: This is also one of our favourites from the @NationalGallery  http://t.co/2PmXFDgtcA (via Twitter \\xe2\\x80\\xa6 http://t.co/21PDZRwqCe\",happy\\n610756005908086784,\"People who &lt;3 &amp; care about paintings VS cheap temporary contracts and unknowledgable staff @NationalGallery? #AskTheGallery\",angry\\n611820849163816960,\"#Postgraduate students of @staffsuni visit @tateliverpool Gallery: http://t.co/4nmJczr3ym http://t.co/Pz1sfWEHAg\",nocode\\n614899313672630272,\"Tarot garden took 20 years, opened in 1999 @tateliverpool https://t.co/aZnUyyY6yr\",nocode\\n613105231686168576,\"\\'Palm\\' #ContemporaryBritishArtist #Modernist @FlemingGallery @ikongallery @_TheWhitechapel @SerpentineUK @_WhiteCube http://t.co/CmYokiOqNl\",nocode\\n612672564205367296,\"Link of the day! Most popular link among people I follow is http://t.co/jdAPAXr0Li by @britishmuseum\",nocode\\n610749127190822913,\"@NationalGallery #AskTheGallery Will you recommend trustees end oil sponsorship &amp; making ppl complicit in climate change to see public art?\",angry\\n613641359656923137,\"@britishmuseum It\\'s wonderful!!!\",happy\\n612962422995849216,\"@NationalGallery The second GENOCIDE against#Biafrans as promised b#Buhari has begun 3 days of unreported aerial Bombardment in #Biafralland\",not-relevant\\n611878874159443968,\"I remember how the experience of @KettlesYard is defined by pairs of chairs throughout. Peaceful but sociable. http://t.co/3Zp1mFktMq\",happy\\n615499699106222080,\"We are looking forward to the unveiling of the #JacksonPollock exhibition @tateliverpool tonight #CorporateSupporter #Liverpool #Culture\",happy\\n611684064622460932,\"Limited prints available to order. @_TheWhitechapel @CreativeDebuts @secret_london @ShoreditchHype @SaatchiArt http://t.co/KywAwJ9I6i\",nocode\\n613101397266010112,\"Lovely to sketch @NationalGallery w @CBarlowMarrs as part of Julie Jackson\\'s @NEACDrawSchool wksp http://t.co/cDMjgIl05D\",happy\\n615276014797737984,\"@HistoryNeedsYou @britishmuseum I love this. Wow! Really interesting.\",happy\\n612299243848617984,\"{ @britishmuseum } #art #London #ttot #lp #vacation #trip #photography #photo #Travel #travelpics http://t.co/zUNtfyYGqz\",nocode\\n612695623247261697,\"@CuratorialCats don\\'t be messing with Curatorial Kittygods Sekhmet and Bastet @britishmuseum http://t.co/P4cRrpo6kd\",happy\\n610412730198196224,\"@NationalGallery Please confirm the costs of employing CIS to staff the Rembrandt Exhibition and the Sainsbury Wing #AskTheGallery\",nocode\\n610358713652805632,\".@NationalGallery Chair of the Board. Hannah Rothschild . ffs  #Rothschild #bds #Gaza\",nocode\\n611615988921069568,\"Sharing the learning from our mindfulness sessions with Rachel from @NationalGallery who\\'s researching silence in galleries. #MAGwellbeing\",nocode\\n612870277366681600,\"Calling Indiana Jones\\'s; Explore the Extraordinary @FitzMuseum_UK  guided by the museum\\'s ingenious gallery trails. http://t.co/NiEttUmBxg\",nocode\\n615269067260346368,\"The new wing of @britishmuseum by night ... stunning http://t.co/BF8LesKOqV\",happy\\n612273896184745984,\"@britishmuseum if no drinks are permitted in museum them this should clearly be displayed at entrance\",angry\\n611444042187046912,\"Calling all art teachers: Great opportunity to see forthcoming exhibitions @tateliverpool http://t.co/BI1cKPyaDA #art #Liverpool\",happy\\n614465337854177280,\"April-June 1969: Greek Gods and Heroes exhibited at the British Museum @britishmuseum #museumhistory #exhibitions http://t.co/3vqg4rQRs0\",nocode\\n614578915991003136,\"#LoveWins \\xf0\\x9f\\x8c\\x88  Georges #Seurat - \\xc3\\x89tude pour \"\"Baigneurs \\xc3\\xa0 Asni\\xc3\\xa8res\"\", @NationalGallery, 1883 http://t.co/VoT9oaByqp\",nocode\\n612238441422524417,\"@NationalGallery #LoveArt\",happy\\n610354209649762304,\"Can\\'t wait for tomorrow @FitzMuseum_UK . Wonderful WATERCOLOUR - Elements of Nature opens 16 June \\xf0\\x9f\\x8e\\xa8 http://t.co/XbWnAWxegJ\",nocode\\n612319303229173761,\"Fantastic afternoon exploring the @britishmuseum http://t.co/LAZvL5bRgu\",happy\\n611903114015338496,\"Fantastic opening night @LeedsArtGallery for  Sir Terry Frost. Wonderful curation by @Tate_StIves http://t.co/xcy0yw1dz0\",happy\\n614756788701937664,\"\"\"radiant, and certainly worth another look\"\" - @guideguardian on Jackson Pollock\\'s late works @tateliverpool: http://t.co/9FsUhJ5JxB\",happy\\n613038049941921793,\"Pineapple-shaped knobs on the railings outside the Fitzwilliam Museum. @fitzmuseum_uk #objects2015 @\\xe2\\x80\\xa6 https://t.co/6TzNPRqoAW\",nocode\\n613333504580022272,\"Our events team has been visiting @_TheWhitechapel today in preparation for our forthcoming event! @PositiveAcademy http://t.co/wJR1rLRij2\",happy\\n612590714774495232,\"@britishmuseum Longest day, yet it has neither the earliest sunrise nor the latest sunset!\",happy\\n612268098826170368,\"Castle Hill Open Day \\xe2\\x80\\x93 @kettlesyard http://t.co/oGBVHUZyMn\",nocode\\n613296079744929792,\"@britishmuseum una greba?\",nocode\\n612274798647971840,\"Huge East London art wander today: @IMTgallery @MaureenPaley @approachgallery @_TheWhitechapel. Keeping art local!\",happy\\n613332953284767744,\"Volunteers needed for ARTIST ROOMS: Gerhard Richter @PlymouthMuseum http://t.co/8leTEA8rUs Deadline: Thurs 3 Sept #artopps\",nocode\\n614381569793523712,\"Join 200 of the best in #digital at #InteractLDN | 20-21 Oct @britishmuseum http://t.co/HogUQm6qjg | #UX #IA #Design http://t.co/pYdmp5RmQu\",nocode\\n613967856972230656,\"@tateliverpool *you\\'re*\",not-relevant\\n612968408854999040,\"Indigenous Australia @britishmuseum is really worth a look http://t.co/HGdFYLGaw4\",happy\\n611846219976044544,\"Why Jackson #Pollock gave up painting http://t.co/Jjv5CQlXYF via @guardian \"\"Blind Spots\"\" @tateliverpool 30 June - 18 October #JackTheDripper\",nocode\\n613323028802334721,\"@britishmuseum this might be an apple\",nocode\\n610861916030898177,\"Delighted that our work has been selected for the Evolver Prize 2015 @SimonEvolver and looking forward to the show @ThelmaHulbert\",happy\\n613272229116182528,\"@britishmuseum happily profit from displaying artefacts unethically obtained from countries that were under oppression and invasion\",disgust|angry\\n612158855401873408,\"I\\'m now head down prepping for my @Interact_Conf talk on 20/10 at @britishmuseum. Tickets are on sale. #InteractLDN http://t.co/FRZdsHbN1G\",nocode\\n611856886875488256,\"@NationalGallery Looks like my kind of party!!!  I\\'m there!\",happy\\n614909922946469888,\"Capital day with @KMHyland @britishmuseum being reminded of everything we used to know \\'bout statues &amp; vases! #DefiningBeauty #SusanWoodford\",happy\\n610482985935196160,\"Thank you Andrew Nairn, Director of @kettlesyard, for sharing his insights with students today http://t.co/oxcyO5TsEo\",happy\\n612189220782764032,\"Etching of Ovid\\xe2\\x80\\x99s Metamorphoses is by artist Salvator Rosa, born #otd 1615 http://t.co/Qn3a5eDjMA http://t.co/9cIuQrsOd9 @britishmuseum\",nocode\\n613364759761653760,\"Incredible innovation on the part of the @britishmuseum by using #3DPrinting to uncover the past. #history #tech https://t.co/wq3U7YLdd4\",happy\\n610431855763058688,\"@_TheWhitechapel @andersenemily  A glorious site, a darkroom ready for use with film\",happy\\n612942614845878272,\"I\\'m at @BritishMuseum in London, Greater London https://t.co/bUPIiiQ7tJ\",nocode\\n615253795392626689,\"@MrStuchbery @FrancesBarker @britishmuseum If it is done respectfully I think it\\'s generally ok but I see it can be a tough call.\",nocode\\n614479602518523905,\"@Godchecker @rickygervais @xeni @GSpellchecker @Ratatosk4 @britishmuseum @TalesofBritain @ChuckWendig amen!\",happy\\n613721691747971072,\"@pastellpumpkin @Tate_StIves St Ives, beautiful whatever the weather, booking now for October http://t.co/zPUqz21cy3\",happy\\n611782992382423041,\"Cambridge University grants honorary degrees to its \\'great eight\\' including @britishmuseum director http://t.co/LD46m0GV07\",nocode\\n610737732252532736,\".@Tate_StIves art gallery in Cornwall set to undergo 12m expansion &amp; remodelling: http://t.co/p7J9rG4htq #Engineering http://t.co/S75pVG2QVN\",not-relevant\\n614017800278016000,\"Discover the Naked Truth behind Greek Art @britishmuseum - Exhibition Runs Until 5th July 2015 http://t.co/Xx9T0VWo2f \\xe2\\x80\\xa6\",nocode\\n612080288521449473,\"@clairycakes @britishmuseum @Ellaphaba @thetheatrecafe\",nocode\\n611525691918544896,\".@britishmuseum asked that cos Napolean used to say \"\"An army marches on its stomach\"\"\",nocode\\n611567144980103168,\"@MuseeArmee @britishmuseum @CFontainebleau    ...ph\\xc3\\xa9nom\\xc3\\xa9nal....merci!\",happy\\n614407283385200640,\"Thank you for my book @NationalGallery I won in the @twitter prize draw :-) http://t.co/41oqgYo2DB\",happy\\n611642644863819776,\"Revisiting fossil sea scorpion that used to be world\\'s largest spider @CamUnivMuseums #evolution #oldfriend http://t.co/8Nc6fhh4YM\",nocode\\n612993110147211264,\"@jennarbrown1 @britishmuseum Beautiful exhibit in a fabulous space! Tad ashamed of the time it took us to remember the Oedipus Trilogy names\",happy|sad\\n613698028730494976,\".@NationalGallery Beautiful! RT \"\"Our immerisive new exhibition #Soundscapes opens on 8 July http://t.co/dF6fC1rK5f\"\"\",happy\\n615148933459750913,\"Happy Birthday @PP_Rubens \\xe2\\x80\\x9c@NationalGallery: Rubens was born #OnThisDay in 1577. \\'Samson and Delilah\\', in room 29. http://t.co/Lxit2ZwAaH\\xe2\\x80\\x9d\",nocode\\n611668623770419200,\"@ambergib @sloop @Tate_StIves @VisitCornwall @VisitBritainPR great pub, very fond holiday memories\",happy\\n613298842163904512,\"@britishmuseum a leg shield guard maybe?\",nocode\\n614754643084754944,\"@britishmuseum Any chances of #DefiningBeauty exhibition being extended?\",nocode\\n610443155943649280,\"@kettlesyard: @CamOpenStudios this week is the last week people can visit Kettle\\'s Yard &amp; Castle Hill - Open Day this Sat! @CambsEdition\",nocode\\n612618771304476672,\"@bombuspolaris @NationalGallery one of my proudest moments\",happy\\n611239774788190210,\"even this guy at the @NationalGallery agrees with you @Cubskickass100... Schwarber will be the player of the game... http://t.co/5P2ZCpfZAP\",nocode\\n610364883855523841,\"What\\'s On: Exhibition openings to look forward to this week include Ruskin\\'s Turner (@FitzMuseum_UK) and @ArtBasel. http://t.co/UHH9d4cB4E\",nocode\\n612889027759505408,\"Still on! @CreativeDebuts @TheOfficeGroup @ShoreditchHype @secret_london @_TheWhitechapel @TitleSussex http://t.co/etpG6C1lVe\",nocode\\n613557689633759232,\"\\xe5\\xa4\\xa7\\xe8\\x8b\\xb1\\xe5\\x8d\\x9a\\xe5\\xb1\\x95100\\xe3\\x81\\xae\\xe3\\x83\\xa2\\xe3\\x83\\x8e\\xe3\\x81\\x8c\\xe8\\xaa\\x9e\\xe3\\x82\\x8b\\xe4\\xb8\\x96\\xe7\\x95\\x8c\\xe3\\x81\\xae\\xe6\\xad\\xb4\\xe5\\x8f\\xb2\\xe3\\x81\\xa7\\xe6\\x9c\\x80\\xe3\\x82\\x82\\xe5\\x8d\\xb0\\xe8\\xb1\\xa1\\xe3\\x81\\xab\\xe6\\xae\\x8b\\xe3\\x81\\xa3\\xe3\\x81\\x9f\\xe3\\x82\\xa2\\xe3\\x83\\x95\\xe3\\x82\\xac\\xe3\\x83\\xb3\\xe3\\x81\\xae\\xe6\\xaf\\x9b\\xe7\\xb9\\x94\\xe7\\x89\\xa9\\xe3\\x80\\x80British Museum: Collection object details @britishmuseum http://t.co/vmJ2cHvlWi\",nocode\\n612964052684439552,\"Very good, unobtrusive use of technology in revamped @britishmuseum #WaddestonBequest, esp Palmer Cup: http://t.co/fSS9IraeGQ\",happy\\n613301901426343936,\"@britishmuseum parade shield\",nocode\\n614419247658352640,\"The sun is out! Time to do some holiday planning? @CamUnivMuseums  Summer at the Museums programme ready for browsing http://t.co/X6U4TBxVpo\",happy\\n613011972234346496,\"Lisa May Thomas explores humans and touch in The Touch Diaries Film Premiere 9 July @ICIABath https://t.co/rP8fWJArYc http://t.co/6ebFrP2j59\",nocode\\n613703142543261696,\"For Brexit @britishmuseum gives back Parthenon statues to Greece. It will put Michel-Constant All\\'spipe instead them. http://t.co/p8A9Hl3ifW\",nocode\\n611558842921455616,\"For art enthusiasts this should not be missed. I love every minutes in this\\xe2\\x80\\xa6 (at @nationalgallery) [pic] \\xe2\\x80\\x94 https://t.co/wtlGh06tZR\",happy\\n614735833611022336,\"@wzaparte @britishmuseum @DerSPIEGEL Guter Punk!\",nocode\\n612971664943509504,\"@Tate the whole Magritte exhibition @tateliverpool\",nocode\\n614128970720772096,\"@AmyYiannitsarou @britishmuseum @acropolismuseum @GreekReporter It is a lovely museum.\",happy\\n611538678414974976,\"Two works of art made 700 yrs apart: See Sir Caro\\'s take on Duccio\\'s Annunciation @NationalGallery free entry http://t.co/Mf6bCK4VNp\",nocode\\n612963521488359424,\"Congratulations to @kettlesyard on their last day before a thrilling renovation. Delighted have shared some of the journey with them!\",happy\\n613370944933883904,\"Curiosa exposici\\xc3\\xb3n monogr\\xc3\\xa1fica de marcos Sansovino en @NationalGallery de Londres hasta el 13-9 http://t.co/YkloYf2t6t\",nocode\\n614920968318906368,\"Truly lovely evening at #DefiningBeauty at the @britishmuseum with @HeidiNiMhurchu - thanks for everything, you\\'re a superstar!!\",happy\\n615473720283529216,\"@FL_FLAMIN @_TheWhitechapel Thanks for a great afternoon on Saturday - fascinating films and conversation #TheArtistsPresent\",happy\\n613781258867449856,\"Great to be at the @RAMMuseum tonight to hear about #defeatingdepression. Lots of personal stories &amp; hope for the future! #timetochange\",happy\\n614050739099435008,\"This afternoon is going to be a good one @britishmuseum http://t.co/vkEnByhOKW\",happy\\n610750728139841536,\"@NationalGallery What has been your favourite exhibition since you\\'ve been there?\",nocode\\n614138547713536000,\"Had such a wonderful morning @Tremenheere thank you for having us! From @Tate_StIves Learning Team #Cornwall http://t.co/VHlRKk2aOP\",happy\\n611876460907917312,\"@NationalGallery Would you be able to help with this painting info? Copenhagen Harbor 1890. http://t.co/oz0IaNgeR1\",nocode\\n612298592485834754,\"@britishmuseum So enjoyed the demonstration. It must take years to master this beautiful artistry.\",happy\\n612160551435829248,\"I do not know how many times I have walked up and down this staircase @britishmuseum but for the\\xe2\\x80\\xa6 https://t.co/Mf6YQFLfNS\",nocode\\n610533481937043456,\"#AskTheGallery Dr Penny, facing public outcry and a petition with nearly 45,000 signatures, will you halt privatisation at @NationalGallery?\",angry\\n615097068231770114,\"@NationalGallery: Monet married his wife Camille #OnThisDay in 1870.  https://t.co/uan4nbbjMU\",nocode\\n611555219688845312,\"Visste du att British Museum i #London bara visar 1% av hela sin samling? @visitlondon @britishmuseum http://t.co/I1hl1olYpU\",nocode\\n611912833530507264,\"I was there in May and it was a stunning exhibition. // @britishmuseum\",happy\\n615447906246463489,\"Miss @britishmuseum \\'s Ming exhibition last year? @WenqingP will bring you up to speed:\\xe2\\x80\\xa6 http://t.co/lUChMXvkXX http://t.co/ImNrkA1HnE\",nocode\\n614662401108103168,\"Perfect weather for this weekend\\'s Armed Forces Day #plymouth http://t.co/1VadEiiW3j http://t.co/m909A2rIVF @PlymouthMuseum: @PlymHoe\",happy\\n610526433946009600,\"@7Stories @plymlibraries @PlymouthMuseum That looks amazing! I\\'ll be there with Cece and Fifi (Beau is 12 so probs a bit old :) )\",happy\\n611644188191531008,\"Peri today @jasonderulo @danandmoore @euromaestro @bymrmatthews @revbeej @melvinio @ChocolateJohnny @britishmuseum http://t.co/FYSGeAY4tj\",nocode\\n613047072116350976,\"@NationalGallery The 2nd GENOCIDE against #Biafrans as promised by #Buhari has begun,3days of unreported aerial Bombardment in #Biafraland\",not-relevant\\n614399010456121344,\"Solidarity to those striking at the National Gallery. @NationalGallery NO TO PRIVATIZATION #TUCLGBT15\",angry\\n615161251031855105,\"Hedge bindweed out in force in Peckham. The same plant grows around St Helen on this amazing pendant @britishmuseum http://t.co/Yp0tW86pNW\",happy\\n611699778498506752,\"@Thejadelord @PearlLamFineArt @NYAcademyofArt @NationalGallery thank you so much, David!\",happy\\n610779573228318720,\"Lots of questions about privatisation and sacking of our rep on @NationalGallery\\'s #AskTheGallery. V disappointing they weren\\'t addressed.\",sad\\n612587082922340352,\"@britishmuseum @yaidunohannji Love it! Surely the Royals had/have way too much money :)\",happy\\n611823958653054976,\"#FF Happy Friday! @BrianRhys @BrilliantMaps @bristolmuseum @BritGeoSurvey @britishlibrary @britishmuseum   @brockter @brownarchaeolog\",not-relevant\\n612537204385185792,\"close up of the #portlandvase @britishmuseum  &lt;3 #roman #cameo glass http://t.co/wNUNUXokHq\",nocode\\n615251540161490945,\"@BedfordHaddock @britishmuseum Yes -  it was described as coming from one of these world\\'s first mass graves.\",nocode\\n615492802177167360,\"@britishmuseum Is the last one currently in politics?\",nocode\\n611589912886800384,\"@Hatchards @britishmuseum I have been enjoying the British Library Crime Classics series that I bought at Hatchards.\",happy\\n612341092646801408,\"Workshop @britishmuseum today on Manchu Money was more than great. Money does not stink. Thank you @HelenWangLondon http://t.co/RslFqwdb4a\",happy\\n612589523348926464,\"@britishmuseum the longest day then new beginnings and big positive changes in the coming days\",happy\\n610836176677793792,\"@PeterWiles @evolver @ThelmaHulbert thank you, that looks great!\",happy\\n612994714254467072,\"@britishmuseum @BL_VisualArts\",not-relevant\\n611161397691609088,\"@_TheWhitechapel The National Gallery loved our training! We can help with your accessibility too! http://t.co/CGGJdvumzT\",happy\\n614417029672632320,\"\"\"Richard III became King of England #onthisday in 1483 http://t.co/3ndMUqfaF9\"\" showing at @CurveLeicester July/Aug via @britishmuseum\",nocode\\n611985433824731136,\"@judrop1948 @Colin_Macaulay @Duck_Di @DuncanSalkeld @NottArchaeology @AidanBaker @britishmuseum - thank you!\",happy\\n613636375875821568,\"@nationalgallery Piero della Francesca! One of my favourite pieces ever.\",happy\\n614718105282060288,\"Since a few of these were included, it would be nice to see more - it felt like a concessionary nod &gt; @foxvertebrae @britishmuseum\",sad\\n614035355298332672,\"We\\'re leaving the @britishmuseum and we\\'re off to the horniman for the communication group @StrokeAssocLDN http://t.co/1bbxFxSzLn\",nocode\\n614034058796908544,\"Why was the body the most important subject for art in Ancient Greece? From gods to sports stars @britishmuseum http://t.co/DlV9tEi6hL\",nocode\\n612570974723051520,\"CarleMagne http://t.co/kpZU2hfgSa @yourfamstory @britishmuseum @TainoL @SmackHighQC @fool__inlove @AntonLaGuardia @thequote @ahencyclopedia\",not-relevant\\n611843143546335232,\"@redbooksblog grazie! @museiincomune @britishmuseum @Nigella_Lawson @GordonRamsay @SaveRome #FFback\",not-relevant\\n613799996392087552,\"Weapons of resistance: @britishmuseum #IndigenousAustralia Curator Gaye blogs about Jandamarra http://t.co/AaYhMvcSHe http://t.co/glEOzLRtgM\",nocode\\n614778966499565568,\"Come down to Cass Art Liverpool and get creative on our outside try me table!! @OneArtLiv @tateliverpool @theBluecoat http://t.co/wKzCRg8HjG\",not-relevant\\n612214780858920960,\"St Eleftherios Greek School trip to British Museum see more at http://t.co/2ha6p4tOp8 @britishmuseum #britishmuseum\",nocode\\n611641672703836161,\"@archaeologymag Plus more recent evidence from @the_bsr @sotonarch @britishmuseum survey https://t.co/Nk7Nn4Erk3\",nocode\\n613993430658744320,\"Really enjoyed early morning visit to #definingbeauty @britishmuseum lots of works I\\'d over even seen in books BMImages_com\",happy\\n611815858873237504,\"@langham_press supporting this great event for the 3rd year -  Sat 20th June 12pm to 5pm @kettlesyard  https://t.co/cZDtW8PtAP\",happy\\n610818896329879552,\"Studio work done off to the @_TheWhitechapel - JOY! http://t.co/8evwKeUlfS\",happy\\n615589447330099200,\"@johnrobb77 Looking forward to Jackson Pollock @tateliverpool Blind Spots. Never Mind the Pollocks, Dripping Not Pouring.\",happy\\n611591164962177024,\"@HistoryLibya @OsamaTashani @britishmuseum \\xd9\\x8a\\xd8\\xa7\\xd9\\x87\\xd9\\x88 \\xd9\\x81\\xd9\\x8a\\xd9\\x82\\xd9\\x88\\xd8\\xa7 \\xd9\\x88\\xd9\\x82\\xd8\\xaa\\xd9\\x87\\xd8\\xa7 \\xd9\\x85\\xd8\\xa7 \\xd9\\x83\\xd9\\x86\\xd8\\xb4 \\xd9\\x81\\xd9\\x8a \\xd8\\xad\\xd8\\xa7\\xd8\\xac\\xd8\\xa9 \\xd8\\xa7\\xd8\\xb3\\xd9\\x85\\xd9\\x87\\xd8\\xa7 \\xd9\\x84\\xd9\\x8a\\xd8\\xa8\\xd9\\x8a\\xd8\\xa7 \\xd8\\xa7\\xd8\\xb5\\xd9\\x84\\xd8\\xa7..\\xd9\\x84\\xd9\\x8a\\xd8\\xa8\\xd9\\x8a\\xd8\\xa7 \\xd9\\x88\\xd8\\xac\\xd8\\xaf\\xd8\\xaa \\xd8\\xa8\\xd8\\xb9\\xd8\\xaf 1951 \\xd9\\x83\\xd8\\xa7\\xd8\\xaa\\xd8\\xad\\xd8\\xa7\\xd8\\xaf \\xd9\\x84\\xd8\\xab\\xd9\\x84\\xd8\\xa7\\xd8\\xab \\xd9\\x85\\xd9\\x86\\xd8\\xa7\\xd8\\xb7\\xd9\\x82\",not-relevant\\n614025148639809536,\".@BMAGcurators are tweeting about Baroque today. Here is a work by Reni from our collecti... http://t.co/roYjOLIkl5 via @NationalGallery\",nocode\\n610813197210243073,\"@NationalGallery Do you post information leaflets etc. to schools? I\\'m the librarian/LRC manager of a large school library in North London.\",not-relevant\\n610479100126478336,\"and a fav from @NationalGallery for the birfday boy:  http://t.co/1L7VJ6ykmu\",happy\\n614734340359102464,\"Thankfully able to view #definingbeauty @britishmuseum statuary from all sides. 3-D is often neglected in displays.    #callipygian\",happy\\n610521564791074817,\"@tateliverpool My new portfolio with recent art glass projects is available Download it now - http://t.co/abPb1vrSN6 http://t.co/hMSm7dFHxV\",nocode\\n612946396254236672,\"@britishmuseum @bastilledan did you see this?\",nocode\\n613705937698856960,\"@johnpaulstonard @britishmuseum it should work - the link is ok on my browser. Perhaps it\\'s the X-rated content...\",disgust\\n614184234165473280,\"@britishmuseum @aroberts_andrew @Storify Napoleon Lost Waterloo, But Won History @Timeline_Now https://t.co/z3xXU5fchz\",nocode\\n614470496231510016,\"#PedagooFriday trip to @NationalGallery being given a 10/10 by students plus they loved my treasure hunt resource http://t.co/t9CHEVc0sc\",happy\\n615491360687267840,\"@britishmuseum no trainers or sandles .\",nocode\\n611083388145922048,\"From 12pm on @BBCCambs we preview #CastleHillOpen Day in #Cambridge with @TheCCT @CambsCC @kettlesyard http://t.co/u9clVTYXWM\",nocode\\n613270806022459392,\"FLAMIN: the Artists Present\\xe2\\x80\\xa6 @_thewhitechapel w/ @beatricegibson Sarah Turner &amp; Larissa Sansour THIS SAT http://t.co/Va6qUwgoC2\",nocode\\n614100447062818816,\"Images of #Cambridge May 2015. 10. Medieval Ascension in stone, @FitzMuseum_uk.  https://t.co/0Qon6PpheN\",nocode\\n611542841106505729,\"@GordonRamsayGRP @britishmuseum That looks amazing! #GetInMyWellie\",happy\\n614733632633184256,\"@MartinUMueller Hinzu kommt das Marketing \\xc3\\xbcber die Sprache. Jeder Engl.-Lerner liest \\xc3\\xbcber @britishmuseum und NatGal. @DerSPIEGEL\",nocode\\n613958419075198976,\"@LucyMPowell are you supporting the strikers at @NationalGallery against privatisation? thanks\",nocode\\n613357845636075520,\"I\\'m at @BritishMuseum in London, Greater London https://t.co/FBZL0myacw\",nocode\\n614140496181612544,\"Off to @NationalGallery with 30 @stockleyacademy KS3 tomorrow hope they don\\'t forget to bring water with their pack lunch! #hotWeather\",happy\\n611548432424042496,\"Next Monday, our Index Editor Barbara Pezzini will be giving a lecture at @NationalGallery. http://t.co/yeOBuhPid7 http://t.co/dJwzwsJbPY\",nocode\\n610766359245492224,\"@NationalGallery #AskTheGallery I\\'m glad to hear you have taken note!\",not-relevant\\n612027314923286528,\"Enchanted by @kettlesyard in Cambridge, which is now my favourite art gallery &amp; my favourite house http://t.co/4DHOVRej2U\",happy\\n613287223614640128,\"Terry Frost soft sculptures looking fantastic @LeedsArtGallery @Tate_StIves http://t.co/OAhc1n2epi\",happy\\n614055527161540608,\"#Solidarity | BLOG: @NationalGallery assistants are on strike and it\\'s crucial we pay attention - http://t.co/lJ5qEiFJdF via @NewsweekEurope\",nocode\\n614388911624876032,\"Ms Marini discussing a painting with our @stockleyacademy students @NationalGallery #stockleyart http://t.co/Z4MVy8XZsl\",nocode\\n613024046402375680,\"@NationalGallery I love this idea. I am going to suggest it to @BerndtArell some day!\",happy\\n613705797550374912,\"James Richards extraordinary instln @_TheWhitechapel is a brilliantly obliquely piece of critical interpretation. Sonic art theory. Lush\",happy\\n611473774085570560,\"Have you heard that we\\xe2\\x80\\x99ll be exhibiting Canaletto\\xe2\\x80\\x99s masterpiece A Regatta on the Grand Canal from 11 July? @NationalGallery #Sundaletto\",nocode\\n611873193100505088,\"La Fontaine de la Crosse. Rouen -  John Sell Cotman - 1830 via @britishmuseum  http://t.co/ITTcM3Ub6P http://t.co/kucwcjGbVS\",nocode\\n609302860904402944,\"Find out about our workshops in preparation for an Out of this World @ArburyCarnival http://t.co/kerjQL1mzu via @CamUnivMuseums\",nocode\\n611270050599694336,\"@FitzMuseum_UK @AllSoulsCon @V_and_A stunning!\",happy\\n611884143497072640,\"Drawn on the spot in @britishmuseum lunchtime \"\"Marcia Furnilla\"\" #DefiningBeauty  #thedailysketch http://t.co/aIeBTKRvhG\",nocode\\n387190863773724672,\"Attend #Steppes #BeyondElDorado #CheltLitFest #event? Here\\'s the #exhibition @britishmuseum http://t.co/j4PuP6Pw6z http://t.co/r0xUjIhhTZ\",nocode\\n614422844609556480,\"So cool to play w/ these today! Thanks to the v clever @LabbyTheRat &amp; Informatics Lab team for coming to @RAMMuseum http://t.co/8zibXocFul\",happy\\n610850484337967104,\"@ExeterLiving @ThelmaHulbert Thank you!\",happy\\n612547010181226498,\"On Monday our Index Editor Barbara Pezzini will be talking @NationalGallery &amp; modern Brit art: http://t.co/yeOBuhPid7 http://t.co/dKAV6TTzpn\",nocode\\n610746877122883584,\"@NationalGallery @Postgate http://t.co/sOo0ZMElUM\",nocode\\n615244252361023488,\"Not a morning selfie. Rather a Rapa Nui (Easter Island) head at @BritishMuseum. An ancestor in stone. http://t.co/3MnYQuZHRp\",nocode\\n614833605345419264,\"I\\'m at @BritishMuseum in London, Greater London https://t.co/Jk6LtGMMxT\",nocode\\n612573718200627200,\"@NationalGallery Bathers at Asnieres.\",nocode\\n615236444613967872,\"#Pollock #Ligon &amp; #Bratescu Great time to visit @tateliverpool. Thanks for a lovely day.\",happy\\n614147448429244416,\"Stunning! Congratulations to all who have made @RAMMuseum a home for learning and investigating the past.  Prince A. https://t.co/ULnswtveWI\",happy\\n612232173882634240,\"Descubrir la diversidad del arte griego antiguo en la gran #expo #definingbeauty. Hasta el 5 de julio @britishmuseum http://t.co/ydFlcXjoCP\",not-relevant\\n610403310726705152,\"Happy #MuseumMonday @ldnfilmmuseum @MuseeAirEspace @PlymouthMuseum @CAHCCCPA @NEAMuseum @HstrySiteLocatr @thebakken @NimitzMuseum @YuffyMOH\",happy\\n611929363857174528,\"@WelshMuseums here at Wrexham Museum with @WG_CultureMin launching @britishmuseum Egypt exhibition\",nocode\\n611087870615552001,\"@FitzMuseum_UK @BBCCambs Pupils at Bourn Primary Academy have been exploring watercolour &amp; elements with @accessart http://t.co/5jEo9Hw6P4\",nocode\\n612978643552366592,\"Waddesdon Bequest Film @britishmuseum with Neil McGregor, Grayson Perry, Edmund de Waal etc. https://t.co/Xw0fQIv4jl\",nocode\\n610577850123579392,\"Tweet your questions now using #AskTheGallery for our Q&amp;A with Director Nicholas Penny ht... http://t.co/CsOa6Y1PBP via @NationalGallery\",nocode\\n614111949970886656,\"E from smART group in Arbury showing Dee @base_dance her interpretation of the Grizzly Bear inspired by @kettlesyard http://t.co/bqr0O2kyGN\",nocode\\n612990404854697984,\"@OUPAcademic @CourtauldRes @NationalGallery Was he1) James Bond 2) a woman 3) a virtual projection?\",nocode\\n613387463684423680,\"@britishmuseum hmmmm...is it a teapot?? \\xf0\\x9f\\x98\\x8a\",surprise\\n610406138065092608,\"@lorenzociotti1 @NationalGallery @MuseeLouvre @GettyMuseum\",nocode\\n614733525380632576,\"\"\"How paintings sound\"\". Nice concept. Looking forward to going to this @NationalGallery http://t.co/0IdAQKqcAw #soundscapes #audio #art\",happy\\n612961691836362753,\"@NationalGallery The 2nd GENOCIDE against #Biafrans as promised by #Buhari has begun,3days of unreported aerial Bombardment in #Biafraland\",not-relevant\\n610894249719009280,\"@tateliverpool Really really looking forward to this!\",happy\\n614790519047221248,\"Naked lady on show @NationalGallery now: https://t.co/rhtzFEAYon http://t.co/7mUcFAi4SI\",nocode\\n613028522811109376,\"Can\\'t beat the view over @NationalGallery rooftop &amp; dome from @NPGLondon restaurant! http://t.co/S1BltfGPcG\",happy\\n614123199664685056,\"@NationalGallery perfect choice for today, thank you\\xf0\\x9f\\x92\\x99\",happy\\n614302196625199104,\"#ToddleTate Pop-up tales and Koan puppets #LilianeLijn @Tate_StIves @tate_kids #IMOOS #ImagesMovingOutOntoSpace http://t.co/OaDyamfx1T\",nocode\\n608236817100505088,\"Come visit cambridge open studio artists in Coleridge area all welcome @CamUnivMuseums @camcreatives @CUBotanicGarden http://t.co/Cieyp7zj4a\",nocode\\n614030768176766976,\"Si te lo perdiste, aqu\\xc3\\xad est\\xc3\\xa1 el link m\\xc3\\xa1s popular entre la gente que sigo http://t.co/QWi6UPeJ1E por @britishmuseum\",nocode\\n615595240179822593,\"Just seen one of my fave conservation teams @RAMMuseum On bbc2 well done team :)\",happy\\n610490686916460545,\"#AskTheGallery What would you highlight from the @NationalGallery digital strategy?\",nocode\\n612550600505430016,\"@plinythemidlkid @tateliverpool bloody Scousers\",nocode\\n612180052323762176,\"@britishmuseum @SenderosP Priceless, stunning \\'The Rosetta Stone\\' helped the hieroglyphs of ancient Egypt to be deciphered! *WoW*\",happy\\n615268707430998016,\"First day back in London to do list: Pub lunch \\xe2\\x98\\x91\\xef\\xb8\\x8f @britishmuseum \\xe2\\x98\\x91\\xef\\xb8\\x8f Nandos \\xe2\\x98\\x91\\xef\\xb8\\x8f LSE \\xe2\\x98\\x91\\xef\\xb8\\x8f Parliament\\xe2\\x80\\xa6 https://t.co/tpRmWHplKG\",nocode\\n613722786662645764,\"hey @britishmuseum artist homage to piece in yr collection: anti-slavery medallion c1787 VIDEO http://t.co/6fXUKOzFQL http://t.co/F1T48V4wOZ\",nocode\\n614546432247394304,\"Exeter RAMM\\'s millionth visitor receives unique gift http://t.co/df8CerXOlg @RAMMuseum http://t.co/WYcTOmruy2\",nocode\\n612227472545943552,\"He\\'s Got The Whole World In His Hand...  @GoldUnveiled @MuseeLouvre @leCMN @britishmuseum @Museo_MADRE @museiincomune http://t.co/xWko6PpYuo\",nocode\\n613792422372470785,\"Great to hear from Penny promoting the great work already occurring with MH @RAMMuseum \"\"Collections &amp; Identities\"\" #DefeatingDepression\",happy\\n613271378414936064,\"@David_Cameron This is your twitter handle, you must tweet!!!!!!! If you are a Biafran............. @NationalGallery The second GENOCIDE\",not-relevant\\n615494132212084737,\"@melly_sue @britishmuseum did you checked the @pakcrafts products?   Here\\'s the quick look http://t.co/rGreFHZpmO\",nocode\\n613294784824909824,\"More photos @kettlesyard http://t.co/aHzKa1CY6E\",nocode\\n613399676109262849,\"@britishmuseum @aroberts_andrew @Storify I loved this, learned a lot!\",happy\\n613344886616629248,\"A treat for a Tuesday afternoon. Visiting #IndigenousAustralia at @britishmuseum. \\'Enduring civilisation\\' in both senses of word\",happy\\n612024837804916737,\"#kiss v @britishmuseum http://t.co/HZ3Hd5SkhP\",nocode\\n611521577872674816,\"@britishmuseum @aroberts_andrew How many horses were killed at Waterloo? #Waterloo200\",nocode\\n610582483999006721,\"@HuffPostGreen help us&amp; RT ! Shell sponsors @NationalGallery where we work &amp; they want to privatise us! #ShellNo https://t.co/mRw2vTAhsi\",angry\\n612600398411624448,\"@britishmuseum @stardust193 Achtet genau (!) auf den Sonnenaufgangspunkt am WSW, SSW  - innerhalb der Tempel, Monumente, #Heiligt\\xc3\\xbcmer !\",nocode\\n609348197522108416,\"Book for @newexpressions3 Field visit programme http://t.co/GFZmazxBU9 @YorkArtGallery @PlymouthMuseum &amp; @UptonHouseNT\",nocode\\n611572476712103936,\"@Male_Art_Model @TPGallery @britishmuseum @royalacademy @VarianViciss will be looking forward to updates :)\",happy\\n613620529325604865,\"@NationalGallery ok will do ;) \\' \\xe3\\x80\\x80/ \\\\ \\xe3\\x80\\x80 / \\\\\\\\ \\xe3\\x80\\x80\\\\\\xe3\\x80\\x80\\\\ /\\xe3\\x80\\x80//\\xef\\xbc\\xbf, . \\xe3\\x80\\x80\\\\\\xe3\\x80\\x80\\xe3\\x80\\x80// /_\\'} \\xe3\\x80\\x80\\xe3\\x80\\x80/\\xe3\\x80\\x80\\xe3\\x80\\x80\\\\ /) . \\xe3\\x80\\x80/\\xe3\\x80\\x80//\\\\\\xe3\\x80\\x80\\\\ \\xe3\\x80\\x80/\\xe3\\x80\\x80// \\xef\\xbd\\x9c\\\\ // . /\\xe3\\x80\\x80//--\\xef\\xbd\\x9c /\\xe3\\x80\\x80// /\\xef\\xbd\\x9c \\\\ // \\xef\\xbd\\x9c \\\\_\",nocode\\n613386771313917956,\"@NationalGallery :) http://t.co/VzSJhocyqJ\",happy\\n615240850017263616,\"The @BritishMuseum also have a \\'Harpy Tomb\\', so called because of this dame spiriting junior away. http://t.co/ejJuImcOt1\",nocode\\n614416913750433792,\"@britishmuseum @LondonerAlex England *and* Fraunce.\",nocode\\n614886205335990272,\"@AidenTruss @britishmuseum @RiaSarantaridou agreed - lovely day with ARS!! Next cultural outing to be planned soon!\",happy\\n612663670997258240,\"pindah lagi ehehe (at @nationalgallery) \\xe2\\x80\\x94 https://t.co/Wt6dT3Dcfn\",nocode\\n614391014967672832,\"Year 4 @britishmuseum checking out some Ancient Egypt artefacts! #schooltrip #learning #funtimes http://t.co/KQS8fVNHAc\",happy\\n614055958713630720,\"Seriously sweet location &amp; building @Tate_StIves http://t.co/HgWu7oi5V1\",happy\\n615312667121618944,\"@btcArtGallery @MadBitcoins @britishmuseum @Suitpossum The first truly scarce 285 bytes the world had seen. \"\"History-making\"\" indeed.\",nocode\\n610750390267678720,\"@NationalGallery Is there a particular piece that you are striving to acquire?\",nocode\\n611819882569682944,\"Chris Wingfield @MAACambridge reads John P.McCarthy\\'s paper \"\"Negotiating African Identity:Cemeteries of the First African Baptist Church,PA\"\"\",nocode\\n611849650518290432,\"@psframes I finally saw the frames! @NationalGallery #sansovino Beautiful.\",happy\\n611061579979685888,\"See Christopher Williams - The Production Line of Happiness - via @_TheWhitechapel http://t.co/pvFmI1NJKm http://t.co/cgmhkfXrtL\",nocode\\n611061581732970496,\"See Christopher Williams - The Production Line of Happiness - via @_TheWhitechapel http://t.co/q4n0seYkBL http://t.co/bQ1OaE1Pos\",nocode\\n610609791073931266,\"A few of my loves from today. Thank you @NationalGallery for sharing art with the public. It\\'s a #beautifulthing. http://t.co/z8iba7LX1g\",happy\\n615049499086557184,\"#NG365 Jacob van Ruisdael\\'s \"\"A Panoramic View of Amsterdam\"\" @NationalGallery #art @JohnConstableRA http://t.co/bKcJRJEZnv\",nocode\\n611859875048615936,\"Sculpture from the Parthenon @britishmuseum w/ @kboyceq &amp; zada_beda Wow! https://t.co/YNU2CxV4VJ\",happy\\n611585808269737985,\"A big shout out &amp; huge congratulations to @HelenHillyard for the newly displayed Baroque Galleries @BM_AG @NationalGallery @artfund #launch\",happy\\n614033403269283840,\"Probably a Julio Claudian prince on horseback  in the Great Court of the  @britishmuseum #RomanStatue #Archaeology http://t.co/9DwpwQFQQp\",nocode\\n610778682374930433,\". @GavinGrindon @NationalGallery have we received an answer yet?  #AskTheGallery\",not-relevant\\n613042480007749632,\"Discover The Arts with Social Media: NOHO Co-Founder Rod McIntosh on NOHO Origins* https://t.co/tJmlzSRVvv @NationalGallery #London #Art\",nocode\\n612934531071524864,\"@NationalGallery The second GENOCIDE against #Biafrans as promised by #Buhari has begun, 3 days of unreported aerial Bombardment in #Biafra\",not-relevant\\n612192936340647936,\"@Tate_StIves plus rocking an amazing dress!\",happy\\n614472373945954304,\"I\\'m at @BritishMuseum in London, Greater London https://t.co/9Cg7IGIDWh\",nocode\\n612503018467127296,\"#NG365 Vermeer\\'s \"\"A Young Woman Seated at a Virginal\"\" c.1670 @NationalGallery #art #twitart http://t.co/mScSqghyPZ\",nocode\\n610375384702562304,\"During your tenure @NationalGallery really improved environmental performance &amp; achieved Carbon Trust Standard. What\\'s next? #AskTheGallery\",happy\\n613741905910845440,\"@WeesyT no problem, I am enjoying the amazing @britishmuseum at least for another 10 minutes :)\",happy\\n612207777428082688,\"Save the date for Artist Talk: Svend Bayer @PlymouthMuseum http://t.co/0GkwYNNgm4 Tues 14 July, 1.10pm\",nocode\\n615551893243326464,\"I\\'ve reviewed the new exhibition @tateliverpool.  Sort of: http://t.co/aBh967rncP\",nocode\\n612652312641847296,\"Had to snap @britishmuseum You ridiculous pretty. That caged glass ceiling thing you got going on def\\xe2\\x80\\xa6 https://t.co/ixVZzpkhcs\",happy\\n613749556048732160,\".@Corbyn4Leader can you attend adjournment debate tomorrow #noprivatisation @NationalGallery #reinstatecandy @NGNotForSale @PCSCultureGroup\",nocode\\n613278040223817736,\"Re-housing the Inuit art was a big hit with our @CamUnivMuseums work experience students https://t.co/vUw9npPBfS\",happy\\n611978478448193536,\"@britishmuseum Will u do some posts of #breastfeeding in anyway for Nat\\'l #celebratebreastfeeding week 20-28th June? https://t.co/p3yZ0Y0g5i\",nocode\\n613435619642089473,\".@FitzMuseum_UK is the most brilliant museum! And Friends of the Museum are v. nice too...thanks, Sarah and Jane!\",happy\\n610856911412572161,\"Handstands in a Gallery - hear more @CircuitPHF @tateliverpool Walton Youth Project Partnership \\xe2\\x80\\x93 Part 1 | Circuit https://t.co/hVACpuU4EN\",nocode\\n610505107084570624,\"Reviewed Leonora Carrington\\'s visit to @tateliverpool for @TheSkinnyNW here: http://t.co/XeNhMwuJFo #mexicanart #surrealism #artreview\",nocode\\n610261969484935168,\"@appendixjournal @MartinPribble @FitzMuseum_UK So the Swiss Army knife is really a Roman army knife? I\\'m going to engrave SPQR on mine.\",surprise\\n615223789509562368,\"Off on Friday to look after my youngest. Planning a trip to see Jackson Pollock\\'s Blind Spots exhibition @tateliverpool #culturedtoddler\",nocode\\n613772376019480577,\"I had sneak preview of other delights delegates to @SWFed conference can sample @devonportguildhall @PlymouthMuseum http://t.co/MipVuwpNzP\",happy\\n615211470192791552,\"@britishmuseum Ruin for Spain.\",not-relevant\\n612686916006322176,\"@NationalGallery Make a great BBC4 TV documentary.\",happy\\n613708215889563649,\"#CAPP_eu meets in #Helsinki with @CreateIreland @tateliverpool @ludwigmuseum @thisisliveart @TheHeartofGlass @KunsthalleOS @agoracollective\",nocode\\n615466078441996288,\"Went to this lovely show @FitzMuseum_uk last week. Now the late-running catalogue has made an appearance. http://t.co/5MukWUBdWJ\",happy\\n613389282288496640,\"@CarolineLawrenc @britishmuseum I\\'ve never bothered to look up the Latin. Thanks!\",nocode\\n611153920891723776,\"@kettlesyard We are happy to! Looks like a good event :)\",happy\\n610780184019603456,\"@NationalGallery This is one of my favourites; have a copy from the NG framed &amp; hanging right next to me.\",happy\\n614383409826238464,\"#EthelMaude\\'s \\'Exquisite Corpse\\' at @_TheWhitechapel in London in Luminous Latitude: New Artists\\' Films from Scotland http://t.co/f5seZK3rG4\",nocode\\n613349525051146242,\"A taster of the upcoming Seminar for Arabian Studies w @theBFSA @BritishMuseum next month! http://t.co/jodXRPHrEn\",nocode\\n612553318565425153,\"Check out Corin Sworn\\'s exhibition for @maxmara Art Prize for Women @_TheWhitechapel http://t.co/5GEEw9ysQu http://t.co/2S2O4D8roM\",nocode\\n613974342855229440,\"Topic suggested by Katy Ball after finding \"\"Professor Manakata\\'s British Museum Adventure\"\" (Yukinobo), after Manga exhibition @britishmuseum\",nocode\\n611529284960829440,\"@britishmuseum Is anything known about Dumouriez in light of Waterloo?They said he was with #Wellington #Waterloo200 http://t.co/1bQqmRGSYx\",nocode\\n611520622703865856,\"@britishmuseum Will Andrew Roberts be doing anything on Napoleon\\'s exile and death in St. Helena, or just Waterloo? #Waterloo200\",nocode\\n611178652173225984,\"Detail, bottom left, Claude Monet, Water-lilies, after 1916 @NationalGallery #Monet http://t.co/OllMf7L42X\",nocode\\n614507426260328448,\"@WaddesdonManor on the Tube thanks to @britishmuseum. Completely thrilling!! http://t.co/QESBnOpe1s\",happy\\n615261334570205185,\"@Asamsakti   Piero do Cosimo A Satyr Mourning Over A Nymph ca 1495 @NationalGallery  London\",nocode\\n614882966867722240,\"I want to read about  LondonArtWeek @NationalGallery @LondonArtWeek\",nocode\\n612587290095960064,\"Makeway for Noddy! Enjoying new #EnidBlyton exhibition  @PlymouthMuseum #SevenStories http://t.co/lojsVz1wCz\",happy\\n612193346543583232,\"Setting up at St Peters Cambridge for #CastleHill open day. Looks to be a great day! @kettlesyard @VisitCambs http://t.co/vUcWmdAbna\",happy\\n613987799251947520,\"James Richards composes a sonic score for a Francis Bacon painting @_TheWhitechapel part of VAC Collection displays http://t.co/q3CFSJuXeQ\",nocode\\n614082069698859009,\"@britishmuseum @LoveCamden @britishlibrary I remember watching them build that from my office in the tower next door.. now a hotel\",nocode\\n613392241260929024,\"@ThelmaHulbert @LisaLooly @DrawntoDevon @MooseAllain @DavidSmithArt @roshvarosha I knew that working only in graphite would one day pay off\",happy\\n610175909195313153,@NationalGallery,not-relevant\\n614477433597784064,\"#PieroDellaFrancesca fascine tous les visiteurs de la @NationalGallery http://t.co/A7JtcL4N73\",happy\\n613007107370131456,\"Today\\'s fun, taking a #museumselfie whilst @maustinpics photographed me in @RAMMuseum\\'s #socialfabric exhibition! http://t.co/7dE7Uoadqp\",happy\\n613304081566711809,\"From The Tomb Of #Nebamun \\xe2\\x80\\x94 1350 BC | #Egyptology #Archaeology #AncientEgypt @britishmuseum http://t.co/iJNaUvqhY7\",nocode\\n613341524722626560,\"Excited to have a FLASH Residency at @Studio44AD this Summer, starting next month! @FringeArtsBath @CreativeBath @bathnes @ICIABath\",happy\\n614359996822876161,\"See all the photos from Wednesday\\'s #DefeatingDepression event at @RAMMuseum: http://t.co/eDerP8RflP\",nocode\\n615481001389780992,\"Lo viste? El tuit m\\xc3\\xa1s popular de hoy entre las personas que sigo http://t.co/IV21zLi8Zt por @britishmuseum\",nocode\\n611957995191291904,\"Friday night @FitzMuseum_UK listening to Tim Knox speaking about country house collections #objects2015 http://t.co/aYh36Hkx3i\",nocode\\n615448572776026112,\"Had the most amazing morning at the #emptyNG event, such a privilege! Big thanks to @londonlivindoll and the @NationalGallery for having us\\xf0\\x9f\\x98\\x8d\",happy\\n613235130140872704,\"An auspicious jewel: a symbolic bubble for a C19th Japanese painting of the Seven Gods of Good Fortune @britishmuseum http://t.co/EwBA64UN2X\",nocode\\n610744899718238208,\"#ShoutAbout #AskTheGallery Have you got any plans for #London focussed exhibitions? i.e \"\"London through the ages\"\" @NationalGallery\",nocode\\n614819393558679552,\"\\'Life Lessons from the Old Masters\\', on Death. July 4 @NationalGallery http://t.co/cCLsDmQ4zI  #DeathArt with Jon Underwood &amp; @ArtandPerfume\",nocode\\n611890410248663040,\".@Tate_StIves curated a superb show of paintings by Terry Frost now on @LeedsArtGallery http://t.co/aVpZGl2MMq #terryfrost #leeds #painting\",happy\\n611831585395109888,\"The new Waddesdon Collection room at @britishmuseum is quite something. I haven\\'t seen so much bling since Vienna!\",happy|surprise\\n611878778420240384,\"@tateliverpool I\\'m trying to book the members curator talk or guided tour for pollock, but the links don\\'t work. Are they sold out?\",sad\\n611666528262594560,\"A new look at ancient Egyptian textiles http://t.co/UJQ8z84c2E via @britishmuseum\",happy\\n614084411512860677,\"Come &amp; hear songs from the @smithsonian Folkways archive played by @britishmuseum\\xe2\\x80\\x99s @GlennCumiskey &amp; band. July 7. https://t.co/Pc6XQZvJMh\",nocode\\n613945435993018368,\"Looking forward to a workshop @britishmuseum on working with older ppl, exploring diversity &amp; sustainable partnerships #agefriendlymuseums \\xf0\\x9f\\x98\\x8a\",happy\\n615039677381394432,\"Vast Database of African Rock Art Goes Online http://t.co/eqhIWYfiZ8 @britishmuseum\",nocode\\n610214124920963074,\"Nicholas Penny, outgoing director @NationalGallery, is knighted \"\"for services to the arts.\"\" http://t.co/h13pG6y7y5\",nocode\\n611850247388565504,\"Day 56:  @NationalGallery of Australia gardens in Canberra. #100daysofAustralia #apicaday http://t.co/WppSpikB8I\",nocode\\n614357441472401408,\"Fallen Emperor: Napoleon in #Plymouth Sound in 1815, exhib @PlymouthMuseum until 26th Sept #art #waterloo200 http://t.co/j3EBiKGYZe\",nocode\\n615138030123372544,\"@OptimoPrincipi @britishmuseum that one looks so real\",surprise\\n614458621242572801,\"Coffee time: I\\'m thinking of you @britishmuseum Pen is a pen is a pen... Like a rose http://t.co/95NVs9wx0v\",nocode\\n614055253860818944,\"James Richards accompanying Francis bacon goosebumps \\xe2\\x9d\\xa4\\xef\\xb8\\x8f @_TheWhitechapel\",nocode\\n612980528304758784,\"@britishmuseum on INSTA. Today is the longest day in the northern hemisphere \\xe2\\x80\\x93 here\\xe2\\x80\\x99s the #SummerSolstice at Stoneh\\xe2\\x80\\xa6 http://t.co/Mh3IFM2NkB\",nocode\\n611861158459367425,\"We\\'re open until 9pm tonight. Start your weekend with us: http://t.co/j5IFZpwXdV http://t... http://t.co/4GDmFSPrRR via @NationalGallery\",nocode\\n611776554524352512,\"Make an LED circuit brooch at the British Museum this weekend http://t.co/JzHniW3ttP @britishmuseum\",nocode\\n610741069161086976,\"Dear @NationalGallery, #divestment is on the up. Will u join in &amp; stop accepting $ from the fossil fuel industry? #AskTheGallery\",nocode\\n611520059811495937,\"Short video clip of Termas: Underwater Throne performance @Tate_StIves last weekend https://t.co/OmjF1Bd10f\",nocode\\n611978176709939200,\"Little bit excited about this tomorrow. It\\'s a BIG weekend for @kettlesyard and friends.  #CastleHill15  https://t.co/WwdLeSc4RN\",happy\\n614064975364136960,\"@pwadey @NationalGallery I think for web viewing it is hard to get the right balance. They cannot help the Forgers and Copyists too much!\",nocode\\n615076368053895168,\"Today @LouieJamesKeen and I are off to look at some mummies at @britishmuseum #happysuday\",happy\\n611610813690978304,\"@periscopeco @britishmuseum ok 10 mins...\",nocode\\n615133709587640320,\"Enjoyed the excellent artist talk by Glen Ligon. @tateliverpool\",happy\\n612971261107535872,\"@NationalGallery The 2nd GENOCIDE against #Biafrans as promised by #Buhari has begun,3days of unreported aerial Bombardment in #Biafraland\",not-relevant\\n615189289014407168,\"Please have a look and comment on our Lichtenstein Art! @ngadc @Tate @NationalGallery @MuseumModernArt  http://t.co/TBxqUoT9EZ\",nocode\\n613273697655369728,\"@britishmuseum @basilissa11 Hi, Israel!\",nocode\\n611524286122192896,\"@britishmuseum Did Napoleon really say Britain was a nation of shopkeepers?\",surprise\\n614762285408628736,\"@tarbosaur @profjoecain @britishmuseum yes mermaid wonderfully scary  for the kids - but now seems to have gone last time we looked\",sad\\n611255639327789056,\"We popped to @FitzMuseum_UK at lunch today to see this lovely exhibition! Highly recommended! #MOOi #cambridge https://t.co/B7XttaxXx3\",happy\\n614085210595061760,\"Unmissable! @TheCassArt Summer Show opens tonight. En route via @_TheWhitechapel http://t.co/jiu97u6zce http://t.co/BIrGcex54y\",happy\\n614911688895254528,\"@spacedlaw I was at the @britishmuseum earlier today and thought if you.. http://t.co/4kNHN8ojXB\",nocode\\n613346127807582210,\"#UK to try to block departure of #Cezanne painting &gt; http://t.co/hILLrpQI5e @edvaizey @FitzMuseum_UK http://t.co/0U7seGXmGG\",nocode\\n610750211791716353,\"@FitzMuseum_UK  It\\'s beautiful - the colours are so lush and vibrant!\",happy\\n611773261450473472,\"#NG365 Cornelis Bega\\'s \"\"An Astrologer\"\" (1663) @NationalGallery #art #twitart http://t.co/9j0EVzsE3T\",nocode\\n610382802379522048,\"It\\'s amazing &amp; uplifting to visit @NationalGallery in #London. Art is the way to purify the soul @GreatestCapital https://t.co/FtvPHYJAxt\",happy\\n615469299147350016,\"@lisaj2108 @classarch @FitzMuseum_UK the Herakles one? Yes, found it very  interesting!\",happy\\n613343945620369408,\"@LabbyTheRat is sending us to @RAMMuseum this Friday. Come to see the latest 3D visualisations of weather forecast data\",nocode\\n613356352283373568,\"#JamesRichards combines new installation with turbulent #francisbacon at @_TheWhitechapel http://t.co/oQS2NChfKB http://t.co/jgA4SNombE\",nocode\\n614390469657804800,\"Lost in the exquisite crosshatching of this Hendrik Goltzius silverpoint self-portrait @britishmuseum, on view @ngadc http://t.co/KvakpZhVbb\",happy\\n611993983573729281,\"#Repost @britishmuseum \\xe3\\x83\\xbb\\xe3\\x83\\xbb\\xe3\\x83\\xbb Cupid finds Psyche in this watercolour by Edward Burne-Jones, who died\\xe2\\x80\\xa6 https://t.co/QrRFufm0YK\",nocode\\n612962140429885444,\"@marmitage_ @looknorthBBC @NationalGallery @Tate @BBCBreaking @BBCSheffield #freethenipple\",not-relevant\\n615474468169846784,\"Testimonis de la civilitzaci\\xc3\\xb3 ass\\xc3\\xadria procedents de N\\xc3\\xadnive amb 3500 anys d\\'antiguitat al @britishmuseum avui http://t.co/T5gIjw2Rsf\",nocode\\n613000556886495233,\"Loving the Monets at @NationalGallery in London.  #inspiration #creativity http://t.co/JvGPYMudFB\",happy\\n615510673943056389,\"Book spotting at @kettlesyard the other week http://t.co/gvoyP0XCgM http://t.co/7UKwsDPucb\",nocode\\n613295707315937280,\"@britishmuseum wonderful ....gorgeous\",happy\\n610427763162509313,\"@NationalGallery #AskTheGallery Nicholas Penny: Will you reinstate Candy Unwin who a judge believes was dismissed for Trade Union activity?\",not-relevant\\n614572483065331712,\"Great visitor services from @kettlesyard who sent me a new bag for life when mine was faulty - will muss you dearly! #thankyou\",happy\\n611586538959454208,\"@sallyfryer1 @karolinaglusiec is putting all of the shots together so will be on @kettlesyard website soon\",nocode\\n612713827470299136,\"#DefiningBeauty @britishmuseum stunning. See it while you can - awe inspiring and uplifting.\",happy\\n610749499028451329,\"FREE PENS GIVEAWAY on our FB page... @plymouthart @PlymArtsCentre @PlymouthMuseum @plymlibraries http://t.co/0NuvMPbxTr\",nocode\\n614063579231309824,\"Another lovely visit to @_TheWhitechapel I\\'m always delighted &amp; uplifted by the Children\\'s Commission showing the wonderful school projects\",happy\\n613624072551989248,\"@NationalGallery http://t.co/fVxg4DiRd5 please contact @lancsCC today and stop this destruction of fertile lands. @fractivist @Frack_Off\",not-relevant\\n613779142237114374,\"19thc Aussie indigenous resistance leader Jandamarra weapons @britishmuseum: http://t.co/CiW59aU1cy #twitterstorians http://t.co/thsHIAzYxs\",nocode\\n613708480596312064,\"@Culture24 @britishmuseum EXQUSITE!\",happy\\n612750112083808256,\"Jericho skull (ME 1274142) &amp; Amenhotep III (EA 3) and a glass of ros\\xc3\\xa9 with @sarahdawnscott @britishmuseum\",nocode\\n613249807277293568,\"@newmanmpaul no need to worry, everyone else knows anyway. You are a very lucky man :-) @SimonEvolver @ThelmaHulbert\",not-relevant\\n613297770422779904,\".@_TheWhitechapel @marieantoynette Definitely one our our favourite places too! We\\'re absolutely thrilled we\\'re now a short walk away!\",happy\\n612641929801674752,\"Mini-potter around @britishmuseum galleries I rarely see - love the Clocks gallery &amp; the incredible automata #museums http://t.co/VR2kVF0daS\",happy\\n614421381082562560,\"There\\'s still time to enter our art DVD and book bundle giveaway. Find out more here: htt... http://t.co/DgKCO1nVZQ via @NationalGallery\",nocode\\n612741368461565952,\"Saw these and thought of you @EgyptMcr #AnimalMummies (EA 6773, 11134, 6752, 26847) @britishmuseum #GiftsForTheGods http://t.co/OVDXEm2ieX\",happy\\n615103373101170688,\"I\\'m at @NationalGallery in London, Greater London w/ @sivia_t https://t.co/8sSfw4gBz5\",nocode\\n610747727350267904,\"@NationalGallery @Postgate do today\\'s visitors to a picture gallery have different expectations to those of yesteryear?  Can you illustrate?\",nocode\\n615273922284683268,\"#artnews for your Sunday afternoon: fantastic new exhibit @NationalGallery http://t.co/RgeZtedTWk. We &lt;3 #DCmuseums!\",happy\\n611578881150177280,\"Just a little bit excited! The Castle Hill Open Day 2015 schedules have arrived @kettlesyard :)\\xe2\\x80\\xa6 https://t.co/6pWVeB3ypU\",happy\\n614323420814290944,\"FINALLY it\\'s #DefiningBeauty @britishmuseum day! Can\\'t wait to feel overwhelming awe.\",happy\\n611604347055665153,\"Last chance to see Kettle\\xe2\\x80\\x99s Yard for two years!!!! @kettlesyard @Cambridge_Uni  http://t.co/l0na03S7XD\",nocode\\n612221206444568576,\"A \\xe2\\x80\\x98sparkling show\\xe2\\x80\\x99 of Turner, Singer Sargent &amp; C\\xc3\\xa9zanne watercolours @FitzMuseum_UK, Cambridge http://t.co/DE5pfaXQGt http://t.co/IgXoaHmhGJ\",happy\\n614744495469428736,\"Ancient beauty and modern lives http://t.co/KbfVyv4HLh via @britishmuseum\",nocode\\n613506213280641024,\"Bacchae are getting ready for performing at the @britishmuseum on the 23rd July! Have a look here for more details! http://t.co/9n17H49HsU\",nocode\\n612605348348866560,\"So... @TimesSquareNYC and @britishmuseum are responsible for trending #SummerSolstice in America. Hell yeah: http://t.co/cEqC4SLbVS\",happy\\n612213676905492480,\"Another wonderful day! At the Castle St Methodist Church. Please come by! @kettlesyard @LorenPhoto @CambridgeNewsUK http://t.co/LiWuYwEAGP\",happy\\n613037888473812992,\"#DonneInArte #DonneEScultura etrusche e romane @britishmuseum http://t.co/FNxEttScvt\",not-relevant\\n615279006565466112,\"@HistoryNeedsYou @britishmuseum is there any particular message?\",nocode\\n613690405532631040,\"\"\"San Juanito con cordero\"\" de Bartolom\\xc3\\xa9 Esteban Murillo (h. 1665) @NationalGallery @Investigart @cipripedia @CCasconM http://t.co/RIJJKUTtBR\",nocode\\n612946743299158016,\"Do you know what\\'s hidden in Holbein\\'s \\'The Ambassadors\\'? Visit room 4 to find out: http:... http://t.co/TvRAWxX2I8 via @NationalGallery\",nocode\\n612237239968468993,\"@NationalGallery A book symbolises wisdom, armour - resistance to hardships of life, glass may be for medicine?\",nocode\\n610565060419788801,\"@JohnConstableRA I only really know the de Hoochs in the @NationalGallery. Thanks for posting these.\",happy\\n615523396055642112,\"\\xe2\\xad\\x90\\xef\\xb8\\x8f\\xe2\\xad\\x90\\xef\\xb8\\x8f\\xe2\\xad\\x90\\xef\\xb8\\x8f\\xe2\\xad\\x90\\xef\\xb8\\x8f\\xe2\\xad\\x90\\xef\\xb8\\x8f @guardian Jackson #Pollock Blind Spots @tateliverpool!  https://t.co/5ibpzaGJe6\",nocode\\n612947726607650816,\"@NationalGallery Wait, no, is there a secret Leonardo drawing slipped inside one of the books?\",surprise\\n612226550767841282,\"@britishmuseum @TripAdvisor @ToutLunivers   Always my first stop in London.\",happy\\n610498816027045888,\"\\'Watercolour: Elements of Nature\\' opens this week at the @FitzMuseum_UK http://t.co/hPALcng9R3 http://t.co/poQhPRjDe2\",nocode\\n613732483524337664,\"@findsorguk @britishmuseum Many thanks for that.\",happy\\n613036936291332097,\"@NationalGallery The 2rd GENOCIDE against #Biafrans as promised by #Buhari has begun,3days of unreported aerial Bombardment in #Biafraland\",not-relevant\\n612570564520210433,\"Today I\\'m at my favourite museum @britishmuseum - pictures to follow http://t.co/btThcsfzTW\",happy\\n611540139362271232,\"Join me for an art discussion \\'Setting the Scene\\'! @_TheWhitechapel #art #shoreditch #hypeapp http://t.co/VNoaARFr1v http://t.co/Y7mrFmQZ9J\",not-relevant\\n610709586249674752,\"EXPOSE yourself to the elements; Watercolour - Elements of Nature opens @FitzMuseum_UK today 16 Jun-27 Sep \\xf0\\x9f\\x8e\\xa8\\xe2\\x98\\x94\\xef\\xb8\\x8f\\xe2\\x9b\\x85\\xef\\xb8\\x8f http://t.co/yfQYrvaFWq\",nocode\\n612020426873643008,\"\"\"The Ancient Egyptian exhibition never fails to teach me something new. There\\'s a...\"\" Foursquare Tip @britishmuseum http://t.co/hbZEZzk7kX\",nocode\\n615202453894598656,\"Had a fantastic day at the @britishmuseum - managed to get into both #8mummies and #IndigenousAustralia exhibits. Both great!\",happy\\n611145428499845120,\"Taking the day off work to go to the Gaudier-Brzeska exhibition at @kettlesyard. Just in time, too - closes on Sunday!\",happy\\n612194561931218944,\"Inspire your budding junior artists @NationalGallery #FamilyProgramme https://t.co/LG4CEyKY2j #Children #DubliNow http://t.co/7eUCl4S6S5\",nocode\\n610389787107831808,\"LAST CHANCE to see The Production Line of Happiness by American photograpgher #ChristopherWilliams  @_TheWhitechapel http://t.co/vkIQ0vRW9Y\",nocode\\n611838644727508992,\".@GoldUnveiled @museiincomune @britishmuseum @MuseeLouvre @MarDixon @Museo_MADRE @louvrepourtous @museecarnavalet Torna la @MuseumWeek ! ;-)\",happy\\n611493637533368320,\"Event @NationalGallery, 19 June 6.30pm: James R. Banker on who Piero della Francesca really was. Info: http://t.co/7az5fpa6m2\",nocode\\n611925784773660672,\"Gorgeous! Look at the craftsmanship!!! Repost @britishmuseum with repostapp. \\xe3\\x83\\xbb\\xe3\\x83\\xbb\\xe3\\x83\\xbb Born #onthisday in\\xe2\\x80\\xa6 https://t.co/W0zWw52bQc\",happy\\n615503678791938048,\"@classarch @Needforcaffeine @FitzMuseum_UK Fancy!  And lucky!!   Don\\'t forget to let me know if the Haka workshop gets booked in :)\",happy\\n611509879316942848,\"@NationalGallery oh god!\",surprise\\n608684381356617729,\"@CamUnivMuseums Our favourite is @computermuseum \\'cos of all the old-school videogames they have for you to play, &amp; the ancient computers!\",happy\\n613674428136837120,\"Our manager Rosh has a piece in #EvolverPrize2015 (@SimonEvolver) exhibition which starts next week @ThelmaHulbert https://t.co/30vLHDS0jm\",nocode\\n614368077707374592,\"@britishmuseum Hi been trying to phone for two days and no one ever picks up, are your phones down?\",sad\\n614709656011845632,\"Next week the @RandomActsNorth Roadshow will be @eden_arts @tateliverpool &amp; Sunderland Library - book your place at http://t.co/ePJlhTVU55\",nocode\\n613378633021956096,\"@Tate @tateliverpool Got my train ticket booked already! #cantwait\",happy\\n612391451817701380,\".How To Make A Turquoise Goblet. via @britishmuseum https://t.co/mgnzAKnDSf\",nocode\\n610710927537639425,\"Now you can ask the Director of @NationalGallery with #AskTheGallery   http://t.co/Ft5KgYvxCJ\",not-relevant\\n613078177850601472,\"@NationalGallery The second GENOCIDE against #Biafrans as promised by #Buhari has begun, 3 days of unreported aerial Bombardment in #Biafra\",not-relevant\\n612630397416046593,\"Link http://t.co/YRDlz4W2mF por @britishmuseum es el tuit m\\xc3\\xa1s popular en mis \\'news feed\\' de hoy\",not-relevant\\n613084821833805827,\"Great news for #barbarahepworth legacy in St.ives with Palais de danse workshop passing to @Tate_StIves  http://t.co/Wfj2o6B7xV\",happy\\n612221974891339776,\"Laura Smith from @Tate_StIves brilliant on Woolf and Kristeva, feminine vs. masculine time #materialhistories\",nocode\\n612667450602074112,\"nigga wearing chestnuts @EuropesHistory @NationalGallery\",nocode\\n610502037260926976,\"Discover The Arts with Social Media: Rod McIntosh Co-Founder of NOHO Artists https://t.co/d5VDMg914E @NationalGallery #London #Art #Video\",nocode\\n614601041271783424,\"@BMAGcurators @NationalGallery Yes, it is.  It\\'s hard to believe that Bernard Berenson disparaged Reni.\",surprise\\n613664630007840768,\"@LisaLooly @newmanmpaul @DrawntoDevon @MooseAllain @DavidSmithArt yes see you all @ThelmaHulbert! #EvolverPrize2015 #Art #southwest\",happy\\n612947803975876608,\".@Tate_StIves acquires Barbara Hepworth\\'s Palais de Danse workshop - BBC News. Great news!#barbarahepworth #sculpture http://t.co/7XWE7Rg2Cs\",happy\\n612239594533322752,\"@kettlesyard thanks - we\\'ll let them out again past the massive door.\",nocode\\n612227234808627200,\"We\\'re next door to @AFCCommunity @britishmuseum http://t.co/O3Svv8LHAE\",nocode\\n613664228507979778,\"The Greek inscription on the sitter\\'s cap in this work translates to \\'Alas, I desire too ... http://t.co/MveAPjvQuO via @NationalGallery\",nocode\\n611526117867057152,\"#LastChance See Christopher William\\'s exhibit \"\"The Production Line of Happiness\"\" at @_TheWhitechapel. Closes Sunday!\",nocode\\n612581702897172480,\"@NationalGallery http://t.co/An3oyQUZ1a\",nocode\\n612647431390515201,\"@EricParis @NationalGallery En fait, s\\xc3\\xa9rie de Monet de12 toiles, 3e expo impressionniste en 1877 + pont de l\\'Europe http://t.co/TYi418gbkw\",nocode\\n611793664638119936,\"Very interesting conference coming up @NationalGallery #artmarket http://t.co/mGFBQ8eB9P\",happy\\n615459722326622208,\"@morbidanatomy Lessons in Death and Living. Death in @NationalGallery paintings. Can we still relate to them? http://t.co/fS8dtBot3Z\",nocode\\n614059953746280449,\"We are very pleased to provide the speaker cable for  #Soundscapes at the @NationalGallery. http://t.co/xiQcVZJZ4s http://t.co/YvIfXqYtTq\",not-relevant\\n613881596576333824,\"Gold finger ring/armillary sphere, German, 17thc. @britishmuseum. Curious to know how this is worn on the finger. http://t.co/N4aMqeD8Ad\",surprise\\n614811076677406721,\"@dpanikkar @Chemburstudio @DalrympleWill Here a #Girl luring quicksilver from a mine with her beauty c18th #Mughal @britishmuseum\",nocode\\n612669913048739840,\"Review of a super workshop at @NationalGallery looking at Canaletto\\xe2\\x80\\x99s Festival of St Roch from my art diary.  http://t.co/RMfmmwZLd6\",happy\\n611820929585401856,\"Last weekend to go to @kettlesyard in #Cambridge for two years this weekend. GO GO GO! http://t.co/5E95jO4Prq #art #culture #refurbishment\",happy\\n611147500574089216,\"@artfund @NationalGallery @HelenHillyard @BM_AG That\\'s a very fine Matthias Stom.\",happy\\n614153927286611968,\"@britishmuseum \"\"valleylist) v340 r.1\\xe2\\x80\\x94medium is the message should work for most people most of the time--internet https://t.co/dEfVUqdeAP\",nocode\\n613300080565702656,\"@britishmuseum it\\'s a greave!\",nocode\\n612735921356734464,\"Saw this &amp; thought of you @BiomedBabe... Mummy of unidentified man, Roman Period (EA 6714) @britishmuseum #DeadThings http://t.co/ssx7k5kZRF\",nocode\\n613990350986866688,\"Undoubtedly one of the most beautiful museums in Europe.. missing a few marbles though @britishmuseum .....#Greece  https://t.co/jgiE6hWXuP\",happy\\n610460797106552832,\"@DrIanCooper @Jon__Nash @PlymouthMuseum @BarbicanTheatre @ZoeBloss Currently filming \\'The Spice Box\\' for a permanent legacy in the House.\",nocode\\n611169604346511361,\"Lovely reception at the @NationalGallery on Monday #eventprofs http://t.co/XTL0D9c1Ea\",happy\\n614721826661507072,\"Looking forward to volunteering for @TPTgeneral with a visit to @NationalGallery today\",happy\\n611875344954564608,\"Your courteous reminder - @KettlesYard Cambridge closes for a two year refurb on Sunday. http://t.co/d1aFgRfWSw\",nocode\\n612558317970452480,\"Just realised that was you @MarcusRomer at @kettlesyard talking to @andrewnairne just before you came &amp; put your halfpennies in the box\",nocode\\n611913532976730114,\"From The Tomb Of #Nebamun \\xe2\\x80\\x94 1350 BC | #Egyptology #Archaeology #AncientEgypt @britishmuseum http://t.co/8nQay7vKDa\",nocode\\n610560573646970880,\"@NationalGallery do u consider 1 work the \\xf0\\x9f\\x8c\\x9f around which you build engagement w collection, or do u take a holistic approach? #AskTheGallery\",nocode\\n612720993837170688,\"One of my favourite galleries in @britishmuseum. http://t.co/IYFEf93Qfs\",happy\\n612926838332104704,\"@NationalGallery hi what\\'s the strike about please?\",nocode\\n613324369604046848,\"LATEST PURGE ANNOUNCEMENT: Athens Now @_TheWhitechapel , new Frans Zwartjes album, Endless Tape Series, EC1 &gt; &gt; &gt; http://t.co/9cflGcCQOW\",nocode\\n611989398100553728,\"\"\"@tateliverpool: Everything you need to know about Jackson #Pollock http://t.co/bwHgywunVD\"\" &gt;&gt; gotta go @CheshireCaveman\",nocode\\n612948774231609344,\"Excited for our @LAHP_DTP #SummerSchool session tomorrow. With speakers from @V_and_A, @NationalGallery, @UkNatArchives and @britishlibrary.\",happy\\n614771458879979524,\"\\xe2\\x80\\x9c@pwadey: #NG365 No.51 Bronzino\\'s \"\"Portrait of a Young Man\"\", on loan to @NationalGallery #art #twitart http://t.co/lpGb3CHXjO\\xe2\\x80\\x9d\",nocode\\n612673449778126848,\"Review of display at @NationalGallery of their El Greco\\'s to mark the loan of an altarpiece from the Louvre. http://t.co/cdGsyMTGPw\",nocode\\n612952265524183041,\"#Minneapolis #rock the garden @RichPreston @arishapiro @britishmuseum http://t.co/43BOeJD7gH\",nocode\\n611876159115149312,\"@jbenedictbrown @kettlesyard Such a lovely space (and nice to perform in too) x\",happy\\n613681772446900228,\"@UrchinSpock @britishmuseum well said\",nocode\\n610676944783314946,\"Second phase of Cornwall\\xe2\\x80\\x99s Tate St Ives steams ahead @Tate_StIves @ILoveCornwallUK @BAMConstructUK http://t.co/mFyrvx5P3n\",happy\\n614716895040774144,\"@PeterGraystone @britishmuseum It\\'ll be fun!\",happy\\n613241383470690304,\"@newmanmpaul no worries. Good to hear we might see you on 4th. I wondered from some tweets if you might @SimonEvolver @ThelmaHulbert\",happy\\n615553563817684992,\"Head to the @FitzMuseum_UK for an Inside a Paris goldsmiths\\xe2\\x80\\x99 workshop: From design to gold box with Dr Heike Zech http://t.co/wAJivYj3nv\",nocode\\n611111377621618688,\"We\\xe2\\x80\\x99re feeling very Enid Blyton today: an Enid expo starts today @PlymouthMuseum  try @waterstones for Famous 5 action http://t.co/cpjRetgWD1\",happy\\n610790412987576320,\"WATERCOLOUR - Elements of nature exh @FitzMuseum_UK opens today. Accompanied by display of Turner watercolours. http://t.co/bHyDS7j4zz\",nocode\\n610416807359479808,\"Le directeur de la @NationalGallery est en Q&amp;A demain... profitons-en!!  https://t.co/85hSljwiG4\",not-relevant\\n615150672984571905,\"@NationalGallery Now that\\'s art. https://t.co/FikrfOg7dt\",happy\\n615443487958417408,\"@britishmuseum http://t.co/JQeFf28WqI\",nocode\\n611855450200477696,\"Ancient Jomon pot @britishmuseum reused 200 yr ago in tea ceremony http://t.co/u3wZZ5hmku #archaeology #objects2015  http://t.co/Y1yruFfmeh\",nocode\\n613036514000404480,\"So happy that my work has been selected to exhibit @ThelmaHulbert for the #EvolverPrize2015 !!\",happy\\n614784738595893248,\"Thank you #London for keeping those safe @BritishMuseum #Assyrian #Mosul #Iraq #Mesopotamia #War #Heritage http://t.co/F518duhIUe\",nocode\\n613391194723360768,\"@newmanmpaul oh yes it would: ask @AlisonBevanRWA :-D @ThelmaHulbert @LisaLooly @DrawntoDevon @MooseAllain @roshvarosha\",nocode\\n614763614566805506,\"@britishmuseum http://t.co/5DIo5FoL70\",nocode\\n610778958892810240,\"We license @lilianelijn\\'s Koan sculptures in promotional materials for #IMOOS @Tate_StIves: http://t.co/opozycFQLQ\",nocode\\n613724780861198336,\"@britishmuseum @BBCRadio4 @Artangel - response from @nationaltrust originalility of #SoundsOfOurShores rebutted w- un-originality of concept\",nocode\\n612299448396443648,\"{ @britishmuseum } #art #London #ttot #lp #vacation #trip #photography #photo #Travel #travelpics http://t.co/0eKtVTa05h\",nocode\\n611995149145645056,\"\"\"Monet\\'s \\'Green Park, London\\'  \\xc2\\xa0  http://t.co/EZ4K8wBBjW\"\" http://t.co/4P8b67Oq2h  @NationalGallery\",nocode\\n613754928541118465,\"Only a few days left to enter @BritishMuseum comp to #win a trip for 2 with @Eurostar, @Voyagessncf_UK, @HotelJuana http://t.co/V12iMSCeRN\",nocode\\n612719723374100481,\"Favourite picture of the day. @NationalGallery http://t.co/SjspfQRdvz\",happy\\n611933892233297920,\"@britishmuseum Thanks so much for fave + RT today, much appreciated! Have a good weeked:)\",happy\\n615253883972153344,\"Coin Room @britishmuseum displays Genesis Block http://t.co/T2XT0zThoj   https://t.co/MJ4ycoszAv @Suitpossum http://t.co/uF21eAbIPO\",nocode\\n613642618447204352,\"@NationalGallery @Joos4 Precies Sint Jan is de dag dat echte labbekakken geen werk meer hebben #eindvanaspergeseizoen\",nocode\\n611453850403344384,\"@AnnHawkins @BBCCambs @FitzMuseum_UK Are there some \\'Turners\\' in there Ann?\",nocode\\n612290109803745281,\"Excellent Christopher Williams @_TheWhitechapel http://t.co/zlHpkBm23F\",happy\\n611518286937767937,\"A Twitter Q&amp;A at 14.00 BST .@britishmuseum #Waterloo200 #BonaparteAndTheBritish &amp; @aroberts_andrew http://t.co/kSTxzZv9GI\",nocode\\n614412097905164288,\"@NationalGallery After staff privatisation next selling off donated works. Councils can do this without  consultation. Ask about missing art\",angry\\n612003538571534336,\"@hmassyberesford @NationalGallery thank you for coming Helen- it was lovely to meet you and I am so glad you enjoyed it!\",happy\\n614440926770020352,\"If you\\'re in to moving image, there are screenings/events/discussions on the topic at @_TheWhitechapel tomorrow! http://t.co/uiteakch3z\",nocode\\n612192430398550016,\"@britishmuseum @state_hermitage\",nocode\\n614497173623996416,\"Fascinating exhibition coming to @britishmuseum. Stay tuned for details. http://t.co/t2Gc67Bw2j\",happy\\n613065698806484992,\"Our Anniversary conference is from 9 to 5 on July 3 @britishmuseum. Attendance is free  booking is essential through the BM box office.\",nocode\\n613885643584839680,\"Jackson Pollock: Blind Spots, Glenn Ligon: Encounters and Collisions, + Geta Br\\xc4\\x83tescu @tateliverpool http://t.co/gj0ACdAQp3\",nocode\\n612958178771402752,\"@NationalGallery The 2nd GENOCIDE against #Biafrans as promised by #Buhari has begun,3days of unreported aerial Bombardment in #Biafraland\",not-relevant\\n613315474114396160,\"@britishmuseum and for public urinals called \"\"vespasiennes\"\"\",nocode\\n614783210191486976,\"Very intense and well written on #LGBT history and exhibition #DefiningBeauty on @britishmuseum of R.B.Parkinsson http://t.co/tq4A97psTM\",happy\\n613275831448702976,\"Today 1.10pm @PlymouthMuseum, \\xc2\\xa32:  http://t.co/gZePLguN0D Making and Promoting British Art http://t.co/plWykQbEB4\",nocode\\n615135717346443265,\"@britishmuseum #AncientLives exhibition. Wow!\",happy\\n613744987549900800,\"members &amp; supporter email you MP urging them to attend debate 25 June #noprivatisation @NationalGallery #reinstatecandy @etiennelefleur\",nocode\\n611905977919635456,\"@NationalGallery @GH_Sudbury Wonderful landscapes too.\",happy\\n612960722352513024,\"@NationalGallery yes it\\'s a bit of #skullduggery\",nocode\\n610431507581247488,\"@blaircurator @alex_neilson @Tate_StIves Hang on, that building has only just been renovated and at very great expense ...\",surprise\\n614401688984813569,\"\"\"Creepy face appears in St Ives scone\"\" @Tate_StIves http://t.co/fWhbsDfGXg\",not-relevant\\n611790557363310592,\"We\\xe2\\x80\\x99re really excited about the Jackson Pollock exhibition @tateliverpool at the end of the month! http://t.co/N3zsrHlRno\",happy\\n611554621639786496,\"My article out now on why ancient Greece is on everyone\\'s lips: @TheConversation https://t.co/6uxlkgRTyH @britishmuseum @AlmeidaTheatre\",nocode\\n613010354013122561,\"Join our Monday night half price wine club at #NationalCafe @NationalGallery and enjoy our new bar menu @oliverpeyton http://t.co/uWM9Wjr9fb\",nocode\\n613685169778753536,\"Been talking clay pipes and pottery with @MAACambridge today. The beginnings of a fab collaborative project. http://t.co/Cx0mbgbbfD\",happy\\n614400777566703616,\"\"\"Athens Now!\"\" A symposium of radical film from contemporary Greece @_TheWhitechapel 4 Jul, 1.45pm http://t.co/9WNObAf84v\",nocode\\n614179622683586560,\"@britishmuseum http://t.co/oxs4tQRAf4\",nocode\\n614390314095222784,\"Lunch time at the @britishmuseum #refuel http://t.co/3B4vHZo5jj\",nocode\\n611894866272845824,\"Why Jackson Pollock gave up painting @DallasMuseumArt @TateLiverpool http://t.co/G7dHaO8SSJ\",nocode\\n610382402976919552,\"Twitter Q&amp;A tmrw 10.30-11.30 with @NationalGallery Director. #AskTheGallery today to #KickOutShell, #ReinstateCandy http://t.co/BlWoyplY3m\",not-relevant\\n610755352490061824,\"@lucydevine @tateliverpool I\\'ll come if we can get bevvies after \\xf0\\x9f\\x98\\x81\\xf0\\x9f\\x98\\x82\",not-relevant\\n610681970356400129,\"Construction steams ahead on Tate St Ives phase two @Tate_StIves @ILoveCornwallUK @BAMConstructUK http://t.co/Na1op1zaYh\",not-relevant\\n614308701642620928,\"#FF @AboutLondon @MadameTussauds @BateauxLondon @britishmuseum @thetattershall @ThamesRIBExp @OXO_Tower @girlaboutthames @thamesclippers\",nocode\\n613324505734356992,\"@britishmuseum so greave sis the fancy name for shin guards my english is progressing by leaps!\",nocode\\n615478299704344576,\"Doing research about the @britishmuseum  British Museum - one of the most fabulous places for archaeology! http://t.co/sGSdtGMFGQ\",happy\\n611096268832641024,\"Incidentally, he\\'ll be in convo tomorrow @_TheWhitechapel talkin\\' theatricality in contemp art &amp; stage design @7pm!\",nocode\\n610745982725156866,\".@FeigelsonMia Within a day I realised we needed to buy two of Titian\\'s greatest painting... http://t.co/tsKarlabqH via @NationalGallery\",happy\\n611524785118560256,\"@britishmuseum Any favourite artwork(s) made to commemorate #Waterloo200 ?\",nocode\\n611084411073900544,\"Construction steams ahead on Tate St Ives phase two @Tate_StIves @BAMConstructUK http://t.co/zhvvCE8Sbh http://t.co/3aoebpU1Hn\",nocode\\n615074567271370753,\"@NationalGallery @inDOMEstico \\xe2\\x98\\x95\",nocode\\n613297094879748096,\"Budding artist that cant stop drawing, get your kids artwork on the walls of @Tate_StIves &gt;&gt; http://t.co/SbmINe79fR http://t.co/hN1kCapDbV\",nocode\\n613700812297084929,\"@SassyClyde @ReclaimOurBard I know, so disgusting. @britishmuseum should be ashamed.\",disgust\\n611838280888385536,\"@leCMN @museiincomune @ITweetMuseums @britishmuseum @MuseeLouvre @MarDixon @Museo_MADRE @louvrepourtous @museecarnavalet e #battle sia\",not-relevant\\n612145606635745280,\"Late Pollock set to be one of the most provocative &amp; absorbing shows @tateliverpool @guardian http://t.co/8oxmUKUaBQ http://t.co/ZFGcKcE34w\",happy\\n611527396622249984,\"@britishmuseum @Nickuae I believe Mrs Thatcher thought it was a compliment and used it frequently in her speeches http://t.co/JIOeLfpcLx\",nocode\\n610734185871970304,\"Showing your workings @_TheWhitechapel\\'s The Production Line of Happiness. Really interesting hang and subject http://t.co/hKfe8b8AME\",happy\\n615519290037534720,\"@tateliverpool always manage to be fresh and unexpected &amp; they\\'ve done it again with #pollock . Brilliant. http://t.co/u8gzs44q2X\",happy\\n611546577359011840,\"@britishmuseum @aroberts_andrew Any analysis of metal compounds within the Prussian forces swords? #BonaparteAndTheBritish #Waterloo200\",nocode\\n614207077406375936,\"Wish @britishmuseum would help more with improvements to Bloomsbury Sq, where hundreds of visitors to the museum pass through every day!\",sad\\n613086766199894016,\"The Cantabridgia Daili is out! http://t.co/b2Ev7DwAer Stories via @Catz_Cambridge @pembroke1347 @CamUnivMuseums\",happy\\n615523221492903936,\"Artist Jackson Pollock\\'s black pourings to be exhibited @tateliverpool in largest exhibition for 3 decades - http://t.co/juNfQrSF66\",nocode\\n611892587721572352,\"What a treat RT @FitzMuseum_UK: Exhibited for the first time in 15 years, Ruskin\\'s Turners are on (cont) http://t.co/nzTlTnecQO\",happy\\n614448677533429760,\"Patients of Sharp Ward are enjoying historic views of the city thanks to @PlymouthMuseum http://t.co/NXCsfNc498 http://t.co/h8XGCYYnZe\",happy\\n613711135586566148,\"@britishmuseum \\xd0\\x92\\xd0\\xbe\\xd0\\xbe\\xd0\\xb1\\xd1\\x89\\xd0\\xb5, 1042 \\xd0\\xb3\\xd0\\xbe\\xd0\\xb4 !!!\",nocode\\n614123594319298560,\"The crowds were out in force at the @britishmuseum today. Lovely warm afternoon. http://t.co/Ee0blq5hRq\",happy\\n611946279229358080,\"#objects2015 at the @FitzMuseum_UK for the second keynote by Tim Knox http://t.co/cRD3Iqnpf6\",nocode\\n611927214372859904,\"This Sat #CastleHill15 is packed with free events indoors &amp; out for all ages - plus last chance to see @kettlesyard http://t.co/PKWMQ9VK4P\",nocode\\n613804770306842624,\"My favorite museums in #London are @I_W_M ,@britishmuseum and @NHM_London.Fantastic artifacts in Military,Human Civilizations and Geology.\",happy\\n613100958554456064,\"Looking forward to Honiton Ice cream shop visit on the way to @ThelmaHulbert in July to see @SimonEvolver Prize 2015. Glad to be showing too\",happy\\n614480741729193985,\"@Godchecker Odin blesses you! = :0) #FF @RevRichardColes @rickygervais @xeni @GSpellchecker @britishmuseum @TalesofBritain @ChuckWendig\",happy\\n610508891215015936,\"Checking on the @winsorandnewton archive @ the #HamiltonKerrInstitute thank you for showing us around @FitzMuseum_UK http://t.co/fch1T5kg0e\",happy\\n613003421378039808,\"Gaaf het @britishmuseum gebruikt periscope om rondleidingen te streamen https://t.co/MC1FdxS2S3\",happy\\n615109848003399681,\"I\\'m back! @tateliverpool #bestartgallery #bringonpollock http://t.co/gquHw9Q0FJ\",happy\\n612691785060642816,\"Saw this on visit @britishmuseum with daughter.History of \\'zar\\' ceremonies where used -fascinating. #SudaneseLyre  https://t.co/EEHlKPC98u\",happy\\n613746316880019456,\"A marvellous piece on @tateliverpool &amp; rightly so. Jackson Pollock exh opens June 30 so make your way to Liverpool! http://t.co/fP34V5a0zB\",happy\\n613368320084082688,\"@RAMMuseum @IGersExeter Fantastic!\",happy\\n614087219565961222,\"Now in Parliament: whistles,  banner, leaflets confiscated. 3 managers here on @NationalGallery time.  #noprivatisation #reinstatecandy\",angry\\n612297089335328768,\"@NationalGallery lots of disappointed people at the gallery today #strike #sadface\",sad\\n611129888968290304,\"Celebrate the Feast Day of John the Baptist next week at our talk on his life depicted in... http://t.co/YhEv3XxytU via @NationalGallery\",nocode\\n613680741474541568,\"Off to see @opticalmeg s first solo exhibition @RAMMuseum tonight!\",happy\\n613292346025897984,\"@britishmuseum Thank you for this interesting information, have a nice day!\",happy\\n612868894718586880,\"Students ages 16+ can get a taste for subjects they are interested in as arranged by @CamUnivMuseums, sign up now http://t.co/DLxurdH8nP\",nocode\\n614841238093725696,\"Roman gem engraved with Odysseus, his ship, and three sirens. Via @britishmuseum archives http://t.co/hVv9zAdJy0 http://t.co/BI5lZ94IlE\",nocode\\n614070877597118464,\"Start your @_TheWhitechapel #FirstThursday at Ceviche Old St Gallery from 6pm next week: http://t.co/pirzExyTqa http://t.co/prI0f9ADS0\",nocode\\n613975121368363008,\"Beautiful Roman period statue of girl playing knucklebones tucked away where I hadn\\'t seen it before @Britishmuseum http://t.co/N8cuekPI6q\",happy\\n613742590962307072,\"Cool thing to stumble upon @_TheWhitechapel tween meetings  #yearofpercussion #persepolis http://t.co/Kx3Ozg6peX\",happy\\n611172835327909888,\"Delighted to have work selected for the #EvolverPrize2015 @ThelmaHulbert on July 4th http://t.co/8OXvuK3NGF\",happy\\n613226838484217856,\"And two works from @kettlesyard are part of the rather thrilling story of Hepworth and Ben Nicholson in London in the 30\\'s @Tate #Hepworth\",happy\\n611955403975434240,\"@NationalGallery thanks for fav-ing. I spent 40m in yr place b4 a biz meeting and you know what, my heart soared! #artforthesoul\",happy\\n612972065256308737,\"BritishMuseum: RT @Lalafashionista: LOVED Ancient Lives &amp; New Discoveries @britishmuseum so fascinating and ama\\xe2\\x80\\xa6ht\\xe2\\x80\\xa6 http://t.co/UAn75m6uLW\",happy\\n611649746105667584,\"Watercolour: Elements of Nature\\' opens this week at the @FitzMuseum_UK http://t.co/4uBSQbL3cK\",nocode\\n614928778138099712,\"Don\\'t forget to check out @NationalGallery this weekend! http://t.co/CtdZWEZB3f\",nocode\\n614706739645128704,\"@NationalGallery superb. Great to see you educating people. My personal all time favourite?  Carravagio.\",happy\\n614045443467706368,\"National Gallery dispute to be discussed in Commons in adjournment debate at 4pm today http://t.co/FMlk0pWuoL @pcs_union @NationalGallery\",not-relevant\\n610876646346870784,\"@NationalGallery Hayden\\'s Surprise symphony?\",nocode\\n611842603852660737,\"@britishmuseum The craftsmanship is so stunningly beautiful, hope to see it in person soon!\",happy\\n614586669535232000,\"Downtown @washingtondc #JazzInTheGarden @NationalGallery http://t.co/DEFAizxk4Y\",nocode\\n614757436524765184,\"Thank you Dr Doria Tichit and @BagriFoundation for a facinating afternoon @britishmuseum http://t.co/7fi5Rly998 http://t.co/ksFKynSXn3\",happy\\n612862510673231872,\"@AFunderburkArt @thegetty might end up closer to you once most of them are back at @Tate or @NationalGallery \\xf0\\x9f\\x98\\x8e\",nocode\\n612585954268811264,\"Dear @britishmuseum here you are #Pizzidimonte where was found the #Offerente that now is in you #museum #regards http://t.co/WPLOPGGMQw\",nocode\\n611617810679234560,\"@benfaster the @britishmuseum could keep you busy for so long! its packed with history!\",happy\\n615248278238679040,\"@MrStuchbery @britishmuseum That\\'s my favourite bit. It\\'s got a mermaid and everything!\",happy\\n614728418660339712,\"Must see @tateliverpool #onlyinLiverpool #Pollock  https://t.co/6QBypec4l6\",happy\\n615502220377755648,\"\\xe2\\x80\\x9cEvery good painter, paints what he is\\xe2\\x80\\x9d said artist #JacksonPollock. View his black period through Blind Spots exhibition at @tateliverpool\",nocode\\n614755915573633024,\"@britishmuseum diving deep into this.\",nocode\\n613036481645518848,\"@NationalGallery The 2nd GENOCIDE against #Biafrans as promised by #Buhari has begun,3days of unreported aerial Bombardment in #Biafraland\",not-relevant\\n613395088501252096,\"Have you seen the summer menu at the Great Court Restaurant @britishmuseum? http://t.co/h7A5kuAOtE http://t.co/IPAACULv5h\",nocode\\n611504084730925056,\"Work by @ACSArtists\\' #AnthonyCaro &amp; Renaissance painter #Duccio displayed together at @NationalGallery for first time http://t.co/UrzoEkqu6U\",nocode\\n615537190278443008,\"NEW \\xc2\\xbb Portrait Of An American Dream: Jackson Pollock &amp; Glenn Ligon Revealed @tateliverpool http://t.co/ZNw3pvph6y http://t.co/bq38cLzIQD\",nocode\\n610741528890359808,\"Cant wait to go to the #AudreyHepburn Exhibition @NationalGallery #icon Idolised this lady since I was a little girl. http://t.co/pfM5K4olf6\",happy\\n611946689017069568,\"Looking forward to tonight\\'s talk on my hero Napoleon with @aroberts_andrew @britishmuseum\",happy\\n610411898186649601,\"Develop your fundraising career at one of the world\\xe2\\x80\\x99s leading arts organisations! Apply to work for @tateliverpool http://t.co/1SJYT0U6oG\",not-relevant\\n613696458034778112,\"@NationalGallery @ivanalepojev Amazing\",happy\\n611283138438930432,\"GLORIOUS PERSPECTIVE OF KIDS they see things in such a twinkly way @kidsinmuseums @NationalGallery @V_and_A #rt #kid https://t.co/cOfEPDoi9c\",happy\\n615527909265162240,\"Wow theyre #3dprinting a very ancient #museum pot for the millionth visitor @RAMMuseum #Exeter #technology #history http://t.co/G9ppdPPZrn\",happy\\n611605367273979904,\"Encampment of the Royal Engineers in Bois de Boulogne after Battle of Waterloo by G.J. Scharf 1815 (@britishmuseum). http://t.co/X8GJH4xdBE\",nocode\\n614423125313204224,\"The pivotal series of \\'black pourings\\' by #JacksonPollock are on show @tateliverpool from 30 June. #RARecommends http://t.co/mSN5mVc5vT\",nocode\\n611834322627067904,\"Book for @newexpressions3 Field visit programme http://t.co/GFZmazxBU9 @YorkArtGallery @PlymouthMuseum &amp; @UptonHouseNT\",nocode\\n611878734250033152,\"@MuseeLouvre @museiincomune @leCMN @britishmuseum @MarDixon @Museo_MADRE oh wow! That\\'s fantastic!\",happy\\n610747142685093888,\"@NationalGallery What public programs of the museum have you found most effective and interesting for your audience? #AskTheGallery\",nocode\\n614736725185822720,\"@NationalGallery Egon Schiele - at the moment.\",nocode\\n613264553368027136,\"\\xe2\\x80\\x98The Park is Open\\xe2\\x80\\x99\\xe2\\x80\\xa6 http://t.co/xp4PuN3Lh2 via @camunivmuseums &lt; AWESOME!\",happy\\n615298569768181760,\"BBC News - Tate St Ives acquires Barbara Hepworth\\'s Palais de Danse workshop http://t.co/SoGB8nILHR @Tate_StIves\",nocode\\n613996133992546304,\"I\\'m at @BritishMuseum in London, Greater London https://t.co/d6PuPd0gMC\",nocode\\n613041751574597633,\"Great #collection preserved for the future by @britishmuseum ! https://t.co/TsyrVlhImV\",happy\\n611811545400639488,\"Cfp \"\"Negotiating art \\xc7\\x80 Dealers and museums 1855-2015\"\" @NationalGallery @UoMSALC @LiverpoolUni  https://t.co/OyJHIwclxH\",nocode\\n614470095197372417,\"My favourite painting at @NationalGallery was \\'Noli me tangerine\\' by an unknown 14th C artist. I could see Jesus, but not a single orange!\",happy\\n614446732869521408,\"MPs urge government to intervene to resolve #PCS dispute over privatisation at @NationalGallery http://t.co/ighV5vu4xb @johnmcdonnellMP\",nocode\\n611618306559213568,\"@britishmuseum thank you for this excellent tour of #Waterloo200 from Columbus, Ohio.\",happy\\n615566599479816192,\"Studio visit with Karl Bielik @Lark_2006 ahead of #londonopen @_TheWhitechapel http://t.co/85QWqQzylS\",nocode\\n611577978661814273,\"Spent my afternoon admiring the enchanting objects in the new Waddesdon bequest display @britishmuseum A must visit! http://t.co/e8iNUHOqBf\",happy\\n611621592309866497,\"In case I don\\'t love the @britishmuseum enough - check their swoony coffee cup design! https://t.co/nGdYnNKcD6 HT @lornadiwa\",happy\\n614544171735613440,\"Defining our beauty - amazing group of creative older people perform tomorrow eve @britishmuseum #creativeaging thank you @ThePlaceLondon\",happy\\n614389669481062402,\"@britishmuseum welcome to Kerepakupai Vena! http://t.co/c404Oxa0Vz\",happy\\n613346646533935104,\"Journey through our rooms and collection by following us on Instagram: http://t.co/yZJ... http://t.co/DEsffBRkKS via @NationalGallery\",nocode\\n610476044546646016,\"@Asamsakti @NationalGallery Formidabile\\xe2\\x9c\\xa8\",nocode\\n612588163652026368,\"The tranquillity of the @britishmuseum members room and chance to reflect on those drawings yet to emerge on the page http://t.co/fb1Wp9t4oH\",nocode\\n611684506613907457,\"From The Tomb Of #Nebamun \\xe2\\x80\\x94 1350 BC | #Egyptology #Archaeology #AncientEgypt @britishmuseum http://t.co/08KADzo2GL\",nocode\\n613965327005822976,\"@tateliverpool You\\'re. You are. When you are. This is the Tate!\",nocode\\n612000364380991489,\"Excited to be enroute to this #nighttrain #artistnetworks @Tate_StIves  https://t.co/wM5INPaKSm\",happy\\n614088784070713344,\"Zoroastrian Heritage. [photo] #flickstackr @britishmuseum http://t.co/qmed5QcFkZ\",nocode\\n614001016829308928,\"Another flying soul (\\xce\\xb5\\xce\\x90\\xce\\xb4\\xcf\\x89\\xce\\xbb\\xce\\xbf\\xce\\xbd) by \"\"the great master of the white lekythos\"\" https://t.co/IuSKultBZI @britishmuseum http://t.co/jcxGTmzG3e\",nocode\\n609289723769700352,\"#ff @CafeCouCouUk @colletts @CamOpenStudios @Thecheddarvine @CourtneyPine1 @CookePhoebe @CheffinsMachine @CamUnivMuseums @CuriosityFair\",nocode\\n615568794858221568,\"Looking forward to the Pollock show opening at @tateliverpool tonight. Looks like an incredible show! #JacksonPollock #blindspots\",happy\\n615303241920872448,\"@CarolineLawrenc @KristinAndrene @britishmuseum http://t.co/RYyKg0ZAbq\",nocode\\n612964029355683840,\"@NationalGallery http://t.co/tfsyUtuAZ3\",nocode\\n614437878395867136,\"@britishmuseum What is the symbology behind the broken scepter?\",nocode\\n614033117129637888,\"Decoding Anglo-Saxon art http://t.co/I6YvI8vFog via @britishmuseum\",nocode\\n612293959579226112,\"Why Jackson Pollock gave up painting @guardian http://t.co/zU8zfMjCvA @tateliverpool http://t.co/poFL2YvpF4 #Art http://t.co/LjIyiOFkwN\",nocode\\n615464405371875328,\"Object based learning @autumnjane @mckenzie_emilia from @britishmuseum  #ccconf2015 http://t.co/bApDjLwjKh\",nocode\\n614464512805216257,\"Evacuation at @britishmuseum http://t.co/OoCSmjfvhP\",nocode\\n610302452970033153,\"@HilaryKingston @NationalGallery @NeilKC41 #BertheMorisot\\'s daughter #JulieManet wrote a frank diary about the family http://t.co/cVk7izuxDI\",nocode\\n615429077042917376,\"Just because it\\'s #Monday! An Old Woman (The #Ugly Duchess) by Quinten Massys @NationalGallery #art http://t.co/WMBxFIDCNw\",happy\\n615182328113967105,\"@britishmuseum @igallupd The Grand Elector?\",nocode\\n615136474242138112,\"Judging by #DefiningBeauty @britishmuseum the Greeks had a good go at just that. I have #AlexanderTheGreat hair envy. http://t.co/wvgD1c66gZ\",happy\\n610438484164263936,\"How is the exhibition schedule decided @NationalGallery, and how does your role as Director feed into this? #AskTheGallery\",nocode\\n614508946976559108,\"Boulevard Montmartre at Night by Camille Pisarro @NationalGallery http://t.co/MrvJ38ZGrV #FavouritePaintingFriday http://t.co/Mnliz69ksI\",happy\\n611526145037725697,\"@britishmuseum @faymaclachlan Here\\'s what Dumfries has http://t.co/HchBRw4qrB\",nocode\\n614493456958902272,\"The Minions are still on the loose! Last spotted outside the @NationalGallery... #MinionMania http://t.co/qqY5eCVwae\",not-relevant\\n613736785848438784,\"A trailer for my brand new film, The Touch Diaries! https://t.co/J1CJTKG1aV Previewing 9th July @ICIABath @PeopleDancingUK @DanceUK @ID__UK\",nocode\\n615248854200524800,\"@MrStuchbery @britishmuseum A veteran priest could probably whip out a heart in about 30 seconds with that... \\xe2\\x9d\\xa4\\xef\\xb8\\x8f\\xf0\\x9f\\x94\\xaa\\xf0\\x9f\\x98\\xb1\",surprise\\n613343554946138112,\"MA Curating trip: @MuseumLiverpool @SlaveryMuseum @tateliverpool @MerseyMaritime http://t.co/v5HXwz4d3Z\",nocode\\n615492053535969280,\"@swo_hunter @britishmuseum \\xf0\\x9f\\x98\\x82\\xf0\\x9f\\x98\\x82\",nocode\\n613704109842165761,\"Looking forward to attending #DefeatDepression at @RAMMuseum this evening.\",happy\\n611932367884808192,\"@britishmuseum Love!\",happy\\n613783679089782784,\".37 Paintings. 11 Drawings. @NationalGallery exhibits #Wtewael from Jun 28-Oct 4. #GoldenAge http://t.co/IrcwM43lUa http://t.co/c4x7XTmMCH\",nocode\\n611601135229607936,\"@ RT: \"\"RT @britishmuseum: Today marks the 200th anniversary of the Battle of Waterloo, f...\"\" http://t.co/j2r9m5cElU\",not-relevant\\n612999802389929984,\"New Pollock exhibition @tateliverpool looks back at a time when Jack the Dripper splashed out http://t.co/GHc4Zyrd6Y http://t.co/tvCN1KeGHb\",nocode\\n610747756517412864,\"@NationalGallery #askthegallery - do you see a decline in attendance in the last few years in young people?\",nocode\\n614016534499979264,\"London by [at]cassc246 #enlightenmentgallery @britishmuseum  #library #gallery #museum #cabinet #artifacts #statue \\xe2\\x80\\xa6 http://t.co/kKjxNM2x66\",nocode\\n612342797497159680,\"@helena_bonett it\\'s Lincoln #materialhistories @Tate_StIves\",nocode\\n613371623836680192,\"@tateliverpool Look at our great fun we had today. Thank you Deena. http://t.co/qKGEY3BvmC\",happy\\n612580131522146304,\"\\xe6\\x84\\x9f\\xe5\\x8b\\x95 (at @NationalGallery in London, Greater London w/ @_y_u_k_o_ @yukanoue) https://t.co/ZqjW66qGhX\",nocode\\n613654567797018624,\"@britishmuseum Thanks for sharing! You\\'re now featured on http://t.co/3r5WPxT0Jc http://t.co/vBECDK2bj5\",not-relevant\\n614372322577895424,\"@psframes @NationalGallery Regal. Frans Hals is so deserving of this frame.\",happy\\n614731237832425472,\"Really looking forward to visiting @_TheWhitechapel this weekend to see Corin Sworn\\'s award-winning installation &gt;&gt;&gt; http://t.co/69XSOI63o3\",happy\\n613355230277844992,\"Lessons in death and living @NationalGallery 4 July, 2\\xe2\\x80\\x934 http://t.co/Kr3NEYU36B with Jon Underwood &amp; Christina Bradstreet\",nocode\\n614110959771197440,\"Londres: @NationalGallery @Llopeziborra @MarcelBETR @andresstifler3  @antoniovargas97 @Gerardivi http://t.co/BdxM2qvAPJ\",nocode\\n610359977916690432,\"Londoners interested in #nature may enjoy this free event @NationalGallery #London http://t.co/LIVNTILjUE\",nocode\\n615495384387993600,\"BritishMuseum: RT @melly_sue: Spent the morning learning about #8mummies @britishmuseum. Fascinating and well-pres\\xe2\\x80\\xa6 http://t.co/wZJlQNS6F0\",happy\\n615504237607391232,\"2 very special places: we loved going to the @HornimanMuseum when I was training in London; and now we\\'re regular visitors to the @RAMMuseum\",happy\\n610741239604973569,\"Go if you can, @kettlesyard is a beautiful and inspiring place. https://t.co/Qcee8aFrvr\",happy\\n614111482377281536,\"@ruthgarmon97 @NationalGallery @MarcelBETR @andresstifler3 @antoniovargas97 @Gerardivi Quina enveja!!! Gaudeix molt\\xc3\\xadssim!!\",happy\\n613034298497736704,\".@MAACambridge ... not forgetting world class art &amp; stunning exhibits at at the Fitzwilliam Museum, Scott Polar Institute and Zoology Museum\",happy\\n612634461805654017,\"@PlymouthMuseum @7Stories how long is the Enid blyton exhibition on for?\",nocode\\n614760606785216512,\"@CultureGrrl @britishmuseum Your analysis superficial: Financial picture of museums in the UK is dire thanks to tory policy\",not-relevant\\n612589740030881792,@britishmuseum,not-relevant\\n610375148332535808,\"Una app con actividades en torno a la colecci\\xc3\\xb3n de la @NationalGallery para ni\\xc3\\xb1os a partir de 9 a\\xc3\\xb1os. http://t.co/ltzvrlx26m #appartkids\",nocode\\n610411799398219776,\"@NationalGallery #AskTheGallery Will Candy Udwin be reinstated and  she and her colleagues be paid a living wage?\",angry\\n613242568642592768,\"The Touch Diaries trailer! https://t.co/J1CJTKG1aV premiere 9th July @ICIABath @BathDance @theatrebristol @SimoneFullagar @DanceSpaceBris\",nocode\\n610391234641821696,\"@RAMMuseum Would you like to welcome children with hidden impairments to the museum? see this http://t.co/E7HstQCGci\",nocode\\n612591810104434689,\"@britishmuseum @D_Blanchflower and thanks to the Tories no one can get close to see it,let alone have a festival, remembering 85\",angry\\n611921054622162944,\"A warm welcome to all our #FF followers this week @Visit_Exeter @LandBoneStone @RAMMuseum @authorceallan  @WestminsterSSG @paulhenshall\",not-relevant\\n612639973439864833,\".@britishmuseum: Today is longest day in northern hemisphere \\xe2\\x80\\x93 #SummerSolstice at Stonehenge http://t.co/7gQd33QJDo http://t.co/JpMv4yGlZC\",nocode\\n613428853290213376,\"Weapons of resistance: Jandamarra, a hero of the Bunuba people http://t.co/x7BUFP8Rre via @BritishMuseum\",nocode\\n610355427893772289,\"Simon Armitage in conversation with Thresholds poet Matthew Hollis @CamUnivMuseums on 6 July: http://t.co/IgtiRsKhvk http://t.co/kbljTdgPiJ\",nocode\\n611796344047554560,\"One of the few items delivered in your post that will make you smile. @Libby_Keen let\\'s head back to @britishmuseum http://t.co/Ruly8vaHxN\",happy\\n615241942490816512,\"The Nereid Monument was built in Ancient Lycia (Turkey). Pinched by 19th Century tourist, now at @britishmuseum! http://t.co/qXHjL3TBg5\",happy\\n614026838877319169,\"CultureGeek http://t.co/tJitgDhGcx via @camunivmuseums\",nocode\\n611523281141788672,\"@britishmuseum @aroberts_andrew Our sister museum @DumfriesMuseum has a Waterloo exhibition this year.\",nocode\\n613689257887182849,\"I\\'m at @BritishMuseum in London, Greater London https://t.co/cn2ZmSBHkt\",nocode\\n614724738917621760,\"@NationalGallery Uccello\\'s \\'The Battle Of San Romano\\'-Loved it when I learnt abt it and even more when I actually saw it at Nat Gall.\",happy\\n614782619734142976,\"#glitter Turq dress worn for a precursor of #Strictly @RAMMuseum collections on display, &amp; own pattern 4 crochet mini http://t.co/4id111kmrE\",nocode\\n614056371101765632,\"Congrats @nia_loves_films &amp; @Shazzapre who\\'ve won a pair of tix to The Artists Present @_TheWhitechapel on Sat! Collect tix from box office\",not-relevant\\n612717479710724096,\"@annap905 @britishmuseum   si troppo tardi anche per me \\xf0\\x9f\\x98\\xa6\",nocode\\n613645941837557760,\"Weapons of resistance: Jandamarra, a hero of the Bunuba people http://t.co/aEpjxd6fqU v\\xc3\\xada @britishmuseum\",nocode\\n610741228968247296,\"@NationalGallery en what about artist Larry Bell still making art ?\",nocode\\n615539890059657216,\"Actually it might be Ivana\\'s big sister.. @3speeders @Tate_StIves http://t.co/KSKAsW64mz\",nocode\\n613294630545833984,\"@britishmuseum quern-magnet\",nocode\\n613396625646559233,\"...and then visit \\xe2\\x80\\x98Fallen Emperor: Napoleon in Plymouth Sound in 1815\\xe2\\x80\\x99 @PlymouthMuseum  https://t.co/YUrlNdgi8X\",nocode\\n610761506532274176,\"Especially looking forward to hearing @sufeamono and @stevenhylando from @tateliverpool on the panel at #Circuit2015 @CircuitPHF @Tate\",happy\\n615158070814097408,\"Loved hearing from Stephanie Straine, co-curator @tateliverpool\\'s Pollock - sharing her joy &amp; passion for his genius http://t.co/ULRig7bO1a\",happy\\n614030594067025920,\"Where\\'s Whaley? Moving @zoologymuseum @whale_whispers Skull. Again. http://t.co/bYUcj9BWHy @camunivmuseums\",nocode\\n615436486645809152,\"As it\\'s only about Greece today... #lastdays to revisit @britishmuseum ancient Greek art http://t.co/rHJxoGmfYE http://t.co/bhpb7uDku7\",nocode\\n611209644200067072,\"@FitzMuseumEduca @carreno_k @CamUnivMuseums - you are very welcome @MirandaStearn and see you in July\",happy\\n611624344410849282,\"@BMAGcurators @artfund @NationalGallery Fully agree - huge congratulations @HelenHillyard! :)\",happy\\n610743836227293185,\"#AskTheGallery How highly do you rate your tenure at @NationalGallery &amp; what was your greatest achievement?\",nocode\\n611851762987876352,\"le journal est sorti de presse! http://t.co/kwij5kImA4 Les unes d\\'aujourd\\'hui via @britishmuseum @you_wine @AndrewsAntonio\",nocode\\n611111500917420032,\"Wow. Great work @tateliverpool Jackson Pollock exhibition is going to be amazing. http://t.co/7VPYz8tYMj\",happy\\n614076587839852544,\"@hamestonbooks @britishmuseum Worth hearing, just shut your eyes http://t.co/hn2S9waoTX\",nocode\\n613058579927592960,\"@NationalGallery The 2nd GENOCIDE against #Biafrans as promised by #Buhari has begun,3days of unreported aerial Bombardment in #Biafraland\",not-relevant\\n611601128061554688,\"This is the gold Roman wedding ring mentioned in my novel SUMMER OF FIRE. This one from the @britishmuseum http://t.co/1HP6JKFfCt\",nocode\\n613402078929678337,\"@NationalGallery this is real art a great inspiration\",happy\\n613748721516457984,\".@angelaeagle can you attend adjournment debate tomorrow @NationalGallery #noprivatisation &amp; #reinstatecandy @NGNotForSale @PCSCultureGroup\",nocode\\n610692207599878144,\"Look! #Siberian village #landscaoe carved in Narwhal ivory, ?19thC, @MAACambridge http://t.co/EZ4Ssh8v1b http://t.co/KH5pOVS2rW\",nocode\\n611549198064861184,\"Entitled \\'@NationalGallery and modern British #art\\', Barbara will explore how the gallery inspired artists like Roger Fry and August Johns.\",nocode\\n613285184029503488,\"@NationalGallery  Buhari joined boko haram in killing Biafra fir the pass three days http://t.co/l2rxH5YLBT\",not-relevant\\n613147767196684288,\"@britishmuseum One of my favourites -- Napoleon as a comet with a hat http://t.co/f6ONriy3aH http://t.co/4toFmvtXID\",happy\\n611523593449697280,\"@britishmuseum @aroberts_andrew who holds the biggest archives/ collections relating to the Battle? #Waterloo200\",nocode\\n613215210124537856,\"@_TheWhitechapel VENETO - UNESCO - THE OPERA, oltre l\\'Expo\\' e la Biennale, il Governo del Mondo su http://t.co/NsOuQRnFYV\",nocode\\n615188055255842817,\"Exhibition Openings, Art Fairs and Events in July 2015 http://t.co/tOdxRSpRON @NationalGallery #Soundscapes\",nocode\\n611525719584174080,\"@britishmuseum @FayMaclachlan  I didnt see these names like this when I made my Twitter name\",not-relevant\\n614435131974152196,\"#FF @Brays_Cottage @CambCC @NuffieldHealth @FitzMuseum_UK @sugarhut @micky_norcross @cambsphoto @Uni_of_Essex @MartinSLewis\",nocode\\n611623409424928768,\"Excited to see students from @northcamacademy perform dance pieces inspired by @kettlesyard New Rhythms exhib on Sat http://t.co/XfFnNo4zdv\",happy\\n614060373466050560,\"Yes, you heard right, there\\'s a new Jackson Pollock exhibition opening at @tateliverpool  http://t.co/Ci44pbElfc http://t.co/McQQB4hwWY\",happy\\n611344563324776448,\"@paulwkennedy Streeton\\'s \\'The National Game\\'1889 on cigar box lid! @NationalGallery @ArtGalleryofNSW @joselechiguero http://t.co/v5luU1ZdCy\",happy\\n611583273677008897,\"@FL_FLAMIN artists present their work @_TheWhitechapel 27 June - looks pretty darn good! http://t.co/7I4IIxirCR\",happy\\n613280474581090304,\"Have you heard of the Soup Collective? Deborah Laing fills us in.... http://t.co/kTOJDl9zLr @tateliverpool http://t.co/e4SvBWqjiu\",nocode\\n612277635855589376,\"@TheLancet @britishmuseum Now tell that to our Government\",nocode\\n610531954577043457,\"#AskTheGallery Dr Penny, Will you re-enter negotiations with staff who have been on strike for 35 days? @NationalGallery @NGNotForSale\",angry\\n612923162423128064,\"Why #JacksonPollock gave up painting - about the \\'Jackson Pollock: Blind Spots\\' exhibition at @TateLiverpool ihttp://gu.com/p/49qv3/stw\",nocode\\n614092424709840896,\"Look what we\\'ve spotted outside The @NationalGallery. #starwars #lifesize #yoda #nationalgallery #leicestersquare http://t.co/Ztn0OPZByw\",happy|surprise\\n611469674056937472,\"@kettlesyard thanks for the RT!\",happy\\n613775869321064448,\"A @Tate gallery in Glasgow could save the union - glowing review of \\'warm &amp; imaginative\\' @tateliverpool  http://t.co/kv7cHBAHQN\",happy\\n614800748841406464,\"I\\'m at @BritishMuseum in London, Greater London https://t.co/zS8B8pA6N6\",nocode\\n614763444160610304,\"@britishmuseum  \"\"The whole art of war consists in getting at what is on the other side of the hill\"\" Duke of Wellington. How true at Waterloo\",nocode\\n612964620874158080,\"It was on Friday and we did not know in Brazil, @britishmuseum. But today we share their kisses. Beautiful, we love! https://t.co/5q1KEoMLru\",happy\\n610364407646978048,\"@NationalGallery If you could invite 3 old master painters to a dinner party, who would they be and why? #AskTheGallery\",nocode\\n613292202501009412,\"@britishmuseum @TullieHouse He may have destroyed the Jewish Temple though he did also lay the foundations of Carlisle so he wasn\\'t all bad.\",happy\\n614128525839200256,\"@NationalGallery probably forebear of Dot Per Inch (DPI) concept of the IT era.\",nocode\\n613978469458964480,\"@CreativeBCuk @NationalGallery You might see before me. So let me know what you think.\",nocode\\n612183570841534464,\"This Sat #CastleHill15 is packed with free events indoors &amp; out for all ages - plus last chance to see @kettlesyard http://t.co/rrCDfix7Hx\",nocode\\n613007091826053120,\"@NationalGallery The 2nd GENOCIDE against #Biafrans as promised by #Buhari has begun,3days of unreported aerial Bombardment in #Biafraland\",not-relevant\\n611875609183191041,\"Last episode of @BBCRadio4\\xe2\\x80\\x99s Napoleon series starts in 10 mins. Andrew Roberts visits Paris &amp; the  @britishmuseum\\xe2\\x80\\x99s cartoon exhibition\",nocode\\n611531044135784449,\"@britishmuseum How did the British double line formation and squad fire work? surely not the entire battalion in one long line 2 deep?\",surprise\\n613305460817567744,\"@CamOpenStudios #Streetphotography #Suffolk #Manchester #SocialDocumentary @ManchesterArts1 #People @FitzMuseum_UK http://t.co/NmhmwoNqDe\",nocode\\n611905505217396736,\"@chr1sm1chaels follow with interest delivery of his ambitious vision @britishmuseum #ff #culturegeek\",nocode\\n613049825962102785,\"Absolutely loved my first visit to @tateliverpool, such a beautiful collection, so thoughtfully and imaginatively curated.\",happy\\n615278935660732418,\"@NationalGallery my fav\",happy\\n610774490277134336,\"@ARTtuned @pollytoynbee @NationalGallery Who can\\'t spell \\'Solution\\'? #Spellchecker\",not-relevant\\n614352145589080064,\"Maclaine the #highwayman robbing Lord Eglington [sic] on #HounslowHeath #OnThisDay 26th June 1750. @britishmuseum http://t.co/3CHizIYw7v\",nocode\\n611206871597363200,\"@FL_FLAMIN : the Artists Present\\xe2\\x80\\xa6 with Beatrice Gibson, Sarah Turner &amp; Larissa Sansour http://t.co/TR3VI57skn @_thewhitechapel @Film_London\",nocode\\n615141346429435904,\"What an amazing facility is the @NationalGallery on a par with the Uffizi and the Louvre, well worth a visit https://t.co/ubP9eDg0el\",happy\\n612674249619341312,\"Feeling closer to home @britishmuseum\\'s #IndigenousAustralia. Great a/v displays, doesn\\'t shy from big issues. #art http://t.co/gSgyhXWEgT\",happy\\n613012183736168450,\"Our incredible \\'small object\\' store, which we share with @V_and_A and @britishmuseum  https://t.co/dJnQMdixnp\",happy\\n613952259429396481,\"@NationalGallery #new #Exhibition #Soundscapes opens on 8 July.\",nocode\\n611576256765784064,\"@britishmuseum Thanks to Napoleons Egyptian Expedition, we, the world, nowadays know a lot about ancient Egypt. One very good achievement!!!\",happy\\n614409604890513408,\"eek! Need to put this date in the diary - &amp; get down to the @NationalGallery . #love soundscapes. #art #music #life  https://t.co/KMrnECrzqp\",happy\\n612571971646287872,\"@kettlesyard - thanks for following - gilldesignled\",not-relevant\\n613023925606436864,\"Acrobatics with Oscar for @RAMMuseum #artistreflections http://t.co/TYyIRwDzhy\",nocode\\n615541639864520704,\"\\'this is art as nervous breakdown ... and it\\'s majestic\\' #Pollock @TateLiverpool @guardian  http://t.co/Yv2mjibdjV\",happy\\n615456583829618688,\"@NationalGallery an inspiration to many a girl in search of marriage no doubt. Artists don\\'t make v good husbands regrettably\",happy|sad\\n614171649726754816,\"@britishmuseum That\\'s stunning.\",happy\\n615081026138808320,\"\\xe2\\x80\\x9c@NationalGallery: Monet married his wife Camille #OnThisDay in 1870. \\'The Beach at Trouville\\xe2\\x80\\x99. http://t.co/ZZ0RigjVod\\xe2\\x80\\x9d#artist\",nocode\\n612614277632016384,\"I love showing off in @NationalGallery when friends can\\'t see Holbein\\'s skull in The Ambassadors, \\'you just need to stand there\\' \\xf0\\x9f\\x92\\x80\",happy\\n612691007990317056,\"Anglo-Saxon drinking horn found in the Taplow burial, dated to the late 6th century AD (On display @britishmuseum) http://t.co/rfJYuuEFxN\",nocode\\n615220118310793216,\"@barjanas @britishmuseum Hmm that\\'s interesting, it was his aunt Catherine of Aragon\\'s badge, wasn\\'t it?\",nocode\\n613706423415894016,\"Save the date for Artist Talk: Svend Bayer @PlymouthMuseum http://t.co/0GkwYNNgm4 Tues 14 July, 1.10pm\",nocode\\n612971022753656832,\"@NationalGallery The 2nd GENOCIDE against #Biafrans as promised by #Buhari has begun,3days of unreported aerial Bombardment in #Biafraland\",not-relevant\\n614729329696763904,\"@FitzMuseum_UK well I never knew that...\",surprise\\n611536210142605312,\"Lothar G\\xc3\\xb6tz \\'Mirror Image\\' lothargoetz @Holeeditions @MertensFrames @_TheWhitechapel @ContempArtSoc http://t.co/LRJRsHNuMQ\",nocode\\n611992262290055168,\"I still get a shiver of delight and excitement every time I walk up to the place :0) @britishmuseum https://t.co/OPS34oPIiu\",happy\\n612979936413020160,\"This is also one of our favourites from the @NationalGallery  https://t.co/oqDlQGJdYd\",happy\\n611933786658467840,\"@kettlesyard Managed a last visit - if you need extra storage for a couple of my favourites I\\'d be happy to oblige ;) http://t.co/OrjfuyT5Es\",happy\\n614039102657310720,\"MT @britishmuseum: @britishlibrary opened at St Pancras #onthisday in 1998! Learn more: http://t.co/o35s7XQveo http://t.co/Fh9rJeRW6w\",nocode\\n613044765496635392,\"@NationalGallery The second GENOCIDE against #Biafrans as promised by Buhari has begun, 3 dys of unreported aerial Bombadment in Biafraland\",not-relevant\\n611856448138702849,\"Piero della Francesca conference at @CourtauldRes &amp; @NationalGallery: might bring new thoughts on our Piero? http://t.co/hzUf21VWWf\",nocode\\n612575988765954049,\"@NationalGallery favourite summer art is Seurat, Bathers at Asnieres\",happy\\n613739835208019968,\"Old Shield in @britishmuseum #art #discover #history http://t.co/BKeEcdjVN1 http://t.co/i2xn21gLZw\",nocode\\n612227955377500160,\"Please feel free to stop by today! #CastleHill15 @cabinet_curios @kettlesyard @CambridgeNewsUK http://t.co/NOl5F4X3V0\",nocode\\n614577307194400768,\"@RieHepworth @PaulKindersley @NTHepburn @kettlesyard no neither am I\",nocode\\n613690542480846850,\"La @tateliverpool abre Blind Spots de #JacksonPollock,serie realizada entre 1951-1953,exhibidas luego de 30 a\\xc3\\xb1os #art http://t.co/t5ObLCUZyf\",nocode\\n614752601133948928,\"\\xe2\\x80\\x9c@NationalGallery: Have you seen our new Instagram account? Stop, look, discover, and share with us: http://t.co/5kHBrRaUVj  Love Canaletto\",nocode\\n611443356204449792,\"Read our latest e-news: Richard Long on A Line Made by Walking, @lilianelijn licensed for #IMOOS @Tate_StIves &amp; more http://t.co/usdb4IKDlp\",nocode\\n611541454108930048,\"@LandOfHistory @JHGHendriks @britishmuseum @aroberts_andrew fertilizer trade in the years following the battle.\",nocode\\n615521799376384000,\"@tateliverpool new Jackson Pollock:Blind Spots exhibition opens to the public tomorrow #excited #Liverpool #art Not to be missed!\",happy\\n608561061172772864,\"#IloveMuseums because every time I visit I find out something new! @CamUnivMuseums @ILoveMuseum\",happy\\n612250489854525441,\"Very good exhibition of WM Turner watercolour works donated for John Ruskin collection @FitzMuseum_UK #culturaldayforanortherner\",happy\\n613740644301864960,\"10 #JohntheBaptist things w/ @mattswaim @MagnificatMag @NationalGallery @Pathound  @LawrenceOP @FrSteveGrunow + https://t.co/qheYPM7V1S\",not-relevant\\n610747568704892929,\"@NationalGallery @AnnaMacPhail I agree , it is so exquisite  \\xf0\\x9f\\x92\\x95\",happy\\n610508156024696832,\"Join us tomorrow for Dr Nicholas Penny\\'s live Q&amp;A . Tweet your questions using #AskTheGal... http://t.co/VfM8MgH9aj via @NationalGallery\",nocode\\n615148882431971328,\"@BBC_Culture @britishmuseum  (Greek Lovecouple) by my father Carl Kohler 1919-2006 http://t.co/vPpafIr3BA http://t.co/4MmLYU6lPA\",nocode\\n611251519166541824,\"The Jackson pollock exhibition coming to @tateliverpool is a must see! I can\\'t wait to see it!\",happy\\n612300906290397185,\"{ @britishmuseum } #drawing #art #London #ttot #lp #vacation #trip #photography #photo #Travel #travelpics http://t.co/nqsCwbLwst\",nocode\\n610781869605433344,\"Do you appreciate art with all your senses? Start your weekend with us and find out http:... http://t.co/xOQj0w0m8M via @NationalGallery\",nocode\\n611153439817605120,\"Time is running out to catch New Rhythms @kettlesyard as well as our selection of Gaudier-Brzeska\\'s birds in Helen\\'s Bedroom, 5 days left!\",nocode\\n613123347107446785,\".@britishmuseum all about the world history, but they should learn about the real summer! Hahaha http://t.co/SiufoTQyEe\",happy\\n612968962918346752,\"Se fuori piove facciamoci un po\\' di cultura... (at @NationalGallery in London, Greater London) https://t.co/kpLxrgvEum\",nocode\\n614188803192918016,\"Looks like my kind of place. :-) @altogal @30DaysWild @MadifiedMum @kettlesyard\",happy\\n613302203604987904,\"@nautilusnat @kowarikirstie @camunivmuseums Hurray! Welcome!\",happy\\n612743251892793344,\"@EuropesHistory @NationalGallery What did the Doge do?  http://t.co/2VP6wSr29L\",nocode\\n611917005789204480,\"Good meeting the team of @wrexhammuseums and @britishmuseum  here at Wrexham Museum for the opening of the new Egyptian exhibition.\",happy\\n614402967173734400,\".@britishmuseum It\\'s such a wonderful, evoking exhibition! #DefiningBeauty\",happy\\n612091980487659520,\"Just finished Irving Finkel\\'s \"\"The Ark Before Noah\"\" featuring @britishmuseum tablets, photo by @mike_peel shown. https://t.co/gJpEjgVNMy\",nocode\\n615426298303877120,\"Looking forward to starting my residency at @ICIABath today!\",happy\\n611596292851109888,\"@tatteredstones yes, @kettlesyard is one of my favourite galleries. Very relaxing atmosphere :)\",happy\\n610676992489357312,\"Second phase of Cornwall\\xe2\\x80\\x99s Tate St Ives steams ahead @Tate_StIves @ILoveCornwallUK @BAMConstructUK http://t.co/mGD2UhGHim\",nocode\\n612917764894932993,\"Roman #cameo @britishmuseum w/ Cupid holding satyr mask http://t.co/BVHlGLXwAU http://t.co/07OmEaJFex\",nocode\\n612943764504457216,\"@NationalGallery The second GENOCIDE agvainst#Biafrans as promised by#Buhari has begun,3 days of unreported aerial Bombardment in#Biafraland\",not-relevant\\n611185576042201088,\"a chance to see @FL_FLAMIN artists (friends of ours) #sarahturner  http://t.co/pAYPEfj040 @_TheWhitechapel\",nocode\\n611616428001730561,\"@britishmuseum Thanks so much for doing this. I absolutely love it. \\xf0\\x9f\\x8e\\xa8\\xf0\\x9f\\x93\\xb9\",happy\\n610416555378221056,\"@DavidSmithArt @ThelmaHulbert Well done!!\",happy\\n611070808442707968,\"Stop the privatisation of services at the @NationalGallery! Sign the petition now: https://t.co/WDFjCKMnIt via @38_degrees\",angry\\n613641769117466624,\"Inspiring article. Now I\\'m wishing @FitzMuseum_UK or Cambridge University Museum of Zoology might put on a show... https://t.co/XmweHYdn1A\",happy\\n614880920223547393,\"@NationalGallery @LondonArtWeek\",nocode\\n613004658345439232,@britishmuseum,nocode\\n611263942380269568,\"@NationalGallery The cropped image in the timeline looks like something entirely different - anyone else see it?\",surprise\\n612005890582020096,\"#FF @ShannonGrissom @CASSART @LondiniumLife @NationalGallery @NPGLondon @Tate @tintedsteam @JohnConstableRA @royalacademy\",not-relevant\\n613653008757465088,\"#London @NationalGallery - open call for submissions of papers on the subject \"\"Is Art Now Too Expensive for Museums?\"\" http://t.co/4hk5gayzKR\",nocode\\n611538970443390976,\"@britishmuseum \"\" L\\'Angleterre est une nation de boutiquiers.\"\" #Waterloo200\",not-relevant\\n614401001467060224,\"I\\'m at @BritishMuseum in London, Greater London https://t.co/ioaYQbbLDC\",nocode\\n613332655539666944,\"I\\'m at Museum of Archaeology and Anthropology, University of Cambridge - @maacambridge in Cambridge, UK https://t.co/sw0xkOWUwt\",nocode\\n614477714154725376,\"#VanGogh \\xc3\\xa0 la @NationalGallery http://t.co/coBxyJZFZ6\",nocode\\n615483621336596480,\"Townsend also designed @_TheWhitechapel with it\\'s beautiful mosaic, illustrated here #architecture http://t.co/FLUJlLzWuV\",happy\\n612860087309332480,\"#NG365 Jacob van Ruisdael\\'s \"\"The Shore at Egmond-aan-Zee\"\" c.1675 @NationalGallery #art #twitart @JohnConstableRA http://t.co/8RZNKbfaRf\",nocode\\n612249533058297856,\"Very imposing @FitzMuseum_UK excellent visit http://t.co/XRDQtfc7yT\",happy\\n610772835099766784,\"Opening tomorrow @PlymouthMuseum http://t.co/Q1rq3JTEMk Mystery, Magic &amp; Midnight Feasts - Adventures of Enid Blyton http://t.co/rHbpp2hZYs\",nocode\\n612626243264094208,\"I\\'m at @NationalGallery in London, Greater London https://t.co/qQz4npQhCD\",nocode\\n612585997029670912,\"@DrLivGibbs @britishmuseum Very impressive! I would certainly be inspired each day entering the RA.\",happy\\n614854898442747904,\"Fabulous Greek Statues exhibition @britishmuseum. Learnt so much. Including physical beauty being a sign of inner goodness. \\'Struth I\\'m evil\",happy\\n615547649425543168,\"What touch codes exist between us? Trailer for my film The Touch Diaries https://t.co/J1CJTKG1aV Premiere 09/07 @ICIABath @PeopleDancingUK\",nocode\\n611522291491442688,\"@Ophiolatrist @britishmuseum Because people like the #French and not so much the #British who went about like pirates with naval might.\",nocode\\n612343816151040000,\"Back a winner with the @NationalGallery collection from @WorksInPrint #RoyalAscot http://t.co/AN7mIeDWs8 http://t.co/zxNPMoImR8\",nocode\\n613972253991174144,\"Sir Nicholas Penny, who recently retired as head of the @NationalGallery will also be receiving an honorary degree http://t.co/jdyE7kCM6V\",nocode\\n612279526308098048,\"TY @aprylmiller26 Also follow @LoudenStudio @NYAcademyofArt @NationalGallery 2017 Abstract Film Program #FF #HungryGhosts @The_Clocktower\",nocode\\n611843491400843265,@britishmuseum,nocode\\n612970228880945153,\"So pleased I was able to see @britishmuseum \\'Ancient Lives, New Discoveries\\' exhibition before it closes on 5/7. Fascinating use of tech!\",happy\\n611542580703051776,\"\"\"@opheliawithagun: Rosetta Stone \"\"@britishmuseum: .@SenderosP example of what the Napoleonic Wars brought out of Egypt  IT IS A TREASURE!!\",nocode\\n614734402556428288,\"The \\xc2\\xa325 @britishmuseum #definingbeauty publication photo cropping &amp; repro is at times poor though. Tempted to refund http://t.co/e9IX10TpAH\",sad|disgust\\n613309859266740224,\"#DonneInArte #PostImpressionismo  @elvisprendushi   Les Grandes Baigneuses, Paul #C\\xc3\\xa9zanne @NationalGallery http://t.co/Nu2AQ9w5Xe\",nocode\\n611518282538057728,\"Termas: Underwater Throne @Tate_StIves last weekend http://t.co/vJIWogI6fM http://t.co/mNKPXFkpK8\",nocode\\n610486430503186433,\"Caro\\'s tribute to Duccio @NationalGallery is a wonderfully mysterious thing - all edges and spaces in waxed wood. http://t.co/BxgQZZaR86\",happy\\n611871180258197504,\"What\\'s missing? Fill the space with your own Gaudier Brzeska tomorrow @kettlesyard #CastleHillOpen http://t.co/BrtudNfN6J\",nocode\\n615163762010537984,\"Rubens was born #OnThisDay in 1577. You can view many of his works, including \\'Samson and... http://t.co/Jc3Bu5hHIz via @NationalGallery\",nocode\\n611850337268449280,\"@NationalGallery Art does you good. Also there are lovely flowers. http://t.co/5DxyT8ju87\",happy\\n614687285628563456,\"Off to @SegedunumFort shortly to hear Lindsay Allason-Jones in a lecture and see fab @britishmuseum collection there. http://t.co/YbbLSTUN3i\",happy\\n615438863545331712,\"Early photoshoot @PeelPorts now off to @tateliverpool to shoot the amazing #jacksonpollock for US magazine @PatronMagazine\",happy\\n614311471850385408,\"Pay went in - whoop. If I am feeling okay after work I want to head to the @britishmuseum to finally catch defining beauty\",nocode\\n615285145487040512,\"[\\xeb\\xaa\\x85\\xed\\x99\\x94\\xec\\x82\\xb0\\xec\\xb1\\x85] \\xeb\\xaa\\xa8\\xeb\\x84\\xa4, \\xed\\x8a\\xb8\\xeb\\xa3\\xa8\\xeb\\xb9\\x84\\xec\\x97\\x90 \\xed\\x95\\xb4\\xeb\\xb3\\x80\\xec\\x9d\\x98 \\xec\\x9e\\x90\\xeb\\xa7\\xa4 RT @NationalGallery: Monet married Camille #OnThisDay in 1870 \\xe2\\x80\\x98The Beach at Trouville\\xe2\\x80\\x99. http://t.co/Qej4hn7hnM\",nocode\\n614020172903489536,\"Looking forward to watching the #BAFTA-Nominated @kajakimovie tonight at @ICIABath @irwinmitchell with @craigham79 ahead of @ArmedForcesDay.\",happy\\n613516950468231168,\"Had a chat with a guide in @NationalGallery about baby Jesus being big in paintings. We decided it\\'s because Jesus was King Of The Babies.\",happy\\n611915196018356224,\"@ConsortiumX @bencnn @britishmuseum Why at the British Museum? Highwayman! return the stolen goods to its owners! All its colonial pillage!\",angry\\n614850607489417216,\"Rediscovering my love of PreColumbian #America: Jago Cooper\\'s #Inca: Masters of the Clouds. Awesome! @britishmuseum http://t.co/oFVFTVrG1a\",happy\\n615253597190778881,\"Really enjoyed hearing @SStraine talk with such enthusiasm about #pollock at @tateliverpool this afternoon.\",happy\\n610706243787866112,\"Private curator\\'s tour of #Watercolour exhib @FitzMuseum_UK inc some items from @winsorandnewton archive http://t.co/MF2XpVpWGU\",nocode\\n615258712068988928,\"@britishmuseum @AYDSMA two of those ... I would have never thought that they\\'re his\",surprise\\n615228176063705089,\"@MrStuchbery @britishmuseum  Is that the British Museum,Luton?\",nocode\\n613467677957468160,\"Excellent post-classical classicising graffito outside @britishmuseum #SenecaRules http://t.co/Sdjh60U9qW\",happy\\n613420643275657216,\"The @IndyTravel goes to St Ives  @ILoveCornwallUK @PorthmeorStIves @Tate_StIves  https://t.co/5AEYL8BYBW\",nocode\\n610415504382140416,\"Head of Communications @_TheWhitechapel FT, London #artsjobs http://t.co/Ncq14yuqyM Closes soon!\",not-relevant\\n612655322407153664,\"Stonehenge on summer solstice w/ sun rising behind slaughter stone, Bertram Buchanan British 1889-1920 @britishmuseum http://t.co/EGD6IB5hlL\",nocode\\n612106874150907905,\"Cuneiform Clay tablet; New Babylonian, c.6thc. BCE. Astronomical record about Jupiter; acquired Iraq @britishmuseum. http://t.co/1awbmz4upA\",nocode\\n610452968882569217,\"Last week to see \\'New Rhythms\\' at @kettlesyard featuring work by Henri Gaudier-Brzeska (closing 21 June) http://t.co/QYB8ibkIqG\",nocode\\n615396653281972224,\"#NG365 Vuillard\\'s \"\"The Mantelpiece\"\" (1905) @NationalGallery #art #twitart http://t.co/yCNLmQwrS3\",nocode\\n614491093200203776,\"@britishmuseum tempted, as staying close to the museum that night\",nocode\\n614799393070432256,\"Loved this exhibition @britishmuseum ... #egyptian #mummies http://t.co/ZY2HaMNwk9\",happy\\n614452212576710656,\"City #Culture/#Travel news we picked up today: http://t.co/2n2f42TfO9. Original tweets via: @travelsofadam @britishmuseum @CultureNI.\",not-relevant\\n614034346719191041,\"Thanks @ArtandPerfume for showing us this @NationalGallery event: death + paintings = yes! - http://t.co/kfAFrgyp84 http://t.co/9VTFbonY4U\",happy\\n610727455960231936,\"1 of my images selected for \\'Evolver\\' magazine 50 Finalists Show @ThelmaHulbert opens 4/7 \"\"Four Fish\"\" @SimonEvolver http://t.co/Ew4MuwoZ2N\",nocode\\n615253937055252481,\"@MrStuchbery @britishmuseum Great photos. Definitely going to visit over the summer.\",happy\\n612974147069542400,\"@liamworrall93 @NationalGallery Liverpool Student Offers: http://t.co/hm2Vq8L5dc\",nocode\\n614901970760036352,\"@souzeeb I bet @britishmuseum is good. Search for all your favourite art institutions. Bye for now\",happy\\n613281023363809281,\"To celebrate new Pollock exhibition @tateliverpool has amazing ticketed event of live \\'Pollock\\' jazz on 4 July. Visit website for tickets\",happy\\n615412136408412160,\"The #DefiningBeauty exhibition at the @BritishMuseum is *fantastic*. Closes on 2nd July so hurry hurry! Taster here: http://t.co/KkbViliNyc\",happy\\n615111656964689921,\"Just a week left of \"\"Defining beauty: the body in ancient Greek art\"\" @britishmuseum - on until 5th July! http://t.co/eDOPR8QGWa\",nocode\\n613725181136211968,\"Saturday 4 July @_TheWhitechapel #London A symposium of #radical #film from contemporary #Greece: Athens NOW http://t.co/3MNJkQQ8WE\",nocode\\n613285031696576512,\"@NationalGallery   Buhari joined boko haram in killing Biafra people for the pass three days http://t.co/AUzsIjsCof\",not-relevant\\n611889788543729664,\"Historic Kitchen takes on some pungent #recipes from a @britishmuseum #AncientRome cookbook. http://t.co/glZwvZUz1b http://t.co/4KU22FqFcM\",nocode\\n615163320820211712,\"@MontacuteNT @NationalGallery I certainly did! I didn\\'t get a chance to look round the gardens so will definitely be back soon!\",happy\\n612003780801003520,\"Gallery no. 1 @britishmuseum #londonsights http://t.co/KY2Wk4BOkO\",nocode\\n611544027284963329,\"@britishmuseum Did Napoleon have any relationships with other women after he divorced Josephine? #Waterloo200\",nocode\\n612208601717972992,\"LAST CHANCE for GAUDIER-BRZESKA: NEW RHYTHMS @kettlesyard closes #Sunday\",nocode\\n615240527756328960,\"I then wandered through the @BritishMuseum\\'s Ancient Greek galleries. This helmet was a Corinthian offering to Zeus. http://t.co/26gZ5XF6Fb\",nocode\\n613345551908737024,\"Etching glasses for Thursday nights Gin Performance @SeanKellyNY -6-8pm @tignortronics @MattsGallery @_TheWhitechapel http://t.co/DMa9GXyYtz\",nocode\\n613445603956236288,\"@benugo @britishmuseum  Teruel ham, an excellent choice. Definitely on my \\'to visit\\' list.\",happy\\n614409206322593792,\"#courtauldsummerparty tickets booked! Whoop! #Courtauld @_TheWhitechapel #letthegoodtimesroll\",happy\\n613298039743082496,\"Cheap_Rayban_32,Click_66 http://t.co/wynYtL22ND http://t.co/bGcGev4Yzx @RALLYARTEBsAs @RAMARTNOW @RAMGolfSociety @RAMMuseum @RANAWASIM512\",not-relevant\\n614950962143330304,\"@CelesteRegal Like those \\'melted\\' carved frames in Paris? @NationalGallery\",nocode\\n615293002441953281,\"@dolphinmaria @britishmuseum Better jaw-jaw.. . But I think he managed both.\",nocode\\n611457919868104704,\"GO visit @Sothebys or @ChristiesInc &amp; take photos of  #art instead of @_TheWhitechapel where you can\\'t take photos &amp; waste your time @phnat\",angry\\n610686508413112320,\"#NG365 Gerrit Dou\\'s \"\"A Poulterer\\'s Shop\"\" (c.1670) @NationalGallery #art #DutchArt http://t.co/dZ3c4UYxNp\",nocode\\n613431176833933312,\"@britishmuseum thanks.  We gad a good day.\",happy\\n611667716295016449,\"@_ArtMachine @britishmuseum Seems reasonable :)\",happy\\n613305995943636992,\"Link http://t.co/3rJdn1ARPW por @britishmuseum es el tuit m\\xc3\\xa1s popular en mis \\'news feed\\' de hoy\",nocode\\n612200943107579904,\"Love the exhibition of Kangas @RAMMuseum inspired. http://t.co/z1ZStT7XS1\",happy\\n615010061774123008,\"@tateliverpool looking forward to the private view today, what time does it start?\",happy\\n614056507907420160,\"Love Rivane Neuenschwander\\'s I Wish Your Wish installation @Tate_StIves http://t.co/Z5H4c3IUsN\",happy\\n611525634372857856,\"@britishmuseum In that film N. was a glutton for ice cream, does this have any truth in it? #Waterloo200 #ziggypiggy https://t.co/1iL11KemcA\",nocode\\n613030836787654656,\"@NationalGallery The 2nd GENOCIDE against #Biafrans as promised by #Buhari has begun,3days of unreported aerial Bombardment in #Biafraland\",not-relevant\\n613329429436203009,\"Arriving early for @EVCOMUK Liverpool?  See http://t.co/ckiFJnRir3 for things to do &amp; offers incl @TateLiverpool @LivEveryPlay @LivCathedral\",nocode\\n611920675813621760,\"There\\'s tours of our gardens (3pm) &amp; art collection (2pm) as part of Castle Hill Open Day tomorrow with @kettlesyard. Hope to see you there!\",happy\\n615415727588253696,\"Cambridge is spoilt for choice; @polarmuseum @WhippleMuseum @SedgwickMuseum @FitzMuseum_UK @classarch @ZoologyMuseum https://t.co/tUgnhy0pXp\",happy\\n612283713100099584,\"I\\'m at @BritishMuseum in London, Greater London https://t.co/Zf5Ajn3GYr http://t.co/ccsdlJEeW3\",nocode\\n613651036964651008,\"Searching for a great #conference #venue this summer? Take a peak at what The Edge can offer. http://t.co/SK4kYHTNuq @ICIABath\",not-relevant\\n615171151615127552,\"@kettlesyard #Cambridge - lovely #cat souvenir of #gaudier-brzeska drawings. With #Monmouthcoffee http://t.co/cKA1Ez0Kal\",happy\\n614142317029556224,\"Ancient artefact meets new technology for RAMM\\xe2\\x80\\x99s millionth visitor @RAMMuseum #Exeter http://t.co/uodOV3NNGY http://t.co/Z69yfzmAV2\",nocode\\n614387705573568512,\"#FF Great museum accounts: @ExploreWellcome @AshmoleanMuseum @PlymouthMuseum @BassetlawMuseum @PooleMuseum @ILoveMuseums  @kidsinmuseums\",happy\\n612141150611312640,\"@britishmuseum  My favorite is \"\" Beethoven, or the \\'Kiss of the whole world\"\"\\'; Alois Kolb1900 http://t.co/Yqh0nvCZmJ\",nocode\\n613001326616780800,\"@Tate @NationalGallery @followthisguide This one of my favourites #sothere\",happy\\n613646066911547392,\"@britishmuseum fraud laws made, voicelj\",nocode\\n612210593257365504,\"No doubt @britishmuseum is one if the best attractions in London. https://t.co/Wf2Rnjeqbw\",happy\\n614073249023004672,\"Helen Wilson talks about her CDA PhD work w/ @OfficialUoM @britishmuseum. Do innovative techniques add to #cdavalue? http://t.co/tRpVo0If7n\",nocode\\n610496519305842688,\"@NationalGallery @photopraline Yes... but not as  #Rembrandt his paintings makes me weep ..#DUTCH 17th c golden age paintings ahhhhhhhh\",sad\\n612914877447995392,\"@NationalGallery @Londoncraftweek A frame makes such a difference.Up close #Klimt Pallas Athene frame is beautiful http://t.co/Y279Q8Rl7e\",happy\\n615224596246208513,\"@Magpie_Dreams @britishmuseum Yes it was. It\\'s related with the conquer of Granada in 1492.Then the flower was included in the coat of arms.\",nocode\\n614367920068665344,\"Learning photography, history and respect for the dead @britishmuseum yesterday #AncientLives my son loved it #homeed http://t.co/Xtr9n4eG5r\",happy\\n612218678361329664,\"NOW! Experience the masters at work @FitzMuseum_UK http://t.co/UJjMHF68iD @Visitcambs #lovecambs http://t.co/gv4SKhDsYN\",happy\\n615114008912359424,\"@NationalGallery and my son and I were excited to be at your beautiful museum in February! http://t.co/3yrEoIe53T\",happy\\n612195735371673601,\"Castle Hill Open Day today 12-5. We\\'ll be in Castle St Methodist Church @kettlesyard @cabinet_curios @CambridgeNewsUK http://t.co/H79D9a3yJx\",nocode\\n610362800683270144,\"Last week: #CanAltay @kurusehir @tateliverpool @frieze_magazine @sanatatak @cfitewassilak @SALT_Online @ArtMonthly http://t.co/2Rijp2lTxj\",nocode\\n611085601211830272,\"Really looking forward to seeing this Watercolour exhibition @FitzMuseum_UK #Turner #Sargent #Whistler\",happy\\n614864163232419840,\"Find inspiration next week on Bronze Age art, ancient Cyprus and Roman money at @britishmuseum http://t.co/nFjlFolM0u http://t.co/uwl6Fg9P8W\",nocode\\n614254504582737920,\"Find out more about Allora&amp;Calzadilla\\'s mud sculpture \"\"HopeHippo\"\" http://t.co/fL8UY5QXAN @neongreece @_TheWhitechapel http://t.co/iv7VU3gEUZ\",nocode\\n614310337257578496,\"#NG365 Jacob van Ruisdael\\'s \"\"A Landscape with a Ruined Castle and a Church\"\" @NationalGallery #art @JohnConstableRA http://t.co/kbTVGro5aH\",nocode\\n610566071729455104,\"Courtyard of a House in Delft, by Pieter de Hooch 1658 Oil on Canvas   (@NationalGallery)  @pwadey http://t.co/lmzmt7NIpl\",nocode\\n613308203565207552,\"@NationalGallery The 2rd GENOCIDE against #Biafrans as promised by #Buhari has begun,3days of unreported aerial Bombardment in #Biafraland\",not-relevant\\n615495384249573376,\"A lunchtime view doesn\\'t get better than this. @Tate_StIves http://t.co/GBatt8pqFl\",happy\\n615166794832089089,\"\"\"@britishmuseum: Peter Paul Rubens was born #OTD in 1577. http://t.co/2JplC1xL5V http://t.co/ZA5mSyLETi\"\" #SundayArtExchange @MarthaPlimpton\",nocode\\n612620979185979392,\"@Ophiolatrist @britishmuseum The stupid #French prick was crushed by my Russian Imperial ancestors. \\xf0\\x9f\\x98\\x82 #Waterloo200\",angry\\n615494611323211776,\"Corinthian black-figure hunt krater w/ Caledonian boar &amp; ANTIPHATAS, POLYDAS &amp; EVDOROS (backwards) @britishmuseum http://t.co/8n7Md2RwjE\",nocode\\n610479905994842112,\"#AskTheGallery What is the key of the success of the @NationalGallery?Why visitors should come to your gallery&amp;not another museum in London?\",nocode\\n615093653976035328,\"Last chance to enter our competition to win tickets to the @BritishMuseum Indigenous Australia exhibition http://t.co/jnaXm8jzmX\",nocode\\n611256301209952256,\"Join @Buzz_dont_tweet &amp; @PlymouthMuseum for a #WildAboutPlymouth Big Bug Hunt on 11th July https://t.co/QojUQp1WO9 #Plymouth\",nocode\\n611865504903344132,\"\"\"@tateliverpool: We are transforming our caf\\xc3\\xa9 special evening performances of Pollock inspired jazz http://t.co/vyPchjC26i\"\"@TracyJHulse\",nocode\\n611648412312862720,\"@Asamsakti   #ArtTherapy   Rubens  Samson and Delilah   1609-10  @NationalGallery    London\",nocode\\n612972066736861184,\"BritishMuseum: RT @divaSTW: All I can say is WOW - @britishmuseum: Your groundbreaking #8mummies exhibition is fan\\xe2\\x80\\xa6 http://t.co/L0tbP9GItj\",happy\\n613000799573147648,\"@NationalGallery The 2nd GENOCIDE against #Biafrans as promised by #Buhari has begun,3days of unreported aerial Bombardment in #Biafraland\",not-relevant\\n614703935643906048,\"@JillyEdwards1 @Tate_StIves is it Tracy Kendall wallpaper?\",nocode\\n610744962658009088,\"@NationalGallery #AskTheGallery what are the most difficult audiences you have ever reached actively- and why and how?\",nocode\\n611544972081385472,\"@britishmuseum @aroberts_andrew Any pictures of Gebhard Leberecht von Blucher flag? #Waterloo200 #BonaparteAndTheBritish\",nocode\\n612238611078119424,\"Celebrating Africa season, visit the exhibition The Sudanese lyre at @britishmuseum http://t.co/bHJziSiCsr\",nocode\\n614007730311987200,\"Ketaki Sheth\\'s photos of the Sidi people are absolutely amazing. @NationalGallery http://t.co/8mG39uBRSs\",happy\\n612221180020400129,\"Today I decided not to renew my @britishmuseum membership after being shouted at by one of their spaniards.\",angry\\n612950846528167936,\"Booked on to What\\'s it Worth? The Value and Potential of the CDA @britishmuseum 27 July. Shld be an interesting day! http://t.co/kjtXnbSJOA\",happy\\n611150631810768896,\"The @NationalGallery curatorial trainee @HelenHillyard relaunches the Baroque Galleries at @BM_AG tomorrow!  http://t.co/zUumaE2Bdf\",nocode\\n613275712364130304,\"@ObservatorioH Seis da manh\\xc3\\xa3 em Outubro... Maldi\\xc3\\xa7\\xc3\\xa3o! @britishmuseum\",nocode\\n610427098734440449,\"\\'Where to see Hepworth\\' via @MailOnline feat. @HepworthGallery @YSPsculpture @PierArtsCentre @Tate &amp; @Tate_StIves http://t.co/yZq8SQAAbS\",nocode\\n615520406015975424,\"@HenriNiotou @guardian @tateliverpool http://t.co/zMuxQEZYrb\",nocode\\n614452192926236672,\"@lapsedarchaeo @RAMMuseum @DurhamRDerby @a_seifertova @AnthropologyTip Thank you!\",happy\\n610496239881183232,\"An early tool from ancient Rome, similar to a Swiss Army knife, is on display at the @FitzMuseum_UK in Cambridge: http://t.co/Avqx2fX287\",nocode\\n611091629479460864,\"French 18th century room (33) re-opened @NationalGallery with reinstated dome and natural light- fantastic! http://t.co/4Otam6N2Bo\",happy\\n612295268629913600,\"@wmarybeard Just saw #DefiningBeauty @britishmuseum. How was disability represented/perceived in Classical Greece?\",nocode\\n613272578443055105,\"Children\\'s Commission @_TheWhiteChapel .Rivane Neuenschwander \\'s work of children\\'s fears in London. #Adultfears http://t.co/TL1kVO5EDq\",nocode\\n612624770736132096,\"@britishmuseum #IndigenousAustralian Petroglyphs 5 TIMES OLDER than #Stonehenge being destroyed http://t.co/EDQRlKItkr #Woodside - $45B LNG\",not-relevant\\n613637881349976068,\"Dr Jago Cooper from @britishmuseum will be @uniofleicester\\'s #PGRFest keynote speaker, speaking on \\xe2\\x80\\x98The Power of Research\\xe2\\x80\\x99!\",nocode\\n614252691066363904,\"@britishmuseum #hearingaccess inspires role models for people with hearing loss. http://t.co/fNoDpOEZ0W\",happy\\n614350272983396352,\"MPs debated planned privatisation @NationalGallery yesterday as #PCS members continue their latest 10-day strike. https://t.co/RhL7xynqu5\",nocode\\n614457635706957824,\"In Conversation: with Alan Cotton &amp; David Hempleman-Adams next Thursday via @ICIABath . Come along! https://t.co/Ua1IjqJx3s\",happy\\n611065738082697217,\"Distance makes the heart grow fonder but already heartbroken @kettlesyard shutting for 2 yr refurb on 21Jun; go now\\xe2\\x9d\\xa4\\xef\\xb8\\x8f http://t.co/7HMmPRcJtz\",sad\\n615221633226285060,\"River Stars Reindeer exhibit at @MAACambridge, taking photos back to community &amp; getting their responses is great. http://t.co/HoSY74V8jk\",happy\\n614477858690482177,\"#FF #FollowFriday @GTroopRHA @sinonevero @suzilove @ThelmaHulbert @MartynPrice3 @LansonLoyalty @AntiqueMag @BHL_valuer @trueyankees\",nocode\\n611931828874706944,\"At @britishmuseum \\xe2\\x80\\x94 https://t.co/TAjlY6JGim\",nocode\\n610739632624533504,\"Hello from Jerwood Gallery, Hastings! Dr Penny what is your favourite Modern British work in the @NationalGallery Collection? #AskTheGallery\",nocode\\n610751766817341440,\"Construction steams ahead Tate St Ives phase 2 @Tate_StIves @ILoveCornwallUK @BAMConstructUK http://t.co/X8q5ERGehi http://t.co/CKw68LfGP7\",nocode\\n615160329086070784,\"Born #OnThisDay 1577: #PeterPaulReubens. The Fall of the Damned (1620). @ArtCorgi @britishmuseum #art #AltePinakothek http://t.co/FRSb8064UF\",nocode\\n610456429825294336,\"I\\'m at @NationalGallery in London, Greater London https://t.co/xgYJI4H1KK\",nocode\\n613852429449347072,\"I\\'m a music #artist who loves her #food. If u ever come to #London, have one of these @NationalGallery #foodie #eat http://t.co/8Pl6wXfw4x\",happy\\n610847516310007808,\"Rarely seen watercolour treasures go on display at @FitzMuseum_UK - @chrismannbbc 17:45 http://t.co/LS0c6wQ3Do http://t.co/1ssIN2LwTw\",nocode\\n614057272008962048,\"The Cheeky Spouse Daily is out! http://t.co/fvlc2O2AqG Stories via @Buy_Natural @kettlesyard @TastesofAnglia\",nocode\\n614182853430132736,\"Today our 2 interns visited @britishmuseum to reunite our archive documents with objects distributed over 133 years. http://t.co/o04gqbjETf\",nocode\\n610486281135628289,\"Davvero bella quest\\'opera , grazie Dil @Asamsakti  Benvenuto Tisi A Pagan Sacrifice  1526 @NationalGallery  London UK\",nocode\\n613833524173512704,\"Spent the day getting lost in the museums of Cambridge especially @MAACambridge what an amazing collection http://t.co/85jFiRrCHb\",happy\\n612932650366566400,\"View of L\\xe2\\x80\\x99Estaque by C\\xc3\\xa9zanne at risk of being exported @FitzMuseum_UK unless a buyer can match the \\xc2\\xa313m asking price. http://t.co/F3qTEMqha7\",sad\\n611529423616122881,\"@britishmuseum, @el_pais said:Napole\\xc3\\xb3n arengaba a esta hora a sus tropas preocupado por si el barro dejar\\xc3\\xada mover los ca\\xc3\\xb1ones #Waterloo200\",not-relevant\\n615476658984894464,\"Top work by the exhibitions team and all @tateliverpool on a great summer season. Check out Pollock, Ligon and Bratescu, PV tonight!\",happy\\n611520340301324288,\"@Ophiolatrist @britishmuseum Nicer girlfriend?\",nocode\\n614003685287456768,\"Faience vessel from @TheEES excavations at Sesebi, at the @britishmuseum! #Nubia #Sesebi http://t.co/SP3VOFfAjQ\",happy\\n610611705769500673,\"More beauties from @NationalGallery. #trafalgarsquare #londonvacation #artgoestotheheart http://t.co/nyOWf1KU7p\",happy\\n611579706845057024,\"@tatteredstones @kettlesyard It has long been on list to visit. Oh well, will have to be patient.\",nocode\\n611856148908625920,\"Read our new article about #Periscope &amp; @britishmuseum at http://t.co/Tbiw15AhR9 https://t.co/CRdQAKOuJt\",nocode\\n611092796322279424,\"@psframes @nationalgallery  F\\xc3\\xada en tu duro, m\\xc3\\xa1s que en amigo ninguno.\",nocode\\n611971276220047360,\"#WeekendGuide tomorrow 4pm @ArtBasel go see the discussion on Cross Cultural Exchange with @DCAMindia  @_TheWhitechapel and more\",nocode\\n614204007070965760,\"30 mayo 1887 se descubre el primer sarc\\xc3\\xb3fago #fenicio de  #Gadir -#Cadiz (s.IV a.C.) @ahencyclopedia @britishmuseum http://t.co/YIYQsNSNHr\",nocode\\n611835331755835392,\"@museiincomune @MarDixon @TCDArtCurator @leCMN @louvrepourtous @MuseeLouvre @britishmuseum @AlcaMaglie @ITweetMuseums @svegliamuseo ahahaha\",nocode\\n614720384756248577,\"Unfortunately the transition narrative parts of those stories were handwaved away in the commentary. @foxvertebrae @britishmuseum\",sad\\n611835835567210496,\"@Libby_Brodie @NationalGallery happy birthday libby xx\",nocode\\n613100492995096581,\"A taste for honey: bees in African rock art http://t.co/2hgK9sNrcl via @britishmuseum\",nocode\\n613995888504127488,\"@pcs_union @CliffordRoger @NationalGallery craigavon trades council sends a message of solidarity\",nocode\\n614070877580316672,\"Start your @_TheWhitechapel #FirstThursday at Ceviche Old St Gallery from 6pm next week: http://t.co/NcgIr6b1zX http://t.co/e0PJX5t4DK\",nocode\\n611907034754236420,\"@NationalGallery @BohanRob  it\\'s very beautiful and creative painting\",happy\\n612307500461895680,\"@schemaly @britishmuseum Sounds to me like #FemalePrivilege is making them take their time.  #EverydaySexism\",nocode\\n615295318083571712,\"@britishmuseum  : Cover Ulysses-nya Joyce karya Matisse : http://t.co/IoubnWlnCB\",nocode\\n611572094455799809,\"Volunteers needed for ARTIST ROOMS: Gerhard Richter @PlymouthMuseum http://t.co/8leTEA8rUs Deadline: Thurs 3 Sept #artopps\",nocode\\n614830997004128256,\"@britishmuseum, is that the Mold gold cape in the first pic, or am I mistaken?\",nocode\\n614262817156304896,\"#JanVanEyck: Hombre con turbante.1433 @NationalGallery http://t.co/Aj3WGqVgKh\",nocode\\n614928764410142721,\"1/2 Record @britishmuseum of 18th cent conversation in #Australia. British soldier &amp; #Aboriginal woman Patyegarang... http://t.co/43qYCvgmEJ\",nocode\\n613271785895636996,\"We\\'ve joined Instagram. Follow us to stop, look, discover, and share: http://t.co/dbLFe... http://t.co/XF3sbMVN4s via @NationalGallery\",not-relevant\\n614499025430151168,\"Rehearsing for my British Museum show July 12. Performance Drawing, durational. #art @britishmuseum  @artlicks  @shubbakfestival  #egyptart\",nocode\\n615484330928832512,\"The first owner of C\\xc3\\xa9zanne\\'s \\'The Stove in the Studio\\' was his boyhood friend, Emile Zola... http://t.co/Jp3zomiPg1 via @NationalGallery\",nocode\\n613345639968165888,\"Lovely to see the house at @kettlesyard this morning for a final peek! #cambridge #art http://t.co/caOUtxdWwW\",happy\\n613012764689342468,\"It\\'s wine o\\'clock at the National Cafe with oliverpeyton @nationalgallery tonight - half price wine\\xe2\\x80\\xa6 https://t.co/7ZkZTnrXSj\",nocode\\n610492965732118528,\"Looking forward to the soundscapes exhibition at the @NationalGallery in July: http://t.co/2dv3wDk9H7\",happy\\n615243330335711234,\"Happy Birthday #Rubens - #Samson and Delilah @NationalGallery - sexiest painting in the world! That #purple drapery! http://t.co/m5xvIkZEdy\",happy\\n612358708530511872,\"@caitlinrgreen  @britishmuseum Real significance of  Arabic Mint in England in revealing European Islamic past http://t.co/IBmc7ywZpo\",nocode\\n614124748260384768,\"Great @NationalGallery #BaroqueSSN study day at @BM_AG discussing the gallery\\'s fantastic new rehang &amp; visitor engagement with 17C art\",nocode\\n612654479314407425,\"Enjoyed our visit to the @britishmuseum today! http://t.co/hpsbNGZsxU\",happy\\n611650894489341955,\"#speechless #IngmarBergman #silence #tystnaden 1963 @SMGUT @guillermosolana @museothyssen @NationalGallery http://t.co/pAJuehLRfr\",nocode\\n611465145764589568,\"Tonight, head to @_TheWhitechapel for a talk on \\'Theatricality in Contemporary Art &amp; Stage Design\\' http://t.co/Z1pQhkbWCv\",nocode\\n613677379907624961,\"Tokens designed + made ready for new Egyptian Tours starting @RAMMuseum this Sat. Get yrs from reception on the day http://t.co/ArwbF00Txp\",nocode\\n614936035454263297,\"@CelesteRegal Ancient beauty is much more dependable...:) (thank you for retweeting)... :) @NationalGallery\",happy\\n614550020289900544,\"British Museum @britishmuseum #photography #streetphotography http://t.co/muH4CANaSw\",nocode\\n614575832414167040,\"@ydalycul @PaulKindersley @NTHepburn @kettlesyard I\\'m not sure if this is the same Christopher Wood...\",nocode\\n611995305085698048,\"@CamUnivMuseums - this looks like a brilliant summer programme!\",happy\\n612651359448363008,\"@britishmuseum That\\'s cool!\",happy\\n612605668621688832,\"Cornelis Visscher: \"\"The Large Cat,\"\" an engraving. The Netherlands, 1657. http://t.co/bsaU4S7jDb @britishmuseum http://t.co/VnPgJqQ50S\",nocode\\n610483002695647232,\"@NationalGallery How do you think curators can keep traditional art relevant in a contemporary age? #AskTheGallery https://t.co/2NDYvOfs1a\",nocode\\n615409135652179968,\"Alan Cotton &amp; David Hempleman-Adams here on campus at The Edge this Thursday. Come along https://t.co/Ua1Ijr17V0 @ICIABath\",nocode\\n611816841338572800,\"#IndigenousAustralia exhibition @britishmuseum is powerful and moving. Importantly, it doesn\\'t gloss over the evils of colonialism. See it.\",happy\\n611521825898692609,\"Face the Music! http://t.co/rJ8FydmuEq 100s contrib. inc. @G_lizlulu @kettlesyard @DanielleMarieMu\",happy\\n612641078517198848,\"@BonVoyageurs @britishmuseum fitting that Fathers Day is also the longest day\",not-relevant\\n612588786585874432,\"MT\\xe2\\x80\\x9c@britishmuseum: It\\'s the longest day in northern hemisphere: #SummerSolstice at Stonehenge http://t.co/nWSMpUCTba http://t.co/wMddH2oo4u\\xe2\\x80\\x9d\",nocode\\n613426910375354368,\"@PrisonHorsens @museum140 thanks! @NationalGallery just got on IG yesterday as @national_gallery. Thats a must-follow\",happy\\n613683940176564224,\"Our review of @britishmuseum\\'s new Rothschild Renaissance gallery: \"\"Challenging &amp; intriguing\"\" http://t.co/LQE4nzQVhB http://t.co/DXvWb5JbSV\",happy\\n611548541035630593,\"Found some pretty old @britishmuseum web design work http://t.co/UpB5EYm2B9\",nocode\\n615421654110486528,\"Very excited for the Jackson Pollock press viewing @tateliverpool today! #sneakpeek\",happy\\n613302651904741376,\"@nautilusnat @CamUnivMuseums @ZoologyMuseum Hello and thank you for the warm welcome!\",happy\\n610748349835268096,\"#askthegallery How much public money have you spend on brining in CIS scabs during the current PCS dispute? @NationalGallery\",angry\\n615549998034493440,\"I\\'m at @NationalGallery in London, Greater London https://t.co/wInooFg98s\",nocode\\n612496954485030912,\"Together we can climb every mountain @StIvesSch @Tate_StIves   https://t.co/8hIXAKK8Rd.  http://t.co/fPJcyJBnVJ http://t.co/FTU3c4YstK\",nocode\\n615501788712673280,\"Great opportunity to see Russian artist Arseny Zhilyaev at @_TheWhitechapel this Thurs, who\\'s on show @la_Biennale http://t.co/t1fZx0gcPx\",happy\\n612868911135096832,\"Greek Sculpture @britishmuseum. Learn more about out AW15 inspiration on the journal  http://t.co/DKGuz0cchD http://t.co/AHDupAxg7z\",nocode\\n615492990216355840,\"Saw this @britishmuseum and thought of you @Chicken_project http://t.co/Q331VPoNqR http://t.co/TRfSwe1MBk\",nocode\\n612266518144000000,\"Please still come down we are open until 5pm today we would love to see you. #CastleHill15 @CambridgeNewsUK @kettlesyard\",happy\\n613631274792656897,\"\\'visually striking compilation\\' great blog @curatedjenny on RiverStarsReindeer @MAACambridge https://t.co/ToVrGcMizu http://t.co/HAxAISXabz\",happy\\n611511507071795202,\"From The Tomb Of #Nebamun \\xe2\\x80\\x94 1350 BC | #Egyptology #Archaeology #AncientEgypt @britishmuseum http://t.co/2KxSE2glig\",nocode\\n612712379600777216,\"Finally made it to @britishmuseum #AncientLives #8mummies. Another stunning triumph of the fab @NISSENRICHARDS studio http://t.co/Oq4BgeOe8v\",happy\\n615264999527829504,\"Ethel Maude collective (includes me!) screening in the Luminous Latitudes programme @_TheWhitechapel Thurs 9 July http://t.co/mCWfWFNg1C\",nocode\\n615106894869450752,\"http://t.co/E4ktdgnt8N @tateliverpool @cheshirelife @DBakerGallery @ShopCheshireUK\",nocode\\n614731325036187648,\"@MartinUMueller Stimmt wohl, vielleicht m\\xc3\\xbcsste ein Dan Brown seinen Langdon ins Pergamon schicken? @DerSPIEGEL @MuseeLouvre @britishmuseum\",nocode\\n610350215435034624,\"FAB Liverpool package Jackson Pollock: Blind Spots @tateliverpool + @hotelindigo + voucher #dazzleferry do pick it up @TravelBird_UK\",nocode\\n611849934061588480,\"@MuseeLouvre @museiincomune @leCMN @GoldUnveiled @britishmuseum @MarDixon @Museo_MADRE  magnifique et \\xc3\\xa9mouvant !\",not-relevant\\n615266025882447872,\"@macpowell @NationalGallery, @Hirshhorn on the mall and many many many others.\",nocode\\n612345441523507200,\"As a visitor low on cash, I was glad to see this prominent, but tasteful, text-to-give sign at the @britishmuseum http://t.co/oREcDlQ0tu\",happy\\n615178623188881408,\"Beauty and beastliness in ancient Greece: http://t.co/ef2NOv78Sq (about @britishmuseum #DefiningBeauty)\",nocode\\n612364429213204482,\"Pebble fancier and Tate curator in the 30s:Jim Ede\\'s collection of stray objects and art @kettlesyard - beautiful. http://t.co/o3Cy7SSa3Y\",happy\\n612772434488500224,\"British Prints and Propaganda Exhibition in age of #Napoleon @britishmuseum Feb 2-Aug 16 2015 http://t.co/pLWp7PC91q http://t.co/MX1eASqqXX\",nocode\\n613358488463515648,\"@museum140 false alarm - sorry!  I\\'ve got it working on another device now.   will add @CamUnivMuseums to the list\",not-relevant\\n611270152810823680,\"Great end to my time @MAACambridge: cake, a performance from the Zugubal dancers of the Torres Strait, and these! http://t.co/Fn7DLB0oc9\",happy\\n614525236323688448,\"\\xe2\\x80\\x9c@CharleJHuguenin: #Velazquez V\\xc3\\xa9nus expos\\xc3\\xa9e actuellement \\xc3\\xa0 Paris mais habituellement \\xc3\\xa0 la @NationalGallery http://t.co/S8eVJc1kUu\\xe2\\x80\\x9d\",nocode\\n614729983458738176,\"@MartinUMueller Vielleicht ist das britische, kostenlose Modell ein Modell? @DerSPIEGEL @MuseeLouvre @britishmuseum\",nocode\\n611849399203930112,\"@psframes enjoyed the Sansovino Frames! @NationalGallery http://t.co/SPCVtC15Lt\",happy\\n610389617389518848,\"Are the Rothschild bronzes by #Michelangelo?@FitzMuseum_UK is holding a conference to find out http://t.co/KkKzKt7idf http://t.co/vElV09jfPc\",nocode\\n610566404547473408,\"@JohnConstableRA @NationalGallery Thank you, Sir!\",happy\\n614063041756405761,\"Today\\'s \\'A Monochrome Dream\\' is out! http://t.co/q1KuG67YiV Stories via @_TheWhitechapel @noukkasigne @BayfieldTrain\",nocode\\n610762492277604352,\"@NationalGallery Thank you for the information - it\\'s a very beautiful painting \\xf0\\x9f\\x8e\\xa8\",happy\\n614071785168990209,\"#DefiningBeauty wonderful exhibition     * * * *     5 stars    Thank You @britishmuseum   :)  X http://t.co/R7wC7jnKcJ\",happy\\n611621869884731392,\"@britishmuseum Nice info - it is election night in Denmark, so it was difficult keeping the concentration - but it looked interesting.\",happy\\n610788792815845376,\"@NationalGallery I bought this copy from your museum last summer. Love it! #beauty #artlovers\",happy\\n612576939161858048,\"@TheLancet @britishmuseum\",nocode\\n612991098093318147,\"@NationalGallery The second GENOCIDE against #biafra as promised by #buhari has begun 3 days of unreported aerial bombardment in #Biafraland\",not-relevant\\n611165004444880896,\"The \\'Take One Picture\\' project gives children across the UK an opportunity to present their work @NationalGallery http://t.co/juGR6aBdWH PD\",nocode\\n614097260230668288,\"Images of #Cambridge May 2015. 3. In the @FitzMuseum_UK.  https://t.co/9YTkdB6mA6\",nocode\\n611131886765801472,\"This Sat #CastleHill15 is packed with free events indoors &amp; out for all ages - plus last chance to see @kettlesyard http://t.co/5kKPcjR7EY\",nocode\\n614455420103561219,\"Go see Art in Dialogue: Duccio | Caro @NationalGallery this weekend http://t.co/ad2qC933jc http://t.co/3X4Xo4S5gv\",nocode\\n611602875119235073,\"Great to see the newly re-hung Baroque galleries @BM_AG in association with @artfund @NationalGallery make sure you don\\'t miss out!\",happy\\n614393595752251392,\"@Independent this image more like it?  thanks for highlighting @TARA_AFRICA &amp; @britishmuseum #africanrockart work http://t.co/36V6SzpUzk\",happy\\n614192315222126592,\"A truly great museum... - Drinking a London Lager by @MeantimeBrewing at @britishmuseum  \\xe2\\x80\\x94 http://t.co/rBJVhUtR5O #photo\",happy\\n615542261464584192,\"Aaron Angell in conversation with @Tate_StIves Sam Thorne, Sat 18 July 4pm, Studio Voltaire. Booking is recommended http://t.co/vvBfYBpZ9g\",nocode\\n613778082076491776,\"$27M Moscow modern art gallery opens http://t.co/UcsvigSbny #RussiaMuseum @JimWard6 @britishmuseum @MuseumModernArt @Tate @artdaily\",nocode\\n615104809423781888,\"@tateliverpool @DavidSandum sooooo wish I was there!!!! I did my Art GCSE on him a very long time ago! ;)) he\\'s the man!!!!\",happy\\n615089985671200768,\"@britishmuseum Good day, thanks regarding the follow.  http://t.co/MotWULBLl2\",happy\\n614755286444806144,\"Great morning #ruskinturners #watercolours @FitzMuseum_UK\",happy\\n614811354650705920,\"@dpanikkar @Chemburstudio @DalrympleWill A Gril luring quicksilver from a mine by her beauty #Mughal @britishmuseum http://t.co/BkYFOf03bs\",happy\\n612216764362006529,\"Lo viste? El tuit m\\xc3\\xa1s popular de hoy entre las personas que sigo http://t.co/5EGK8fbKX6 por @britishmuseum\",nocode\\n614080886108258304,\"@tateliverpool Pollock cool.\",happy\\n613461013355188224,\"Planning to stop by the @NationalGallery again tomorrow (24/6, Wed). Will the Van Gogh exhibit be open? #pleasesayyes\",nocode\\n614416076009508864,\"@britishmuseum Not from life then, since he died in his 30s\",nocode\\n611170215804698625,\"The @NationalGallery show \\'Inventing Impressionism\\' has left London for US but fascinating to read about even after: http://t.co/ZUC2bleqz4\",happy\\n611125948990246912,\"This Saturday, find us at Castle Hill Open Day 2015 @kettlesyard at the Methodist Church. #CastleHill15 http://t.co/ZR003zSYsq\",nocode\\n614115878746103808,\"Great to be at the @britishmuseum tonight. Looking forward to the Main event next week with @ALISON_PRICE and @wiseproductions #bestinshow\",happy\\n613625719382536192,\"I\\'ll be @RobertElms @BBCLondon949 at 12.40pm talking about @SerpentineUK Pavilion, #BarbaraHepworth @tate, James Richards @_TheWhitechapel .\",nocode\\n612935419597062144,\"I\\'ve placed an #ExportBar on #Cezanne masterpiece that\\'s been on loan to @FitzMuseum_UK. Last chance to keep it in UK http://t.co/fI4Ehq3IXA\",nocode\\n613031427807006720,\"#LeonardoDaVinci The Virgin and... http://t.co/3WsntDiAV3 @NationalGallery @MuseeLouvre @mbellasartes #Art #Museum http://t.co/D2SDyddRnS\",nocode\\n614480238811193344,\"Parmi les grandes neiges de #Monet @nationalgallery http://t.co/V03yYlr4CJ\",not-relevant\\n610766984918208512,\"We\\'re providing #PM &amp; #QS services for the @Tate_StIves gallery extension. https://t.co/gnjKHL5b0k\",not-relevant\\n612975882584629248,\"After visiting @britishmuseum it has got me even more excited for Uni (if that\\'s possible) can\\'t wait to visit again #HistoricalArchaeology\",happy\\n610471219431759872,\"In \\'Self Portrait\\', Murillo\\'s hand on the oval frame blurs the distinction between what i... http://t.co/cKsULWsuQl via @NationalGallery\",nocode\\n613265736199442432,\"Vote 4 The Next Big TV &amp; Radio Presenter @PresenterCamp http://t.co/rvwZNMc5Tf Watch https://t.co/oYSAaUSaG0 #PresenterCamp @NationalGallery\",nocode\\n612740612819976192,\"@britishmuseum \\xf0\\x9f\\x98\\x98\",nocode\\n613485466646544385,\"@britishmuseum   @RebeccaHossack Rebecca Hossack @ British Museum talking about collecting Indigenous #Australian art Fri 3rd July 18.30\",nocode\\n612968999794532354,\"Hear the painting. See the sound with Soundscapes at the @NationalGallery until 6 Sep #MuseumMonday http://t.co/qA7ZG2923u\",nocode\\n614357271548686336,\"Thanks for the support ! @jfosterriba @_TheWhitechapel\",happy\\n611660964182761472,\"Tasty lunch in St Ives @Sloop Inn before a visit to @tate_stives @VisitCornwall @VisitBritainPR http://t.co/GqsJPZMafF\",happy\\n608587511925993472,\"@Cambscene @CamUnivMuseums @polarmuseum surely that statue wd be cold? Is that the originator of the saying about freezing brass balls off?\",surprise\\n615453855992651776,\"@AppCultura @britishmuseum @paleotwit @RupestreUNESCO gracias! Tenemos solo 4 dias hasta q la campana http://t.co/lmMYeaqmMn se acaba!!\",nocode\\n612946548381589504,\"@britishmuseum @bastilledan Have you seen this?\",nocode\\n611651845950451712,\"@britishmuseum thank you for your wonderful activity today #Waterloo200 will you put together your tweets in Storify or similar?\",happy\\n611121519201128450,\"This Sat #CastleHill15 is packed with free events indoors &amp; out for all ages - plus last chance to see @kettlesyard http://t.co/UAdlIYm4Q3\",nocode\\n614829454175641600,\"I\\'m at @BritishMuseum in London, Greater London https://t.co/JdcYB4nQbY\",nocode\\n611229467554545664,\"Discover The Arts with Social Media: NOHO Featured Artist Natalie Ryde https://t.co/Gl8amrJgwd @NationalGallery #London #Art #Video\",nocode\\n615465268211523584,\"Our #HIV 50+ group had a great time Saturday eve at the Defining Beauty exhibition. Big thanks to @britishmuseum :) http://t.co/2SvI1LlvMO\",happy\\n612571491209773056,\"@HistoryGems @britishmuseum It\\'s got to be a little mummified croc?\",surprise\\n614414044477440001,\"@britishmuseum #DefiningBeauty excellent a highlight of 2015. + your guy in the exhibition shop, fantastic service, asset to your museum\",happy\\n614760267499573248,\"@suzanne_slapper @britishmuseum\",nocode\\n613401007490527232,\"Today at @RAMMuseum I went into the store to see these amazing Peruvian pots http://t.co/QWumUrlGq6\",happy\\n615163022508695553,\"@idinamenzel was fab last night, @britishmuseum &amp; Southbank was cool today...all in all a good weekend in London with @NatalieCarter80\",happy\\n611476877061058560,\"@_TheWhitechapel @mitpress @monoskop http://t.co/5vgDeMD5lO\",nocode\\n613101291800264704,\"Tough times, see Defining Beauty show at @britishmuseum if you can, on into July. Classical views that human form fine (godlike) and moral.\",happy\\n610566008403836928,\"@NationalGallery How about starting a Twitter ac to tweet a few pictures every day &amp; over a period tweet all the collection? #AskTheGallery\",nocode\\n614478406885998592,\"Le grand #C\\xc3\\xa9zanne de la @NationalGallery http://t.co/f2KDGwYiCL\",nocode\\n613658320252092416,\"@kidsinmuseums The Hockley Pendant (now @britishmuseum) was found by a 4 year old boy playing with his dad\\'s detector http://t.co/7PUYgKgOlL\",nocode\\n614909592322052097,\"@NaraHodge @NationalGallery Nice picture worthy of the national gallery!\",happy\\n612192970251587584,\"thanks to @heritagelottery @ace_national @camcitco and many people and places for their support #CastleHill15 @kettlesyard @Cambridge_Uni\",happy\\n614753910201446400,\"@britishmuseum I wish you had something on bankruptcy in the ancient world\",sad\\n611149257165402113,\"@jon_pratty @southbankcentre @robgethers oh yes indeed... &amp; we\\'re also v interested in bringing events data together across @CamUnivMuseums\",nocode\\n611130947715645440,\"Sete di conoscenza (at @NationalGallery in London, Greater London) https://t.co/sg4BsvqkZN http://t.co/Fj5LlvQ2tU\",nocode\\n615421242460504064,\"Hey. Get ready for the Nazir Tanbouli shows 11-12July by watching this doc http://t.co/OKISskQENE  From #streetart to the @britishmuseum\",nocode\\n611266333410480128,\"#Plymouth business try #cargobikes @rocketsnrascals @ColumnBakehouse @PlymouthMuseum @InvestPlymouth @TamarGrowLocal  http://t.co/IvbMc2PsSt\",nocode\\n610760480223809536,\"or here https://t.co/R2tO79Easn \\xe2\\x80\\xa6 .An in house solution proposed to meet flexibility needs. Come on @NationalGallery - it\\'s time to TALK.\",angry\\n614746265931378688,\"@SelectShowcase @Tate_StIves is a room full of different coloured ribbons printed with wishes from St Ives people, you chose take one and...\",nocode\\n612191501142126592,\"What the British press thought of #Napoleon @britishmuseum great inspiration for @RuralArts #COMICSTRIP Sat art club http://t.co/0hY0qfymOi\",happy\\n611644992063410177,\"@jasonderulo @danandmoore @euromaestro @bymrmatthews @revbeej @melvinio @ChocolateJohnny @britishmuseum @iLotz\",not-relevant\\n611516414910955520,\"Going behind the green door last weekend Tate St Ives RT @Tate_StIves: Waiting. What now? Cellar chaos? @TateInvites http://t.co/LbG6M98msG\",nocode\\n613341495626735616,\"TATE: \\xe2\\x80\\x9cEvery good painter paints what he is.\\xe2\\x80\\x9d Jackson #Pollock coming soon @tateliverpool  http://t.co/XJWZ8DkrA0 http://t.co/McQn7Ap34Z\",nocode\\n614784824222580736,\"I\\'m at @BritishMuseum in London, Greater London https://t.co/R4EPIJA6HC http://t.co/UAlHu7uRvJ\",nocode\\n611164079223361536,\"WOW! 3,653 sunrises over St Ives Bay and counting - http://t.co/q5CQJuav9D @thedaythat @stivesurfschool @Tate_StIves http://t.co/1ktkeG7iaw\",happy\\n612977775062962176,\"@Tate The Wilton Diptych: willowy serene angels, gorgeous gold, portable balm for the soul @NationalGallery http://t.co/v6WW9JyOcu\",happy\\n615463214915166209,\"I\\'m at @BritishMuseum in London, Greater London https://t.co/nGrKl2Xv1p\",nocode\\n612999299987849216,\"PAJay @britishmuseum 6/22/1794: We saw in another room a number of Roman dice, some of which appear to have been loaded\",nocode\\n614995522278006784,\"@TheFrameBlog @NationalGallery No they look like silly putty.\",disgust\\n614805329310715904,\"@history100tweet  \\xe4\\xb8\\x80\\xe7\\x95\\xaa\\xe3\\x81\\xae\\xe3\\x81\\x8a\\xe6\\xb0\\x97\\xe3\\x81\\xab\\xe5\\x85\\xa5\\xe3\\x82\\x8a\\xe3\\x81\\xaf\\xe3\\x81\\x93\\xe3\\x82\\x8c\\xe3\\x80\\x82 \\xe3\\x83\\xad\\xe3\\x83\\xb3\\xe3\\x83\\x89\\xe3\\x83\\xb3 \\xe5\\xa4\\xa7\\xe8\\x8b\\xb1\\xe5\\x8d\\x9a\\xe7\\x89\\xa9\\xe9\\xa4\\xa8\\xe3\\x81\\xae\\xe5\\xa4\\xa9\\xe4\\xba\\x95\\xe3\\x82\\xaf\\xe3\\x83\\xaa\\xe3\\x82\\xa2\\xe3\\x83\\x95\\xe3\\x82\\xa1\\xe3\\x82\\xa4\\xe3\\x83\\xab\\xef\\xbc\\x81  I think the best souvenir! @britishmuseum http://t.co/2iO6HTg3TC\",happy\\n614723808407224320,\"My favourite #oilpainting  \\'Tiger Tiger Burning Bright\\' by #Rousseau love going to visit it in the @NationalGallery  https://t.co/uOypStIdcM\",happy\\n613078973313077248,\"@NationalGallery The 2nd GENOCIDE against #Biafrans by#Buhari hs begun,3days of unreported Bombardment in #Biafraland http://t.co/cv2jdxLF8j\",not-relevant\\n611534234516353024,\"@britishmuseum I\\'m a bonaparte fan without him Belgium would have been very different (education, government) and Paris too\",nocode\\n610427488192344064,\"Between 1857-78 the @NationalGallery acquired five of Botticelli\\'s works, including \"\"Venus and Mars.\"\" #arthistory http://t.co/Xpn2wlAOrq\",nocode\\n611500070324801536,\"http://t.co/TGJd7bZjv5 CAPP - new network, new activities  #CAPP_EU @acvic @medialabprado @tateliverpool @createireland @ludwigmuseum\",nocode\\n615595635723481088,\"Our #TakeOnePicture display is on all summer. Pupils @clayesmoreprep created this respons... http://t.co/3TUJqwUUbf via @NationalGallery\",nocode\\n614387747533426689,\"#FF @britishlibrary @britishmuseum @theballetbag @josiedaisy @wahaca @IValueTheArts\",not-relevant\\n610753441124777984,\"@NationalGallery #askthegallery Which parts of the gallery would you like to be more well attended?\",nocode\\n611577749019435009,\"@idlerambler Astounding sweetness, really made me feel happy inside - she inspired me. @britishmuseum\",happy\\n611066451840118784,\"The portrait of Cecil John Rhodes by George Watts (c.1898) at the @NationalGallery #London. #EmpireWarCricket http://t.co/tCZHbd5f4L\",nocode\\n611525149679046656,\"@britishmuseum how did the quality of the French army compare to the Grand Arm\\xc3\\xa9e of earlier Napoleonic campaigns #Waterloo200\",nocode\\n613286008206004224,\"@Tate_StIves @FGW http://t.co/hHVGLx8GrZ\",nocode\\n612980348662730752,\"@CamUnivMuseums Post 16 Subject Taster Week. Visit a Museum and College - lunch also included! Book your FREE place today, lks34@cam.ac.uk\",nocode\\n615277566925082624,\"@HistoryNeedsYou @britishmuseum I will. It\\'s just magnificent.\",happy\\n613299118706950144,\"@britishmuseum a shin guard?\",nocode\\n614404491207700480,\"@Tate_StIves nooooooooooooooooo! cream, then jam ;)\",nocode\\n612953394446213120,\"Our latest @_Artimage enews: Richard Long on \\'A Line Made by Walking\\', @lilianelijn licensed for #IMOOS @Tate_StIves: http://t.co/BO3OE2bsiF\",nocode\\n612193594166915072,\"Kavita; Ishita (at @BritishMuseum in London, Greater London) https://t.co/2RkX6tKwWD\",nocode\\n611524702838857728,\"@britishmuseum @mt_ris False teeth where nick named waterloos as teeth taken from the dead\",nocode\\n613702475485478912,\"@britishmuseum thank you for following. We\\'re really interested in the development of the #Arabic Language and ME history. Recommendations?\",nocode\\n610371008005079040,\"Departmental Technician, @FitzMuseum_UK @FitzwilliamMuseum, Cambridge http://t.co/g5cdC8vyMb #arttechspace #arttechnician\",not-relevant\\n614026688771526656,\"Rachel\\'s @Culture24 review about the @britishmuseum\\'s #WaddesdonBequest \\xe2\\x80\\x93 check it out here http://t.co/X6D8pRvfsF\",nocode\\n611742218412535809,\"#FF @AboutLondon @MadameTussauds @BateauxLondon @britishmuseum @Camdencoffee @ThamesRIBExp @girlaboutthames @thamesclippers @EmiratesAirLDN\",not-relevant\\n612262857326006272,\"@NationalGallery Cage of infancy longings for freedom, Musical instrument creativity\",nocode\\n614720979089117184,\"We enjoyed the exhibition, but we\\'d have liked to see critical race theory, queer theory, feminism represented @foxvertebrae @britishmuseum\",happy|sad\\n614059218937606144,\"Get your creative juices flowing at To Have And To Hold writing workshop at @FitzMuseum_UK http://t.co/7teV2bw2lc http://t.co/N8oZvUlLda\",not-relevant\\n613679581602648064,\"@DavidSmithArt @roshvarosha @LisaLooly @newmanmpaul @DrawntoDevon @ThelmaHulbert Thank you :-)\",happy\\n615510174460198912,\"It\\'s #MolluscMonday at @RAMMuseum button top #shell #snail. More here: http://t.co/RVEifVVkCW http://t.co/E8xc2uwAPF\",nocode\\n610921876819456002,\"The Umbrellas (c. 1881-1886). Pierre-Auguste #Renoir via @sar_ahza @NationalGallery #umbrellas http://t.co/asBXy1fgJ5 http://t.co/qUegMb1Vuj\",nocode\\n613246210200203264,\"@newmanmpaul she is too good to (and for) you :-D @SimonEvolver @ThelmaHulbert\",not-relevant\\n610733594999410688,\"\\xe2\\x80\\x9c@tateliverpool: Two weeks to go until Jackson Pollock: Blind Spots opens! http://t.co/0Nw7WmH91q\\xe2\\x80\\x9d someone in liverpool come with me \\xf0\\x9f\\x91\\xaf\",nocode\\n613016852588064768,\"@britishmuseum Saw this for the second time on Sunday. I find it incredible!\",happy\\n614055648473554944,\"@NationalGallery @DavidSillitoBBC tribute to Michelangelo Manchester Madonna just finished http://t.co/h43W0yugh1\",nocode\\n612969097240924160,\"Don\\'s miss the #events showcase at @britishmuseum on 1 July http://t.co/a4t7hZY1On #eventprofsuk #London\",nocode\\n611899727362306048,\"Twitter mentions for @NationalGallery: http://t.co/A23aKptGJ4 - RT @charles_art Glory charles.: National Gallery Gold  gilding.......som...\",nocode\\n615229302028771328,\"#OTD 1519 Charles V was elected Holy Roman #Emperor. A #portrait frm th same yr http://t.co/GRSWJoKSjZ @britishmuseum http://t.co/rTboAuGcrL\",nocode\\n610747435170824192,\"@NationalGallery @Postgate needs of our supporters? Perhaps 2 or 3 examples of these needs?\",nocode\\n611884811024625664,\"@CaliforniaNat  Isn\\'t it amazing?  @britishmuseum @No1Cathedral\",happy\\n611996814645010432,\"Also been to the @britishmuseum to see the #Napoleon propaganda exhibition. Absolutely brilliant!\",happy\\n611948573148614657,\"@soupdragon2000 @Tate @NationalGallery Fabulous.\",happy\\n613414314947555328,\"Graffiti of the classy kind near @britishmuseum. by Tulse Hill station this Am: \\' Patsy is slag\\' http://t.co/g8UKZtocKK\",not-relevant\\n611947444927090688,\"@Boudiccatalks @NationalGallery @heritagelottery It is at that.\",nocode\\n611939115823726596,\"@kettlesyard Ah - will do :)\",happy\\n615452195102851072,\"Archaeology magazine featured @britishmuseum and @TARA_AFRICA documentation and cataloguing efforts #africanrockart https://t.co/rUH0dMuZUa\",not-relevant\\n613837449257725952,\"Art in Dialogue: Duccio | Caro, National Gallery, London http://t.co/JG4eeT0bVp @NationalGallery\",nocode\\n612169866418765824,\"Not my writing (this time!) but that @britishmuseum panel from the Indigenous Australians exhibition. Pops up every other day in my timeline\",nocode\\n612990910905905152,\"@RAMMuseum Are you free to join us on Tuesday 7th July for a networking event sponsored by Volvo in Exeter? http://t.co/vpv8VzYhFk\",nocode\\n615490132922249216,\"lovely, informative, short film by @HistoryNeedsYou all about \\xc3\\x86dwen\\'s Brooch https://t.co/8EJSCmNlRh #AngloSaxon #Viking @britishmuseum\",happy\\n611840652196872192,\"A P Bassett Solicitors is out! http://t.co/kFB6gIjD64 Stories via @UWEBristol @royalcourt @Tate_StIves\",nocode\\n611536312844337152,\"@britishmuseum @MangoBwoy he also just as notoriously take only about 8 minutes to complete breakfast We know his meal before the battle\",nocode\\n611665663413874688,\"@britishmuseum #RALPHMARLEY #Art http://t.co/1kvJX47RIN\",nocode\\n611464474789314560,\"Our current project working with @kettlesyard is going well so far! The work of Henri Gaudier-Brzeska is providing enjoyment all round!\",happy\\n611754563423571968,\"@NationalGallery UNESCO-VENETO-THE OPERA,una risposta per l\\'Italia e una nuova visione del Mondo su, http://t.co/NsOuQRnFYV\",nocode\\n613793476715515904,\"@odonnellhugh @britishmuseum   Greece is Greece! But Egyptian culture is before....\",nocode\\n610843544417345536,\"Construction underway @Tate_StIves. Exciting new cultural / community potential, hope helps finances too http://t.co/rcAR0D861Z @cladglobal\",happy\\n611855742677725184,\"Objects Too Big To Carry: a blog and consultation from Deborah Walton @CamUnivMuseums http://t.co/8pdzkTA0RA\",nocode\\n614351671368548352,\"@NationalGallery beautiful\",happy\\n615256552669360128,\"@MrStuchbery @britishmuseum ok. Thank you\",happy\\n613327694416232450,\"Slightly more pertinently, his work\\'s great. Ligon: Encounters and Collisions @tateliverpool opens next week\",happy\\n614527965699792896,\"@tateliverpool Biggest number of Jackson Pollock\\xe2\\x80\\x99s black pourings in the UK: Northern Soul talks to Tate Liverpool http://t.co/XEfCDRit7Q\",nocode\\n611948114069581824,\"Defining beauty: the body in ancient Greek art (at @BritishMuseum in London, Greater London w/ @otnomis) https://t.co/asU45fJkbm\",nocode\\n610758815806586880,\".@NationalGallery #AskTheGallery perhaps the questions may be better answered here(?)  information@ng-london.org.uk +44 (0)20 7747 2885\",nocode\\n613251615911313408,\"Tickets now on sale for #DefiningBeauty @britishmuseum http://t.co/M3bvqPcQmh\",nocode\\n613702241988517888,\"Greek Beauty #lastdays Defining beauty \\xe2\\x80\\x93 the body in ancient Greek art @britishmuseum My take: http://t.co/rHJxoGmfYE http://t.co/wxHHvWtqAM\",nocode\\n611114386963472384,\"@mewtopia hi! Interesting stuff so far... I\\'m sat with @TheMuseumOfLiz and Susie from @kettlesyard :)\",happy\\n613764239782727680,\"@NationalGallery I\\'m afraid quite a lot is lost in translation here. See Mario Praz\\'s explanation http://t.co/MfQoDwwK2j\",not-relevant\\n615467095179034624,\"The excellent Teaching History with 100 objects http://t.co/YSxWfalP6X by @britishmuseum LOVE the poster sent to schools #CCConf2015\",happy\\n614036819714383872,\"@ArtDecoBiz @britishmuseum they look stunning. Wish I had \\'smellyvision\\' #britishgarden #rose #flowers #summer\",happy\\n611538507446808576,\"@britishmuseum @Nickuae Not pejoratively: Josiah Tucker 1766, shopkeeping nation; Adam Smith Wealth of Nations 1776, nation of shopkeepers\",nocode\\n614035526211997696,\"The last #selfie @britishmuseum with @mariarodrirubin :( http://t.co/OL73O0QD4q\",sad\\n613712143821598720,\"@britishmuseum  \\xd0\\xa4\\xd0\\xb0\\xd0\\xbd\\xd1\\x82\\xd0\\xb0\\xd1\\x81\\xd1\\x82\\xd0\\xb8\\xd0\\xba\\xd0\\xb0 !!!\",not-relevant\\n612176248400445440,\"Early exhibition! (at @BritishMuseum in London, Greater London) https://t.co/37ccTzuYgo\",happy\\n614520176013389828,\"\\'Elements of Nature\\' with Constable Cotman Palmer Whistler Sargent C\\xc3\\xa9zanne @FitzMuseum_UK http://t.co/8o62wue706 http://t.co/8DW6rviqfc\",nocode\\n611205685158805504,\"Join @Buzz_dont_tweet &amp; @PlymouthMuseum for a #WildAboutPlymouth Big Bug Hunt on 11th July https://t.co/QojUQp1WO9 @NaturePlymouth #Plymouth\",nocode\\n614021315805245440,\"James Richards composes a sonic score for a Francis Bacon painting @_TheWhitechapel part of VAC Collection displays http://t.co/eNii1PlnZj\",nocode\\n611619374538063872,\"@britishmuseum Really interesting. Must visit. Thanks.\",happy\\n612985210741882880,\"After 29 yrs #C\\xc3\\xa9zanne #painting to leave UK unless funds raised @FitzMuseum_UK via @an_artnews http://t.co/VjDNl3XU7C http://t.co/0frSDQ5LHN\",sad\\n613436840205545472,\"@ArtandPerfume @NationalGallery This looks great; wish I could be there!\",happy\\n612906354454437888,\"Gary\\'s Southwest Daily is out! http://t.co/n9cbN3ilt8 Stories via @PlymouthMuseum @Jon2aylor\",nocode\\n614094496310104064,\"Fabulous feature on @tateliverpool in @guardian a definite must read folks @moreLiverpool if you\\'re planning a visit http://t.co/yQ3V19Alvx\",happy\\n613025673079336961,\"Jun 2015: http://t.co/6F7XReNNTf has British Museum @britishmuseum covered under the MUSEUM tab http://t.co/MIeTCIf3N0 #London #Museum\",nocode\\n613765743264591872,\"#DefiningBeauty @britishmuseum stunning celebration of the body in Ancient Greek #art. 5\\xf0\\x9f\\x8c\\x9f- ends 2/7. 3min video\\xf0\\x9f\\x91\\x87 https://t.co/OTcdHNOLmg\",happy\\n611618888544067585,\"@britishmuseum thanks for the tour! Just amazing! \\xf0\\x9f\\x92\\x9c from Madrid\",happy\\n611811064909561856,\"#FF @Camboats @ColchesterArts @ColchesterZoo @camfilmfest @FitzMuseum_UK @CambJunction @Ip_art @TheatreRNorwich @norwich_puppet\",nocode\\n610473777642741760,\"@JuliaBradbury @SimonCalder @walsop @HodderPRIBA @_TheWhitechapel A pleasure to meet you all last week!\",happy\\n612906241866731521,\"Don\\xe2\\x80\\x99t forget, tonight is the FREE @britishmuseum curators talk at Breadalbane Community Campus.  7.30pm start! http://t.co/kGJ0LQPijA\",nocode\\n615419779017408512,\"Ancient beauty and modern lives http://t.co/c85oF39AZx via @britishmuseum\",nocode\\n611230283296284672,\"A #Zurbar\\xc3\\xa1n le ha pasado ahora lo que a #Rembrandt hace 20 a\\xc3\\xb1os en la @NationalGallery: desatribuciones a montones https://t.co/dCww6jaMRV\",not-relevant\\n613354298953609217,\"Sutton Hoo Ship burial @britishmuseum http://t.co/wkNOyVWg5Z\",nocode\\n611758494291640320,\"Queen Charlotte\\'s glance draws our eyes to the view of Eton College as seen from Windsor Castle http://t.co/rQlTHY3xWP @NationalGallery\",nocode\\n613664933180514304,\"@roshvarosha @LisaLooly @newmanmpaul @DrawntoDevon @DavidSmithArt @ThelmaHulbert see you all there! :-)\",happy\\n614771449065246721,\"@RAMMuseum Excellnt exhibition BENEDICT RUBBRA Eye to Image until 2 Aug 2015 http://t.co/eal9unZMPL #art #Africa #nature #Devon #observation\",happy\\n613628850564661252,\"Lovely blog from @kettlesyard about our first ever Volunteer Awards scheme - well done everyone &amp; thanks for sharing! http://t.co/14UCFNsJR1\",happy\\n611633808090263554,\"@NationalGallery \\xe2\\x80\\x9c #BobandRoberta I am angry more artists that have a profile r not speaking up! #foundationcourses. http://t.co/0Jqrql7vfK\\xe2\\x80\\x9d\",angry\\n614690082965078016,\"It\\'s all happening @LivArtFair today Pop in to see some wonderful #art #liverbuilding @tateliverpool @LoveNorthernArt http://t.co/8HGmT67yHV\",happy\\n613366114928721920,\"@RAMMuseum  Great idea &amp; great pics - love this use of Instagram #InstaMuseum\",happy\\n610841621140230144,\"@RAMMuseum Hey! Check out the national singing competition Open Mic UK! Open to all types of acts and all ages! http://t.co/Sv0B1LE8ik\",nocode\\n609331067644841984,\"Book for Making &amp; Promoting British Art @PlymouthMuseum http://t.co/gZePLguN0D Tues 23 June, 1.10pm, \\xc2\\xa32\",nocode\\n610741306403516416,\"@kettlesyard excited to see the start of the redevelopment #HLFsupported Visit now &amp; return in 2 year to be wowed!!  https://t.co/PXeCnLT8W9\",happy\\n610429422655676417,\"@_TheWhitechapel. My darkroom after Christopher Williams. http://t.co/2sWgAcNOb8\",nocode\\n614446662484951040,\"Great to learn more from @MetOffice Informatics Lab people today:  @niallhrobinson @metolab @RachelPrudden and Richard Hogben at @RAMMuseum\",happy\\n614420520688295937,\"@britishmuseum @corneliagracchi Answering that all-important EU question today about productivity of Greek workers: \"\"What\\'s a Grecian urn?\"\"\",nocode\\n614431813197557760,\"\\xf0\\x9f\\x98\\x8a (at @BritishMuseum in London, Greater London) https://t.co/dDkkNTVLyG\",nocode\\n611877377367523328,\"Been to @FitzMuseum_UK\\'s Treasured Possessions yet? http://t.co/rp2G5s5KNu\",nocode\\n610790703157751808,\"@NationalGallery not to brag but... http://t.co/0vZrWJ0DNI\",nocode\\n613667055401836548,\"Take a tour of The British Museum @britishmuseum and practice your #Arabic. Here\\'s the link. http://t.co/YNizqkvB2h #talkarabic #learnarabic\",nocode\\n612165764574003200,\"#NG365 Jan Steen\\'s \"\"The Effects of Intemperance\"\" c.1664 @NationalGallery #art #twitart http://t.co/n8VwktswfU\",nocode\\n615203634826092544,\"Etruscan mirror-case with a representation of Odysseus &amp; Penelope\\xe2\\x80\\x94via @britishmuseum archives http://t.co/LMf0gdRsQT http://t.co/SMKeQHw7xX\",nocode\\n614397150391353344,\"It\\'s sunny, I was just given an @hummingbbakery cupcake, and I\\'m planning on going to the @britishmuseum later #lifeisgood #fridayfeeling\",happy\\n614717172028416000,\"It was a good selection of sculptures. I was familiar with many of them from AS level and my BA. @foxvertebrae @britishmuseum\",happy\\n614035380669706240,\"@FCBStudios: Watch the grand opening of \\'The Edge\\' @UniofBath https://t.co/XMd5VKRHZ4 http://t.co/2lHKe179J8 @ICIABath #arts #dance #per\\xe2\\x80\\xa6\",nocode\\n611495128352563200,\"@bbcarts @ICALondon @TimeOutArt @artfund @artlicks @FriezeLondon @_TheWhitechapel @GoldsmithsUoL @LondonAlumni\",not-relevant\\n611948230574755841,\"Defining Beauty (at @BritishMuseum in London, Greater London w/ @stavruler) https://t.co/CaKbZfa1EL http://t.co/gUhkoy0UDO\",nocode\\n615187337455210496,\"@Magpie_Dreams @britishmuseum I\\'m not sure but it\\'s look like a granada (pomergranate)\",not-relevant\\n615109996691484672,\"Members\\'Day @tateliverpool #JacksonPollock http://t.co/9g7xlKtbKR\",nocode\\n614057101334347776,\"And to top the visit off... Boilers on the rooftop! Well played @Tate_StIves X @stivesbrewery http://t.co/MgI8uRLEpt\",happy\\n613253807322099712,\"@SarahGee75 @sheepinsocks @tateliverpool will do, will probably be midweek though x\",nocode\\n615279013179867136,\"@britishmuseum my fav\",happy\\n610788171094188032,\"Work starts on Tate St Ives phase two @Tate_StIves @ILoveCornwallUK @BAMConstructUK http://t.co/p091v5nt7v http://t.co/ImS6X5Dd2M\",nocode\\n611891357846773760,\"@RAMMuseum Nominate your favourite #Devon business women for a Venus Award now   @EventExeter http://t.co/s0sdow6DUZ\",not-relevant\\n611919890979647488,\"A curiously enticing painting. @NationalGallery @Marahowlingwolf @RenwickGallery @smithsonian @Abstractartist1 #art https://t.co/lbXlvd5l5P\",nocode\\n611541279525068801,\"I think that an exhibition with ridiculing cartoons of Napoleon are not a proper way to commemorate a tragic war #Waterloo200 @britishmuseum\",disgust|angry\\n615162349612363776,\"Link http://t.co/O6khS0rnVX por @britishmuseum es el tuit m\\xc3\\xa1s popular en mis \\'news feed\\' de hoy\",not-relevant\\n612221383737745408,\"@NDCS_UK set up information stall at @britishmuseum, Ancient World Discovery Day! Come over for some fun and have a chat with us :) #deaf\",happy\\n611878975774834688,\"At Piero della Francesca conference @CourtauldStudy starting with new info on @NationalGallery\\'s great Baptism of Christ\",nocode\\n614108225017917440,\"@britishmuseum no clutter, shops, glass or other Fosterisms\",nocode\\n611503877339394048,\"@britishmuseum What\\'s going on in this picture? http://t.co/1CBGqs45j7\",nocode\\n614713131969978368,\"@NationalGallery That Rembrandt selfportrait is one of my favourite pictures. I visit it yearly around my birthday; it\\'s taught me so much.\",happy\\n615251544309633024,\"@sufeamono @tateliverpool \\xf0\\x9f\\x8d\\xa4\",nocode\\n614735033744683008,\"@PeppermintMuse \\'what is Art?\\' #thecoloursofkennyroach @NationalGallery #edfringe2015 http://t.co/YBfhwtNMjL\",nocode\\n614913307540103168,\"@moviexx1789 thank you for the follow, following you back #DefeatingDepression @RAMMuseum\",not-relevant\\n615576479007686656,\"Full on day, first up Pollock @tateliverpool then invigilating @theBluecoat &amp; now Antony Gormley @Biennial.. Amazing! http://t.co/4MPM6iV5sU\",happy\\n611585117543399424,\"How to take part in a Greco-Roman Sculpture themed flashmob near @britishmuseum: https://t.co/ooVdNzrFr6 @UK_Flashmob http://t.co/2bvhrDlLxy\",nocode\\n615425229482008576,\"Off to the press preview of the new @tateliverpool Pollock, Ligon and Bratescu shows this morning. A rather good line-up. Articles to come.\",happy\\n614754446891991040,\"@NationalGallery canaletto!\",nocode\\n614013617785204736,\"@CarolineLawrenc @britishmuseum  Oo! Fairies!\",happy\\n612203352223543296,\"...and today is the LAST CHANCE to see @kettlesyard before it closes for redevelopment http://t.co/ccDkd0lseL\",nocode\\n613206883814367232,\"Gold pendant from the Aigina treasure, Minoan, about 1850-1550 BC @britishmuseum. http://t.co/xOV3yvg6vf http://t.co/IGwSjqZLYz\",nocode\\n611536366271225856,\"@britishmuseum why weren\\'t Russians present in Waterloo?\",nocode\\n612299321938210816,\"{ @britishmuseum } #art #London #ttot #lp #vacation #trip #photography #photo #Travel #travelpics http://t.co/xji3l95pRg\",nocode\\n614241153429274628,\"Illustration to Ptolemy\\'s, \\'Geographia Universalis\\', Basel: Petri, 1545 @britishmuseum http://t.co/O7aGcHNOE8\",nocode\\n611842665592848384,\"Escape the crowds in Trafalgar Square @WestEndLIVE this weekend and enjoy afternoon tea @NationalGallery #weekend http://t.co/ztpbS3AoSZ\",nocode\\n614751797509369857,\"Book for @newexpressions3 Field visit programme http://t.co/GFZmazxBU9 @YorkArtGallery @PlymouthMuseum &amp; @UptonHouseNT\",nocode\\n611980866865242116,\"Thank you @clioclothed for fascinating talk @NationalGallery on art and #synaesthesia\",happy\\n614464448288436224,\"@Tate_StIves that\\'s fighting talk that is! but since you\\'re so lovely i\\'ll let it pass :)\",happy\\n611608479858597888,\"Dancing thro pictures! Flickbook session was excellent! @kettlesyard time to animate the creativity!! #castlehill15 http://t.co/B20cyC4JQa\",happy\\n610830470687817728,\"Book for Making &amp; Promoting British Art @PlymouthMuseum http://t.co/gZePLguN0D Tues 23 June, 1.10pm, \\xc2\\xa32\",nocode\\n613705405118685185,\"Reading on Roman marriage. Here pic of Roman marriage ceremony from @britishmuseum. god Hymenaeus &amp; torch are missing http://t.co/BNF4uZ1A5P\",nocode\\n615115677708492800,\"@NationalGallery You, of all museums, should join in on the wonderful #artbystanders hashtag... :) https://t.co/LaRbGvoJa5\",happy\\n613273679296876544,\"off for a quick dip into the @_TheWhitechapel before @an_artnews board meet - Corin and a new kids commission! Love those so much.\",happy\\n614009267650228224,\"@Ophiolatrist @britishmuseum The illusive saint like leader does not exist in human history nor a nation which shines above all others!\",nocode\\n612957657184407552,\"@britishmuseum I\\'d love to do a story for http://t.co/1PQr01NPi3. email us - 3dprintdotcom@gmail.com\",nocode\\n612177354442579968,\"@petetrainor @britishmuseum http://t.co/zzp0qDuoPD\",nocode\\n613021731230457856,\"@Peepsqueak @thegentleauthor @britishmuseum @KChavda the one standing up is the Heel Stone isn\\'t it?\",nocode\\n610415569209159681,\"\"\"Another Moment Waiting To Happen\"\" selected for Evolver Prize Exhibition @ThelmaHulbert 4\\xe2\\x80\\xa6 http://t.co/gwL2yeSSAo http://t.co/d900ntjonx\",nocode\\n610875584512684033,\"#Verrocchio @icom_italia Ary #Scheffer @NationalGallery #Magritte @Tate @UK_ICOM @BrusselsMuseums @routledge_art http://t.co/CcqSWLtU4L\",nocode\\n610751006805225472,\"@NationalGallery Do you yourself paint/draw/sculpt? Anything you can share for us?\",nocode\\n613588479218446336,\"300 miles to see art? In this case it might be worth it. @tateliverpool http://t.co/4Eqch03Mb5 http://t.co/18Nokgmvv5\",happy\\n614774145851785216,\"@NationalGallery Corot, al que sin duda anticip\\xc3\\xb3 Goya http://t.co/tQXeXzgmmc\",nocode\\n615317646444220417,\"@zooanthrosmia I wonder why? @britishmuseum\",nocode\\n614322877081481216,\"\\xe2\\x80\\x9c@VanGoghTheLife: 2 Crabs, Jan 1889. Oil on canvas, 47 x 61 cm. Private collection, on loan to @NationalGallery http://t.co/7ls6o7x521\\xe2\\x80\\x9d\",nocode\\n612934224706969600,\"@NationalGallery The 2rd GENOCIDE against #Biafrans as promised by #Buhari has begun,3days of unreported aerial Bombardment in #Biafraland\",not-relevant\\n612644435734753280,\"@britishmuseum @Pinterest That prehistoric bone flute you had in your paleolithic exhibition a while back was my favorite.\",happy\\n614133885211942912,\"I\\'m at @BritishMuseum in London, Greater London https://t.co/0tFkvqNqRh\",nocode\\n614169524535971840,\".@britishmuseum - Coupe avec des cr\\xc3\\xa9atures de la mer 1426-1435 Dynastie Ming Xuande  http://t.co/u01lSltcx4\",nocode\\n612959718764621824,\"Loved #ancientlives exhibition @britishmuseum! Brilliant use of technology, amazing display, fascinating &amp; insightful. So cool #8mummies\",happy\\n613484153552662528,\"I just told @tate @britishmuseum @NPGLondon &amp; @RoyalOperaHouse to #DropBP Sponsorship. Join me: http://t.co/QBEXBC6yRN\",nocode\\n615076107465977856,\"Absolutely fascinated by #8mummies yesterday .... &amp; quite taken by the @britishmuseum shop too :) http://t.co/e3tKUtcoCk\",happy\\n611493631078305793,\"\"\"We\\'ve pulled out all the stops\"\" - curator Jane Munro on @FitzMuseum_UK watercolours http://t.co/Yz5DTi4jGU http://t.co/iHxSDTh2Rt\",nocode\\n614178847752331264,\"@chriswatt44 @Tate_StIves great pic. What a day. Cheers :-)\",happy\\n612299996206120961,\"{ @britishmuseum } #Korea #China #art #London #ttot #lp #vacation #trip #photography #photo #Travel #travelpics http://t.co/TJENSQFQma\",nocode\\n615289022265577472,\"@britishmuseum @gallimaufrey777 More remarkable for abdicating voluntarily,\",nocode\\n614448272271376384,\"Thanks @metolab &amp; @RachelPrudden for showing me what you\\'re working on. See you again at @RAMMuseum in July!\",happy\\n611575013146234881,\"Great to be with @chrismannbbc on his terrific radio show @BBCCambs chatting about @kettlesyard #Cambridge http://t.co/r74W46NRPJ\",happy\\n611872287478951936,\"Review of #IndigenousAustralia @BritishMuseum  #anthropology http://t.co/SdvRj9V8Nu http://t.co/kHsqdCv938\",nocode\\n612811968227885057,\"@britishmuseum @timneedles 2013 I was there the day before Summer Solstice @3sant #anglesey They were also making new visitors\\' center\",nocode\\n613321125435711488,\"@KirkdaleBooks @britishmuseum Boom Boom\",nocode\\n611586975640915968,\"Waterloo; Wellington in foreground, holding a telescope and reins @britishmuseum #Waterloo200 http://t.co/von10M7ZUt http://t.co/xO2eM3FKus\",nocode\\n612650935182065664,\"@NikosChangez @britishmuseum in their minds, probably yes. If you are protecting it though, then you return it as soon as situation changes\",not-relevant\\n611989258342113281,\"Well worth a visit - #IndigenousAustralia @britishmuseum. On until 2 Aug 2015. http://t.co/BQPxoajJ8z\",happy\\n610728868547293185,\"@FitzMuseum_UK @alexmonro @Cambscene @artist_bruce Look forward to visiting the exhibition.\",happy\\n614353659586048000,\"@NationalGallery golden draperies on the walls\",nocode\\n612002735936937984,\"My mind on a canvas #seewhatididthere @NationalGallery #London http://t.co/ucVkl903kt\",nocode\\n611885920950845445,\"My review of the fab @StornowayBand at @RAMMuseum in @RecCollMag http://t.co/4S1w5ezohM (under my nom de plume) Birdsong ahoy! #stornoway\",happy\\n615508767992639488,\"@Egondesign @Tate_StIves Mr Thomas learnt lots today during his visit #BarbaraHepworth http://t.co/Mh5Hm3EOyn\",nocode\\n612013639222956032,\"\"\"@britishmuseum: James VI (Scotland) and I (England). His portrait is in this jewel  What is the meaning of \"\"R\"\"?\",nocode\\n615137158773538816,\"@NationalGallery @TreeHouseBkshop Also on display on our bedroom ceiling! http://t.co/E2X3ffa9ya\",happy\\n610825815693996032,\"Always love the mosaic floors @NationalGallery #London. Simple ideas like #curiosity #open mind &amp; rest &amp; be thankful http://t.co/cvxJLAp9iV\",happy\\n611506835426811904,\"#Repost @britishmuseum with repostapp. \\xe3\\x83\\xbb\\xe3\\x83\\xbb\\xe3\\x83\\xbb Today marks the 200th anniversary of the Battle of\\xe2\\x80\\xa6 https://t.co/OzvPMqdV0s\",nocode\\n611832530778591232,\".@FAHACS @HelenGraham64 graduate role in development team @britishmuseum for any new grads interested in fundraising https://t.co/pnbQrqsL3J\",nocode\\n615133094874628096,\"@britishmuseum @D2Zen love the Rubens drawings, seeing his hand at work. Btw high temp 64 here today! #craycray @CarisaMarie11\",happy\\n610889556146155521,\"\\'Dizzy\\' reflected in Winifred Nicholson\\'s Cyclamen &amp; Primula, in the Lower Extension @kettlesyard https://t.co/hcEVoRF2Gu\",nocode\\n613698210255761413,\"\\'Founder\\' of the @britishmuseum Sir Hans Sloane (1650 - 1753) http://t.co/vXuOLlPPsI\",nocode\\n615497501228036098,\"@SparkSpaceLdn @dropthedebt @_TheWhitechapel whoops sorry IN whitechapel but at the Brady Art Centre!\",nocode\\n614532508101705728,\"Jackson Pollock\\xe2\\x80\\x99s black pourings: Northern Soul talks to @tateliverpool http://t.co/XEfCDRit7Q #Liverpool #JacksonPollock #Pollock #art\",nocode\\n615495382743810048,\"BritishMuseum: RT @CBoyleImages: A very intresting insight into ancient Egypt @britishmuseum exhibition Ancient Li\\xe2\\x80\\xa6 http://t.co/GsdwSBiD5e\",happy\\n614822240853622784,\"Looking forward to seeing our @ThePlaceLondon creative project with @britishmuseum today https://t.co/oHlFJnHzpN http://t.co/EbbgpB9wRD\",happy\\n614834368729743360,\"@britishmuseum :@rev_mahapa~Follow us on Facebook Page &amp; Group:HERITAGE/MUSEUM CLUBS MOVEMENT OF SOUTH AFRICA\",nocode\\n612542521357393920,\"@britishmuseum @TripAdvisor I saw something this week on Australian TV on the British Museum ..it did look fantastic !\",happy\\n613692459068039169,\"Boy and girl, nobility and nubility \\xe2\\x80\\x93 all are collapsed together in the \\'Sleeping Hermaprodite\\' @britishmuseum http://t.co/yZzrTuwv56\",nocode\\n613735605516660737,\"new volunteering opportunities at @MAACambridge working on collections or front-of-house http://t.co/vsmOtHBn6j\",not-relevant\\n611115623905656833,\"@tate_kids @tateliverpool love that description of #Pollock\",happy\\n615243730170331136,\"This cheeky beauty is a popular exhibit at @BritishMuseum. One of many representations of the love goddess they have. http://t.co/MIVusjNnmu\",happy\\n610617312346013697,\"Just me, @_ECinc and @petermansbridge at the @MtAalumni event at the @NationalGallery, amazing Alex Colville exhibit http://t.co/GH7pTeGPk1\",happy\\n610743582132150272,\"@Postgate @NationalGallery I\\'d like to know\",nocode\\n614173735315197952,\"We interrupt our summer editing hiatus for a progress update: catch Sarah this Sat anoon @_TheWhitechapel Gallery http://t.co/x42lxBIFRB\",nocode\\n614069782674034690,\"If only the Thames was as swimmer-friendly! Hiding from the heat @NationalGallery #London #summer http://t.co/yPzGMZterD\",nocode\\n610383241544101888,\"@RA_Mag @NationalGallery  Angel\"\"how you feeling after the weekend ? \"\" Saint \"\"ruff, I wouldn\\'t go in there just yet \"\" Angel \"\"bless you child\"\"\",nocode\\n613976666096967680,\"Morning peeps, beautiful morning in Cranleigh, looking forward to a shindig @BritishMuseum later\\xe2\\x98\\xba\\xef\\xb8\\x8f http://t.co/ii1VoRZyPi\",happy\\n612607636798713856,\"In \\'The Painter\\'s Father\\', C\\xc3\\xa9zanne\\'s father is shown immersed in his newspaper. You can v... http://t.co/l28cErcVBN via @NationalGallery\",nocode\\n614105121396523008,\"@NationalGallery @Your_Paintings I don\\'t think the model is Saskia.\",nocode\\n612252491518881792,\"@AdriaQuinones @britishmuseum Remember being there with mr and Julia in the Mezozoic era? That manuscript exhibit?\",nocode\\n614859704787931136,\"Visited @MontacuteNT today and the whole house was fantastic, especially the @NationalGallery exhibition. Lovely, welcoming staff too.\",happy\\n608752863993544704,\"It\\'s #ilovemuseums day! V lucky to have so many brilliant museums nearby to entertain children, visitors&amp; me @CamUnivMuseums @CamTechMuseum\",happy\\n610490660441989120,\"@tateliverpool Yes looking forward to. Last Pollock show I saw was during 2012 in Tokyo. Saw the amazing \\xe2\\x80\\x9cMural on Indian Red Ground\\xe2\\x80\\x9d.\",happy\\n614410221071507456,\"At work in #Exeter today @RAMMuseum @Devon_Hour http://t.co/0tDkevR9eg\",nocode\\n614545674114322432,\"Today @RAMMuseum\\'s millionth visitor received a 3D printed copy of an ancient Peruvian pot and behind-the-scenes tour http://t.co/juhm4GFpuL\",nocode\\n614358599180132352,\"#FF TGIF! @unisouthampton  @britishmuseum @UniofReading @adrianmurdoch @Archaeology_ws\",happy\\n612679467564171265,\"Objets d\\'histoires, le Journal is out! http://t.co/KW4bFsBaKK Stories via @NationalGallery @brooklynmuseum\",nocode\\n611971981244768256,\"Discover The Arts with Social Media: NOHO Featured Artists Blandine Bardeau and Hermoine Carline https://t.co/Ol5utECOPW @NationalGallery \\xf0\\x9f\\x8e\\xa8\",nocode\\n611104478373236736,\"Who is Jackson #Pollock? Kids introduction to the jazzy, action painting man &gt;&gt; http://t.co/MOhzqTJFVW @tateliverpool\",nocode\\n613690720701022208,\"DT UKinGermany: Neil MacGregor - Direktor des @BritishMuseum \\xe2\\x80\\x93 h\\xc3\\xa4lt Queen\\xe2\\x80\\x99s Lecture [http://t.co/Ur8v16lRHp... http://t.co/7Cqa00DpUJ\",nocode\\n613456084334977024,\"\\xc2\\xa1COMPARTIENDO EL ARTE est\\xc3\\xa1 disponible! http://t.co/Fet52Q7p5y Gracias a @NationalGallery @ArsMagazine @MuseodelTraje\",nocode\\n614431620523773952,\"A symposium of radical film from contemporary Greece @_TheWhitechapel http://t.co/E5LcU2Lv0H Sat 4 July\",nocode\\n612947320443936768,\"@britishmuseum and is that a neck collar? The neck is so slender.\",surprise\\n613580118196420609,\"#CanAltay #JeremiahDay #ThessalonikiBiennale @JenniferHiggie @cfitewassilak @HKaplinsky @tateliverpool @EdB_Projects http://t.co/ZiezuD6mBu\",nocode\\n610873494910443520,\"@ExeterLiving @MooseAllain @ThelmaHulbert Fab!\",happy\\n615495034368950272,\"@melly_sue @britishmuseum isn\\'t that a rest museum I hav been going since I was small mummy are the best\",happy\\n613288711426580480,\"New #blog on our favourite #portraits to see in #London @NationalGallery @Tate @CourtauldGall http://t.co/38eDYAfxHt http://t.co/9HKqdF9ke7\",happy\\n612035996356603904,\"@judrop1948 tnx for #ff; @Colin_Macaulay @Duck_Di @DuncanSalkeld @Heather1576 @NottArchaeology @britishmuseum  honoured to be in yr company\",happy\\n613668057605644288,\"@britishmuseum What better way to spend the day in #London ? http://t.co/FFXsi12Jkt\",happy\\n612242959229190145,\"@britishmuseum on INSTA. Born #onthisday in 1566: King James, the first Stuart king of England and also James VI of\\xe2\\x80\\xa6 http://t.co/he4iowbRUt\",nocode\\n611909619913506816,\"Looking forward to @britishmuseum Egyptian touring exhibition Writing for Eternity @wrexhamcbc museum opening tonight http://t.co/NHaBQ9Dzpd\",happy\\n614723368726724608,\"@NationalGallery carravaggio\",nocode\\n610804628469452801,\"Really enjoyed the new watercolour exhibition at @FitzMuseum_UK - the Turners are particularly impressive\",happy\\n613351374881955840,\"Art on loan: Pollock works, overhauled by conservators, travelling to @tateliverpool. Will they be overhauled again? http://t.co/EUC2npoy2z\",nocode\\n611657003279085568,\"@eguilbs @britishmuseum I arrived from Canada a day before my @RoyalRoads field school to \"\"acclimatize\"\" but really for this. Good timing!\",happy\\n614390210240118784,\"@britishmuseum : the place to be!\",happy\\n613931764524847104,\"More buzz for @NationalGallery: http://t.co/3jFmBXILMk - RT @yjnmin Soundscapes: Paintings | Exhibitions and displays | National Gallery...\",nocode\\n612890300747489280,\"@DrawntoDevon @Tate_StIves Sounds great paula-I have been to the Hepworth Museum in Wakefield-really good indeed\",happy\\n613648711411838976,\"Weapons of resistance: Jandamarra, a hero of the Bunuba people http://t.co/hZaXCNQKeq via @britishmuseum\",nocode\\n614716033165828096,\"@emmajtracey @bbcouch You should interview @ChloeSpicerArt  @Foyles #dyspraxic penguins display @britishmuseum, now https://t.co/pKriFmfc8e\",nocode\\n614021657498398721,\"@NationalGallery  2ndJuly-18th October-photographic exhibition that illustrates the life of actress #Audrey #Hepburn http://t.co/plEYT20RuI\",nocode\\n611122659141779456,\"Fancy a day out? @PlymouthMuseum have an Enid Blyton exhibit open today, about her childhood, career and characters! http://t.co/BYXevGcxvw\",nocode\\n611831008606986240,\"We\\'re looking forward to going to London tomorrow with our friends at @tateliverpool - How are you spending your weekend? \\xf0\\x9f\\x90\\xb8\",nocode\\n615277298758103045,\"@SeanwelshBacc @britishmuseum get a magnifying glass no delve deep\",nocode\\n614407521068023809,\"What can the Old Masters teach us about death? Fascinating event at @NationalGallery,4 July: http://t.co/D7jqMMZeUv http://t.co/2MOeruXm6o\",happy\\n612300811608150016,\"{ @britishmuseum } #Australia #art #London #ttot #lp #vacation #trip #photography #photo #Travel #travelpics http://t.co/OvpBQoCaMP\",nocode\\n610439478046552065,\"@NationalGallery What areas do you think the National Gallery should focus on collecting next? #askthenationalgallery\",nocode\\n614734399582695424,\"I\\'m at @BritishMuseum in London, Greater London https://t.co/gdTrkmPcME\",nocode\\n613860064055537669,\"Brass astrolabe, made by Muhd Mok\\xc3\\xaem, India, Neshki script, 1659/60 @britishmuseum. http://t.co/sEuSYQeiEi\",nocode\\n612649901260939264,\"Defining Beauty @britishmuseum is well worth a visit...especially if one enjoys drawing in the dark http://t.co/Y7MJbf1BJk\",happy\\n613134730234589188,\"@SenderosP @britishmuseum  &amp; what a TREASURE! &gt;&gt;&gt;*&lt;&lt;&lt;\",happy\\n614113686316281856,\"@heritagelottery funded @britishmuseum traineeship at National Museums NI http://t.co/yYEluc2xyX http://t.co/9oBAQtSAbs\",not-relevant\\n610754046396354560,\"I urge art lovers to boycott @NationalGallery until @pcs_union rep Candy is reinstalled. Human rights more important than pictures @BHGreens\",angry\\n613286051717775360,\"#roman glass in the enlightenment gallery @britishmuseum Beautiful. http://t.co/TsJSB0kgwn\",happy\\n611310662069956610,\"@_TheWhitechapel : Galeri Seni Kontemporer di Moskow : http://t.co/gBYitJEYmH\",nocode\\n615083015459500032,\"@britishmuseum @RebeccaHossack  What about the horrors of colonialism? Very much glossed over.\",sad|angry\\n615257557205151748,\"@FlorianKolfhaus @britishmuseum I agree with you, by the way.\",nocode\\n612299588242960384,\"{ @britishmuseum } #art #London #ttot #lp #vacation #trip #photography #photo #Travel #travelpics http://t.co/phoGnEbQqR\",nocode\\n613317012874502144,\"@britishmuseum A greave?\",nocode\\n615463698543562752,\"I\\'m at @NationalGallery in London, Greater London https://t.co/k03w0y5t9E\",nocode\\n611573636164681730,\"@Ophiolatrist @britishmuseum Seriously ? Napoleon and Hitler ? It\\'s just stupid.\",angry\\n611832453519552512,\"This hunting calendar looks like something out of #Grimm, engraved with the names of different Wesen. @britishmuseum http://t.co/aElLQeRjPS\",nocode\\n614731761432571904,\"@wzaparte Vermutlich k\\xc3\\xb6nnte man es mit einer aufgeschlosseneren Haltung gegen\\xc3\\xbcber Besuchern auch hinbekommen... @DerSPIEGEL @britishmuseum\",nocode\\n610357987287375873,\"#Marr on #StartTheWeek should ask HRothschild when she will negotiate a settlement to @NationalGallery dispute &amp; remove privatisation threat\",nocode\\n613721478740213760,\"@Tate_StIves @FalmouthUni \\xe2\\x9d\\xa4\\xf0\\x9f\\x91\\x82\",nocode\\n614439192068657152,\"@saraahhkay @britishmuseum he must be an ancestor haha\",happy\\n610737082810548224,\"Congrats to @MooseAllain for winning the @Evolver cover prize. Delighted my piece is in the exhibition @ThelmaHulbert http://t.co/0Hc3ebAXbu\",happy\\n611905249809440768,\"#ff @ArtBasel @SCOPEArtShow @VOLTAshow @DesignMiami @YSPsculpture @V_and_A @fotofever_eu @fotomuseum_ch @_TheWhitechapel @OpenEyeGallery\",nocode\\n613219815596032000,\"@britishmuseum Sheffield Student Offers &gt; http://t.co/GxEOrhYHcs\",not-relevant\\n615503418333990913,\"@RAMMuseum our secret is a brisk walk in our gardens and lots of tea #birthday\",happy\\n611593478682841088,\"@michaelsparling you need to visit @PlymouthMuseum &amp; see \\'Fallen Emperor: Napoleon in Plymouth Sound 1815\\'\",nocode\\n611560753682870273,\"@britishmuseum @eclectic5 @CFontainebleau Absolutely, we have some of them, like the uniform which he wore at Marengo http://t.co/NH7xTM4rrD\",nocode\\n614179694339059712,\"@britishmuseum http://t.co/l4LseZIPHp\",nocode\\n610835460894654465,\"Construction steams ahead on Tate St Ives phase two @Tate_StIves @ILoveCornwallUK @BAMConstructUK http://t.co/AITLbp5frH via @cladglobal\",nocode\\n612710923220946948,\"One of the best exhibitions around. X-Rays of the ancients @britishmuseum #8mummies (plus Greek art #DefiningBeauty) https://t.co/QDULXqD8JV\",happy\\n613239518972518400,\"@DavidSmithArt cheers for Twitter stuff, should be able to make PV for @SimonEvolver @ThelmaHulbert next month- I\\'ve got cover!\",happy\\n614536101211078656,\"@britishmuseum hi- are your evening lectures recorded? Somebody at the Greek/ Enlightenment one tonight mentioned podcasts...\",nocode\\n610504874363592704,\"@photoworks_uk @_TheWhitechapel Not many people seem to know about @artforum\\'s double issue. Here are both covers: http://t.co/hTBWLONV9L\",nocode\\n611569621813063680,\"Very excited for Nicholas Thomas @MAACambridge : A critique of the natural artefact: rethinking re-contextualisation #objects2015\",happy\\n610204955127975938,\"\\'Still Life\\' #ContemporaryBritishArtist #ModernistPainter @_TheWhitechapel @_WhiteCube @theBluecoat @Gagosian http://t.co/Ckc6wBI3Wm\",nocode\\n612962324362559490,\"@NationalGallery The second GENOCIDE agvainst#Biafrans as promised by#Buhari has begun,3 days of unreported aerial Bombardment in#Biafraland\",not-relevant\\n611438250012577793,\"#newexpressions field visit @UptonHouseNT today- still time to book for visits @PlymouthMuseum &amp; @YorkMuseumTrust too http://t.co/YOYfS8pMLn\",nocode\\n614026015833235456,\"I\\'m at @BritishMuseum in London, Greater London https://t.co/A1SD0K4nRw\",nocode\\n613274360586076160,\"@britishmuseum And lack of smell by the look of him\",nocode\\n611126853965860865,\"@NationalGallery I \\'ve not found the answer to my question to Sir Nicholas....\",disgust\\n613331846072561664,\"MT @WeAreMuseums What do paintings sound like? Read about \"\"Soundscapes\"\", @NationalGallery\\'s latest project http://t.co/t9yaxX1zzg\",nocode\\n614116491315777536,\"JOB ALERT: @britishmuseum is hiring a Curator: South Asia with focus on Indian sculpture. Deadline 14th July 2015 http://t.co/WmZQNLwpu1\",not-relevant\\n610764890869993472,\"The @FitzMuseum_UK #Watercolour exhibition opens today https://t.co/Bjb6aHB81p. We\\'re thrilled to collaborate in #OC2015. More details soon!\",happy\\n611216576956768256,\"The H-Albion Daily is out! http://t.co/69IEhmrmpp Stories via @N_T_S @NationalGallery @DigiVictorian\",not-relevant\\n610420745072680960,\"#vacancy ALERT: Head of Communications @_TheWhitechapel http://t.co/44LdG9yGBP #artsjobs\",nocode\\n611822470518210561,\"@britishmuseum So glad you followed! Interested in ancient manuscripts and rare books? Check http://t.co/tqsweGr0Kl\",happy\\n615477231742251008,\"Looking forward to seeing #GlennLigon @tateliverpool this eve. Still gutted I missed the talk, hoping for a beautiful crowd\",happy|sad\\n615235545002835969,\"Thanks to John @tateliverpool for a brilliant guided tour of Blind Spots #JacksonPollock. You\\'ve even helped my husband understand the work.\",happy\\n611534227075694592,\"Wheel-chaired youth I directed to @britishmuseum today completely touched my heart - love her artwork card :) http://t.co/sbHuiEsUT9\",happy\\n614799729768140800,\"Hey @britishmuseum, you meant \"\"no less strange TO PEOPLE OF THAT F-ED UP TIME\"\", right? http://t.co/LL7WG4JQmH\",nocode\\n611914506277523457,\"@britishmuseum Can I just barrow this for an evening? So beautiful!\",happy\\n610375767743139840,\"@anotherpersonio @kettlesyard Thx for Fav - loved our visit to KY @geffrye join our @ruskinwalks 27 June http://t.co/y95MJrQNMP\",happy\\n611410036779315200,\"#NG365 Pieter de Hooch\\'s \"\"A Woman and her Maid in a Courtyard\"\" c.1660 @NationalGallery #art @JohnConstableRA http://t.co/8XseAiH84c\",nocode\\n614359163800526848,\"#ff @britishmuseum @thebiscuitjar @BedazzleEssex @BuddySaffronDog @BritMums @BandR_Carpets @BirnieTanya @Lovebeales @TheBHF @BNIwalden\",nocode\\n614006581055877120,\"A fine publication 1926 @britishmuseum Corpus Vasorum Antiquorum - Greek &amp; Roman antiquities http://t.co/8S6cys8gMl http://t.co/PDQVJ7LJaC\",happy\\n614038413361180672,\"A meeting @britishmuseum today http://t.co/q9M3UIF1Ig http://t.co/hyculRzizt\",nocode\\n614321713891934208,\"#ff More #Exeter Pound note people: @ExeterCavern featured on \\xc2\\xa3E10, @RAMMuseum where you will first see the notes &amp; @jopavey on our \\xc2\\xa3E20.\",nocode\\n611524231923412992,\"@britishmuseum @Charles_XII  That is correct@ .\",nocode\\n612675582686556160,\"amazing: Mongolians reunited with 1920s pics of relatives. River Stars Reindeer @MAACambridge  http://t.co/OXbEIEJBLd http://t.co/bJRYlkdjjS\",nocode\\n611879630493061120,\"@psframes @ABroadBrush @NationalGallery I love intense attention being paid to the\\xe2\\x80\\xa6frames.\",happy\\n615116291498770436,\"Link del d\\xc3\\xada! El link m\\xc3\\xa1s popular entre la gente que sigo es http://t.co/R6mTJRdTe1 por @britishmuseum\",nocode\\n611509607505231873,\"Another stunning location in #Cornwall this time we are in St Ives, home to @Tate_StIves #lovegreatbritain http://t.co/OhxSutj9XH\",happy\\n612667362010116096,\"What lies beneath: drapery and the suggested form http://t.co/gM8FOD66V9 via @britishmuseum - Alluring: how surface is made by internal form\",nocode\\n610751024425488384,\"What picture would you most like to have in the permanent collection @NationalGallery #AskTheGallery\",nocode\\n610860901277679616,\"Practising Artist required to run workshops @PlymouthMuseum http://t.co/WKfkJusLWX Quote required. Deadline: Fri 26 June #artopps\",not-relevant\\n614742941664415745,\"@tarbosaur @profjoecain many thanks - it is sad but I think the @britishmuseum has now hidden away its Enlightment  gallery demonic mermaid\",sad\\n613984308290809856,\"We\\'re looking forward to welcoming guest speakers from @NationalGallery @NationalGalleriesSco and @BarberInstitute #BaroqueSSN @BM_AG\",happy\\n613309288929435648,\"Oscars almost ready for the freezer @RAMMuseum, needs to be in the deep freeze for a month before joining the tiger! http://t.co/bIPeyDQaC4\",nocode\\n612320538803994624,\"#indigenousaustralia exhibition @britishmuseum was amazing! Well worth a visit.\",happy\\n611615301818408961,\"@britishmuseum Nice! Love that I\\'m \"\"touring\"\" the museum with you while I eat lunch here in Canada!\",happy\\n614104006835748864,\"Fantastic rehang (love the purple walls!) at #BaroqueSSN study day @BMAGcurators @NationalGallery http://t.co/cu3s5TGa0T\",happy\\n610274708504846336,\"@appendixjournal @snolen @FitzMuseum_UK always loved this.\",happy\\n610726015426408448,\".@NationalGallery Hello from next door! Dr Penny, what\\'s your favourite portrait in the National\\'s collection? #AskTheGallery\",nocode\\n611421610566909952,\"@jeremy_millar_1 @_TheWhitechapel Yes, from this photo used on the front page of the Daily Sketch,\\'tho crowds closer. http://t.co/jZLeP8XuPM\",nocode\\n611524983769165824,\"@britishmuseum @mt_ris False teeth where nick named waterloos as teeth taken from the dead soldiers  http://t.co/sfZ2sMIo32\",nocode\\n610378955791691777,\"@FitzMuseum_UK #Tiepolo\\'s inner world: MERCHANTS OF LIGHT, historical novel by Marta Maretich http://t.co/I6xedWz0lJ http://t.co/fS9LDZH0LE\",nocode\\n613719259986948096,\"#DefiningBeauty: great exhibition @britishmuseum! To see the political/economical situation today, and to think of the Greek Empire then...\",happy\\n613689065339289600,\"Neil MacGregor - Direktor des @BritishMuseum \\xe2\\x80\\x93 h\\xc3\\xa4lt Queen\\xe2\\x80\\x99s Lecture http://t.co/bJTDZnYmYx #QueeninGermany\",nocode\\n614816503951687681,\"Ancient beauty and modern lives http://t.co/x3ua24FUyJ via @britishmuseum\",happy\\n614206536978694148,\"Good day @BMAGcurators @BM_AG for  new 17th century display #Baroque #BaroqueSSN @HelenHillyard @NationalGallery http://t.co/Op4OCbjeC5\",happy\\n613324320320978944,\"@britishmuseum Throughly enjoyed #DefiningBeauty today, and highly recommend everyone to see this superb exhibition before it closes.\",happy\\n611799414655557632,\"We are looking forward to being at @_TheWhitechapel on July 23rd for the next #PWA @PositiveAcademy #HR\",happy\\n614173904794439680,\"The Cantabridgia Daili is out! http://t.co/KXjmg92zIk Stories via @CamUnivMuseums @ClareCollege @kab3d\",nocode\\n613308043791613952,\"@_TheWhitechapel has a new incredible show James Richards and the V-A-C Collection and Francis Bacon, it\\'s amazing!http://t.co/ItDS5FPROq\",happy\\n615515773876969472,\"Hope our team @EmNuttall @curltasticgurl had a great time at the @tateliverpool #Pollock #pressview today! http://t.co/qY57mgW33C\",happy\\n610746170898542592,\"\"\"@Cambscene: Watercolour - Elements of Nature opens @FitzMuseum_UK  \\xf0\\x9f\\x8e\\xa8\\xe2\\x98\\x94\\xef\\xb8\\x8f\\xe2\\x9b\\x85\\xef\\xb8\\x8f http://t.co/XaK5ArzBTI\"\" Is this by Samuel Palmer?\",nocode\\n613832009320910848,\"British Museum: Bonaparte and the British caricature exhibition @britishmuseum http://t.co/PZospRe6fM\",nocode\\n611813932148224000,\"@BMAGcurators @artfund @NationalGallery @HelenHillyard @BM_AG congratulations Helen. Well done.\",happy\\n613117470195482624,\"@karenjguthrie hey, how are things? went to @kettlesyard  the other week. Everytime new things reveal themselves to you in that place!!\",happy\\n611333883599130624,\"@tiffanyjenkins Had this in a show I curated @_TheWhitechapel\\xe2\\x80\\xa6 Wasn\\'t it painted from a newspaper image, two days after she landed?\",surprise\\n614938158615109632,\"@TheFrameBlog @NationalGallery Yes, we\\'re often going for banal these days. I do believe craft is making a come back. Stay turned.\",nocode\\n615252930875289600,\"@BedfordHaddock @FrancesBarker @britishmuseum I have feelings when it comes to display of human remains. BM held onto indig remains...\",disgust|angry\\n612573173129846784,\"#Art \\xc3\\x89t\\xc3\\xa9, Hans Wertinger, vers 1525 via @NationalGallery http://t.co/8ErKCm7aya\",nocode\\n612562403906203648,\"I\\'m at @NationalGallery in London, Greater London https://t.co/y5nOVayJtX\",nocode\\n615508830810734593,\"Glenn Ligon\\'s \\xe2\\x80\\x98Encounters and Collisions\\xe2\\x80\\x99 @tateliverpool opens tomorrow http://t.co/1EraJROtwh http://t.co/f3BDhfzd9W\",nocode\\n612204936475078656,\"I love you @britishmuseum\",happy\\n612971505912270848,\"The Cambridge Design Daily is out! http://t.co/Bwp5VBbahD Stories via @CamPicturehouse @FitzMuseum_UK @tabcambridge\",happy\\n611312248397692928,\"@NationalGallery : Galeri Seni Kontemporer di Moskow : http://t.co/gBYitJEYmH\",nocode\\n614112197564870656,\"FYI @NationalGallery @NGNotForSale #ReinstateCandy  https://t.co/cOJIYMp27j\",nocode\\n614114964157165570,\"Director of the @britishmuseum Sir Frederic Kenyon was artistic advisor to @CWGC - believed in equality for the war dead @glennhearnden #WW1\",nocode\\n611817508669145088,\"Champagne amid the rooftops @NationalGallery - #HappyBirthdayToMe #ilovelondon http://t.co/T2t5ugyWxk\",happy\\n615116201480593409,\".@britishmuseum have a #conferencing &amp; #event showcase on Wed 1 July from 6.45pm. RSVP to VenueHire@britishmuseum.org http://t.co/aIcXXkaOav\",nocode\\n613428259552894976,\"@SkagensMuseum @PrisonHorsens @NationalGallery Got them, thanks!\",happy\\n613746252732334080,\"#CanadaHouse was designed by Sir Robert Smirke, who also built the @britishmuseum #ExploreCanadaHouse http://t.co/PoZxKiIfil\",nocode\\n610748230494744576,\"#AskTheGallery with bodies from Rockerfellers to UK unis divesting from fossil fuel, is @NationalGallery backward in supporting oil corps?\",angry\\n612211057931755520,\"@britishmuseum @TripAdvisor it is !\",happy\\n613135618676232192,\"@britishmuseum @KateWilliamsme the original old blue eyes\",not-relevant\\n612323466105065473,\"@britishmuseum: #NationalKissingDay here\\xe2\\x80\\x99s our favourite smooch from the collection http://t.co/nK0YDkx3Nb http://t.co/VQ2qrJUlhC\",happy\\n610579745433063424,\"@sheilabarbican @Jon__Nash @PlymouthMuseum @BarbicanTheatre @ZoeBloss fantastic, can\\'t wait to see it. The reviews have been great!\",happy\\n613697185532743680,\"@britishmuseum Maintaining these exhibits in tip-top condition must be a Herculean effort! http://t.co/6ZOBLbqAPC\",nocode\\n611766491227267072,\"@britishmuseum @SenderosP\",nocode\\n612113179179548676,\"@hist_astro @britishmuseum then can it be safely established that such ancient cultures including Indian Vedic knew about planets before GG?\",nocode\\n614021502082633728,\"If you want the Arts Council to give, give a \\xc2\\xa31million to @_TheWhitechapel chip in by July 2015! Visit http://t.co/uWffLdzjAT #artsfunding\",nocode\\n615202990140596224,\"Cornish Holiday Escapes is out! http://t.co/1iSKbGJZnm Stories via @Tate_StIves\",happy\\n615173523007504384,\"Gorgeous and geeky afternoon at #definingbeauty @britishmuseum http://t.co/Loxk52YAY5 http://t.co/kAEHHHLNq6\",happy\\n613764291397726208,\"@britishmuseum  : Isis Hancurkan Situs Dunia di Palmyra : http://t.co/87aOPaQWUM\",nocode\\n610676096053452801,\"Lost at lunch? Don\\'t be. check this out @CreativeDebuts @ShoreditchHype @BowArts @_TheWhitechapel @Brick_Lane_Art http://t.co/jpdFA1qeGL\",happy\\n614765526963851268,\"Culturally slummin\\' it at the @britishmuseum before the high brow stuff with @taylorswift13 #RosieAndrewBigWeekend http://t.co/03Tj8F6oPn\",nocode\\n614951616345587713,\"@britishmuseum @HollowCrownFans he doesn\\'t look like a man of 30 does he?\",surprise\\n615131315755700225,\"@britishmuseum #on this day,  Look at that magnificent work http://t.co/pgtZimVX5O\",happy\\n615468630256566272,\"@britishmuseum That\\'s great thank you very much! https://t.co/cqPCG1WNW5\",happy\\n610968425909895169,\"Thanks for your reply, Dr Nicholas Penny. Thank you, @NationalGallery  ! https://t.co/alNXJeSGG7\",happy\\n613322697729114112,\"The @britishmuseum proves Rudd &amp; Gillard\\xe2\\x80\\x99s #KillingSeason were predicted in 500 BC  http://t.co/SWKOaIS3xs http://t.co/vin61erC2Z\",nocode\\n611248706717782016,\"Looking for something to do in #Exeter ? Try @RAMMuseum - you wont be disappointed! Check out our Portal! #devonhour http://t.co/4WwVmMmem3\",nocode\\n611743629141524480,\"@CambridgeNewsUK @EmmaHiggCN Great photo and article about @kettlesyard in #Cambridge.\",happy\\n611529089606938624,\"@TessaK3 @britishmuseum we have Copenhagon and Marengo #Napoleon &amp; #wellington horses #Waterloo200 @alnwickcastle by Ward. #Art\",nocode\\n610745945031057408,\"Put your questions to the @NationalGallery\\'s director! He\\'s online now. Ask him all about putting on blockbuster exhibitions #AskTheGallery\",nocode\\n611530876292362240,\"@britishmuseum What are the best first-hand accounts of the battle? What critical things do we know now that we didn\\'t then?\",nocode\\n615224903898398720,\"Great exhibition @britishmuseum Ancient Lives... A body 5,000 years old in the fetal position - However old, we return to the beginning!\",happy\\n611835800565739521,\"Still dazed from #DefiningBeauty at @britishmuseum. Stunning. http://t.co/9PfiPmcOSP\",happy\\n611213770153697282,\"@CountryballC @polandball Countryballs can soon into @NationalGallery http://t.co/VV8sdLmwhc\",nocode\\n610753052333764608,\"@NationalGallery #AskTheGallery I love the little picture by Wilkie that you recently acquired but doesn\\'t it belong in Tate Britain?\",happy\\n610506770524585984,\"Discover The Arts with Social Media: Rod McIntosh Co-Founder of NOHO Artists https://t.co/d5VDMg914E @_TheWhitechapel #London #Art #Video\",nocode\\n610753342604734464,\"A confident @NationalGallery would answer its critics during #AskTheGallery not ignore them. We are visitors and tax payers too.\",angry\\n610832134438285313,\"@charlieecom @nationalgallery Blue &amp; Red\",nocode\\n610749616070508545,\"@kettlesyard of course we mean Thursday evening, not tomorrow!\",nocode\\n615536601104547840,\"Soundscapes @NationalGallery http://t.co/keFL36fbDP opens 8 July http://t.co/ROLwnV5JYF\",nocode\\n611556819962589184,\"@NConcostrina @britishmuseum: .@Charles_XII The teeth taken from corpses on the battlefield were used as dentures for the rest the century\\xf0\\x9f\\x98\\x81\",surprise\\n611556690757066753,\"British Museum: Bonaparte and the British @britishmuseum http://t.co/ptkwqhs0VQ\",nocode\\n614038101221081088,\"@NationalGallery espectacular sunbeam :-)\",happy\\n614404119156125696,\"I thoroughly approve of the @FitzMuseum_UK cafe\\'s Yorkshire-sized scones. @britishlibrary cafe? Might take note.\",happy\\n613170367742525440,\"at the @NationalGallery . the #InventingImpressionism is a strictly No Photo area, so shot the museum shop instead http://t.co/k5JpZfY7b5\",sad\\n612012647165394944,\"@BritishVogue @MaryKatrantzou V&amp;A, Lots Road &amp; Claridges. We also love Columbia Road @britishmuseum, @HighgateCemeter &amp; @LibertyLondon :)\",happy\\n610759177833680898,\"@NationalGallery Haha There were definitely no giant eagles hanging around when we last visited !\",surprise\\n614079535101968384,\"The Indigenous Australia: Enduring Civilisation exhibition @britishmuseum tells an incredible 60,000 year story http://t.co/GlxMJ6esi7\",happy\\n613222966982275072,\"#NG365 Jacob van Ruisdael\\'s \"\"Ruins in a Dune Landscape\"\" @NationalGallery #art #twitart @JohnConstableRA http://t.co/lcDN4T9PDV\",nocode\\n613692676123283456,\"Just had a look at the new Waddesdon Gallery @britishmuseum Fascinated by the amazing boxwood microscopic sculptures! http://t.co/K68dypyKDp\",happy\\n613405377045114880,\"#waddesdon #exhibition @britishmuseum beautifully displayed &amp; glittering but boxwood carving &amp; Roman glass are most wonderful #Recommended\",happy\\n613719514807545858,\".@_TheWhitechapel hosts Athens Now! symposium on radical #film w/ @EastEndFilmFest 4 July http://t.co/6nIWyRzuPn http://t.co/kg949thJdO\",nocode\\n611891209557135360,\"Tower of Babel (1928) * by M. C. Escher - http://t.co/MI2Q2PJfP4 / via @iznogoodgood @itinel @britishmuseum\",nocode\\n612294219219214336,\"@britishmuseum Stunning collection. There was a vase entitled \"\"Socrates the Voyeur\"\". I would like to now more about it - plus a  photo.\",happy\\n615263037981720576,\"Ancient beauty and modern lives via @britishmuseum http://t.co/WtuGaoknsy http://t.co/McDPqkXEwa\",nocode\\n614964929473421312,\"\"\"They all gazed at him, as if he@were a statue.\"\" Plato @britishmuseum #DefiningBeauty\",nocode\\n611982893741666304,\"Some dramatic @britishmuseum shadows (and seagull-bums on glass) for shadow-enthusiast @SpoonsOnTrays http://t.co/q1BK1WHWLm\",nocode\\n615255574813483008,\"@MrStuchbery @britishmuseum I love that. I used to pop into the British Museum when I could just  to see the Sutton Hoo treasure\",happy\\n611692686005927936,\"#Repost @britishmuseum with repostapp. \\xe3\\x83\\xbb\\xe3\\x83\\xbb\\xe3\\x83\\xbb See this magnificent 19th-century #SudaneseLyre in a new\\xe2\\x80\\xa6 https://t.co/Tm0s4rydkE\",happy\\n611878979017011200,\"@britishmuseum In this week\\'s #Shipwreckollection, why William Swinchin spent 77 days stranded at sea during WW2: http://t.co/qEiGgYaGes\",nocode\\n614556909031563264,\"Re-Defining our beauty - amazing group of creative older people perform tomorrow @britishmuseum part of exhibition http://t.co/ooygTgdDXZ\",happy\\n614402007135293440,\"\"\"Wounded Amazon\"\"drawn on the spot in @britishmuseum  #DefiningBeauty  #thedailysketch http://t.co/TkamtWgDNn\",nocode\\n615481686063771649,\"Fantastic breadth of powerful work in the #Ligon exhibition @tateliverpool\",happy\\n613083869886087168,\"@NationalGallery The 2nd GENOCIDE against #Biafrans as promised by #Buhari has begun,3days of unreported aerial Bombardment in #Biafraland\",not-relevant\\n614509253961846784,\"Just had a look at the #DefiningBeauty  exhibition @britishmuseum as well. A great start to the weekend :)\",happy\\n614077098844524544,\"A must read for those visiting #Britain, our top 10 #cafes featuring @Tate_StIves @waterlootea http://t.co/uskstLwQgO http://t.co/EksDmgKxOA\",nocode\\n615535406201835520,\"Jackson Pollock: Blind Spots @tateliverpool. Mad seeing a \\xc2\\xa3140m work in the flesh-review on @AestheticaMag soon. http://t.co/8PtVAaDOdy\",happy\\n610426980475875329,\"@NationalGallery #AsktheGallery Why are you treating your staff so badly?\",angry\\n613767251209097216,\"The view of @tateliverpool and #dazzleferry from top is worth the climb though @Biennial @1418NOW @LivCathedral http://t.co/vGsvLVcl1X\",happy\\n611735210397446144,\"@69quietgirl @britishmuseum You\\'re right as far as I know they rotted in the mouth. Maybe George Washington\\'s Horse/donkey ones were better?\",nocode\\n610847879754829824,\"#Cornwall #StIves Looking great today in the sun. Enjoyed the @Tate_StIves and Hepworth Garden. #makeawish http://t.co/ZJOkpxXHVy\",happy\\n611118869080440832,\"From 12pm on @BBCCambs we preview #CastleHillOpen Day in #Cambridge with @TheCCT @CambsCC @kettlesyard http://t.co/n16TeDoiUT\",nocode\\n611525240036966400,\"@Charles_XII @britishmuseum BBC\\'s Chronicle (about Spitalfields exhumations) about 2001 showed an example of spring-loaded Waterloo dentures\",nocode\\n614923544603041793,\"Today I got to handle a 2500 y.o. Greek artefact at Defining Beauty @britishmuseum and see the stunning #SavageBeauty exhibition @V_and_A\",happy\\n610482001775357952,\"@Asamsakti yes is true.. a priceless treasure @NationalGallery ... and so ..  #artTherapy is a good hashtag!!! I\\'ll use it!\",happy\\n611522600154603520,\"@JHGHendriks @britishmuseum @aroberts_andrew estimates range from 15000 to 20000 horses killed/severly wounded\",sad\\n614903574250815489,\"@MasterpieceFair  @britishmuseum  @ChristiesInc please have a sneak pic @CoppermillPoets &amp; @cerejo_carla book  T Y http://t.co/9nlPUiVPuJ\",nocode\\n615220364285755393,\"Today on the @NationalGallery free tour I learned (amongst other things!) that cherubim are blue &amp; seraphim are red - wow!\",happy|surprise\\n613992544888733698,\"From #Plymouth to the world - the voyage of #PlymouthGin from birth to legen. Exhib @PlymouthMuseum until 31st Oct http://t.co/tMRaJHOA5n\",nocode\\n614944015943909376,\"@CelesteRegal Well, I hope so - but I don\\'t suppose that we\\'ll see frames like this very soon... @NationalGallery\",sad\\n614082692477530112,\"@NationalGallery have u someone on #periscope showing the world your fabulous collection #VanGogh #Bottecelli #Rembrandt #Leonardo\",happy\\n611540566401265664,\"@Rokewood @britishmuseum @JHGHendriks Was that not in terms of his own mount in Spain?\",nocode\\n615463241918058496,\"I\\'m really enjoying the @tateliverpool press view so far. I\\'ve never seen a Jackson Pollock up close before.\",happy\\n614573332277686272,\"Birthday boy at @kettlesyard. #throwback #cambridge #love http://t.co/tAuqUeHWgW\",happy\\n615444617769582593,\"Get your paper proposal in for this year\\'s annual conference @britishmuseum on 26 October, deadline noon tomorrow! http://t.co/hCC8Ctj9Fv\",not-relevant\\n614542426762559488,\"Head of Development @kettlesyard \\xc2\\xa328-37k, Cambridge #artsjobs http://t.co/xDSzFf0WSr\",not-relevant\\n610677950048931840,\"Construction steams ahead on Tate St Ives phase two @Tate_StIves @ILoveCornwallUK @BAMConstructUK http://t.co/Lj0eITFu5s #architecture\",happy\\n615266476891766784,\".@multisensorymel Pardon, c\\'est \"\"habit DU parfumeur\"\". The original etching is held at @britishmuseum. See http://t.co/BgjEKCR1PW\",nocode\\n615155556970573824,\"@cpdickenson @manx_maid @britishmuseum superb!\",happy\\n611444479237578753,\"Today we\\'re looking at #Gainsborough. Do you see the outline of a cat in this unfinished ... http://t.co/F9q8yuxMWw via @NationalGallery\",nocode\\n612618354612940800,\"A once in a lifetime collection #Waddesdon @britishmuseum http://t.co/C6vTnePFju http://t.co/wNvW2ETD1B\",happy\\n612362318450569216,\"Kilwa Pottery Sherds: one of the best @bbc @britishmuseum #HistoryOfTheWorldIn100Objects episodes http://t.co/Mr4EihF3dH\",happy\\n610454201215361025,\"The Top 5 Art shows 2C in London @LondonArtCritic http://t.co/xOFfTWuGqU \\xc2\\xa0 @PianoNobile85 @_TheWhitechapel @ExploreWellcome @CGP_London\",nocode\\n614912666054885380,\"@kerrynhusk thank you for the RT, following you back #DefeatingDepression @RAMMuseum\",happy\\n612168558978666496,\"@misssfitt @kettlesyard  So glad that you enjoyed it, the collection is stunning.\",happy\\n614022797212405761,\"Go see Defining Beauty at @britishmuseum if you can - very interesting. Indigenous Australia also one to go see, lots to think about!\",happy\\n610817066942210049,\"@_TheWhitechapel Do you post information leaflets etc. to schools? I\\'m the librarian/LRC manager of a large school library in North London.\",nocode\\n613956062031380480,\"TY @DoMcagnaTi Also follow @LoudenStudio @NYAcademyofArt @NationalGallery 2017 Abstract Film Program &amp; #FF @BLOODHOUND_SSC @Oli_Morgan\",not-relevant\\n612166209388290048,\"@mrsartytextiles @staffrm on top form moderator next week, prom then KS3 trip to @NationalGallery still so much to do ! #LovingIt x\",happy\\n614798265360482304,\"Lots of walking today and rather warm. Could do with a nice sit down. I think that\\'s pharaoh nuff. @britishmuseum http://t.co/Adm6kS2GKE\",nocode\\n613687848303206400,\"MT @NationalGallery: Feast Day of #JohntheBaptist. Explore his life through art: http://t.co/UWlIoNXrv5 http://t.co/RYSMMvJz8E\",nocode\\n612583484733980673,\"@_TheWhitechapel comme au @PalaisdeTokyo, les non finitions au service de la sc\\xc3\\xa9no: well done!  #sunday http://t.co/YWS2OWHVzc\",happy\\n611446950530011136,\"@kettlesyard will be closing for refurbishment on Sunday -definitely worth a visit if you are in Cambridge this weekend\",happy\\n613301997123473409,\"Welcome to Twitter @KowariKirstie conservator extraordinaire @CamUnivMuseums @ZoologyMuseum http://t.co/3G3nFJrje7\",not-relevant\\n612574547372437504,\"Today is the first day of #summer. Do any works in our collection remind you of warmer mo... http://t.co/nHsSIColOT via @NationalGallery\",nocode\\n612919347208679424,\"@NationalGallery The 2rd GENOCIDE against #Biafrans as promised by #Buhari has begun,3days of unreported aerial Bombardment in #Biafraland\",not-relevant\\n612947589181222912,\"@NationalGallery Lord Lucan?\",nocode\\n614395675111989248,\"@roscoeprimary19 Wow! I love learning about Ancient Egypt. This is fabulous. Well done Kaylee. @Roscoe_Primary @britishmuseum @SI_liverpool\",happy\\n613005958579646464,\"@NationalGallery The 2rd GENOCIDE against #Biafrans as promised by #Buhari has begun,3days of unreported aerial Bombardment in #Biafraland\",not-relevant\\n610910693689196548,\"Lothar G\\xc3\\xb6tz \\'Mirror Image\\' PV 18 June 6\\xe2\\x80\\x938pm @domobaal + The London Open 2015 @_TheWhitechapel 15.07.15 \\xe2\\x80\\x93 06.09.15 http://t.co/02xehuoNEB\",nocode\\n612580603343577088,\"@rodrigoorrantia @_TheWhitechapel just went to see it, the #christopherwilliams exhibition was excellent!\",happy\\n613687923897159682,\"@britishmuseum director Neil McGregor gives the Queen\\'s Lecture before the #QueeninBerlin #Royals #RoyalVisitGermany http://t.co/9lYhJrfLlf\",nocode\\n613704424649814016,\"Photo: Because Brexit and may be Grexit\\xc2\\xa0@britishmuseum gives back Parthenon statues to Greece. It will put... http://t.co/SiVy7mBL0D\",not-relevant\\n610202518015098880,\"#notesonprotesting has closed. Thank you  @_TheWhitechapel http://t.co/SA1sCb4zDk\",happy\\n613321973805019136,\"@britishmuseum we brought back some stories and photos of Escher from Andalusia, see http://t.co/GwXUfxjtcf http://t.co/Ox5DRupmtV\",nocode\\n611809805456568320,\"Wondrous manuscripts and books of the past. Paper is an amazing inspiration of tremendous delight @britishmuseum #RT https://t.co/T7lsDBn2nZ\",happy\\n613727438800056320,\"@britishmuseum We were kind of close.... ; )\",happy\\n612347292985741313,\"{ @britishmuseum } #museum  #London #ttot #lp #vacation #trip #photography #photo http://t.co/v80r5irQh3\",nocode\\n613306793566072832,\"A wonderful exhibition of Enid Blyton\\'s work is on at @plymouthmuseum until Aug 29th @plymouthherald http://t.co/XUH307PTU4 #DevonDays\",happy\\n613171083391283200,\"Celestial globe, stand &amp; ring, Timurid Dyn. 1430/1, Iran @britishmuseum. Brass w/ inlaid silver points. Kufic script. http://t.co/7vsrjrS9jV\",nocode\\n610740352887189504,\"Sunday is the last time you can visit @kettlesyard before they close to do exciting development work. If you\\'ve not seen #NewRhythms go now!\",nocode\\n611478728351158272,\"Who\\xe2\\x80\\x99s in the History Painting? A-Z 4 HannahH\\xc3\\xb6ch (1889\\xe2\\x80\\x931978) L-R 1 http://t.co/aXRUezefOO Tnght (pic @_TheWhitechapel) http://t.co/YEu4GtgUPg\",nocode\\n613630427866230784,\"@NewCraftsman @Tate_StIves  @belgravestives @stivesartschool - we have a lovely mention in today\\'s @Independent http://t.co/0oh4VG3THZ\",happy\\n610390398872195072,\"Are the Rothschild bronzes by #Michelangelo?@FitzMuseum_UK is holding a conference to find out http://t.co/2r0b681Hml http://t.co/DduDiOIGEX\",nocode\\n615469822810419200,\"@NationalGallery Monet (..) was influenced by Boudin. The woman on the right may in fact be Boudin\\'s wife. http://t.co/8aGp8BLvPY @JaouiP\",nocode\\n612594721408581636,\"@HistoryGems @britishmuseum ...its wonderful isn\\'t it! \\xf0\\x9f\\x98\\x8a Proof that sometimes before myth &amp; legend, there was indeed history &amp; fact \\xf0\\x9f\\x98\\x89\",happy\\n612240163368886273,\"Can you identify the objects representing the transience of life in \\'The Four Ages of Man... http://t.co/2EGyZ9ynvi via @NationalGallery\",nocode\\n613271198978469888,\"@NationalGallery The second GENOCIDE against #Biafrans as promised by #Buhari has begun,3 days of unreported aerial Bombardment in #Biafrala\",not-relevant\\n611203975577272320,\"Stimulating day at #culturegeek @southbankcentre , now hotfooting it back to Cambridge in time for Torres Strait dancers @MAACambridge\",happy\\n615113485664550912,\"The #musestra art of the bronze age,the ancient Cyprus and roman money in the @britishmuseum the next 30 tuesday http://t.co/OxjPG8JRa4\",nocode\\n612942433148608512,\"Apple Watch MT @britishmuseum Egyptians put amulets on mummies to harness supernatural powers http://t.co/81js6TW170 http://t.co/oaPgWnGMKT\",nocode\\n610826800663527424,\"Last week: #ChristopherWilliams @_TheWhitechapel until 21 Jun. Watch curator\\'s intro here http://t.co/f6bJ3Qt6FT http://t.co/fkDB2ntHQY\",nocode\\n612861742583037953,\"@dotfivesticks @britishmuseum great subject matter ..composition and rendering So Nice!\",happy\\n615592829507780608,\"NEW \\xc2\\xbb Portrait Of An American Dream: Jackson Pollock and Glenn Ligon Revealed @tateliverpool http://t.co/F17mA6lDa8\",nocode\\n612925516375441408,\"Glenn Ligon: Encounters + Collisions @tateliverpool unites #artists in group show http://t.co/CxrCHHzdI9 http://t.co/7klaZOMpw3\",nocode\\n611873852520534016,\"View of Rouen, from Bon Secours, [...] - Joseph Pennell 1907 @britishmuseum  http://t.co/NJKjXwWEBw http://t.co/MJxFWsaEXo\",nocode\\n613818996488601600,\"@DoubleElephant Conversation Station @TimetoChange @RAMMuseum talking about #defeatingdepression\",nocode\\n612720210076958720,\"End of another great weekend!  @Ascot on Sat then @britishmuseum with @eustonchurch today.  Back to @LondonFire HQ gladiator arena tomorrow.\",happy\\n612241763869290496,\"An afternoon of history @britishmuseum http://t.co/6zcuuThqqS\",nocode\\n615226897497214976,\"Saw the new Jackson Pollock exhibition at @tateliverpool today. Really absorbing. You should all go.\",happy\\n613628523950043136,\"@ThelmaHulbert thanks for the Favourite!\",not-relevant\\n611538608231546880,\"@britishmuseum ... Why was Ney the only one of Napoleon\\'s top generals executed by France after Waterloo ?\",nocode\\n614771277119770624,\"@NationalGallery O retrato para mim \\xc3\\xa9 a express\\xc3\\xa3o mais sincera da personalidade de uma pessoa, ao contr\\xc3\\xa1rio das self  que vira um espectro\",nocode\\n613345279908179969,\"TATE: \\xe2\\x80\\x9cEvery good painter paints what he is.\\xe2\\x80\\x9d Jackson #Pollock coming soon @tateliverpool  http://t.co/XJWZ8DkrA0 http://t.co/ysrVdWznRu\",nocode\\n610544217971118080,\"@PlatformLondon @NationalGallery lets find out Freedom Of Info act? Its our money!\",angry\\n612249774503395328,\"A very #French wall @FitzMuseum_UK http://t.co/UMz383pfSW\",nocode\\n615474350968414208,\"@UranoRebel @mmcasetti @britishmuseum bel pezzo.\",nocode\\n610817938237448192,\"@KellyKayetta36 Hi Kelly, this painting is called \\'Cognoscenti in a Room hung with Pictur... http://t.co/kfhb5p1OfP via @NationalGallery\",nocode\\n613129872798543872,\"@RothschildHan @britishmuseum.........very beautiful\",happy\\n613647604493217792,\"I\\'m at @BritishMuseum in London, Greater London https://t.co/KGM0NzQQsQ\",nocode\\n612618645303361536,\"Back at @ExploreWellcome w fellow @britishmuseum #futurecurator alum Wil to learn more about anatomies.... #museums http://t.co/73opl6XTV5\",nocode\\n615473140878151680,\"@mmcasetti grazie al cielo @boni_bruno ha ben altre misure anatomiche... @britishmuseum\",nocode\\n612781836935266304,\"This w/e saw the closing of @kettlesyard for building work; here\\'s a film I made there in memory of Michael Harrison: http://t.co/d27X7k28Gy\",sad\\n610545929637261314,\"Last RTs - some excellent #AskTheGallery questions. I look forward to the answers tomorrow @NationalGallery @pcs_union\",happy\\n611539279211139073,\"I am in love with the @britishmuseum #Waterloo200\",happy\\n610678706105782273,\"Second phase of Cornwall\\xe2\\x80\\x99s Tate St Ives steams ahead @Tate_StIves @ILoveCornwallUK @BAMConstructUK http://t.co/b6wvqlBLI0 #design\",nocode\\n612896643575361536,\"Planning ahead for school summer holidays @CamUnivMuseums? Pick up your #SatM2015 guide @theUL from today\",nocode\\n611851448448614400,\"A few minutes off from trading at Room 45 @NationalGallery http://t.co/bJCSebw1qD\",nocode\\n611118985791324161,\"@kettlesyard Loving the Castle Hill Open Day Map &amp; Schedule. A great day out this Saturday http://t.co/RrDKXubAGY http://t.co/tRNla25y2A\",happy\\n610162669681803265,\"@CamUnivMuseums  applications are nearly closing - get in touch now!! E: claire.gellard@shiver.tv! Filming 13th -17th July pls RT!\",not-relevant\\n611122380417728512,\"@TheMuseumOfLiz @southbankcentre @CamUnivMuseums @robgethers do you have any more details?\",nocode\\n610727867224342528,\"Degas, Rodin + more: discovering art history through life drawing with @TheoRhyn @arthistorians @NationalGallery http://t.co/62eQf11nQm\",nocode\\n611633206505414656,\"our Barbara Hepworth cushion (1933) - reserve collection @kettlesyard #barbarahepworth #kettlesyard #Cambridge http://t.co/JaLqt48qAT\",nocode\\n614909705031389185,\"@notechal1 thank you for the RT, now following you. Really interesting selection of panelists @RAMMuseum for #DefeatingDepression\",happy\\n613014109253046273,\"#Parents &amp; #Pastonians enjoyed a guided tour @NationalGallery. For upcoming #PASS event info: http://t.co/rTbDfSMut6 http://t.co/J6rVCX01vL\",happy\\n613306427340419072,\"Agreed @rhiannonakelly. Eat my sandwiches @britishmuseum daily 4 inspiring surroundings. Inspired rage that day. Whats nxt @ReclaimOurBard?\",angry\\n611507201048473600,\"@britishmuseum what happended to the contents of Bullock\\'s Museum of Napoleonica at the Egyptian Hall in Piccadilly? http://t.co/lWv9WriPNI\",nocode\\n615523662180052992,\"Preparation for 50 VIPs at the @PlymouthMuseum. Serving the 4 Glasses of Plymouth Gin @therefectorybar #plymouth #gin http://t.co/2rsz84IzY9\",nocode\\n612584691229675520,\"Taking it really easy at the @britishmuseum #art #london http://t.co/3OMVaPWno7\",nocode\\n612376462486847488,\"@MktgSciences   Saluting #Twitter LEGENDS! @Entrepreneur @LinkedIn @britishmuseum @UniStudios @baltimoresun @StatCan_eng @DefJamRecords\",happy\\n612249458731020288,\"Last chance to visit @kettlesyard until 2017 plus Threads-style nuclear bunker, @MuseumofCamb + more free at #CastleHill15 until 5pm\",nocode\\n615575026314670080,\"@tateliverpool for Pollock, Ligon &amp; Br\\xc4\\x81tescu PV. Top speeches\",happy\\n615420855481462785,\"The Top 5 Art Shows to 2C in London NOW: http://t.co/L8MqhHE3nw  @LaceyContemp @britishmuseum @HoxtonGallery @JFreemanGallery @artist_stone\",happy\\n611520316645474304,\"@Ophiolatrist @britishmuseum Napoleonic code? End of traditional monarchies? Disciplined? Brave? Excellent tactician? Visionary? Etc, etc...\",nocode\\n611082732337266689,\"@BBCCambs @FitzMuseum_UK @chrismannbbc Thanks LOOKS really exciting slowed down perception best wishes\",happy\\n614442503266304000,\"Great to see @RAMMuseum represented by @Tony_Eccles, its excellent and hardworking Curator of Ethnography.  https://t.co/AOrNrp4Zaq\",happy\\n611932833293205504,\"Catch #SINCru performing at the #CastleHill open day tomorrow between 4PM - 5PM organised by @kettlesyard #Cambridge http://t.co/7ku3ZaBJZB\",nocode\\n615108684159557632,\"@DavidSandum @tateliverpool er no, wrong again. I did my Art GCSE on Pollock. I\\'ve NEVER worked with Pollock Or Warhol. Wish I had!!!! ;))\",happy\\n615537785055916032,\"The Double Negative @TheDbleNgtve: Portrait of an American Dream http://t.co/QN66FsLNJx @tateliverpool\",nocode\\n612701137645502464,\"@tateliverpool Gorgeous\",happy\\n613755280157974529,\"The Steve Dixon Daily is out! http://t.co/EPY2sed1Z6 Stories via @Liverpool_ONE @tateliverpool @bbcmerseyside\",not-relevant\\n611478306563604480,\"#Gainsborough used light brushstrokes for \\'The Morning Walk\\', blending the figures into t... http://t.co/b9cnC558ma via @NationalGallery\",nocode\\n612234502451105792,\"Great coffee at @kettlesyard -brilliant exhibition &amp; performances, fab to catch up with @andrewnairne too #CastleHill http://t.co/m3SQmnhpRI\",happy\\n615425275405467648,\"@britishmuseum I\\'d venture this would be a good moment to put in an offer for the remaining Elgin Marbles?\",nocode\\n614071081327046656,\"At @RAMMuseum, @rosiedenham is being interviewed by @RichLawrenceITV for @itvwestcountry abt millionth visitor 2moro http://t.co/S8STMXutUA\",nocode\\n614463452107657217,\"British Museum evacuation?! @britishmuseum #britishmuseum\",surprise\\n611464875576066048,\"@cheltcollege L6 History of Art Dept on way to London to give public presentations @NationalGallery - excitement brewing - photos to follow\",happy\\n613849491679113216,\"@NationalGallery thanks for sharing National Gallery, have a great Wednesday :) (insight by http://t.co/zJOaCj6KNC)\",happy\\n615479926511280128,\"NOW SHOWING #102: The week\\xe2\\x80\\x99s top exhibitions @Museum_Cardiff @Tate_StIves @SLG_artupdates @Artangel @NatGalleriesSco https://t.co/P0pXGOfCP3\",nocode\\n614839797920600064,\"@britishmuseum mira @Maithanna\",nocode\\n611860993845657600,\"I visited some museums in London: @Tate, @NationalGallery @NHM_London, @V_and_A, @NPGLondon, @theclinkprison  http://t.co/LDL7NB9DX4\",nocode\\n612607728742068224,\"The impossible world of MC Escher, @nationalgallery of Scotland this summer http://t.co/wyD5GmFVna\",nocode\\n611079252784586752,\"@DrawntoDevon @simonripley @ThelmaHulbert @SimonEvolver fabulous! :-)\",happy\\n611576249937461248,\"\\xd9\\x87\\xd8\\xb0\\xd9\\x87 \\xd8\\xa7\\xd9\\x84\\xd9\\x82\\xd8\\xb7\\xd8\\xb9\\xd8\\xa9 \\xd8\\xa7\\xd9\\x84\\xd9\\x85\\xd8\\xb9\\xd8\\xb1\\xd9\\x88\\xd8\\xb6\\xd8\\xa9 \\xd9\\x81\\xd9\\x8a \\xd8\\xa7\\xd9\\x84\\xd9\\x85\\xd8\\xaa\\xd8\\xad\\xd9\\x81 \\xd8\\xa7\\xd9\\x84\\xd8\\xa8\\xd8\\xb1\\xd9\\x8a\\xd8\\xb7\\xd8\\xa7\\xd9\\x86\\xd9\\x8a @britishmuseum \\xd8\\xac\\xd9\\x84\\xd8\\xa8\\xd8\\xaa \\xd9\\x85\\xd9\\x86 \\xd9\\x85\\xd8\\xb5\\xd8\\xb1 \\xd9\\x88\\xd8\\xaa\\xd9\\x88\\xd8\\xab\\xd9\\x82 \\xd9\\x84\\xd8\\xa3\\xd8\\xb3\\xd9\\x8a\\xd8\\xb1 \\xd9\\x85\\xd9\\x86 \\xd8\\xa7\\xd9\\x84\\xd9\\x84\\xd9\\x8a\\xd8\\xa8\\xd9\\x8a\\xd9\\x8a\\xd9\\x86 \\xd9\\x85\\xd9\\x82\\xd9\\x8a\\xd8\\xaf\\xd8\\xa7 \\xd9\\x81\\xd9\\x8a \\xd8\\xa5\\xd8\\xad\\xd8\\xaf\\xd9\\x89 \\xd8\\xa7\\xd9\\x84\\xd9\\x85\\xd8\\xb9\\xd8\\xa7\\xd8\\xb1\\xd9\\x83 \\xd8\\xa8\\xd9\\x85\\xd8\\xb5\\xd8\\xb1 http://t.co/2g13Qu7VAu\",not-relevant\\n613093101406670848,\"@NationalGallery The second GENOCIDE against#Biafrans as promised by#Buhari has begun, 3 days of unreported aerial Bombardment in#Biafraland\",not-relevant\\n613307642526736384,\"Sixth form art and photography trip to Liverpool. @tateliverpool http://t.co/exaBdEaxjh\",nocode\\n611598112096960512,\"@hist_astro @britishmuseum \\xf0\\x9f\\x91\\x8d\",nocode\\n613328247309402112,\"That\\'s Edvard Munch\\'s \"\"The Scream,\"\" although the poem refers to its theft in 1994 from the @NationalGallery #vizpoem http://t.co/b3tjNZ4WVk\",nocode\\n614386899625615360,\"Back at the @britishmuseum with our second group of Y7s! Look! Female gladiators! #amazones http://t.co/3Q4aTgTMsr\",happy\\n610747478649012224,\"#AskTheGallery Love @NationalGallery. Hate Private Sector Colonisation / Illegal Discrimination Against Unions #ReinsateCandy @NGNotForSale\",angry\\n614993851963559936,\"@Marjorie73 Thanks! @britishmuseum\",happy\\n612017043957624832,\"Book now for #wiredmoney with @bbva on 8 July @britishmuseum https://t.co/OcUXUO17vJ\",nocode\\n614424679286243328,\"@Entropy72 @britishmuseum @emussj a show of real commitment\",nocode\\n615146812379373569,\"Spent the morning learning about #8mummies @britishmuseum. Fascinating and well-presented; a right balance of objects, info and interaction!\",happy\\n610446290292506624,\"@NationalGallery #AskTheGallery : If you could be someone in a NG painting, who would you be?\",nocode\\n613840669010972672,\"@britishmuseum  sexy porn sex with dance and sexual intercours https://t.co/YljzmBvSO9\",not-relevant\\n610769991831568384,\"@NationalGallery Hi, just wondered if you could RT our video, we\\'re trying to raise awareness and make Arts more accessible. Thank you :)\",happy\\n614094055870472192,\"Great new blog on #DefiningBeauty at the Hay Festival; lively and informative http://t.co/DJLVoZTZ2N @britishmuseum @hayfestival\",happy\\n615517888645042176,\"http://t.co/yUu8lGcKpY \\xe2\\x80\\xa6 Really proud to be a part of The London Open this year @_TheWhitechapel Opening 15th July - getting close!\",happy\\n612300289975169024,\"{ @britishmuseum } #Korea #China #art #London #ttot #lp #vacation #trip #photography #photo #Travel #travelpics http://t.co/XhMBMLhwyS\",nocode\\n613642369322323968,\"Looking forward to celebrating Marion Smith QC\\'s silk appointment tonight @_TheWhitechapel @39EssexChambers\",happy\\n610456246009917441,\"@jessworth @NationalGallery @RoyalOperaHouse @Tate @Shell yep\",nocode\\n614478746293305344,\"Nous adorons #Gainsborough, nous les #GB @NationalGallery http://t.co/MUEURHRKUO\",happy\\n613324774773800960,\"#JamesRichards chooses #Bacon for final presentation of the #VACCollection http://t.co/6lnqWGzQFn MT @Artlyst Until Aug. 30 @_TheWhitechapel\",nocode\\n610846131308875776,\"@Tate_StIves - this sounds fab. Any special events on in the garden in September? Can\\'t wait to come back and see it in autumn light\",happy\\n614391154365341696,\"Millionth visitor arrived @RAMMuseum http://t.co/NbFZF0sFz8\",nocode\\n613703611479126016,\"A cultural lunch break @NationalGallery taking in Venus &amp; Mars by Botticelli. #beautiful http://t.co/QgJX5TFQEv\",happy\\n612587098240090112,\"The perfect way to end @britishmuseum with a picture of my favourite piece in the whole place - the Sutton Hoo helmet http://t.co/ZDzMxNa8i9\",happy\\n610854332154646528,\"@Gary_J_G @ExeterLiving @MooseAllain @ThelmaHulbert Yes!\",happy\\n611583100615852033,\"any suggestions for art schemes for kids this summer in East London? @NewContemps @_TheWhitechapel @HiveOrg @tatemodern @MuseumChildhood\",nocode\\n614462676236914688,\"@britishmuseum so hey, what\\'s with the alarms going off? Are you going to reopen soon or should I head home?\",nocode\\n610318518567874561,\".@appendixjournal @ephemera07 @FitzMuseum_UK Cool! I could use one of these next time I\\'m camping!\",happy\\n610359624357834752,\"Van Dyck showed a sense of animation in his early works. The child in this portrait is de... http://t.co/mkESuXhg0q via @NationalGallery\",nocode\\n613038725753384960,\"#DonneInArte #DonneEScultura della societ\\xc3\\xa0 Maya, Mary, Mungo e Midge @britishmuseum http://t.co/f2rpwie8Oz\",nocode\\n614508513625276416,\"@CleanBrk our lovely volunteers and students at the CACL event @britishmuseum thanks for hosting an inspiring event http://t.co/x5JchjNrHB\",happy\\n613856254708985856,\"@britishmuseum Museum Tekstil Jemput Bola Perkenalkan Kain Sarung di Enjoy Ramadhan http://t.co/cAm80WuSyv\",nocode\\n614556582551121920,\"@britishmuseum cracking,  is John Ashdown -Hill delivering the talk then?\",happy\\n611836824126922752,\"Behind the scenes at Jackson Pollock\\'s new exhibition at @TateLiverpool http://t.co/ItIJDF6M36  #JustPublished http://t.co/7MeFSXh4L3\",nocode\\n611595700707553280,\"@britishmuseum @JHGHendriks Holy sh...!\",surprise\\n612948937960521728,\"@NationalGallery /\\xef\\xbc\\x8e\\xe3\\x80\\x81\\xe3\\x80\\x80\\xe3\\x80\\x80\\xef\\xbd\\x80\\\\ | \\xef\\xbc\\x9b\\xe3\\x80\\x80\\xe3\\x80\\x80\\xe3\\x80\\x80\\xe3\\x80\\x80 \\xef\\xbc\\x9b \\\\ (`\\'\\xe3\\x83\\xbc\\xef\\xbc\\x8c,\\xe3\\x83\\xbc\\'`) / \\xef\\xbc\\x89) \\xce\\x98 /\\\\ \\xce\\x98 ( ( ( _`\"\"\"\"\\'^ `\"\"\"\"`_ ) \\xe3\\x80\\x80\\\\`\"\"-,\\xce\\x9b,-\"\"`/ \\xe3\\x80\\x80|\\\\ \\'\\xcc\\xb2\\xcc\\x85-\\'-\\'-\\'\\xcc\\xb2\\xcc\\x85 /| \\xe3\\x80\\x80\\\\ \\'.;_;.\\' / ~\\xe3\\x80\\x80`,\\xef\\xbc\\xbf,\\xef\\xbc\\x87\",not-relevant\\n613334372956176385,\"@Tate @tateliverpool That would explain Maplethorp\",nocode\\n612902216236728320,\"Join our Index Editor Barbara Pezzini this lunchtime for her lecture on @NationalGallery and modern British #art: http://t.co/yeOBui6TBH\",nocode\\n610848388460978176,\"I\\'m at @NationalGallery in London, Greater London https://t.co/OJajLogivN\",nocode\\n614359740961964032,\"#FollowFriday @ArtPreneurs @_TheWhitechapel @Agora_Gallery for being top influencers in my community this week :)\",happy\\n612914980472623104,\"Culture Minister Ed Vaizey places temporary export ban on @FitzMuseum_UK  Cezanne http://t.co/YnA2uvJFXe\",nocode\\n614815258092421120,\"Bests museums apps @britishmuseum @uffizidotcom http://t.co/zB11Ouph5z http://t.co/89688u2EYF\",happy\\n614111544545267712,\"No matter how many times I come here, This is still one of my favourite places in London. @britishmuseum #museumgeek http://t.co/DlkdaXxXh4\",happy\\n613330979135090688,\"What do paintings sound like?To find out, read about \"\"Soundscapes\"\", the @NationalGallery\\'s latest project on our blog http://t.co/s13llQe3vQ\",nocode\\n611916069788352512,\"At 6:30 pm #conference on #PierodellaFrancesca at @NationalGallery  #art #London #culture #museum #arte #cultura #ff http://t.co/j3tmmxAdjb\",nocode\\n611111201444110336,\"Rivane Neuenschwander has a solo show at @_TheWhitechapel as part of their 2015 Children\\'s Commission, from 23 June http://t.co/lEB78j0OAK\",nocode\\n614740994299416576,\"Jackson Pollock, Jazz &amp; win tickets to @tateliverpool\\'s stunning new exhibition: http://t.co/DuFL8S0Q2x http://t.co/avlt5RRuuD\",nocode\\n611842555999875072,\"I\\'m at @BritishMuseum in London, Greater London https://t.co/LTlKKTqbmd\",nocode\\n610874227542093824,\"145+ wurde soeben publiziert! http://t.co/5RTovXsbKZ Vielen Dank an @giooficial99 @girlfromhaiti @Tate_StIves\",nocode\\n611570393749553153,\"Cambridge\\'s @kettlesyard closing for two years from 22 June - Director Andrew Nairn joins @chrismannbbc 17:50 http://t.co/CWDLW2MuWo\",nocode\\n614026683847438336,\"Follow us &amp; RT this &amp; you could #win 2 tickets to  the  exhibition #IndigenousAustralia @britishmuseum #BenugoTickets http://t.co/CfIKTIOD21\",nocode\\n615469749686935552,\"This week\\'s #PELHAMPICKS ft. Jackson Pollock: #BlindSpots @tateliverpool opening 30 June http://t.co/OhwyzJbtf5 http://t.co/IFDrMHUdfB\",nocode\\n612202655486771200,\"@NationalGallery bu haber g\\xc3\\xbcndeminize olsun sahipsiz talan edilen bir tarih http://t.co/h4y1cVtCHI http://t.co/SW2nhTVXkn\",nocode\\n612654649200537600,\"Loved #DefiningBeauty - thought it was stunning, I learnt SO MUCH. Beautifully curated. Fell in love with it all. Thank you @britishmuseum\",happy\\n612216252686299136,\"Well done @britishmuseum - looking forward to visiting next weekend for another look at #8mummies exhibit! https://t.co/FSSkqFHpD9\",happy\\n615279664039362560,\"Highly recommend #DefiningBeauty exhibition @britishmuseum to anyone who hasn\\'t made it yet, well worth a visit before it closes next month\",happy\\n611554358812090368,\"@Tate_StIves It was a amazing night , a pleasure to cook Bouillabaise in this stunning room for #LucyStein party http://t.co/0r1spFezak\",happy\\n612284932057075712,\"@steakandhonour @kettlesyard are you out tonight?\",not-relevant\\n613385149686882305,\"It\\'s been one of those days... @NationalGallery #sorefeet http://t.co/5cwgqIoGbZ\",sad\\n614390134411165696,\"@britishmuseum Beautiful exhibit. I wish to have seen it on my last trip to UK in Nov.\",happy\\n612214893144633344,\"#V @kettlesyard. http://t.co/1FSnapRCfb\",nocode\\n612177303959900160,\"Today: last invigilation at @kettlesyard gallery before closure. Thanks for having me, folks, it\\'s been a wonderful thing to do.\",happy\\n611258382545219585,\"Have a look at my 360 spin images from the @RAMMuseum in Exeter http://t.co/o4gosytPxr #devonhour http://t.co/73m4ABrYZ9\",nocode\\n612402201009459200,\"http://t.co/bZOCu7cuQv @RSPBScotland @heraldscotland @scotonsunday @welcomescotland @NaturalEngland @NewEnglandInfo @britishmuseum\",not-relevant\\n612263143683817472,\"Lo viste? El tuit m\\xc3\\xa1s popular de hoy entre las personas que sigo http://t.co/OROQB3IO4y por @britishmuseum\",nocode\\n615252496408145920,\"@MrStuchbery @FrancesBarker @britishmuseum Oh? How so?\",surprise\\n615114681930268673,\"@MrStuchbery @britishmuseum @damonayoung that is such a sexy way of putting it\",nocode\\n610612955391131648,\"@NationalGallery thanks for sharing National Gallery, have a great Tuesday :)\",happy\\n615446808815341568,\"@RomanBinchester Reminds me of this pendant I saw the other day @britishmuseum http://t.co/6r5zWrLzts http://t.co/SQJPtVwfmW\",nocode\\n611058524530049024,\"@Apollo_magazine @afneil @FitzMuseum_UK  A modern looking university Fitzwilliam. Contemporary! Hubby studied here. \\xf0\\x9f\\x98\\x89\",happy\\n613389780768944128,\"@ConsortiumX @britishmuseum The frontal eye fits him so well\",nocode\\n614649748050571264,\"@CSFineArtist @steven_heaton @tateliverpool Lucky you. I want to see this..\",happy\\n611912221162082304,\"#DefiningBeauty by defining ugly: what did the ancient Greeks find grotesque?  http://t.co/CZw91gFdHN @britishmuseum http://t.co/RPcWAeMAOz\",nocode\\n614727362714947584,\"Carambolage @soviet1973 @nrenard75 @britishmuseum http://t.co/wJAlrGi1tL\",nocode\\n615184306751803392,\"@britishmuseum Is the date 1519  correct?\",nocode\\n614481358732271616,\"@britishmuseum Thanks for the fave of Wounded Amazon.I really love #DefiningBeauty ,have visited+drawn there many times:)\",happy\\n612138080183529474,\"New post! Interesting things I\\'ve learned from \"\"A #History of the World...\"\" @britishmuseum podcast http://t.co/aFnfIOebA6 \\xe2\\x80\\xa6 #arthistory #art\",nocode\\n613768096646565888,\"V life -like painted in 1658 RT @NationalGallery works by de Hooch known for orderly interiors and sunny courtyards http://t.co/4ctVhtXNVA\",nocode\\n613696643918131201,\"@JubileeMarket1 @NationalGallery #giveaway #art #dvd &amp; #book #bundles  https://t.co/JTO0PaDN7e\",nocode\\n614527076020973568,\"I enjoyed #Minions. The best cinematic turn from @NationalGallery since #Skyfall. A lot of fun but not amazing. Some good laughs.\",happy\\n614366010058113025,\"#ff @rivercottage @plymouthcanteen @EvesTearoom @Familiessuffolk @foodjournalist @FightingCocksWA @FryArtGallery @FitzMuseum_UK\",nocode\\n614477560190214145,\"Follow #FF @RevRichardColes @rickygervais  @xeni @GSpellchecker @Ratatosk4 @britishmuseum @TalesofBritain @ChuckWendig sayeth the Lord.\",not-relevant\\n613813229735804928,\"Enjoyable afternoon @kettlesyard discussing restorative potential of home place &amp; everyday gesture #OpenHouse @andrewnairne @davidkefford\",happy\\n613646640877015040,\"The Newscomber  is out! http://t.co/G9oPkgCBg1 Stories via @Tate_StIves\",happy\\n613110678925275136,\"Wonderful @karenkati1983 @britishmuseum\",happy\\n612578455453048832,\"@britishmuseum http://t.co/nJGB2ePZVH\",nocode\\n611071962622881792,\"CfP \"\"Negotiating art \\xc7\\x80 Dealers &amp; museums\"\" conference @NationalGallery April 2016 via @arthistorynews http://t.co/fsNVduOpKW  #NegotiatingArt\",nocode\\n615248418936619008,\"@MrStuchbery @britishmuseum I\\'m guessing Mesoamerican from the handle?\",nocode\\n611566434322395136,\"After #CultureGeek yesterday, I have to recommend everyone follows @britishmuseum Head of Digital &amp; Publishing &gt;&gt;&gt;&gt; @chr1sm1chaels\",happy\\n610825508729815040,\"Had tour round the excellent @MAACambridge this afternoon, thanks @jodypatrickjoy well worth a visit #ILoveMuseums http://t.co/RX2Ogp3Gf2\",happy\\n610961104622198784,\"@ARTtuned @natalieben @NationalGallery @pollytoynbee @OwenJones84 @NGNotForSale @artistsassembly @ArtistsUnionE wild guess -pay people less?\",nocode\\n611205441398419456,\"The Enid Blyton show at @PlymouthMuseum is simply wizard! https://t.co/wXS9KxKk5C\",happy\\n615099713189249024,\"Queuing to get into @britishmuseum sucks but at least it\\'s moving pretty quickly\",happy|sad\\n613310332308688900,\"Happy to be giving a talk at the @MuseumsAssoc conference: \"\"Creating virtual reality experiences in museums\"\" with @junorae @britishmuseum\",happy\\n610721238735028224,\"@Cambscene @sarabotanical @FitzMuseum_UK is this by Samuel Palmer?\",nocode\\n613315074497757184,\"@britishmuseum a part of an armour?\",nocode\\n615488723459948544,\"Invitation- Create Your Own Fun Palaces http://t.co/XDOsehHBcN @directorbacf @FunPalaces @NOWBath @welovebath @bathmums @VisitBath @ICIABath\",nocode\\n611667837606862848,\"@HistoryLibya @OsamaTashani @britishmuseum \\xd8\\xa7\\xd9\\x84\\xd9\\x84\\xd9\\x87 \\xd8\\xa7\\xda\\xa9\\xd8\\xa8\\xd8\\xb1 \\xd8\\xb9 \\xd9\\x84\\xdb\\x8c\\xd8\\xa8\\xdb\\x8c\\xdb\\x8c\\xd9\\x86\",not-relevant\\n611960050043744257,\"#FF @Colin_Macaulay @Duck_Di @DuncanSalkeld @Heather1576 @NottArchaeology @AidanBaker @britishmuseum ... http://t.co/wpAmQdDIYe\",nocode\\n614779816496230400,\"Sexual #identity in #DefiningBeauty http://t.co/LjOfIOYPs1  http://t.co/p992hQWvyW via @britishmuseum #Pride2015 #Psychology #Sex\",nocode\\n613978686497386496,\"@ArtandPerfume @NationalGallery Wow, this looks awesome!\",happy\\n612609734999474176,\"A \\xe2\\x80\\x98sparkling show\\xe2\\x80\\x99 of Turner, Singer Sargent, C\\xc3\\xa9zanne watercolours @FitzMuseum_UK, Cambridge http://t.co/MO5R7GxEDi http://t.co/5FtpLrZKpP\",happy\\n612249252522291200,\"Great day so far! Please come down there\\'s still time #CastleHill15 @kettlesyard @cabinet_curios @CambridgeNewsUK http://t.co/28IOXeeVm5\",happy\\n611174977853743104,\"@FitzMuseum_UK @V_and_A Simply gorgeous.\",happy\\n614843189111996416,\"@britishmuseum Hello, will those be available on line?\",nocode\\n612910879374508032,\"Stop the privatisation of services at the @NationalGallery! Sign the petition now: https://t.co/8SrAyPufNF via @38_degrees\",sad|disgust|angry\\n614386538110189568,\"@britishmuseum Marvelous!\",happy\\n614837522460508160,\"Looking at Ruskin\\'s gift of #turner paintings to #cambridge #fitzwilliammuseum @FitzMuseum_UK\",nocode\\n611530533072297984,\"@britishmuseum Thank you for making history cool again \\xf0\\x9f\\x98\\x83\",happy\\n610514528158248960,\"@Apollo_magazine @JacksonsArtTalk @FitzMuseum_UK I see dry brush everywhere. Very dramatic, also reminded me the medieval cosmographers.\",happy\\n614450819656777728,\"@britishmuseum 2000 coins per day...they didn\\'t worry about RSI in those days!\",surprise\\n615224566084976641,\"@ACSArtists @YSculpture @HepworthGallery current Duccio | Caro display open now @NationalGallery http://t.co/6Crm3XRaz4\",nocode\\n610829951890120704,\"Beguiled, again, by the art of Andrea del Sarto Portrait from the @NationalGallery http://t.co/MLghaPPxiU\",happy\\n615221610568634368,\"@dr_shibley @britishmuseum And I like the cuddly toy too!!\",happy\\n612569278253019136,\"@britishmuseum happy #FathersDay http://t.co/Kyu5CygIHO\",nocode\\n612571068772036609,\"@PeckhamPlatform @_TheWhitechapel @GasworksLondon @BowArts New painting Mahler 9 exhibition @CPOFestival http://t.co/28qx8aPW9R\",nocode\\n613017736088715265,\"Stunning Viking silver \\'thistle\\' brooch (AD 900s) at @britishmuseum. Used to fasten a man\\'s cloak. http://t.co/tVgYKEMrMk\",nocode\\n614106351216787456,\"It\\'s about us Today!... Laurie\\'s Arts Resource - http://t.co/kCG0KyGKDq | Including: @corinadotdash @minimalist_art @ICIABath\",nocode\\n614211994887962624,\"#imagenes #retrato Lucio V. Mansilla #Patrimonio del @MuseoUdaondo @MuseumWeek @britishmuseum @Andres_Mage http://t.co/idUvkiKDpC\",nocode\\n611797063790149632,\"@danyelledrexler @britishmuseum Rhanks, I will! Only had time for brief whiz round before and it was spectacular\",happy\\n611515155264966656,\"Year 5 are now busy in the Digital Discovery Centre @britishmuseum  - they are having a great time!\",happy\\n611800703670046720,\"@britishmuseum Do we know what was Napoleon\\'s favourite food? Was a french one?\",nocode\\n612616738237251584,\"Stonehenge On Summer Solstice / Bertram Buchanan / Date: 1889-1920 - http://t.co/4irpTK5FRE &amp; http://t.co/3j4bjaHMfp / via @britishmuseum\",nocode\\n615252030026842112,\"@MrStuchbery @BritishMuseum think it\\'s known as a #StatementPiece of jewelry ! and what a statement !\",happy\\n612217496444227584,\"I\\'m at @BritishMuseum in London, Greater London https://t.co/7zEZI6hcly http://t.co/rF8kFS8IJz\",nocode\\n614416677086863360,\"@britishmuseum There seems to be a malfunction with his sceptre.\",nocode\\n610882059494539264,\"From 12pm on @BBCCambs we preview #CastleHillOpen Day in #Cambridge with @TheCCT @CambsCC @kettlesyard http://t.co/pw5S1RUUcR\",not-relevant\\n615151700240932864,\"@jessoir @NationalGallery thank you for the positive feedback. Pleased you enjoyed your visit\",happy\\n614388542911967232,\"@stockleyacademy students enjoying of working out of the classroom @NationalGallery #stockleyart http://t.co/ftgjISrFNk\",happy\\n612545999240704000,\"Something for Sunday: \"\"Shifting patterns\"\" @britishmuseum looks at the intricacies of Pacific barkcloth clothing http://t.co/mfhqMFA78L\",nocode\\n610417395438587904,\"Looking forward to visiting @kettlesyard later this week for the final time before it closes for a two-year redevelopment. It\\'ll be missed!\",happy\\n611684712445186052,\"From The Tomb Of #Nebamun \\xe2\\x80\\x94 1350 BC | #Egyptology #Archaeology #AncientEgypt @britishmuseum http://t.co/ySGosXQAW1\",nocode\\n612950551588802560,\"@NationalGallery One of my favorites! A human skull, cleverly painted so that it\\'s only in proportion from 1 angle! https://t.co/5SyJ8QS94s\",happy\\n613772240786718720,\"@BullDeborah @britishmuseum read Jo Nye\\'s book called Soft Power which Hillary Clinton rebranded as Smart Power\",not-relevant\\n613132482574024704,\"Promotion_Rayban_15,Click_16 http://t.co/XDOuWGXxZQ http://t.co/ToHlxByuux @_TheWhitechapel @_The_Golden_Age @_The_Wall @_TikaaTikaa\",nocode\\n611542389585526787,\"T\\xc3\\xa4nk att jag en g\\xc3\\xa5ng varit helt fascinerad av Napoleon. @britishmuseum #Waterloo200  http://t.co/bJJOWocbWg http://t.co/5o1PpX3k25\\xe2\\x80\\x9d\",nocode\\n612870425316438017,\"\\xe2\\x80\\x9c@VanGoghTheLife: Sunflowers, 1889. Oil on canvas, 95 x 73 cm. @VanGoghMuseum. Now at London\\'s @NationalGallery! http://t.co/8iyJtVKRQG\\xe2\\x80\\x9d\",nocode\\n614155114111221760,\"Sparkling Afternoon Tea from at the Great Court Restaurant, British Museum:  http://t.co/IqPFNukbPb #london #travel @britishmuseum\",happy\\n611869536359419904,\". @britishmuseum Is planning under way for a 450th birthday party? Only 365 days to get ready.\",nocode\\n612220827560493056,\"LOVED Ancient Lives &amp; New Discoveries @britishmuseum so fascinating and amazing. Could have stayed in there all day.\",happy\\n614422645526908928,\"working on new series of small #linocut #print sketches.Three Heads-exhibit from @britishmuseum after great visit!! http://t.co/yZMJDOOGOs\",happy\\n614741535079428097,\"Very much looking forward to taking this in. Love a wander round @tateliverpool...  https://t.co/Hp1M8RAtwr\",happy\\n613843638188118016,\"A perfect late night stroll @britishmuseum the Brit summer is here at last http://t.co/isU5WrnUaW\",happy\\n612323122059083776,\"A summery painting to forget that it\\'s pouring right now. Bathers at Asnieres. #Seurat #art @NationalGallery http://t.co/dVoB0Gn6am\",happy\\n613283769194278912,\"A nice review of our @LightNightLpool exhibition at @TateLiverpool http://t.co/106zcyhdRu\",happy\\n611170472915529728,\"The exuberant Sansovino Frame exhibition, one of many highlights of today\\'s great visit @NationalGallery http://t.co/z7Ghp83UzN\",happy\\n610253300491943936,\"The ancient Roman version of a Swiss Army knife, 3rd century CE, at @fitzmuseum_UK. http://t.co/OTNVEu7Oay http://t.co/6E4muVL7lk\",nocode\\n613332010547998720,\"#grexit Prescient or pessimistic? This in the gift-shop at @britishmuseum ... http://t.co/uktLzhSdMu\",nocode\\n610744242189766656,\"@NationalGallery acquired its 1st George Bellows painting last year. Will we be seeing many similar acquisitions in future? #AskTheGallery\",nocode\\n615201417415032834,\"@britishmuseum He doesn\\'t look too happy about it.\",nocode\\n614949208802623489,\"@TheFrameBlog @NationalGallery Perhaps not but there are those who are carving in wood thematically instead of conceptually.\",nocode\\n611443646970335232,\"Christopher Williams: The Production Line of Happiness closes this week at @_TheWhitechapel http://t.co/qbU8zYWPi3\",nocode\\n612583530825142276,\"@britishmuseum lll\",nocode\\n612681921638834176,\"Hello Cambridge. You were fun today &amp; fed me well. Timely visit to @kettlesyard as we plot our new art-house venture...\",happy\\n610575620641300480,\"Big up to #kayaktivists @cmkshama #Seattle  #ShellNo Solidarity from strikers at #Shell- sponsored @NationalGallery http://t.co/IuBr3oCNVX\",nocode\\n614089268198285312,\"Fantastic news for #digitalpreservation as @dri_ireland goes live. Huge congratulations from us @britishmuseum  https://t.co/wT3ferYai8\",happy\\n611537640857411584,\"@britishmuseum @SenderosP The Rosetta Stone ;)\",happy\\n611227963976253440,\"THIS is why #ilovemuseums ! Torres Strait dancers reconnecting with their culture in @MAACambridge http://t.co/Mi8xnX5R3N\",happy\\n614074786042486785,\"I wonder what hitherto unknown treasures might be lurking in @RAMMuseum? http://t.co/wze89GP2WT\",nocode\\n612242969035411456,\"@britishmuseum on INSTA. See this magnificent 19th-century #SudaneseLyre in a new free dis\\xe2\\x80\\xa6 http://t.co/IvQkHRuFDT http://t.co/dzSRBgKgDt\",happy\\n614900716960915456,\"This was definitely one of the best cocktails I have ever tried - @NationalGallery\\'s  #Rembrandt cocktail. http://t.co/rcmqyzBCRa\",happy\\n611557802197299201,\"James Gillray (1756-1815) @britishmuseum until 16 August 2015 http://t.co/rs59mdjO98\",nocode\\n611532293358899200,\"@DerekSharplol @britishmuseum How about Beef Wellington? #Bonaparte\",nocode\\n613646155591909377,\"#Caravaggio painted the beheading of St John the Baptist, from @NationalGallery #London. @newlondontours #SanJuan http://t.co/Xl3TwNXt5f\",nocode\\n613956303606648832,\"We\\'re following in the footsteps of the Buddha @britishmuseum tomorrow with #BagriFoundation http://t.co/7jMrwz7Sf0 http://t.co/keR5iEekOd\",nocode\\n614053885733412864,\"Good to see @liveatlica\\'s art collection @LeedsArtGallery Thx to @Tate_StIves @newlynexchange @_richardsmith79 et al http://t.co/qRSSIrenfX\",happy\\n610405281604993024,\"@RAMMuseum thanks, we\\'ll have a look next week, after Friday is done:)\",happy\\n611258135270060033,\"@_TheWhitechapel @Campaignforwool @SlowTextiles Anyone know any artists in China who need an assistant in Oct? Pls RT to spread the word!\",not-relevant\\n612214539468279808,\"\\xe2\\x80\\x9c@britishmuseum: Thanks for ranking us #1 in @TripAdvisor\\xe2\\x80\\x99s things to do in London! http://t.co/jW3MGZCaHA http://t.co/HkLk8J6em2\\xe2\\x80\\x9d W00T!\",happy\\n613678555935973376,\"MT @AliHaggett: Looking forward to our public engagement event #DefeatDepression @RAMMuseum @UofE_Research tonight http://t.co/0JHoIWCFfI\",happy\\n613294681225621504,\"@britishmuseum Upper arm guard?\",nocode\\n615246897670922240,\"@MrStuchbery @britishmuseum Mesmerising.\",happy\\n613016084371914753,\"@NationalGallery The 2nd GENOCIDE against #Biafrans as promised by #Buhari has begun,3days of unreported aerial Bombardment in #Biafraland\",not-relevant\\n611566876762640384,\"@britishmuseum Experience #battlewaterloo from #DukeofWellington perspective http://t.co/hkFDhZEuOL #Waterloo200 http://t.co/wh4d5r181t\",nocode\\n'}"
      ]
     },
     "execution_count": 1,
     "metadata": {
      "tags": []
     },
     "output_type": "execute_result"
    }
   ],
   "source": [
    "from google.colab import files\n",
    "files.upload()"
   ]
  },
  {
   "cell_type": "code",
   "execution_count": 2,
   "metadata": {
    "id": "k_1gifkOjhO_"
   },
   "outputs": [],
   "source": [
    "import torch\n",
    "import pandas as pd\n",
    "from tqdm.notebook import tqdm\n"
   ]
  },
  {
   "cell_type": "code",
   "execution_count": 3,
   "metadata": {
    "id": "QXFlx4jljhPA"
   },
   "outputs": [],
   "source": [
    "df = pd.read_csv('smile-annotations-final.csv', names=['id','text','category'])\n",
    "df.set_index('id',inplace=True)"
   ]
  },
  {
   "cell_type": "code",
   "execution_count": 4,
   "metadata": {
    "colab": {
     "base_uri": "https://localhost:8080/"
    },
    "id": "Z6LpgzgyjhPA",
    "outputId": "ac6ff1bc-7176-422f-b456-d9c1ee74b1ea"
   },
   "outputs": [
    {
     "data": {
      "text/plain": [
       "nocode               1572\n",
       "happy                1137\n",
       "not-relevant          214\n",
       "angry                  57\n",
       "surprise               35\n",
       "sad                    32\n",
       "happy|surprise         11\n",
       "happy|sad               9\n",
       "disgust|angry           7\n",
       "disgust                 6\n",
       "sad|angry               2\n",
       "sad|disgust             2\n",
       "sad|disgust|angry       1\n",
       "Name: category, dtype: int64"
      ]
     },
     "execution_count": 4,
     "metadata": {
      "tags": []
     },
     "output_type": "execute_result"
    }
   ],
   "source": [
    "df.category.value_counts()"
   ]
  },
  {
   "cell_type": "code",
   "execution_count": 5,
   "metadata": {
    "id": "p2HgHb-rjhPC"
   },
   "outputs": [],
   "source": [
    "df = df[~df.category.str.contains('\\|')]"
   ]
  },
  {
   "cell_type": "code",
   "execution_count": 6,
   "metadata": {
    "id": "TAs45ANwjhPC"
   },
   "outputs": [],
   "source": [
    "df = df[df.category != 'nocode']"
   ]
  },
  {
   "cell_type": "code",
   "execution_count": 7,
   "metadata": {
    "colab": {
     "base_uri": "https://localhost:8080/"
    },
    "id": "1Ya1mXuKjhPC",
    "outputId": "443a59c1-7bbf-4d9c-e53c-c7c6ac3e06b3"
   },
   "outputs": [
    {
     "data": {
      "text/plain": [
       "happy           1137\n",
       "not-relevant     214\n",
       "angry             57\n",
       "surprise          35\n",
       "sad               32\n",
       "disgust            6\n",
       "Name: category, dtype: int64"
      ]
     },
     "execution_count": 7,
     "metadata": {
      "tags": []
     },
     "output_type": "execute_result"
    }
   ],
   "source": [
    "df.category.value_counts()"
   ]
  },
  {
   "cell_type": "code",
   "execution_count": 8,
   "metadata": {
    "id": "7uYEQtsujhPC"
   },
   "outputs": [],
   "source": [
    "possible_labels = df.category.unique()"
   ]
  },
  {
   "cell_type": "code",
   "execution_count": 9,
   "metadata": {
    "id": "vmx-LCCxjhPD"
   },
   "outputs": [],
   "source": [
    "label_dict = {}\n",
    "for index, label in enumerate(possible_labels):\n",
    "    label_dict[label] = index"
   ]
  },
  {
   "cell_type": "code",
   "execution_count": 10,
   "metadata": {
    "colab": {
     "base_uri": "https://localhost:8080/"
    },
    "id": "vSxIbC0ejhPD",
    "outputId": "5dbdb59d-9f36-47f0-a64a-fcbb51c86e48"
   },
   "outputs": [
    {
     "data": {
      "text/plain": [
       "{'angry': 2,\n",
       " 'disgust': 3,\n",
       " 'happy': 0,\n",
       " 'not-relevant': 1,\n",
       " 'sad': 4,\n",
       " 'surprise': 5}"
      ]
     },
     "execution_count": 10,
     "metadata": {
      "tags": []
     },
     "output_type": "execute_result"
    }
   ],
   "source": [
    "label_dict"
   ]
  },
  {
   "cell_type": "code",
   "execution_count": 11,
   "metadata": {
    "id": "wvnG5E8ZjhPD"
   },
   "outputs": [],
   "source": [
    "df['label'] = df.category.replace(label_dict)"
   ]
  },
  {
   "cell_type": "code",
   "execution_count": 12,
   "metadata": {
    "colab": {
     "base_uri": "https://localhost:8080/",
     "height": 233
    },
    "id": "Hp6L5DxvjhPD",
    "outputId": "da9da5f9-8080-42e3-fe0d-5ea394ac91de"
   },
   "outputs": [
    {
     "data": {
      "text/html": [
       "<div>\n",
       "<style scoped>\n",
       "    .dataframe tbody tr th:only-of-type {\n",
       "        vertical-align: middle;\n",
       "    }\n",
       "\n",
       "    .dataframe tbody tr th {\n",
       "        vertical-align: top;\n",
       "    }\n",
       "\n",
       "    .dataframe thead th {\n",
       "        text-align: right;\n",
       "    }\n",
       "</style>\n",
       "<table border=\"1\" class=\"dataframe\">\n",
       "  <thead>\n",
       "    <tr style=\"text-align: right;\">\n",
       "      <th></th>\n",
       "      <th>text</th>\n",
       "      <th>category</th>\n",
       "      <th>label</th>\n",
       "    </tr>\n",
       "    <tr>\n",
       "      <th>id</th>\n",
       "      <th></th>\n",
       "      <th></th>\n",
       "      <th></th>\n",
       "    </tr>\n",
       "  </thead>\n",
       "  <tbody>\n",
       "    <tr>\n",
       "      <th>614484565059596288</th>\n",
       "      <td>Dorian Gray with Rainbow Scarf #LoveWins (from...</td>\n",
       "      <td>happy</td>\n",
       "      <td>0</td>\n",
       "    </tr>\n",
       "    <tr>\n",
       "      <th>614746522043973632</th>\n",
       "      <td>@SelectShowcase @Tate_StIves ... Replace with ...</td>\n",
       "      <td>happy</td>\n",
       "      <td>0</td>\n",
       "    </tr>\n",
       "    <tr>\n",
       "      <th>614877582664835073</th>\n",
       "      <td>@Sofabsports thank you for following me back. ...</td>\n",
       "      <td>happy</td>\n",
       "      <td>0</td>\n",
       "    </tr>\n",
       "    <tr>\n",
       "      <th>611932373039644672</th>\n",
       "      <td>@britishmuseum @TudorHistory What a beautiful ...</td>\n",
       "      <td>happy</td>\n",
       "      <td>0</td>\n",
       "    </tr>\n",
       "    <tr>\n",
       "      <th>611570404268883969</th>\n",
       "      <td>@NationalGallery @ThePoldarkian I have always ...</td>\n",
       "      <td>happy</td>\n",
       "      <td>0</td>\n",
       "    </tr>\n",
       "  </tbody>\n",
       "</table>\n",
       "</div>"
      ],
      "text/plain": [
       "                                                                 text  ... label\n",
       "id                                                                     ...      \n",
       "614484565059596288  Dorian Gray with Rainbow Scarf #LoveWins (from...  ...     0\n",
       "614746522043973632  @SelectShowcase @Tate_StIves ... Replace with ...  ...     0\n",
       "614877582664835073  @Sofabsports thank you for following me back. ...  ...     0\n",
       "611932373039644672  @britishmuseum @TudorHistory What a beautiful ...  ...     0\n",
       "611570404268883969  @NationalGallery @ThePoldarkian I have always ...  ...     0\n",
       "\n",
       "[5 rows x 3 columns]"
      ]
     },
     "execution_count": 12,
     "metadata": {
      "tags": []
     },
     "output_type": "execute_result"
    }
   ],
   "source": [
    "df.head()"
   ]
  },
  {
   "cell_type": "markdown",
   "metadata": {
    "id": "_WMqxmohjhPD"
   },
   "source": [
    "## Training/Validation Split"
   ]
  },
  {
   "cell_type": "code",
   "execution_count": 13,
   "metadata": {
    "id": "BZteB9YsjhPE"
   },
   "outputs": [],
   "source": [
    "from sklearn.model_selection import train_test_split"
   ]
  },
  {
   "cell_type": "code",
   "execution_count": 14,
   "metadata": {
    "id": "othLdKKWjhPE"
   },
   "outputs": [],
   "source": [
    "X_train, X_val, y_tain, y_val = train_test_split(\n",
    "    df.index.values,\n",
    "    df.label.values,\n",
    "    test_size=0.15,\n",
    "    random_state=17,\n",
    "    stratify=df.label.values\n",
    "    )"
   ]
  },
  {
   "cell_type": "code",
   "execution_count": 15,
   "metadata": {
    "id": "ECvH556FjhPE"
   },
   "outputs": [],
   "source": [
    "df['data_type'] = 'not_set'*df.shape[0]"
   ]
  },
  {
   "cell_type": "code",
   "execution_count": 16,
   "metadata": {
    "id": "3dmyX2SDjhPE"
   },
   "outputs": [],
   "source": [
    "df.loc[X_train,'data_type'] = 'train'\n",
    "df.loc[X_val,'data_type'] = 'val'"
   ]
  },
  {
   "cell_type": "code",
   "execution_count": 17,
   "metadata": {
    "colab": {
     "base_uri": "https://localhost:8080/",
     "height": 447
    },
    "id": "0TOCnu_VjhPE",
    "outputId": "c3308c0a-e27a-494a-c3f1-91c3abaff5a3"
   },
   "outputs": [
    {
     "data": {
      "text/html": [
       "<div>\n",
       "<style scoped>\n",
       "    .dataframe tbody tr th:only-of-type {\n",
       "        vertical-align: middle;\n",
       "    }\n",
       "\n",
       "    .dataframe tbody tr th {\n",
       "        vertical-align: top;\n",
       "    }\n",
       "\n",
       "    .dataframe thead th {\n",
       "        text-align: right;\n",
       "    }\n",
       "</style>\n",
       "<table border=\"1\" class=\"dataframe\">\n",
       "  <thead>\n",
       "    <tr style=\"text-align: right;\">\n",
       "      <th></th>\n",
       "      <th></th>\n",
       "      <th></th>\n",
       "      <th>text</th>\n",
       "    </tr>\n",
       "    <tr>\n",
       "      <th>category</th>\n",
       "      <th>label</th>\n",
       "      <th>data_type</th>\n",
       "      <th></th>\n",
       "    </tr>\n",
       "  </thead>\n",
       "  <tbody>\n",
       "    <tr>\n",
       "      <th rowspan=\"2\" valign=\"top\">angry</th>\n",
       "      <th rowspan=\"2\" valign=\"top\">2</th>\n",
       "      <th>train</th>\n",
       "      <td>48</td>\n",
       "    </tr>\n",
       "    <tr>\n",
       "      <th>val</th>\n",
       "      <td>9</td>\n",
       "    </tr>\n",
       "    <tr>\n",
       "      <th rowspan=\"2\" valign=\"top\">disgust</th>\n",
       "      <th rowspan=\"2\" valign=\"top\">3</th>\n",
       "      <th>train</th>\n",
       "      <td>5</td>\n",
       "    </tr>\n",
       "    <tr>\n",
       "      <th>val</th>\n",
       "      <td>1</td>\n",
       "    </tr>\n",
       "    <tr>\n",
       "      <th rowspan=\"2\" valign=\"top\">happy</th>\n",
       "      <th rowspan=\"2\" valign=\"top\">0</th>\n",
       "      <th>train</th>\n",
       "      <td>966</td>\n",
       "    </tr>\n",
       "    <tr>\n",
       "      <th>val</th>\n",
       "      <td>171</td>\n",
       "    </tr>\n",
       "    <tr>\n",
       "      <th rowspan=\"2\" valign=\"top\">not-relevant</th>\n",
       "      <th rowspan=\"2\" valign=\"top\">1</th>\n",
       "      <th>train</th>\n",
       "      <td>182</td>\n",
       "    </tr>\n",
       "    <tr>\n",
       "      <th>val</th>\n",
       "      <td>32</td>\n",
       "    </tr>\n",
       "    <tr>\n",
       "      <th rowspan=\"2\" valign=\"top\">sad</th>\n",
       "      <th rowspan=\"2\" valign=\"top\">4</th>\n",
       "      <th>train</th>\n",
       "      <td>27</td>\n",
       "    </tr>\n",
       "    <tr>\n",
       "      <th>val</th>\n",
       "      <td>5</td>\n",
       "    </tr>\n",
       "    <tr>\n",
       "      <th rowspan=\"2\" valign=\"top\">surprise</th>\n",
       "      <th rowspan=\"2\" valign=\"top\">5</th>\n",
       "      <th>train</th>\n",
       "      <td>30</td>\n",
       "    </tr>\n",
       "    <tr>\n",
       "      <th>val</th>\n",
       "      <td>5</td>\n",
       "    </tr>\n",
       "  </tbody>\n",
       "</table>\n",
       "</div>"
      ],
      "text/plain": [
       "                              text\n",
       "category     label data_type      \n",
       "angry        2     train        48\n",
       "                   val           9\n",
       "disgust      3     train         5\n",
       "                   val           1\n",
       "happy        0     train       966\n",
       "                   val         171\n",
       "not-relevant 1     train       182\n",
       "                   val          32\n",
       "sad          4     train        27\n",
       "                   val           5\n",
       "surprise     5     train        30\n",
       "                   val           5"
      ]
     },
     "execution_count": 17,
     "metadata": {
      "tags": []
     },
     "output_type": "execute_result"
    }
   ],
   "source": [
    "df.groupby(['category','label','data_type']).count()"
   ]
  },
  {
   "cell_type": "markdown",
   "metadata": {
    "id": "csha641DjhPE"
   },
   "source": [
    "## Loading Tokenizer and Encoding our Data"
   ]
  },
  {
   "cell_type": "code",
   "execution_count": null,
   "metadata": {
    "id": "TwLf1ynPniQh"
   },
   "outputs": [],
   "source": [
    "!pip install transformers"
   ]
  },
  {
   "cell_type": "code",
   "execution_count": 20,
   "metadata": {
    "id": "nXXP8dEijhPE"
   },
   "outputs": [],
   "source": [
    "from transformers import BertTokenizer\n",
    "from torch.utils.data import TensorDataset"
   ]
  },
  {
   "cell_type": "code",
   "execution_count": 21,
   "metadata": {
    "colab": {
     "base_uri": "https://localhost:8080/",
     "height": 67,
     "referenced_widgets": [
      "fb083fd6fc2b485a8f0c6d3a7c60b49f",
      "4280c9ae05d643a9a93ddb944e1e4f30",
      "78edce6660d446dd8c09ddbc181f2504",
      "1984dd992a8c478a89a398fac149cf1e",
      "9f90b84497f4436394bd7cc5ecdd64aa",
      "f9e100a7bd7148cd90f13cfc8c9807d5",
      "773c6fb4b55b43a28224abff0a01bce2",
      "373ac26ba7554666937d09f71b60ced2"
     ]
    },
    "id": "pEwI60EwjhPE",
    "outputId": "6dc1db17-e23a-4cf2-c688-43b5a761e2ca"
   },
   "outputs": [
    {
     "data": {
      "application/vnd.jupyter.widget-view+json": {
       "model_id": "fb083fd6fc2b485a8f0c6d3a7c60b49f",
       "version_major": 2,
       "version_minor": 0
      },
      "text/plain": [
       "HBox(children=(FloatProgress(value=0.0, description='Downloading', max=231508.0, style=ProgressStyle(descripti…"
      ]
     },
     "metadata": {
      "tags": []
     },
     "output_type": "display_data"
    },
    {
     "name": "stdout",
     "output_type": "stream",
     "text": [
      "\n"
     ]
    }
   ],
   "source": [
    "tokenizer = BertTokenizer.from_pretrained(\n",
    "    'bert-base-uncased',\n",
    "    do_lower_case=True\n",
    "    )"
   ]
  },
  {
   "cell_type": "code",
   "execution_count": null,
   "metadata": {
    "id": "NxDfoo6hjhPE"
   },
   "outputs": [],
   "source": [
    "encoded_data_train = tokenizer.batch_encode_plus(\n",
    "    df[df.data_type=='train'].text.values,\n",
    "    add_special_tokens=True,\n",
    "    return_attention_masks=True,\n",
    "    pad_to_max_length=True,\n",
    "    max_length=256,\n",
    "    return_tensors='pt'\n",
    ")\n",
    "\n",
    "encoded_data_val = tokenizer.batch_encode_plus(\n",
    "    df[df.data_type=='val'].text.values,\n",
    "    add_special_tokens=True,\n",
    "    return_attention_masks=True,\n",
    "    pad_to_max_length=True,\n",
    "    max_length=256,\n",
    "    return_tensors='pt'\n",
    ")\n",
    "\n",
    "input_ids_train = encoded_data_train['input_ids']\n",
    "attention_masks_train = encoded_data_train['attention_mask']\n",
    "labels_train = torch.tensor(df[df.data_type=='train'].label.values)\n",
    "\n",
    "input_ids_val = encoded_data_val['input_ids']\n",
    "attention_masks_val = encoded_data_val['attention_mask']\n",
    "labels_val = torch.tensor(df[df.data_type=='val'].label.values)"
   ]
  },
  {
   "cell_type": "code",
   "execution_count": 23,
   "metadata": {
    "id": "s9z_YHOhjhPE"
   },
   "outputs": [],
   "source": [
    "dataset_train = TensorDataset(input_ids_train,attention_masks_train,labels_train)\n",
    "dataset_val = TensorDataset(input_ids_val,attention_masks_val,labels_val)"
   ]
  },
  {
   "cell_type": "code",
   "execution_count": 24,
   "metadata": {
    "colab": {
     "base_uri": "https://localhost:8080/"
    },
    "id": "F17_rR_ejhPE",
    "outputId": "f9bf1890-1aaa-4eb8-fb0c-e9d97343b3e3"
   },
   "outputs": [
    {
     "data": {
      "text/plain": [
       "1258"
      ]
     },
     "execution_count": 24,
     "metadata": {
      "tags": []
     },
     "output_type": "execute_result"
    }
   ],
   "source": [
    "len(dataset_train)"
   ]
  },
  {
   "cell_type": "code",
   "execution_count": 25,
   "metadata": {
    "colab": {
     "base_uri": "https://localhost:8080/"
    },
    "id": "13gCNyrljhPE",
    "outputId": "d60fa907-0589-40fb-dd5c-4f313894b501"
   },
   "outputs": [
    {
     "data": {
      "text/plain": [
       "223"
      ]
     },
     "execution_count": 25,
     "metadata": {
      "tags": []
     },
     "output_type": "execute_result"
    }
   ],
   "source": [
    "len(dataset_val)"
   ]
  },
  {
   "cell_type": "markdown",
   "metadata": {
    "id": "tOazMU2WjhPE"
   },
   "source": [
    "## Setting up BERT Pretrained Model"
   ]
  },
  {
   "cell_type": "code",
   "execution_count": 26,
   "metadata": {
    "id": "jk2yvDN0jhPE"
   },
   "outputs": [],
   "source": [
    "from transformers import BertForSequenceClassification"
   ]
  },
  {
   "cell_type": "code",
   "execution_count": 27,
   "metadata": {
    "colab": {
     "base_uri": "https://localhost:8080/",
     "height": 223,
     "referenced_widgets": [
      "2abb562f4d4e4ea8ae00ecb71c7a8a1b",
      "7ce18d40649e4e9ea078795493f0ed37",
      "6031034dcf5f466382c4fc63f6e103f2",
      "956ed7d6e770432db15fc427492c9f8a",
      "d3028e2c82224be383c8ba1276df47eb",
      "8641c214b4b54920afedc4c83058ff99",
      "4779a3f1370440e3b8c06650c94d8eb8",
      "9ac0c3052359489b9585672b3f43753b",
      "749cb1e286404155ba2077887153c604",
      "fe5cec8912fd443e9f89140ba9c278b7",
      "23b39b88dc5c4d9d806fc8a9cd820c85",
      "9098096471884defad04ab238a7a6216",
      "5621e79e292f4c54907a17240b2edcb8",
      "32bd78e840264794a02b209c672f6c1a",
      "175d27b64460473f8fc47c7ae1b1c937",
      "87b313f433e34246bb6efc962fdbc6a8"
     ]
    },
    "id": "EjKI7Pv2jhPF",
    "outputId": "665d82c1-1316-4e74-8e81-5d24e5687a00"
   },
   "outputs": [
    {
     "data": {
      "application/vnd.jupyter.widget-view+json": {
       "model_id": "2abb562f4d4e4ea8ae00ecb71c7a8a1b",
       "version_major": 2,
       "version_minor": 0
      },
      "text/plain": [
       "HBox(children=(FloatProgress(value=0.0, description='Downloading', max=433.0, style=ProgressStyle(description_…"
      ]
     },
     "metadata": {
      "tags": []
     },
     "output_type": "display_data"
    },
    {
     "name": "stdout",
     "output_type": "stream",
     "text": [
      "\n"
     ]
    },
    {
     "data": {
      "application/vnd.jupyter.widget-view+json": {
       "model_id": "749cb1e286404155ba2077887153c604",
       "version_major": 2,
       "version_minor": 0
      },
      "text/plain": [
       "HBox(children=(FloatProgress(value=0.0, description='Downloading', max=440473133.0, style=ProgressStyle(descri…"
      ]
     },
     "metadata": {
      "tags": []
     },
     "output_type": "display_data"
    },
    {
     "name": "stdout",
     "output_type": "stream",
     "text": [
      "\n"
     ]
    },
    {
     "name": "stderr",
     "output_type": "stream",
     "text": [
      "Some weights of the model checkpoint at bert-base-uncased were not used when initializing BertForSequenceClassification: ['cls.predictions.bias', 'cls.predictions.transform.dense.weight', 'cls.predictions.transform.dense.bias', 'cls.predictions.decoder.weight', 'cls.seq_relationship.weight', 'cls.seq_relationship.bias', 'cls.predictions.transform.LayerNorm.weight', 'cls.predictions.transform.LayerNorm.bias']\n",
      "- This IS expected if you are initializing BertForSequenceClassification from the checkpoint of a model trained on another task or with another architecture (e.g. initializing a BertForSequenceClassification model from a BertForPreTraining model).\n",
      "- This IS NOT expected if you are initializing BertForSequenceClassification from the checkpoint of a model that you expect to be exactly identical (initializing a BertForSequenceClassification model from a BertForSequenceClassification model).\n",
      "Some weights of BertForSequenceClassification were not initialized from the model checkpoint at bert-base-uncased and are newly initialized: ['classifier.weight', 'classifier.bias']\n",
      "You should probably TRAIN this model on a down-stream task to be able to use it for predictions and inference.\n"
     ]
    }
   ],
   "source": [
    "model = BertForSequenceClassification.from_pretrained(\n",
    "    'bert-base-uncased',\n",
    "    num_labels= len(label_dict),\n",
    "    output_attentions=False,\n",
    "    output_hidden_states=False)"
   ]
  },
  {
   "cell_type": "markdown",
   "metadata": {
    "id": "QSGojGfqjhPF"
   },
   "source": [
    "## Creating Data Loaders"
   ]
  },
  {
   "cell_type": "code",
   "execution_count": 28,
   "metadata": {
    "id": "TKQ58R0LjhPF"
   },
   "outputs": [],
   "source": [
    "from torch.utils.data import DataLoader, RandomSampler, SequentialSampler"
   ]
  },
  {
   "cell_type": "code",
   "execution_count": 29,
   "metadata": {
    "id": "EE6GQQsQjhPF"
   },
   "outputs": [],
   "source": [
    "batch_size = 4\n",
    "\n",
    "dataloader_train = DataLoader(\n",
    "    dataset_train,\n",
    "    sampler=RandomSampler(dataset_train),\n",
    "    batch_size=batch_size)\n",
    "\n",
    "dataloader_val = DataLoader(\n",
    "    dataset_val,\n",
    "    sampler=RandomSampler(dataset_val),\n",
    "    batch_size=32)"
   ]
  },
  {
   "cell_type": "markdown",
   "metadata": {
    "id": "dTi0dWOrjhPF"
   },
   "source": [
    "## Setting Up Optimizer and Scheduler"
   ]
  },
  {
   "cell_type": "code",
   "execution_count": 30,
   "metadata": {
    "id": "-hlOaIbLjhPF"
   },
   "outputs": [],
   "source": [
    "from transformers import AdamW, get_linear_schedule_with_warmup"
   ]
  },
  {
   "cell_type": "code",
   "execution_count": 31,
   "metadata": {
    "id": "JTQvvm7kjhPF"
   },
   "outputs": [],
   "source": [
    "optimizer = AdamW(model.parameters(),\n",
    "                 lr=1e-5,\n",
    "                 eps=1e-8\n",
    "                 )"
   ]
  },
  {
   "cell_type": "code",
   "execution_count": 32,
   "metadata": {
    "id": "uZ3BgzVkjhPF"
   },
   "outputs": [],
   "source": [
    "epochs = 10\n",
    "\n",
    "scheduler = get_linear_schedule_with_warmup(optimizer,\n",
    "            num_training_steps=len(dataloader_train)*epochs,\n",
    "            num_warmup_steps=0)"
   ]
  },
  {
   "cell_type": "markdown",
   "metadata": {
    "id": "Qiq9gcIVjhPF"
   },
   "source": [
    "## Defining our Performance Metrics"
   ]
  },
  {
   "cell_type": "code",
   "execution_count": 33,
   "metadata": {
    "id": "Q6pfBN7UjhPF"
   },
   "outputs": [],
   "source": [
    "import numpy as np"
   ]
  },
  {
   "cell_type": "code",
   "execution_count": 34,
   "metadata": {
    "id": "VPeNe4SBjhPF"
   },
   "outputs": [],
   "source": [
    "from sklearn.metrics import f1_score"
   ]
  },
  {
   "cell_type": "code",
   "execution_count": 35,
   "metadata": {
    "id": "WMhY_YdAjhPF"
   },
   "outputs": [],
   "source": [
    "def f1_score_func(preds, labels):\n",
    "    preds_flat = np.argmax(preds,axis=1).flatten()\n",
    "    labels_flat = labels.flatten()\n",
    "    return f1_score(labels_flat,preds_flat,average='weighted')"
   ]
  },
  {
   "cell_type": "code",
   "execution_count": 36,
   "metadata": {
    "id": "4MBdmh6xjhPF"
   },
   "outputs": [],
   "source": [
    "def accuracy_per_class(preds, labels):\n",
    "    label_dict_inverse = {v:k for k,v in label_dict.items()}\n",
    "    \n",
    "    preds_flat = np.argmax(preds,axis=1).flatten()\n",
    "    labels_flat = labels.flatten()\n",
    "    \n",
    "    for label in np.unique(labels_flat):\n",
    "        y_preds = preds_flat[labels_flat==label]\n",
    "        y_true = labels_flat[labels_flat==label]\n",
    "        print(f'Class: {label_dict_inverse[label]}')\n",
    "        print(f'Accuracy: {len(y_preds[y_preds==label])}/{len(y_true)}\\n')"
   ]
  },
  {
   "cell_type": "markdown",
   "metadata": {
    "id": "aUOaAr1EjhPF"
   },
   "source": [
    "## Creating our Training Loop"
   ]
  },
  {
   "cell_type": "code",
   "execution_count": 37,
   "metadata": {
    "id": "C7S8maJ8jhPF"
   },
   "outputs": [],
   "source": [
    "import random\n",
    "\n",
    "seed_val = 17\n",
    "random.seed(seed_val)\n",
    "np.random.seed(seed_val)\n",
    "torch.manual_seed(seed_val)\n",
    "torch.cuda.manual_seed_all(seed_val)"
   ]
  },
  {
   "cell_type": "code",
   "execution_count": 38,
   "metadata": {
    "colab": {
     "base_uri": "https://localhost:8080/"
    },
    "id": "DePyxgeojhPF",
    "outputId": "05ad023e-2e88-4c9e-d83e-3d2979b31942"
   },
   "outputs": [
    {
     "name": "stdout",
     "output_type": "stream",
     "text": [
      "cuda\n"
     ]
    }
   ],
   "source": [
    "device = torch.device('cuda' if torch.cuda.is_available() else 'cpu')\n",
    "model.to(device)\n",
    "print(device)"
   ]
  },
  {
   "cell_type": "code",
   "execution_count": 39,
   "metadata": {
    "id": "oxpARQU_jhPF"
   },
   "outputs": [],
   "source": [
    "def evaluate(dataloader_val):\n",
    "\n",
    "    model.eval()\n",
    "    \n",
    "    loss_val_total = 0\n",
    "    predictions, true_vals = [], []\n",
    "    \n",
    "    for batch in dataloader_val:\n",
    "        \n",
    "        batch = tuple(b.to(device) for b in batch)\n",
    "        \n",
    "        inputs = {'input_ids':      batch[0],\n",
    "                  'attention_mask': batch[1],\n",
    "                  'labels':         batch[2],\n",
    "                 }\n",
    "\n",
    "        with torch.no_grad():        \n",
    "            outputs = model(**inputs)\n",
    "            \n",
    "        loss = outputs[0]\n",
    "        logits = outputs[1]\n",
    "        loss_val_total += loss.item()\n",
    "\n",
    "        logits = logits.detach().cpu().numpy()\n",
    "        label_ids = inputs['labels'].cpu().numpy()\n",
    "        predictions.append(logits)\n",
    "        true_vals.append(label_ids)\n",
    "    \n",
    "    loss_val_avg = loss_val_total/len(dataloader_val) \n",
    "    \n",
    "    predictions = np.concatenate(predictions, axis=0)\n",
    "    true_vals = np.concatenate(true_vals, axis=0)\n",
    "            \n",
    "    return loss_val_avg, predictions, true_vals\n"
   ]
  },
  {
   "cell_type": "code",
   "execution_count": 44,
   "metadata": {
    "colab": {
     "base_uri": "https://localhost:8080/",
     "height": 971,
     "referenced_widgets": [
      "3a7741bd3ff14f32bbb4313934c2322f",
      "5f4c5563c8f54effabdf7114b7732c13",
      "7a2559d60ba64dae841449f4f50baefa",
      "7c57ad78a2cb49a6902da003e6048c52",
      "ca9bdc79b51a4f9c97493f09c7d034d5",
      "e300b433677846cabdd6757674b22eb2",
      "4c647a023d0b4908899bccd0fe61b440",
      "2963cc29347b403ab2c9f55c208b23a3",
      "09f6d841e95f4f479be618a006c7529e",
      "958e1df296534449817cf49d93de95f5",
      "fb2ce35ed97346d899d2fb9cc87c10e5",
      "fc8b04e55fff43cd8a830a51f616edc2",
      "88a3931f2dd14b0eba7e278150395b54",
      "8d1892dfc7e04dc49dece9dc2e65114b",
      "ff39573ff24f4442b72dac561d8fecad",
      "75c5750aa0a140e79b38fecf7ec59af2",
      "c92d52dbdc0149658303f5299fff8c0f",
      "29789c980dfe44c1a53474ddf226331e",
      "6dc71dbe1fcb44eea5aae80f424bc870",
      "594d543d9dff4c528b7ec6507f9d2856",
      "b9ccfa7bc26a4273abc90b0960a40268",
      "ebecd206a9ab4ebe9d93d063f21da3a1",
      "01252fa0422d4dbd8448408bf3fe210a",
      "1008e646be5c4f47a1ce8369e02bba42",
      "83ae1c649c254bcaa2de74c56f016050",
      "0c100ce7e4714e4f9adfab6f6858e7d4",
      "4641ba50151c4d248fb60983e3272255",
      "5500c6911d964560bc89d4d2a056fe11",
      "fe00cce573c3401ea5f12da86895a620",
      "9202e948656d4bd1aa600abcf67a3dcc",
      "0b6eee77331746fd866303f778c32c61",
      "a681e942fb8e499db410e3c02dd24439",
      "02a6ec724b1c45c398739c6651a3eab9",
      "4be2d3db2699414381ba5fea2c085562",
      "5d0597cac30a466f93bfeb4889a590f6",
      "06659d8a673c4684b185a7e82e0799eb",
      "e6294aa43d2f4e38b6c85ee3578f4402",
      "991d913a554142c3892c0c7e1f3691ed",
      "b107bd77a27d4121a34649f2cc4e3257",
      "9ece789d4983482895ad0de0e6070866",
      "111219789e704d5487706d612fdef4cf",
      "28c13df10bfa4632a6ee62e26c44c48c",
      "5750004b46404c7088ebed2e4259b4ac",
      "c5a6eeea18af4d71bba217de10bd01c5",
      "752b35f6f9b84323bdb682d840c6711d",
      "60ae0cca5d3642b8a43d93a9a91c2812",
      "8153ead4c2eb49b9aaf4ae2701ea580f",
      "51bd0b67c50f41c99cdde3cc3dff5071",
      "4ded36226c75488e856ac79d070e0fe0",
      "10f8a7f109814f458f40d31dfe1ae61e",
      "420e3a4a997946d682850c25aac9c007",
      "67f43935818142d0817ed83fbecb3172",
      "ddf3631b2cb8416b86c67eb6750538e6",
      "0791c1813c45442ebeb3205019a5386c",
      "c6a2e50c256b48dba33dfac6ffbdf596",
      "82da00b2127a43d5b031922fccf2bf00",
      "34454a82f68e4b56964cbb2d395aa8bd",
      "c42e38e6a9694a69b542dad87a8df483",
      "5d63edd2562c42c4a1063b67321e3cf4",
      "58e88c9af7b3479eac61f2a7279c1710",
      "b8415b5575864692b186423e1b2b02b8",
      "8f1827eef7544e40a442bb6e320e31de",
      "4255ec4bba0d4130917231860823b3a5",
      "d93a210692f74adbaea4435d9f721259",
      "afefafdd649544439348a83bd6750a75",
      "91d76748b78942fa9ef2e9a7ca03cfe0",
      "1b43a857ca2c4a0fac641bfc1f442aa6",
      "ad6a39c83e5848f68f37e3256fb04af7",
      "b9858affa9774c71b8fc309de38ba5cc",
      "f80d7322c0594879af71f642c892bad6",
      "907a152fb5d74568b33915a409cd05bc",
      "d092a428faf7416784237c4bb76a25ae",
      "521373ce9d0545aea79f1793bc57b5da",
      "9feb9cd138eb418c83ad6892d5909749",
      "57baf8a756294a3aa0c64371169e084b",
      "4e60743979734fb985d856077f2790c7",
      "9046b74e64c44ca1a7231f142aa4008e",
      "ec7e1857699c44e9a8f1c15e546a89a4",
      "e3bf7e48a6224ed8afb2d80ff2548108",
      "6b54204d5d95472281a147793f40cbd6",
      "fd13ccebd6e14860aa38828d15da9a95",
      "c6df0ddb5aa347a4a5afdf21d430753d",
      "9a3772d18bee4a3fbf7de8574a33d9b2",
      "e5a41cded64d4bc5abc212fb5417ae5b",
      "f369cdb8291c43e082f07e6a7715cb31",
      "f1c8761810ae4d3f9838f86fd35b0e21",
      "6aa8e23e19cf4ef8a346aa82b5102fe5",
      "5fd0c2f7567b42f69c1bcaeb2297e52e"
     ]
    },
    "id": "rIAQLYP_jhPF",
    "outputId": "5cd75665-7d8c-4b1e-b9e2-d1ed1a0a1a92"
   },
   "outputs": [
    {
     "data": {
      "application/vnd.jupyter.widget-view+json": {
       "model_id": "3a7741bd3ff14f32bbb4313934c2322f",
       "version_major": 2,
       "version_minor": 0
      },
      "text/plain": [
       "HBox(children=(FloatProgress(value=0.0, max=10.0), HTML(value='')))"
      ]
     },
     "metadata": {
      "tags": []
     },
     "output_type": "display_data"
    },
    {
     "data": {
      "application/vnd.jupyter.widget-view+json": {
       "model_id": "09f6d841e95f4f479be618a006c7529e",
       "version_major": 2,
       "version_minor": 0
      },
      "text/plain": [
       "HBox(children=(FloatProgress(value=0.0, description='Epoch 1', max=315.0, style=ProgressStyle(description_widt…"
      ]
     },
     "metadata": {
      "tags": []
     },
     "output_type": "display_data"
    },
    {
     "name": "stderr",
     "output_type": "stream",
     "text": [
      "/usr/local/lib/python3.6/dist-packages/ipykernel_launcher.py:22: UserWarning: torch.nn.utils.clip_grad_norm is now deprecated in favor of torch.nn.utils.clip_grad_norm_.\n"
     ]
    },
    {
     "name": "stdout",
     "output_type": "stream",
     "text": [
      "\r",
      "\r",
      "\r",
      "\r",
      "\r\n",
      "Epoch 1\n",
      "Training loss: 0.2016804364665101\n",
      "Validation loss: 0.6897074920790536\n",
      "Validation f1 score: 0.8580260769915654\n"
     ]
    },
    {
     "data": {
      "application/vnd.jupyter.widget-view+json": {
       "model_id": "c92d52dbdc0149658303f5299fff8c0f",
       "version_major": 2,
       "version_minor": 0
      },
      "text/plain": [
       "HBox(children=(FloatProgress(value=0.0, description='Epoch 2', max=315.0, style=ProgressStyle(description_widt…"
      ]
     },
     "metadata": {
      "tags": []
     },
     "output_type": "display_data"
    },
    {
     "name": "stdout",
     "output_type": "stream",
     "text": [
      "\r",
      "\r",
      "\r",
      "\r",
      "\r\n",
      "Epoch 2\n",
      "Training loss: 0.13205747381665758\n",
      "Validation loss: 0.7313796154090336\n",
      "Validation f1 score: 0.8621170441270679\n"
     ]
    },
    {
     "data": {
      "application/vnd.jupyter.widget-view+json": {
       "model_id": "83ae1c649c254bcaa2de74c56f016050",
       "version_major": 2,
       "version_minor": 0
      },
      "text/plain": [
       "HBox(children=(FloatProgress(value=0.0, description='Epoch 3', max=315.0, style=ProgressStyle(description_widt…"
      ]
     },
     "metadata": {
      "tags": []
     },
     "output_type": "display_data"
    },
    {
     "name": "stdout",
     "output_type": "stream",
     "text": [
      "\r",
      "\r",
      "\r",
      "\r",
      "\r\n",
      "Epoch 3\n",
      "Training loss: 0.08615194846421391\n",
      "Validation loss: 0.6760857275554112\n",
      "Validation f1 score: 0.8707731047002093\n"
     ]
    },
    {
     "data": {
      "application/vnd.jupyter.widget-view+json": {
       "model_id": "02a6ec724b1c45c398739c6651a3eab9",
       "version_major": 2,
       "version_minor": 0
      },
      "text/plain": [
       "HBox(children=(FloatProgress(value=0.0, description='Epoch 4', max=315.0, style=ProgressStyle(description_widt…"
      ]
     },
     "metadata": {
      "tags": []
     },
     "output_type": "display_data"
    },
    {
     "name": "stdout",
     "output_type": "stream",
     "text": [
      "\r",
      "\r",
      "\r",
      "\r",
      "\r\n",
      "Epoch 4\n",
      "Training loss: 0.06309690670173113\n",
      "Validation loss: 0.7120354005268642\n",
      "Validation f1 score: 0.8622589562471709\n"
     ]
    },
    {
     "data": {
      "application/vnd.jupyter.widget-view+json": {
       "model_id": "111219789e704d5487706d612fdef4cf",
       "version_major": 2,
       "version_minor": 0
      },
      "text/plain": [
       "HBox(children=(FloatProgress(value=0.0, description='Epoch 5', max=315.0, style=ProgressStyle(description_widt…"
      ]
     },
     "metadata": {
      "tags": []
     },
     "output_type": "display_data"
    },
    {
     "name": "stdout",
     "output_type": "stream",
     "text": [
      "\r",
      "\r",
      "\r",
      "\r",
      "\r\n",
      "Epoch 5\n",
      "Training loss: 0.045967502273168294\n",
      "Validation loss: 0.7384399771690369\n",
      "Validation f1 score: 0.8793085903697662\n"
     ]
    },
    {
     "data": {
      "application/vnd.jupyter.widget-view+json": {
       "model_id": "4ded36226c75488e856ac79d070e0fe0",
       "version_major": 2,
       "version_minor": 0
      },
      "text/plain": [
       "HBox(children=(FloatProgress(value=0.0, description='Epoch 6', max=315.0, style=ProgressStyle(description_widt…"
      ]
     },
     "metadata": {
      "tags": []
     },
     "output_type": "display_data"
    },
    {
     "name": "stdout",
     "output_type": "stream",
     "text": [
      "\r",
      "\r",
      "\r",
      "\r",
      "\r\n",
      "Epoch 6\n",
      "Training loss: 0.030418251578821727\n",
      "Validation loss: 0.7270531228610447\n",
      "Validation f1 score: 0.8673850191051595\n"
     ]
    },
    {
     "data": {
      "application/vnd.jupyter.widget-view+json": {
       "model_id": "34454a82f68e4b56964cbb2d395aa8bd",
       "version_major": 2,
       "version_minor": 0
      },
      "text/plain": [
       "HBox(children=(FloatProgress(value=0.0, description='Epoch 7', max=315.0, style=ProgressStyle(description_widt…"
      ]
     },
     "metadata": {
      "tags": []
     },
     "output_type": "display_data"
    },
    {
     "name": "stdout",
     "output_type": "stream",
     "text": [
      "\r",
      "\r",
      "\r",
      "\r",
      "\r\n",
      "Epoch 7\n",
      "Training loss: 0.022597019213791345\n",
      "Validation loss: 0.7401928273694856\n",
      "Validation f1 score: 0.8673850191051595\n"
     ]
    },
    {
     "data": {
      "application/vnd.jupyter.widget-view+json": {
       "model_id": "afefafdd649544439348a83bd6750a75",
       "version_major": 2,
       "version_minor": 0
      },
      "text/plain": [
       "HBox(children=(FloatProgress(value=0.0, description='Epoch 8', max=315.0, style=ProgressStyle(description_widt…"
      ]
     },
     "metadata": {
      "tags": []
     },
     "output_type": "display_data"
    },
    {
     "name": "stdout",
     "output_type": "stream",
     "text": [
      "\r",
      "\r",
      "\r",
      "\r",
      "\r\n",
      "Epoch 8\n",
      "Training loss: 0.023604280863045935\n",
      "Validation loss: 0.7400294542312622\n",
      "Validation f1 score: 0.8673850191051595\n"
     ]
    },
    {
     "data": {
      "application/vnd.jupyter.widget-view+json": {
       "model_id": "521373ce9d0545aea79f1793bc57b5da",
       "version_major": 2,
       "version_minor": 0
      },
      "text/plain": [
       "HBox(children=(FloatProgress(value=0.0, description='Epoch 9', max=315.0, style=ProgressStyle(description_widt…"
      ]
     },
     "metadata": {
      "tags": []
     },
     "output_type": "display_data"
    },
    {
     "name": "stdout",
     "output_type": "stream",
     "text": [
      "\r",
      "\r",
      "\r",
      "\r",
      "\r\n",
      "Epoch 9\n",
      "Training loss: 0.024340342743495953\n",
      "Validation loss: 0.7353405228682927\n",
      "Validation f1 score: 0.8673850191051595\n"
     ]
    },
    {
     "data": {
      "application/vnd.jupyter.widget-view+json": {
       "model_id": "fd13ccebd6e14860aa38828d15da9a95",
       "version_major": 2,
       "version_minor": 0
      },
      "text/plain": [
       "HBox(children=(FloatProgress(value=0.0, description='Epoch 10', max=315.0, style=ProgressStyle(description_wid…"
      ]
     },
     "metadata": {
      "tags": []
     },
     "output_type": "display_data"
    },
    {
     "name": "stdout",
     "output_type": "stream",
     "text": [
      "\r",
      "\r",
      "\r",
      "\r",
      "\r\n",
      "Epoch 10\n",
      "Training loss: 0.022756779457568117\n",
      "Validation loss: 0.7373106522219521\n",
      "Validation f1 score: 0.8673850191051595\n",
      "\n"
     ]
    }
   ],
   "source": [
    "for epoch in tqdm(range(1, epochs+1)):\n",
    "    model.train()\n",
    "    \n",
    "    loss_train_total = 0\n",
    "    progress_bar = tqdm(dataloader_train, desc='Epoch {:1d}'.format(epoch),leave=False,disable=False)\n",
    "    \n",
    "    for batch in progress_bar:\n",
    "        model.zero_grad()\n",
    "        batch = tuple(b.to(device) for b in batch)\n",
    "        inputs = {\n",
    "            'input_ids' : batch[0],\n",
    "            'attention_mask' : batch[1],\n",
    "            'labels' : batch[2]\n",
    "        }\n",
    "        \n",
    "        outputs = model(**inputs)\n",
    "        \n",
    "        loss = outputs[0]\n",
    "        loss_train_total += loss.item()\n",
    "        loss.backward()\n",
    "        \n",
    "        torch.nn.utils.clip_grad_norm(model.parameters(),1.0)\n",
    "        optimizer.step()\n",
    "        scheduler.step()\n",
    "        progress_bar.set_postfix({'training_loss': '{:.3f}'.format(loss.item()/len(batch))})\n",
    "        \n",
    "    torch.save(model.state_dict(), f'BERT_ft_epoch{epoch}.model')\n",
    "    \n",
    "    tqdm.write(f'\\nEpoch {epoch}')\n",
    "    loss_train_avg = loss_train_total/len(dataloader_train)\n",
    "    tqdm.write(f'Training loss: {loss_train_avg}')\n",
    "    \n",
    "    val_loss, predictions, true_vals = evaluate(dataloader_val)\n",
    "    val_f1 = f1_score_func(predictions, true_vals)\n",
    "    tqdm.write(f'Validation loss: {val_loss}')\n",
    "    tqdm.write(f'Validation f1 score: {val_f1}')\n",
    "    "
   ]
  },
  {
   "cell_type": "code",
   "execution_count": 52,
   "metadata": {
    "colab": {
     "base_uri": "https://localhost:8080/",
     "height": 35
    },
    "id": "8Gb1JxniyQdQ",
    "outputId": "6ed5e6ae-b55e-4cc5-dbc0-211baf9571ea"
   },
   "outputs": [
    {
     "data": {
      "application/javascript": [
       "\n",
       "    async function download(id, filename, size) {\n",
       "      if (!google.colab.kernel.accessAllowed) {\n",
       "        return;\n",
       "      }\n",
       "      const div = document.createElement('div');\n",
       "      const label = document.createElement('label');\n",
       "      label.textContent = `Downloading \"${filename}\": `;\n",
       "      div.appendChild(label);\n",
       "      const progress = document.createElement('progress');\n",
       "      progress.max = size;\n",
       "      div.appendChild(progress);\n",
       "      document.body.appendChild(div);\n",
       "\n",
       "      const buffers = [];\n",
       "      let downloaded = 0;\n",
       "\n",
       "      const channel = await google.colab.kernel.comms.open(id);\n",
       "      // Send a message to notify the kernel that we're ready.\n",
       "      channel.send({})\n",
       "\n",
       "      for await (const message of channel.messages) {\n",
       "        // Send a message to notify the kernel that we're ready.\n",
       "        channel.send({})\n",
       "        if (message.buffers) {\n",
       "          for (const buffer of message.buffers) {\n",
       "            buffers.push(buffer);\n",
       "            downloaded += buffer.byteLength;\n",
       "            progress.value = downloaded;\n",
       "          }\n",
       "        }\n",
       "      }\n",
       "      const blob = new Blob(buffers, {type: 'application/binary'});\n",
       "      const a = document.createElement('a');\n",
       "      a.href = window.URL.createObjectURL(blob);\n",
       "      a.download = filename;\n",
       "      div.appendChild(a);\n",
       "      a.click();\n",
       "      div.remove();\n",
       "    }\n",
       "  "
      ],
      "text/plain": [
       "<IPython.core.display.Javascript object>"
      ]
     },
     "metadata": {
      "tags": []
     },
     "output_type": "display_data"
    },
    {
     "data": {
      "application/javascript": [
       "download(\"download_a95d47cc-c793-4cc5-bc56-c10aaacf7612\", \"BERT_ft_epoch10.model\", 438034711)"
      ],
      "text/plain": [
       "<IPython.core.display.Javascript object>"
      ]
     },
     "metadata": {
      "tags": []
     },
     "output_type": "display_data"
    }
   ],
   "source": [
    "files.download('BERT_ft_epoch10.model')"
   ]
  },
  {
   "cell_type": "markdown",
   "metadata": {
    "id": "Jrnnl6LhjhPG"
   },
   "source": [
    "## Loading and Evaluating our Model"
   ]
  },
  {
   "cell_type": "code",
   "execution_count": null,
   "metadata": {
    "id": "8d50NeIjjhPG"
   },
   "outputs": [],
   "source": [
    "model = BertForSequenceClassification.from_pretrained(\"bert-base-uncased\",\n",
    "                                                      num_labels=len(label_dict),\n",
    "                                                      output_attentions=False,\n",
    "                                                      output_hidden_states=False)"
   ]
  },
  {
   "cell_type": "code",
   "execution_count": null,
   "metadata": {
    "id": "CwgtdJ0MjhPG"
   },
   "outputs": [],
   "source": [
    "model.to(device)\n",
    "pass"
   ]
  },
  {
   "cell_type": "code",
   "execution_count": 50,
   "metadata": {
    "colab": {
     "base_uri": "https://localhost:8080/"
    },
    "id": "IxnvsmDOjhPG",
    "outputId": "623f2122-c134-4891-bd14-0f8f469b8eec"
   },
   "outputs": [
    {
     "data": {
      "text/plain": [
       "<All keys matched successfully>"
      ]
     },
     "execution_count": 50,
     "metadata": {
      "tags": []
     },
     "output_type": "execute_result"
    }
   ],
   "source": [
    "model.load_state_dict(torch.load('BERT_ft_epoch10.model'))"
   ]
  },
  {
   "cell_type": "code",
   "execution_count": null,
   "metadata": {
    "id": "0CmXM87vjhPG"
   },
   "outputs": [],
   "source": [
    "_, predictions, true_vals = evaluate(dataloader_val)"
   ]
  },
  {
   "cell_type": "code",
   "execution_count": null,
   "metadata": {
    "id": "UC5_voRSjhPG",
    "outputId": "f1957a18-b375-4e27-a616-6dc4b9190717"
   },
   "outputs": [
    {
     "name": "stdout",
     "output_type": "stream",
     "text": [
      "Class: happy\n",
      "Accuracy: 163/171\n",
      "\n",
      "Class: not-relevant\n",
      "Accuracy: 20/32\n",
      "\n",
      "Class: angry\n",
      "Accuracy: 7/9\n",
      "\n",
      "Class: disgust\n",
      "Accuracy: 0/1\n",
      "\n",
      "Class: sad\n",
      "Accuracy: 4/5\n",
      "\n",
      "Class: surprise\n",
      "Accuracy: 2/5\n",
      "\n"
     ]
    }
   ],
   "source": [
    "accuracy_per_class(predictions, true_vals)"
   ]
  }
 ],
 "metadata": {
  "accelerator": "GPU",
  "colab": {
   "name": "sentiment_analysis_using_BERT.ipynb",
   "provenance": []
  },
  "kernelspec": {
   "display_name": "Python 3",
   "language": "python",
   "name": "python3"
  },
  "language_info": {
   "codemirror_mode": {
    "name": "ipython",
    "version": 3
   },
   "file_extension": ".py",
   "mimetype": "text/x-python",
   "name": "python",
   "nbconvert_exporter": "python",
   "pygments_lexer": "ipython3",
   "version": "3.7.9"
  },
  "widgets": {
   "application/vnd.jupyter.widget-state+json": {
    "01252fa0422d4dbd8448408bf3fe210a": {
     "model_module": "@jupyter-widgets/controls",
     "model_name": "DescriptionStyleModel",
     "state": {
      "_model_module": "@jupyter-widgets/controls",
      "_model_module_version": "1.5.0",
      "_model_name": "DescriptionStyleModel",
      "_view_count": null,
      "_view_module": "@jupyter-widgets/base",
      "_view_module_version": "1.2.0",
      "_view_name": "StyleView",
      "description_width": ""
     }
    },
    "02a6ec724b1c45c398739c6651a3eab9": {
     "model_module": "@jupyter-widgets/controls",
     "model_name": "HBoxModel",
     "state": {
      "_dom_classes": [],
      "_model_module": "@jupyter-widgets/controls",
      "_model_module_version": "1.5.0",
      "_model_name": "HBoxModel",
      "_view_count": null,
      "_view_module": "@jupyter-widgets/controls",
      "_view_module_version": "1.5.0",
      "_view_name": "HBoxView",
      "box_style": "",
      "children": [
       "IPY_MODEL_5d0597cac30a466f93bfeb4889a590f6",
       "IPY_MODEL_06659d8a673c4684b185a7e82e0799eb"
      ],
      "layout": "IPY_MODEL_4be2d3db2699414381ba5fea2c085562"
     }
    },
    "06659d8a673c4684b185a7e82e0799eb": {
     "model_module": "@jupyter-widgets/controls",
     "model_name": "HTMLModel",
     "state": {
      "_dom_classes": [],
      "_model_module": "@jupyter-widgets/controls",
      "_model_module_version": "1.5.0",
      "_model_name": "HTMLModel",
      "_view_count": null,
      "_view_module": "@jupyter-widgets/controls",
      "_view_module_version": "1.5.0",
      "_view_name": "HTMLView",
      "description": "",
      "description_tooltip": null,
      "layout": "IPY_MODEL_9ece789d4983482895ad0de0e6070866",
      "placeholder": "​",
      "style": "IPY_MODEL_b107bd77a27d4121a34649f2cc4e3257",
      "value": " 315/315 [01:11&lt;00:00,  5.03it/s, training_loss=0.001]"
     }
    },
    "0791c1813c45442ebeb3205019a5386c": {
     "model_module": "@jupyter-widgets/base",
     "model_name": "LayoutModel",
     "state": {
      "_model_module": "@jupyter-widgets/base",
      "_model_module_version": "1.2.0",
      "_model_name": "LayoutModel",
      "_view_count": null,
      "_view_module": "@jupyter-widgets/base",
      "_view_module_version": "1.2.0",
      "_view_name": "LayoutView",
      "align_content": null,
      "align_items": null,
      "align_self": null,
      "border": null,
      "bottom": null,
      "display": null,
      "flex": null,
      "flex_flow": null,
      "grid_area": null,
      "grid_auto_columns": null,
      "grid_auto_flow": null,
      "grid_auto_rows": null,
      "grid_column": null,
      "grid_gap": null,
      "grid_row": null,
      "grid_template_areas": null,
      "grid_template_columns": null,
      "grid_template_rows": null,
      "height": null,
      "justify_content": null,
      "justify_items": null,
      "left": null,
      "margin": null,
      "max_height": null,
      "max_width": null,
      "min_height": null,
      "min_width": null,
      "object_fit": null,
      "object_position": null,
      "order": null,
      "overflow": null,
      "overflow_x": null,
      "overflow_y": null,
      "padding": null,
      "right": null,
      "top": null,
      "visibility": null,
      "width": null
     }
    },
    "09f6d841e95f4f479be618a006c7529e": {
     "model_module": "@jupyter-widgets/controls",
     "model_name": "HBoxModel",
     "state": {
      "_dom_classes": [],
      "_model_module": "@jupyter-widgets/controls",
      "_model_module_version": "1.5.0",
      "_model_name": "HBoxModel",
      "_view_count": null,
      "_view_module": "@jupyter-widgets/controls",
      "_view_module_version": "1.5.0",
      "_view_name": "HBoxView",
      "box_style": "",
      "children": [
       "IPY_MODEL_fb2ce35ed97346d899d2fb9cc87c10e5",
       "IPY_MODEL_fc8b04e55fff43cd8a830a51f616edc2"
      ],
      "layout": "IPY_MODEL_958e1df296534449817cf49d93de95f5"
     }
    },
    "0b6eee77331746fd866303f778c32c61": {
     "model_module": "@jupyter-widgets/controls",
     "model_name": "DescriptionStyleModel",
     "state": {
      "_model_module": "@jupyter-widgets/controls",
      "_model_module_version": "1.5.0",
      "_model_name": "DescriptionStyleModel",
      "_view_count": null,
      "_view_module": "@jupyter-widgets/base",
      "_view_module_version": "1.2.0",
      "_view_name": "StyleView",
      "description_width": ""
     }
    },
    "0c100ce7e4714e4f9adfab6f6858e7d4": {
     "model_module": "@jupyter-widgets/base",
     "model_name": "LayoutModel",
     "state": {
      "_model_module": "@jupyter-widgets/base",
      "_model_module_version": "1.2.0",
      "_model_name": "LayoutModel",
      "_view_count": null,
      "_view_module": "@jupyter-widgets/base",
      "_view_module_version": "1.2.0",
      "_view_name": "LayoutView",
      "align_content": null,
      "align_items": null,
      "align_self": null,
      "border": null,
      "bottom": null,
      "display": null,
      "flex": null,
      "flex_flow": null,
      "grid_area": null,
      "grid_auto_columns": null,
      "grid_auto_flow": null,
      "grid_auto_rows": null,
      "grid_column": null,
      "grid_gap": null,
      "grid_row": null,
      "grid_template_areas": null,
      "grid_template_columns": null,
      "grid_template_rows": null,
      "height": null,
      "justify_content": null,
      "justify_items": null,
      "left": null,
      "margin": null,
      "max_height": null,
      "max_width": null,
      "min_height": null,
      "min_width": null,
      "object_fit": null,
      "object_position": null,
      "order": null,
      "overflow": null,
      "overflow_x": null,
      "overflow_y": null,
      "padding": null,
      "right": null,
      "top": null,
      "visibility": null,
      "width": null
     }
    },
    "1008e646be5c4f47a1ce8369e02bba42": {
     "model_module": "@jupyter-widgets/base",
     "model_name": "LayoutModel",
     "state": {
      "_model_module": "@jupyter-widgets/base",
      "_model_module_version": "1.2.0",
      "_model_name": "LayoutModel",
      "_view_count": null,
      "_view_module": "@jupyter-widgets/base",
      "_view_module_version": "1.2.0",
      "_view_name": "LayoutView",
      "align_content": null,
      "align_items": null,
      "align_self": null,
      "border": null,
      "bottom": null,
      "display": null,
      "flex": null,
      "flex_flow": null,
      "grid_area": null,
      "grid_auto_columns": null,
      "grid_auto_flow": null,
      "grid_auto_rows": null,
      "grid_column": null,
      "grid_gap": null,
      "grid_row": null,
      "grid_template_areas": null,
      "grid_template_columns": null,
      "grid_template_rows": null,
      "height": null,
      "justify_content": null,
      "justify_items": null,
      "left": null,
      "margin": null,
      "max_height": null,
      "max_width": null,
      "min_height": null,
      "min_width": null,
      "object_fit": null,
      "object_position": null,
      "order": null,
      "overflow": null,
      "overflow_x": null,
      "overflow_y": null,
      "padding": null,
      "right": null,
      "top": null,
      "visibility": null,
      "width": null
     }
    },
    "10f8a7f109814f458f40d31dfe1ae61e": {
     "model_module": "@jupyter-widgets/base",
     "model_name": "LayoutModel",
     "state": {
      "_model_module": "@jupyter-widgets/base",
      "_model_module_version": "1.2.0",
      "_model_name": "LayoutModel",
      "_view_count": null,
      "_view_module": "@jupyter-widgets/base",
      "_view_module_version": "1.2.0",
      "_view_name": "LayoutView",
      "align_content": null,
      "align_items": null,
      "align_self": null,
      "border": null,
      "bottom": null,
      "display": null,
      "flex": null,
      "flex_flow": null,
      "grid_area": null,
      "grid_auto_columns": null,
      "grid_auto_flow": null,
      "grid_auto_rows": null,
      "grid_column": null,
      "grid_gap": null,
      "grid_row": null,
      "grid_template_areas": null,
      "grid_template_columns": null,
      "grid_template_rows": null,
      "height": null,
      "justify_content": null,
      "justify_items": null,
      "left": null,
      "margin": null,
      "max_height": null,
      "max_width": null,
      "min_height": null,
      "min_width": null,
      "object_fit": null,
      "object_position": null,
      "order": null,
      "overflow": null,
      "overflow_x": null,
      "overflow_y": null,
      "padding": null,
      "right": null,
      "top": null,
      "visibility": null,
      "width": null
     }
    },
    "111219789e704d5487706d612fdef4cf": {
     "model_module": "@jupyter-widgets/controls",
     "model_name": "HBoxModel",
     "state": {
      "_dom_classes": [],
      "_model_module": "@jupyter-widgets/controls",
      "_model_module_version": "1.5.0",
      "_model_name": "HBoxModel",
      "_view_count": null,
      "_view_module": "@jupyter-widgets/controls",
      "_view_module_version": "1.5.0",
      "_view_name": "HBoxView",
      "box_style": "",
      "children": [
       "IPY_MODEL_5750004b46404c7088ebed2e4259b4ac",
       "IPY_MODEL_c5a6eeea18af4d71bba217de10bd01c5"
      ],
      "layout": "IPY_MODEL_28c13df10bfa4632a6ee62e26c44c48c"
     }
    },
    "175d27b64460473f8fc47c7ae1b1c937": {
     "model_module": "@jupyter-widgets/controls",
     "model_name": "DescriptionStyleModel",
     "state": {
      "_model_module": "@jupyter-widgets/controls",
      "_model_module_version": "1.5.0",
      "_model_name": "DescriptionStyleModel",
      "_view_count": null,
      "_view_module": "@jupyter-widgets/base",
      "_view_module_version": "1.2.0",
      "_view_name": "StyleView",
      "description_width": ""
     }
    },
    "1984dd992a8c478a89a398fac149cf1e": {
     "model_module": "@jupyter-widgets/controls",
     "model_name": "HTMLModel",
     "state": {
      "_dom_classes": [],
      "_model_module": "@jupyter-widgets/controls",
      "_model_module_version": "1.5.0",
      "_model_name": "HTMLModel",
      "_view_count": null,
      "_view_module": "@jupyter-widgets/controls",
      "_view_module_version": "1.5.0",
      "_view_name": "HTMLView",
      "description": "",
      "description_tooltip": null,
      "layout": "IPY_MODEL_373ac26ba7554666937d09f71b60ced2",
      "placeholder": "​",
      "style": "IPY_MODEL_773c6fb4b55b43a28224abff0a01bce2",
      "value": " 232k/232k [00:00&lt;00:00, 2.15MB/s]"
     }
    },
    "1b43a857ca2c4a0fac641bfc1f442aa6": {
     "model_module": "@jupyter-widgets/controls",
     "model_name": "FloatProgressModel",
     "state": {
      "_dom_classes": [],
      "_model_module": "@jupyter-widgets/controls",
      "_model_module_version": "1.5.0",
      "_model_name": "FloatProgressModel",
      "_view_count": null,
      "_view_module": "@jupyter-widgets/controls",
      "_view_module_version": "1.5.0",
      "_view_name": "ProgressView",
      "bar_style": "",
      "description": "Epoch 8: 100%",
      "description_tooltip": null,
      "layout": "IPY_MODEL_f80d7322c0594879af71f642c892bad6",
      "max": 315,
      "min": 0,
      "orientation": "horizontal",
      "style": "IPY_MODEL_b9858affa9774c71b8fc309de38ba5cc",
      "value": 315
     }
    },
    "23b39b88dc5c4d9d806fc8a9cd820c85": {
     "model_module": "@jupyter-widgets/controls",
     "model_name": "FloatProgressModel",
     "state": {
      "_dom_classes": [],
      "_model_module": "@jupyter-widgets/controls",
      "_model_module_version": "1.5.0",
      "_model_name": "FloatProgressModel",
      "_view_count": null,
      "_view_module": "@jupyter-widgets/controls",
      "_view_module_version": "1.5.0",
      "_view_name": "ProgressView",
      "bar_style": "success",
      "description": "Downloading: 100%",
      "description_tooltip": null,
      "layout": "IPY_MODEL_32bd78e840264794a02b209c672f6c1a",
      "max": 440473133,
      "min": 0,
      "orientation": "horizontal",
      "style": "IPY_MODEL_5621e79e292f4c54907a17240b2edcb8",
      "value": 440473133
     }
    },
    "28c13df10bfa4632a6ee62e26c44c48c": {
     "model_module": "@jupyter-widgets/base",
     "model_name": "LayoutModel",
     "state": {
      "_model_module": "@jupyter-widgets/base",
      "_model_module_version": "1.2.0",
      "_model_name": "LayoutModel",
      "_view_count": null,
      "_view_module": "@jupyter-widgets/base",
      "_view_module_version": "1.2.0",
      "_view_name": "LayoutView",
      "align_content": null,
      "align_items": null,
      "align_self": null,
      "border": null,
      "bottom": null,
      "display": null,
      "flex": null,
      "flex_flow": null,
      "grid_area": null,
      "grid_auto_columns": null,
      "grid_auto_flow": null,
      "grid_auto_rows": null,
      "grid_column": null,
      "grid_gap": null,
      "grid_row": null,
      "grid_template_areas": null,
      "grid_template_columns": null,
      "grid_template_rows": null,
      "height": null,
      "justify_content": null,
      "justify_items": null,
      "left": null,
      "margin": null,
      "max_height": null,
      "max_width": null,
      "min_height": null,
      "min_width": null,
      "object_fit": null,
      "object_position": null,
      "order": null,
      "overflow": null,
      "overflow_x": null,
      "overflow_y": null,
      "padding": null,
      "right": null,
      "top": null,
      "visibility": null,
      "width": null
     }
    },
    "2963cc29347b403ab2c9f55c208b23a3": {
     "model_module": "@jupyter-widgets/base",
     "model_name": "LayoutModel",
     "state": {
      "_model_module": "@jupyter-widgets/base",
      "_model_module_version": "1.2.0",
      "_model_name": "LayoutModel",
      "_view_count": null,
      "_view_module": "@jupyter-widgets/base",
      "_view_module_version": "1.2.0",
      "_view_name": "LayoutView",
      "align_content": null,
      "align_items": null,
      "align_self": null,
      "border": null,
      "bottom": null,
      "display": null,
      "flex": null,
      "flex_flow": null,
      "grid_area": null,
      "grid_auto_columns": null,
      "grid_auto_flow": null,
      "grid_auto_rows": null,
      "grid_column": null,
      "grid_gap": null,
      "grid_row": null,
      "grid_template_areas": null,
      "grid_template_columns": null,
      "grid_template_rows": null,
      "height": null,
      "justify_content": null,
      "justify_items": null,
      "left": null,
      "margin": null,
      "max_height": null,
      "max_width": null,
      "min_height": null,
      "min_width": null,
      "object_fit": null,
      "object_position": null,
      "order": null,
      "overflow": null,
      "overflow_x": null,
      "overflow_y": null,
      "padding": null,
      "right": null,
      "top": null,
      "visibility": null,
      "width": null
     }
    },
    "29789c980dfe44c1a53474ddf226331e": {
     "model_module": "@jupyter-widgets/base",
     "model_name": "LayoutModel",
     "state": {
      "_model_module": "@jupyter-widgets/base",
      "_model_module_version": "1.2.0",
      "_model_name": "LayoutModel",
      "_view_count": null,
      "_view_module": "@jupyter-widgets/base",
      "_view_module_version": "1.2.0",
      "_view_name": "LayoutView",
      "align_content": null,
      "align_items": null,
      "align_self": null,
      "border": null,
      "bottom": null,
      "display": null,
      "flex": null,
      "flex_flow": null,
      "grid_area": null,
      "grid_auto_columns": null,
      "grid_auto_flow": null,
      "grid_auto_rows": null,
      "grid_column": null,
      "grid_gap": null,
      "grid_row": null,
      "grid_template_areas": null,
      "grid_template_columns": null,
      "grid_template_rows": null,
      "height": null,
      "justify_content": null,
      "justify_items": null,
      "left": null,
      "margin": null,
      "max_height": null,
      "max_width": null,
      "min_height": null,
      "min_width": null,
      "object_fit": null,
      "object_position": null,
      "order": null,
      "overflow": null,
      "overflow_x": null,
      "overflow_y": null,
      "padding": null,
      "right": null,
      "top": null,
      "visibility": null,
      "width": null
     }
    },
    "2abb562f4d4e4ea8ae00ecb71c7a8a1b": {
     "model_module": "@jupyter-widgets/controls",
     "model_name": "HBoxModel",
     "state": {
      "_dom_classes": [],
      "_model_module": "@jupyter-widgets/controls",
      "_model_module_version": "1.5.0",
      "_model_name": "HBoxModel",
      "_view_count": null,
      "_view_module": "@jupyter-widgets/controls",
      "_view_module_version": "1.5.0",
      "_view_name": "HBoxView",
      "box_style": "",
      "children": [
       "IPY_MODEL_6031034dcf5f466382c4fc63f6e103f2",
       "IPY_MODEL_956ed7d6e770432db15fc427492c9f8a"
      ],
      "layout": "IPY_MODEL_7ce18d40649e4e9ea078795493f0ed37"
     }
    },
    "32bd78e840264794a02b209c672f6c1a": {
     "model_module": "@jupyter-widgets/base",
     "model_name": "LayoutModel",
     "state": {
      "_model_module": "@jupyter-widgets/base",
      "_model_module_version": "1.2.0",
      "_model_name": "LayoutModel",
      "_view_count": null,
      "_view_module": "@jupyter-widgets/base",
      "_view_module_version": "1.2.0",
      "_view_name": "LayoutView",
      "align_content": null,
      "align_items": null,
      "align_self": null,
      "border": null,
      "bottom": null,
      "display": null,
      "flex": null,
      "flex_flow": null,
      "grid_area": null,
      "grid_auto_columns": null,
      "grid_auto_flow": null,
      "grid_auto_rows": null,
      "grid_column": null,
      "grid_gap": null,
      "grid_row": null,
      "grid_template_areas": null,
      "grid_template_columns": null,
      "grid_template_rows": null,
      "height": null,
      "justify_content": null,
      "justify_items": null,
      "left": null,
      "margin": null,
      "max_height": null,
      "max_width": null,
      "min_height": null,
      "min_width": null,
      "object_fit": null,
      "object_position": null,
      "order": null,
      "overflow": null,
      "overflow_x": null,
      "overflow_y": null,
      "padding": null,
      "right": null,
      "top": null,
      "visibility": null,
      "width": null
     }
    },
    "34454a82f68e4b56964cbb2d395aa8bd": {
     "model_module": "@jupyter-widgets/controls",
     "model_name": "HBoxModel",
     "state": {
      "_dom_classes": [],
      "_model_module": "@jupyter-widgets/controls",
      "_model_module_version": "1.5.0",
      "_model_name": "HBoxModel",
      "_view_count": null,
      "_view_module": "@jupyter-widgets/controls",
      "_view_module_version": "1.5.0",
      "_view_name": "HBoxView",
      "box_style": "",
      "children": [
       "IPY_MODEL_5d63edd2562c42c4a1063b67321e3cf4",
       "IPY_MODEL_58e88c9af7b3479eac61f2a7279c1710"
      ],
      "layout": "IPY_MODEL_c42e38e6a9694a69b542dad87a8df483"
     }
    },
    "373ac26ba7554666937d09f71b60ced2": {
     "model_module": "@jupyter-widgets/base",
     "model_name": "LayoutModel",
     "state": {
      "_model_module": "@jupyter-widgets/base",
      "_model_module_version": "1.2.0",
      "_model_name": "LayoutModel",
      "_view_count": null,
      "_view_module": "@jupyter-widgets/base",
      "_view_module_version": "1.2.0",
      "_view_name": "LayoutView",
      "align_content": null,
      "align_items": null,
      "align_self": null,
      "border": null,
      "bottom": null,
      "display": null,
      "flex": null,
      "flex_flow": null,
      "grid_area": null,
      "grid_auto_columns": null,
      "grid_auto_flow": null,
      "grid_auto_rows": null,
      "grid_column": null,
      "grid_gap": null,
      "grid_row": null,
      "grid_template_areas": null,
      "grid_template_columns": null,
      "grid_template_rows": null,
      "height": null,
      "justify_content": null,
      "justify_items": null,
      "left": null,
      "margin": null,
      "max_height": null,
      "max_width": null,
      "min_height": null,
      "min_width": null,
      "object_fit": null,
      "object_position": null,
      "order": null,
      "overflow": null,
      "overflow_x": null,
      "overflow_y": null,
      "padding": null,
      "right": null,
      "top": null,
      "visibility": null,
      "width": null
     }
    },
    "3a7741bd3ff14f32bbb4313934c2322f": {
     "model_module": "@jupyter-widgets/controls",
     "model_name": "HBoxModel",
     "state": {
      "_dom_classes": [],
      "_model_module": "@jupyter-widgets/controls",
      "_model_module_version": "1.5.0",
      "_model_name": "HBoxModel",
      "_view_count": null,
      "_view_module": "@jupyter-widgets/controls",
      "_view_module_version": "1.5.0",
      "_view_name": "HBoxView",
      "box_style": "",
      "children": [
       "IPY_MODEL_7a2559d60ba64dae841449f4f50baefa",
       "IPY_MODEL_7c57ad78a2cb49a6902da003e6048c52"
      ],
      "layout": "IPY_MODEL_5f4c5563c8f54effabdf7114b7732c13"
     }
    },
    "420e3a4a997946d682850c25aac9c007": {
     "model_module": "@jupyter-widgets/controls",
     "model_name": "FloatProgressModel",
     "state": {
      "_dom_classes": [],
      "_model_module": "@jupyter-widgets/controls",
      "_model_module_version": "1.5.0",
      "_model_name": "FloatProgressModel",
      "_view_count": null,
      "_view_module": "@jupyter-widgets/controls",
      "_view_module_version": "1.5.0",
      "_view_name": "ProgressView",
      "bar_style": "",
      "description": "Epoch 6: 100%",
      "description_tooltip": null,
      "layout": "IPY_MODEL_0791c1813c45442ebeb3205019a5386c",
      "max": 315,
      "min": 0,
      "orientation": "horizontal",
      "style": "IPY_MODEL_ddf3631b2cb8416b86c67eb6750538e6",
      "value": 315
     }
    },
    "4255ec4bba0d4130917231860823b3a5": {
     "model_module": "@jupyter-widgets/controls",
     "model_name": "DescriptionStyleModel",
     "state": {
      "_model_module": "@jupyter-widgets/controls",
      "_model_module_version": "1.5.0",
      "_model_name": "DescriptionStyleModel",
      "_view_count": null,
      "_view_module": "@jupyter-widgets/base",
      "_view_module_version": "1.2.0",
      "_view_name": "StyleView",
      "description_width": ""
     }
    },
    "4280c9ae05d643a9a93ddb944e1e4f30": {
     "model_module": "@jupyter-widgets/base",
     "model_name": "LayoutModel",
     "state": {
      "_model_module": "@jupyter-widgets/base",
      "_model_module_version": "1.2.0",
      "_model_name": "LayoutModel",
      "_view_count": null,
      "_view_module": "@jupyter-widgets/base",
      "_view_module_version": "1.2.0",
      "_view_name": "LayoutView",
      "align_content": null,
      "align_items": null,
      "align_self": null,
      "border": null,
      "bottom": null,
      "display": null,
      "flex": null,
      "flex_flow": null,
      "grid_area": null,
      "grid_auto_columns": null,
      "grid_auto_flow": null,
      "grid_auto_rows": null,
      "grid_column": null,
      "grid_gap": null,
      "grid_row": null,
      "grid_template_areas": null,
      "grid_template_columns": null,
      "grid_template_rows": null,
      "height": null,
      "justify_content": null,
      "justify_items": null,
      "left": null,
      "margin": null,
      "max_height": null,
      "max_width": null,
      "min_height": null,
      "min_width": null,
      "object_fit": null,
      "object_position": null,
      "order": null,
      "overflow": null,
      "overflow_x": null,
      "overflow_y": null,
      "padding": null,
      "right": null,
      "top": null,
      "visibility": null,
      "width": null
     }
    },
    "4641ba50151c4d248fb60983e3272255": {
     "model_module": "@jupyter-widgets/controls",
     "model_name": "FloatProgressModel",
     "state": {
      "_dom_classes": [],
      "_model_module": "@jupyter-widgets/controls",
      "_model_module_version": "1.5.0",
      "_model_name": "FloatProgressModel",
      "_view_count": null,
      "_view_module": "@jupyter-widgets/controls",
      "_view_module_version": "1.5.0",
      "_view_name": "ProgressView",
      "bar_style": "",
      "description": "Epoch 3: 100%",
      "description_tooltip": null,
      "layout": "IPY_MODEL_9202e948656d4bd1aa600abcf67a3dcc",
      "max": 315,
      "min": 0,
      "orientation": "horizontal",
      "style": "IPY_MODEL_fe00cce573c3401ea5f12da86895a620",
      "value": 315
     }
    },
    "4779a3f1370440e3b8c06650c94d8eb8": {
     "model_module": "@jupyter-widgets/controls",
     "model_name": "DescriptionStyleModel",
     "state": {
      "_model_module": "@jupyter-widgets/controls",
      "_model_module_version": "1.5.0",
      "_model_name": "DescriptionStyleModel",
      "_view_count": null,
      "_view_module": "@jupyter-widgets/base",
      "_view_module_version": "1.2.0",
      "_view_name": "StyleView",
      "description_width": ""
     }
    },
    "4be2d3db2699414381ba5fea2c085562": {
     "model_module": "@jupyter-widgets/base",
     "model_name": "LayoutModel",
     "state": {
      "_model_module": "@jupyter-widgets/base",
      "_model_module_version": "1.2.0",
      "_model_name": "LayoutModel",
      "_view_count": null,
      "_view_module": "@jupyter-widgets/base",
      "_view_module_version": "1.2.0",
      "_view_name": "LayoutView",
      "align_content": null,
      "align_items": null,
      "align_self": null,
      "border": null,
      "bottom": null,
      "display": null,
      "flex": null,
      "flex_flow": null,
      "grid_area": null,
      "grid_auto_columns": null,
      "grid_auto_flow": null,
      "grid_auto_rows": null,
      "grid_column": null,
      "grid_gap": null,
      "grid_row": null,
      "grid_template_areas": null,
      "grid_template_columns": null,
      "grid_template_rows": null,
      "height": null,
      "justify_content": null,
      "justify_items": null,
      "left": null,
      "margin": null,
      "max_height": null,
      "max_width": null,
      "min_height": null,
      "min_width": null,
      "object_fit": null,
      "object_position": null,
      "order": null,
      "overflow": null,
      "overflow_x": null,
      "overflow_y": null,
      "padding": null,
      "right": null,
      "top": null,
      "visibility": null,
      "width": null
     }
    },
    "4c647a023d0b4908899bccd0fe61b440": {
     "model_module": "@jupyter-widgets/controls",
     "model_name": "DescriptionStyleModel",
     "state": {
      "_model_module": "@jupyter-widgets/controls",
      "_model_module_version": "1.5.0",
      "_model_name": "DescriptionStyleModel",
      "_view_count": null,
      "_view_module": "@jupyter-widgets/base",
      "_view_module_version": "1.2.0",
      "_view_name": "StyleView",
      "description_width": ""
     }
    },
    "4ded36226c75488e856ac79d070e0fe0": {
     "model_module": "@jupyter-widgets/controls",
     "model_name": "HBoxModel",
     "state": {
      "_dom_classes": [],
      "_model_module": "@jupyter-widgets/controls",
      "_model_module_version": "1.5.0",
      "_model_name": "HBoxModel",
      "_view_count": null,
      "_view_module": "@jupyter-widgets/controls",
      "_view_module_version": "1.5.0",
      "_view_name": "HBoxView",
      "box_style": "",
      "children": [
       "IPY_MODEL_420e3a4a997946d682850c25aac9c007",
       "IPY_MODEL_67f43935818142d0817ed83fbecb3172"
      ],
      "layout": "IPY_MODEL_10f8a7f109814f458f40d31dfe1ae61e"
     }
    },
    "4e60743979734fb985d856077f2790c7": {
     "model_module": "@jupyter-widgets/controls",
     "model_name": "HTMLModel",
     "state": {
      "_dom_classes": [],
      "_model_module": "@jupyter-widgets/controls",
      "_model_module_version": "1.5.0",
      "_model_name": "HTMLModel",
      "_view_count": null,
      "_view_module": "@jupyter-widgets/controls",
      "_view_module_version": "1.5.0",
      "_view_name": "HTMLView",
      "description": "",
      "description_tooltip": null,
      "layout": "IPY_MODEL_6b54204d5d95472281a147793f40cbd6",
      "placeholder": "​",
      "style": "IPY_MODEL_e3bf7e48a6224ed8afb2d80ff2548108",
      "value": " 315/315 [01:12&lt;00:00,  4.94it/s, training_loss=0.000]"
     }
    },
    "51bd0b67c50f41c99cdde3cc3dff5071": {
     "model_module": "@jupyter-widgets/base",
     "model_name": "LayoutModel",
     "state": {
      "_model_module": "@jupyter-widgets/base",
      "_model_module_version": "1.2.0",
      "_model_name": "LayoutModel",
      "_view_count": null,
      "_view_module": "@jupyter-widgets/base",
      "_view_module_version": "1.2.0",
      "_view_name": "LayoutView",
      "align_content": null,
      "align_items": null,
      "align_self": null,
      "border": null,
      "bottom": null,
      "display": null,
      "flex": null,
      "flex_flow": null,
      "grid_area": null,
      "grid_auto_columns": null,
      "grid_auto_flow": null,
      "grid_auto_rows": null,
      "grid_column": null,
      "grid_gap": null,
      "grid_row": null,
      "grid_template_areas": null,
      "grid_template_columns": null,
      "grid_template_rows": null,
      "height": null,
      "justify_content": null,
      "justify_items": null,
      "left": null,
      "margin": null,
      "max_height": null,
      "max_width": null,
      "min_height": null,
      "min_width": null,
      "object_fit": null,
      "object_position": null,
      "order": null,
      "overflow": null,
      "overflow_x": null,
      "overflow_y": null,
      "padding": null,
      "right": null,
      "top": null,
      "visibility": null,
      "width": null
     }
    },
    "521373ce9d0545aea79f1793bc57b5da": {
     "model_module": "@jupyter-widgets/controls",
     "model_name": "HBoxModel",
     "state": {
      "_dom_classes": [],
      "_model_module": "@jupyter-widgets/controls",
      "_model_module_version": "1.5.0",
      "_model_name": "HBoxModel",
      "_view_count": null,
      "_view_module": "@jupyter-widgets/controls",
      "_view_module_version": "1.5.0",
      "_view_name": "HBoxView",
      "box_style": "",
      "children": [
       "IPY_MODEL_57baf8a756294a3aa0c64371169e084b",
       "IPY_MODEL_4e60743979734fb985d856077f2790c7"
      ],
      "layout": "IPY_MODEL_9feb9cd138eb418c83ad6892d5909749"
     }
    },
    "5500c6911d964560bc89d4d2a056fe11": {
     "model_module": "@jupyter-widgets/controls",
     "model_name": "HTMLModel",
     "state": {
      "_dom_classes": [],
      "_model_module": "@jupyter-widgets/controls",
      "_model_module_version": "1.5.0",
      "_model_name": "HTMLModel",
      "_view_count": null,
      "_view_module": "@jupyter-widgets/controls",
      "_view_module_version": "1.5.0",
      "_view_name": "HTMLView",
      "description": "",
      "description_tooltip": null,
      "layout": "IPY_MODEL_a681e942fb8e499db410e3c02dd24439",
      "placeholder": "​",
      "style": "IPY_MODEL_0b6eee77331746fd866303f778c32c61",
      "value": " 315/315 [01:10&lt;00:00,  5.04it/s, training_loss=0.001]"
     }
    },
    "5621e79e292f4c54907a17240b2edcb8": {
     "model_module": "@jupyter-widgets/controls",
     "model_name": "ProgressStyleModel",
     "state": {
      "_model_module": "@jupyter-widgets/controls",
      "_model_module_version": "1.5.0",
      "_model_name": "ProgressStyleModel",
      "_view_count": null,
      "_view_module": "@jupyter-widgets/base",
      "_view_module_version": "1.2.0",
      "_view_name": "StyleView",
      "bar_color": null,
      "description_width": "initial"
     }
    },
    "5750004b46404c7088ebed2e4259b4ac": {
     "model_module": "@jupyter-widgets/controls",
     "model_name": "FloatProgressModel",
     "state": {
      "_dom_classes": [],
      "_model_module": "@jupyter-widgets/controls",
      "_model_module_version": "1.5.0",
      "_model_name": "FloatProgressModel",
      "_view_count": null,
      "_view_module": "@jupyter-widgets/controls",
      "_view_module_version": "1.5.0",
      "_view_name": "ProgressView",
      "bar_style": "",
      "description": "Epoch 5: 100%",
      "description_tooltip": null,
      "layout": "IPY_MODEL_60ae0cca5d3642b8a43d93a9a91c2812",
      "max": 315,
      "min": 0,
      "orientation": "horizontal",
      "style": "IPY_MODEL_752b35f6f9b84323bdb682d840c6711d",
      "value": 315
     }
    },
    "57baf8a756294a3aa0c64371169e084b": {
     "model_module": "@jupyter-widgets/controls",
     "model_name": "FloatProgressModel",
     "state": {
      "_dom_classes": [],
      "_model_module": "@jupyter-widgets/controls",
      "_model_module_version": "1.5.0",
      "_model_name": "FloatProgressModel",
      "_view_count": null,
      "_view_module": "@jupyter-widgets/controls",
      "_view_module_version": "1.5.0",
      "_view_name": "ProgressView",
      "bar_style": "",
      "description": "Epoch 9: 100%",
      "description_tooltip": null,
      "layout": "IPY_MODEL_ec7e1857699c44e9a8f1c15e546a89a4",
      "max": 315,
      "min": 0,
      "orientation": "horizontal",
      "style": "IPY_MODEL_9046b74e64c44ca1a7231f142aa4008e",
      "value": 315
     }
    },
    "58e88c9af7b3479eac61f2a7279c1710": {
     "model_module": "@jupyter-widgets/controls",
     "model_name": "HTMLModel",
     "state": {
      "_dom_classes": [],
      "_model_module": "@jupyter-widgets/controls",
      "_model_module_version": "1.5.0",
      "_model_name": "HTMLModel",
      "_view_count": null,
      "_view_module": "@jupyter-widgets/controls",
      "_view_module_version": "1.5.0",
      "_view_name": "HTMLView",
      "description": "",
      "description_tooltip": null,
      "layout": "IPY_MODEL_d93a210692f74adbaea4435d9f721259",
      "placeholder": "​",
      "style": "IPY_MODEL_4255ec4bba0d4130917231860823b3a5",
      "value": " 315/315 [01:11&lt;00:00,  4.98it/s, training_loss=0.000]"
     }
    },
    "594d543d9dff4c528b7ec6507f9d2856": {
     "model_module": "@jupyter-widgets/controls",
     "model_name": "HTMLModel",
     "state": {
      "_dom_classes": [],
      "_model_module": "@jupyter-widgets/controls",
      "_model_module_version": "1.5.0",
      "_model_name": "HTMLModel",
      "_view_count": null,
      "_view_module": "@jupyter-widgets/controls",
      "_view_module_version": "1.5.0",
      "_view_name": "HTMLView",
      "description": "",
      "description_tooltip": null,
      "layout": "IPY_MODEL_1008e646be5c4f47a1ce8369e02bba42",
      "placeholder": "​",
      "style": "IPY_MODEL_01252fa0422d4dbd8448408bf3fe210a",
      "value": " 315/315 [01:10&lt;00:00,  4.97it/s, training_loss=0.000]"
     }
    },
    "5d0597cac30a466f93bfeb4889a590f6": {
     "model_module": "@jupyter-widgets/controls",
     "model_name": "FloatProgressModel",
     "state": {
      "_dom_classes": [],
      "_model_module": "@jupyter-widgets/controls",
      "_model_module_version": "1.5.0",
      "_model_name": "FloatProgressModel",
      "_view_count": null,
      "_view_module": "@jupyter-widgets/controls",
      "_view_module_version": "1.5.0",
      "_view_name": "ProgressView",
      "bar_style": "",
      "description": "Epoch 4: 100%",
      "description_tooltip": null,
      "layout": "IPY_MODEL_991d913a554142c3892c0c7e1f3691ed",
      "max": 315,
      "min": 0,
      "orientation": "horizontal",
      "style": "IPY_MODEL_e6294aa43d2f4e38b6c85ee3578f4402",
      "value": 315
     }
    },
    "5d63edd2562c42c4a1063b67321e3cf4": {
     "model_module": "@jupyter-widgets/controls",
     "model_name": "FloatProgressModel",
     "state": {
      "_dom_classes": [],
      "_model_module": "@jupyter-widgets/controls",
      "_model_module_version": "1.5.0",
      "_model_name": "FloatProgressModel",
      "_view_count": null,
      "_view_module": "@jupyter-widgets/controls",
      "_view_module_version": "1.5.0",
      "_view_name": "ProgressView",
      "bar_style": "",
      "description": "Epoch 7: 100%",
      "description_tooltip": null,
      "layout": "IPY_MODEL_8f1827eef7544e40a442bb6e320e31de",
      "max": 315,
      "min": 0,
      "orientation": "horizontal",
      "style": "IPY_MODEL_b8415b5575864692b186423e1b2b02b8",
      "value": 315
     }
    },
    "5f4c5563c8f54effabdf7114b7732c13": {
     "model_module": "@jupyter-widgets/base",
     "model_name": "LayoutModel",
     "state": {
      "_model_module": "@jupyter-widgets/base",
      "_model_module_version": "1.2.0",
      "_model_name": "LayoutModel",
      "_view_count": null,
      "_view_module": "@jupyter-widgets/base",
      "_view_module_version": "1.2.0",
      "_view_name": "LayoutView",
      "align_content": null,
      "align_items": null,
      "align_self": null,
      "border": null,
      "bottom": null,
      "display": null,
      "flex": null,
      "flex_flow": null,
      "grid_area": null,
      "grid_auto_columns": null,
      "grid_auto_flow": null,
      "grid_auto_rows": null,
      "grid_column": null,
      "grid_gap": null,
      "grid_row": null,
      "grid_template_areas": null,
      "grid_template_columns": null,
      "grid_template_rows": null,
      "height": null,
      "justify_content": null,
      "justify_items": null,
      "left": null,
      "margin": null,
      "max_height": null,
      "max_width": null,
      "min_height": null,
      "min_width": null,
      "object_fit": null,
      "object_position": null,
      "order": null,
      "overflow": null,
      "overflow_x": null,
      "overflow_y": null,
      "padding": null,
      "right": null,
      "top": null,
      "visibility": null,
      "width": null
     }
    },
    "5fd0c2f7567b42f69c1bcaeb2297e52e": {
     "model_module": "@jupyter-widgets/base",
     "model_name": "LayoutModel",
     "state": {
      "_model_module": "@jupyter-widgets/base",
      "_model_module_version": "1.2.0",
      "_model_name": "LayoutModel",
      "_view_count": null,
      "_view_module": "@jupyter-widgets/base",
      "_view_module_version": "1.2.0",
      "_view_name": "LayoutView",
      "align_content": null,
      "align_items": null,
      "align_self": null,
      "border": null,
      "bottom": null,
      "display": null,
      "flex": null,
      "flex_flow": null,
      "grid_area": null,
      "grid_auto_columns": null,
      "grid_auto_flow": null,
      "grid_auto_rows": null,
      "grid_column": null,
      "grid_gap": null,
      "grid_row": null,
      "grid_template_areas": null,
      "grid_template_columns": null,
      "grid_template_rows": null,
      "height": null,
      "justify_content": null,
      "justify_items": null,
      "left": null,
      "margin": null,
      "max_height": null,
      "max_width": null,
      "min_height": null,
      "min_width": null,
      "object_fit": null,
      "object_position": null,
      "order": null,
      "overflow": null,
      "overflow_x": null,
      "overflow_y": null,
      "padding": null,
      "right": null,
      "top": null,
      "visibility": null,
      "width": null
     }
    },
    "6031034dcf5f466382c4fc63f6e103f2": {
     "model_module": "@jupyter-widgets/controls",
     "model_name": "FloatProgressModel",
     "state": {
      "_dom_classes": [],
      "_model_module": "@jupyter-widgets/controls",
      "_model_module_version": "1.5.0",
      "_model_name": "FloatProgressModel",
      "_view_count": null,
      "_view_module": "@jupyter-widgets/controls",
      "_view_module_version": "1.5.0",
      "_view_name": "ProgressView",
      "bar_style": "success",
      "description": "Downloading: 100%",
      "description_tooltip": null,
      "layout": "IPY_MODEL_8641c214b4b54920afedc4c83058ff99",
      "max": 433,
      "min": 0,
      "orientation": "horizontal",
      "style": "IPY_MODEL_d3028e2c82224be383c8ba1276df47eb",
      "value": 433
     }
    },
    "60ae0cca5d3642b8a43d93a9a91c2812": {
     "model_module": "@jupyter-widgets/base",
     "model_name": "LayoutModel",
     "state": {
      "_model_module": "@jupyter-widgets/base",
      "_model_module_version": "1.2.0",
      "_model_name": "LayoutModel",
      "_view_count": null,
      "_view_module": "@jupyter-widgets/base",
      "_view_module_version": "1.2.0",
      "_view_name": "LayoutView",
      "align_content": null,
      "align_items": null,
      "align_self": null,
      "border": null,
      "bottom": null,
      "display": null,
      "flex": null,
      "flex_flow": null,
      "grid_area": null,
      "grid_auto_columns": null,
      "grid_auto_flow": null,
      "grid_auto_rows": null,
      "grid_column": null,
      "grid_gap": null,
      "grid_row": null,
      "grid_template_areas": null,
      "grid_template_columns": null,
      "grid_template_rows": null,
      "height": null,
      "justify_content": null,
      "justify_items": null,
      "left": null,
      "margin": null,
      "max_height": null,
      "max_width": null,
      "min_height": null,
      "min_width": null,
      "object_fit": null,
      "object_position": null,
      "order": null,
      "overflow": null,
      "overflow_x": null,
      "overflow_y": null,
      "padding": null,
      "right": null,
      "top": null,
      "visibility": null,
      "width": null
     }
    },
    "67f43935818142d0817ed83fbecb3172": {
     "model_module": "@jupyter-widgets/controls",
     "model_name": "HTMLModel",
     "state": {
      "_dom_classes": [],
      "_model_module": "@jupyter-widgets/controls",
      "_model_module_version": "1.5.0",
      "_model_name": "HTMLModel",
      "_view_count": null,
      "_view_module": "@jupyter-widgets/controls",
      "_view_module_version": "1.5.0",
      "_view_name": "HTMLView",
      "description": "",
      "description_tooltip": null,
      "layout": "IPY_MODEL_82da00b2127a43d5b031922fccf2bf00",
      "placeholder": "​",
      "style": "IPY_MODEL_c6a2e50c256b48dba33dfac6ffbdf596",
      "value": " 315/315 [01:11&lt;00:00,  4.97it/s, training_loss=0.001]"
     }
    },
    "6aa8e23e19cf4ef8a346aa82b5102fe5": {
     "model_module": "@jupyter-widgets/controls",
     "model_name": "DescriptionStyleModel",
     "state": {
      "_model_module": "@jupyter-widgets/controls",
      "_model_module_version": "1.5.0",
      "_model_name": "DescriptionStyleModel",
      "_view_count": null,
      "_view_module": "@jupyter-widgets/base",
      "_view_module_version": "1.2.0",
      "_view_name": "StyleView",
      "description_width": ""
     }
    },
    "6b54204d5d95472281a147793f40cbd6": {
     "model_module": "@jupyter-widgets/base",
     "model_name": "LayoutModel",
     "state": {
      "_model_module": "@jupyter-widgets/base",
      "_model_module_version": "1.2.0",
      "_model_name": "LayoutModel",
      "_view_count": null,
      "_view_module": "@jupyter-widgets/base",
      "_view_module_version": "1.2.0",
      "_view_name": "LayoutView",
      "align_content": null,
      "align_items": null,
      "align_self": null,
      "border": null,
      "bottom": null,
      "display": null,
      "flex": null,
      "flex_flow": null,
      "grid_area": null,
      "grid_auto_columns": null,
      "grid_auto_flow": null,
      "grid_auto_rows": null,
      "grid_column": null,
      "grid_gap": null,
      "grid_row": null,
      "grid_template_areas": null,
      "grid_template_columns": null,
      "grid_template_rows": null,
      "height": null,
      "justify_content": null,
      "justify_items": null,
      "left": null,
      "margin": null,
      "max_height": null,
      "max_width": null,
      "min_height": null,
      "min_width": null,
      "object_fit": null,
      "object_position": null,
      "order": null,
      "overflow": null,
      "overflow_x": null,
      "overflow_y": null,
      "padding": null,
      "right": null,
      "top": null,
      "visibility": null,
      "width": null
     }
    },
    "6dc71dbe1fcb44eea5aae80f424bc870": {
     "model_module": "@jupyter-widgets/controls",
     "model_name": "FloatProgressModel",
     "state": {
      "_dom_classes": [],
      "_model_module": "@jupyter-widgets/controls",
      "_model_module_version": "1.5.0",
      "_model_name": "FloatProgressModel",
      "_view_count": null,
      "_view_module": "@jupyter-widgets/controls",
      "_view_module_version": "1.5.0",
      "_view_name": "ProgressView",
      "bar_style": "",
      "description": "Epoch 2: 100%",
      "description_tooltip": null,
      "layout": "IPY_MODEL_ebecd206a9ab4ebe9d93d063f21da3a1",
      "max": 315,
      "min": 0,
      "orientation": "horizontal",
      "style": "IPY_MODEL_b9ccfa7bc26a4273abc90b0960a40268",
      "value": 315
     }
    },
    "749cb1e286404155ba2077887153c604": {
     "model_module": "@jupyter-widgets/controls",
     "model_name": "HBoxModel",
     "state": {
      "_dom_classes": [],
      "_model_module": "@jupyter-widgets/controls",
      "_model_module_version": "1.5.0",
      "_model_name": "HBoxModel",
      "_view_count": null,
      "_view_module": "@jupyter-widgets/controls",
      "_view_module_version": "1.5.0",
      "_view_name": "HBoxView",
      "box_style": "",
      "children": [
       "IPY_MODEL_23b39b88dc5c4d9d806fc8a9cd820c85",
       "IPY_MODEL_9098096471884defad04ab238a7a6216"
      ],
      "layout": "IPY_MODEL_fe5cec8912fd443e9f89140ba9c278b7"
     }
    },
    "752b35f6f9b84323bdb682d840c6711d": {
     "model_module": "@jupyter-widgets/controls",
     "model_name": "ProgressStyleModel",
     "state": {
      "_model_module": "@jupyter-widgets/controls",
      "_model_module_version": "1.5.0",
      "_model_name": "ProgressStyleModel",
      "_view_count": null,
      "_view_module": "@jupyter-widgets/base",
      "_view_module_version": "1.2.0",
      "_view_name": "StyleView",
      "bar_color": null,
      "description_width": "initial"
     }
    },
    "75c5750aa0a140e79b38fecf7ec59af2": {
     "model_module": "@jupyter-widgets/base",
     "model_name": "LayoutModel",
     "state": {
      "_model_module": "@jupyter-widgets/base",
      "_model_module_version": "1.2.0",
      "_model_name": "LayoutModel",
      "_view_count": null,
      "_view_module": "@jupyter-widgets/base",
      "_view_module_version": "1.2.0",
      "_view_name": "LayoutView",
      "align_content": null,
      "align_items": null,
      "align_self": null,
      "border": null,
      "bottom": null,
      "display": null,
      "flex": null,
      "flex_flow": null,
      "grid_area": null,
      "grid_auto_columns": null,
      "grid_auto_flow": null,
      "grid_auto_rows": null,
      "grid_column": null,
      "grid_gap": null,
      "grid_row": null,
      "grid_template_areas": null,
      "grid_template_columns": null,
      "grid_template_rows": null,
      "height": null,
      "justify_content": null,
      "justify_items": null,
      "left": null,
      "margin": null,
      "max_height": null,
      "max_width": null,
      "min_height": null,
      "min_width": null,
      "object_fit": null,
      "object_position": null,
      "order": null,
      "overflow": null,
      "overflow_x": null,
      "overflow_y": null,
      "padding": null,
      "right": null,
      "top": null,
      "visibility": null,
      "width": null
     }
    },
    "773c6fb4b55b43a28224abff0a01bce2": {
     "model_module": "@jupyter-widgets/controls",
     "model_name": "DescriptionStyleModel",
     "state": {
      "_model_module": "@jupyter-widgets/controls",
      "_model_module_version": "1.5.0",
      "_model_name": "DescriptionStyleModel",
      "_view_count": null,
      "_view_module": "@jupyter-widgets/base",
      "_view_module_version": "1.2.0",
      "_view_name": "StyleView",
      "description_width": ""
     }
    },
    "78edce6660d446dd8c09ddbc181f2504": {
     "model_module": "@jupyter-widgets/controls",
     "model_name": "FloatProgressModel",
     "state": {
      "_dom_classes": [],
      "_model_module": "@jupyter-widgets/controls",
      "_model_module_version": "1.5.0",
      "_model_name": "FloatProgressModel",
      "_view_count": null,
      "_view_module": "@jupyter-widgets/controls",
      "_view_module_version": "1.5.0",
      "_view_name": "ProgressView",
      "bar_style": "success",
      "description": "Downloading: 100%",
      "description_tooltip": null,
      "layout": "IPY_MODEL_f9e100a7bd7148cd90f13cfc8c9807d5",
      "max": 231508,
      "min": 0,
      "orientation": "horizontal",
      "style": "IPY_MODEL_9f90b84497f4436394bd7cc5ecdd64aa",
      "value": 231508
     }
    },
    "7a2559d60ba64dae841449f4f50baefa": {
     "model_module": "@jupyter-widgets/controls",
     "model_name": "FloatProgressModel",
     "state": {
      "_dom_classes": [],
      "_model_module": "@jupyter-widgets/controls",
      "_model_module_version": "1.5.0",
      "_model_name": "FloatProgressModel",
      "_view_count": null,
      "_view_module": "@jupyter-widgets/controls",
      "_view_module_version": "1.5.0",
      "_view_name": "ProgressView",
      "bar_style": "success",
      "description": "100%",
      "description_tooltip": null,
      "layout": "IPY_MODEL_e300b433677846cabdd6757674b22eb2",
      "max": 10,
      "min": 0,
      "orientation": "horizontal",
      "style": "IPY_MODEL_ca9bdc79b51a4f9c97493f09c7d034d5",
      "value": 10
     }
    },
    "7c57ad78a2cb49a6902da003e6048c52": {
     "model_module": "@jupyter-widgets/controls",
     "model_name": "HTMLModel",
     "state": {
      "_dom_classes": [],
      "_model_module": "@jupyter-widgets/controls",
      "_model_module_version": "1.5.0",
      "_model_name": "HTMLModel",
      "_view_count": null,
      "_view_module": "@jupyter-widgets/controls",
      "_view_module_version": "1.5.0",
      "_view_name": "HTMLView",
      "description": "",
      "description_tooltip": null,
      "layout": "IPY_MODEL_2963cc29347b403ab2c9f55c208b23a3",
      "placeholder": "​",
      "style": "IPY_MODEL_4c647a023d0b4908899bccd0fe61b440",
      "value": " 10/10 [12:38&lt;00:00, 75.88s/it]"
     }
    },
    "7ce18d40649e4e9ea078795493f0ed37": {
     "model_module": "@jupyter-widgets/base",
     "model_name": "LayoutModel",
     "state": {
      "_model_module": "@jupyter-widgets/base",
      "_model_module_version": "1.2.0",
      "_model_name": "LayoutModel",
      "_view_count": null,
      "_view_module": "@jupyter-widgets/base",
      "_view_module_version": "1.2.0",
      "_view_name": "LayoutView",
      "align_content": null,
      "align_items": null,
      "align_self": null,
      "border": null,
      "bottom": null,
      "display": null,
      "flex": null,
      "flex_flow": null,
      "grid_area": null,
      "grid_auto_columns": null,
      "grid_auto_flow": null,
      "grid_auto_rows": null,
      "grid_column": null,
      "grid_gap": null,
      "grid_row": null,
      "grid_template_areas": null,
      "grid_template_columns": null,
      "grid_template_rows": null,
      "height": null,
      "justify_content": null,
      "justify_items": null,
      "left": null,
      "margin": null,
      "max_height": null,
      "max_width": null,
      "min_height": null,
      "min_width": null,
      "object_fit": null,
      "object_position": null,
      "order": null,
      "overflow": null,
      "overflow_x": null,
      "overflow_y": null,
      "padding": null,
      "right": null,
      "top": null,
      "visibility": null,
      "width": null
     }
    },
    "8153ead4c2eb49b9aaf4ae2701ea580f": {
     "model_module": "@jupyter-widgets/controls",
     "model_name": "DescriptionStyleModel",
     "state": {
      "_model_module": "@jupyter-widgets/controls",
      "_model_module_version": "1.5.0",
      "_model_name": "DescriptionStyleModel",
      "_view_count": null,
      "_view_module": "@jupyter-widgets/base",
      "_view_module_version": "1.2.0",
      "_view_name": "StyleView",
      "description_width": ""
     }
    },
    "82da00b2127a43d5b031922fccf2bf00": {
     "model_module": "@jupyter-widgets/base",
     "model_name": "LayoutModel",
     "state": {
      "_model_module": "@jupyter-widgets/base",
      "_model_module_version": "1.2.0",
      "_model_name": "LayoutModel",
      "_view_count": null,
      "_view_module": "@jupyter-widgets/base",
      "_view_module_version": "1.2.0",
      "_view_name": "LayoutView",
      "align_content": null,
      "align_items": null,
      "align_self": null,
      "border": null,
      "bottom": null,
      "display": null,
      "flex": null,
      "flex_flow": null,
      "grid_area": null,
      "grid_auto_columns": null,
      "grid_auto_flow": null,
      "grid_auto_rows": null,
      "grid_column": null,
      "grid_gap": null,
      "grid_row": null,
      "grid_template_areas": null,
      "grid_template_columns": null,
      "grid_template_rows": null,
      "height": null,
      "justify_content": null,
      "justify_items": null,
      "left": null,
      "margin": null,
      "max_height": null,
      "max_width": null,
      "min_height": null,
      "min_width": null,
      "object_fit": null,
      "object_position": null,
      "order": null,
      "overflow": null,
      "overflow_x": null,
      "overflow_y": null,
      "padding": null,
      "right": null,
      "top": null,
      "visibility": null,
      "width": null
     }
    },
    "83ae1c649c254bcaa2de74c56f016050": {
     "model_module": "@jupyter-widgets/controls",
     "model_name": "HBoxModel",
     "state": {
      "_dom_classes": [],
      "_model_module": "@jupyter-widgets/controls",
      "_model_module_version": "1.5.0",
      "_model_name": "HBoxModel",
      "_view_count": null,
      "_view_module": "@jupyter-widgets/controls",
      "_view_module_version": "1.5.0",
      "_view_name": "HBoxView",
      "box_style": "",
      "children": [
       "IPY_MODEL_4641ba50151c4d248fb60983e3272255",
       "IPY_MODEL_5500c6911d964560bc89d4d2a056fe11"
      ],
      "layout": "IPY_MODEL_0c100ce7e4714e4f9adfab6f6858e7d4"
     }
    },
    "8641c214b4b54920afedc4c83058ff99": {
     "model_module": "@jupyter-widgets/base",
     "model_name": "LayoutModel",
     "state": {
      "_model_module": "@jupyter-widgets/base",
      "_model_module_version": "1.2.0",
      "_model_name": "LayoutModel",
      "_view_count": null,
      "_view_module": "@jupyter-widgets/base",
      "_view_module_version": "1.2.0",
      "_view_name": "LayoutView",
      "align_content": null,
      "align_items": null,
      "align_self": null,
      "border": null,
      "bottom": null,
      "display": null,
      "flex": null,
      "flex_flow": null,
      "grid_area": null,
      "grid_auto_columns": null,
      "grid_auto_flow": null,
      "grid_auto_rows": null,
      "grid_column": null,
      "grid_gap": null,
      "grid_row": null,
      "grid_template_areas": null,
      "grid_template_columns": null,
      "grid_template_rows": null,
      "height": null,
      "justify_content": null,
      "justify_items": null,
      "left": null,
      "margin": null,
      "max_height": null,
      "max_width": null,
      "min_height": null,
      "min_width": null,
      "object_fit": null,
      "object_position": null,
      "order": null,
      "overflow": null,
      "overflow_x": null,
      "overflow_y": null,
      "padding": null,
      "right": null,
      "top": null,
      "visibility": null,
      "width": null
     }
    },
    "87b313f433e34246bb6efc962fdbc6a8": {
     "model_module": "@jupyter-widgets/base",
     "model_name": "LayoutModel",
     "state": {
      "_model_module": "@jupyter-widgets/base",
      "_model_module_version": "1.2.0",
      "_model_name": "LayoutModel",
      "_view_count": null,
      "_view_module": "@jupyter-widgets/base",
      "_view_module_version": "1.2.0",
      "_view_name": "LayoutView",
      "align_content": null,
      "align_items": null,
      "align_self": null,
      "border": null,
      "bottom": null,
      "display": null,
      "flex": null,
      "flex_flow": null,
      "grid_area": null,
      "grid_auto_columns": null,
      "grid_auto_flow": null,
      "grid_auto_rows": null,
      "grid_column": null,
      "grid_gap": null,
      "grid_row": null,
      "grid_template_areas": null,
      "grid_template_columns": null,
      "grid_template_rows": null,
      "height": null,
      "justify_content": null,
      "justify_items": null,
      "left": null,
      "margin": null,
      "max_height": null,
      "max_width": null,
      "min_height": null,
      "min_width": null,
      "object_fit": null,
      "object_position": null,
      "order": null,
      "overflow": null,
      "overflow_x": null,
      "overflow_y": null,
      "padding": null,
      "right": null,
      "top": null,
      "visibility": null,
      "width": null
     }
    },
    "88a3931f2dd14b0eba7e278150395b54": {
     "model_module": "@jupyter-widgets/controls",
     "model_name": "ProgressStyleModel",
     "state": {
      "_model_module": "@jupyter-widgets/controls",
      "_model_module_version": "1.5.0",
      "_model_name": "ProgressStyleModel",
      "_view_count": null,
      "_view_module": "@jupyter-widgets/base",
      "_view_module_version": "1.2.0",
      "_view_name": "StyleView",
      "bar_color": null,
      "description_width": "initial"
     }
    },
    "8d1892dfc7e04dc49dece9dc2e65114b": {
     "model_module": "@jupyter-widgets/base",
     "model_name": "LayoutModel",
     "state": {
      "_model_module": "@jupyter-widgets/base",
      "_model_module_version": "1.2.0",
      "_model_name": "LayoutModel",
      "_view_count": null,
      "_view_module": "@jupyter-widgets/base",
      "_view_module_version": "1.2.0",
      "_view_name": "LayoutView",
      "align_content": null,
      "align_items": null,
      "align_self": null,
      "border": null,
      "bottom": null,
      "display": null,
      "flex": null,
      "flex_flow": null,
      "grid_area": null,
      "grid_auto_columns": null,
      "grid_auto_flow": null,
      "grid_auto_rows": null,
      "grid_column": null,
      "grid_gap": null,
      "grid_row": null,
      "grid_template_areas": null,
      "grid_template_columns": null,
      "grid_template_rows": null,
      "height": null,
      "justify_content": null,
      "justify_items": null,
      "left": null,
      "margin": null,
      "max_height": null,
      "max_width": null,
      "min_height": null,
      "min_width": null,
      "object_fit": null,
      "object_position": null,
      "order": null,
      "overflow": null,
      "overflow_x": null,
      "overflow_y": null,
      "padding": null,
      "right": null,
      "top": null,
      "visibility": null,
      "width": null
     }
    },
    "8f1827eef7544e40a442bb6e320e31de": {
     "model_module": "@jupyter-widgets/base",
     "model_name": "LayoutModel",
     "state": {
      "_model_module": "@jupyter-widgets/base",
      "_model_module_version": "1.2.0",
      "_model_name": "LayoutModel",
      "_view_count": null,
      "_view_module": "@jupyter-widgets/base",
      "_view_module_version": "1.2.0",
      "_view_name": "LayoutView",
      "align_content": null,
      "align_items": null,
      "align_self": null,
      "border": null,
      "bottom": null,
      "display": null,
      "flex": null,
      "flex_flow": null,
      "grid_area": null,
      "grid_auto_columns": null,
      "grid_auto_flow": null,
      "grid_auto_rows": null,
      "grid_column": null,
      "grid_gap": null,
      "grid_row": null,
      "grid_template_areas": null,
      "grid_template_columns": null,
      "grid_template_rows": null,
      "height": null,
      "justify_content": null,
      "justify_items": null,
      "left": null,
      "margin": null,
      "max_height": null,
      "max_width": null,
      "min_height": null,
      "min_width": null,
      "object_fit": null,
      "object_position": null,
      "order": null,
      "overflow": null,
      "overflow_x": null,
      "overflow_y": null,
      "padding": null,
      "right": null,
      "top": null,
      "visibility": null,
      "width": null
     }
    },
    "9046b74e64c44ca1a7231f142aa4008e": {
     "model_module": "@jupyter-widgets/controls",
     "model_name": "ProgressStyleModel",
     "state": {
      "_model_module": "@jupyter-widgets/controls",
      "_model_module_version": "1.5.0",
      "_model_name": "ProgressStyleModel",
      "_view_count": null,
      "_view_module": "@jupyter-widgets/base",
      "_view_module_version": "1.2.0",
      "_view_name": "StyleView",
      "bar_color": null,
      "description_width": "initial"
     }
    },
    "907a152fb5d74568b33915a409cd05bc": {
     "model_module": "@jupyter-widgets/controls",
     "model_name": "DescriptionStyleModel",
     "state": {
      "_model_module": "@jupyter-widgets/controls",
      "_model_module_version": "1.5.0",
      "_model_name": "DescriptionStyleModel",
      "_view_count": null,
      "_view_module": "@jupyter-widgets/base",
      "_view_module_version": "1.2.0",
      "_view_name": "StyleView",
      "description_width": ""
     }
    },
    "9098096471884defad04ab238a7a6216": {
     "model_module": "@jupyter-widgets/controls",
     "model_name": "HTMLModel",
     "state": {
      "_dom_classes": [],
      "_model_module": "@jupyter-widgets/controls",
      "_model_module_version": "1.5.0",
      "_model_name": "HTMLModel",
      "_view_count": null,
      "_view_module": "@jupyter-widgets/controls",
      "_view_module_version": "1.5.0",
      "_view_name": "HTMLView",
      "description": "",
      "description_tooltip": null,
      "layout": "IPY_MODEL_87b313f433e34246bb6efc962fdbc6a8",
      "placeholder": "​",
      "style": "IPY_MODEL_175d27b64460473f8fc47c7ae1b1c937",
      "value": " 440M/440M [01:45&lt;00:00, 4.17MB/s]"
     }
    },
    "91d76748b78942fa9ef2e9a7ca03cfe0": {
     "model_module": "@jupyter-widgets/base",
     "model_name": "LayoutModel",
     "state": {
      "_model_module": "@jupyter-widgets/base",
      "_model_module_version": "1.2.0",
      "_model_name": "LayoutModel",
      "_view_count": null,
      "_view_module": "@jupyter-widgets/base",
      "_view_module_version": "1.2.0",
      "_view_name": "LayoutView",
      "align_content": null,
      "align_items": null,
      "align_self": null,
      "border": null,
      "bottom": null,
      "display": null,
      "flex": null,
      "flex_flow": null,
      "grid_area": null,
      "grid_auto_columns": null,
      "grid_auto_flow": null,
      "grid_auto_rows": null,
      "grid_column": null,
      "grid_gap": null,
      "grid_row": null,
      "grid_template_areas": null,
      "grid_template_columns": null,
      "grid_template_rows": null,
      "height": null,
      "justify_content": null,
      "justify_items": null,
      "left": null,
      "margin": null,
      "max_height": null,
      "max_width": null,
      "min_height": null,
      "min_width": null,
      "object_fit": null,
      "object_position": null,
      "order": null,
      "overflow": null,
      "overflow_x": null,
      "overflow_y": null,
      "padding": null,
      "right": null,
      "top": null,
      "visibility": null,
      "width": null
     }
    },
    "9202e948656d4bd1aa600abcf67a3dcc": {
     "model_module": "@jupyter-widgets/base",
     "model_name": "LayoutModel",
     "state": {
      "_model_module": "@jupyter-widgets/base",
      "_model_module_version": "1.2.0",
      "_model_name": "LayoutModel",
      "_view_count": null,
      "_view_module": "@jupyter-widgets/base",
      "_view_module_version": "1.2.0",
      "_view_name": "LayoutView",
      "align_content": null,
      "align_items": null,
      "align_self": null,
      "border": null,
      "bottom": null,
      "display": null,
      "flex": null,
      "flex_flow": null,
      "grid_area": null,
      "grid_auto_columns": null,
      "grid_auto_flow": null,
      "grid_auto_rows": null,
      "grid_column": null,
      "grid_gap": null,
      "grid_row": null,
      "grid_template_areas": null,
      "grid_template_columns": null,
      "grid_template_rows": null,
      "height": null,
      "justify_content": null,
      "justify_items": null,
      "left": null,
      "margin": null,
      "max_height": null,
      "max_width": null,
      "min_height": null,
      "min_width": null,
      "object_fit": null,
      "object_position": null,
      "order": null,
      "overflow": null,
      "overflow_x": null,
      "overflow_y": null,
      "padding": null,
      "right": null,
      "top": null,
      "visibility": null,
      "width": null
     }
    },
    "956ed7d6e770432db15fc427492c9f8a": {
     "model_module": "@jupyter-widgets/controls",
     "model_name": "HTMLModel",
     "state": {
      "_dom_classes": [],
      "_model_module": "@jupyter-widgets/controls",
      "_model_module_version": "1.5.0",
      "_model_name": "HTMLModel",
      "_view_count": null,
      "_view_module": "@jupyter-widgets/controls",
      "_view_module_version": "1.5.0",
      "_view_name": "HTMLView",
      "description": "",
      "description_tooltip": null,
      "layout": "IPY_MODEL_9ac0c3052359489b9585672b3f43753b",
      "placeholder": "​",
      "style": "IPY_MODEL_4779a3f1370440e3b8c06650c94d8eb8",
      "value": " 433/433 [00:00&lt;00:00, 1.89kB/s]"
     }
    },
    "958e1df296534449817cf49d93de95f5": {
     "model_module": "@jupyter-widgets/base",
     "model_name": "LayoutModel",
     "state": {
      "_model_module": "@jupyter-widgets/base",
      "_model_module_version": "1.2.0",
      "_model_name": "LayoutModel",
      "_view_count": null,
      "_view_module": "@jupyter-widgets/base",
      "_view_module_version": "1.2.0",
      "_view_name": "LayoutView",
      "align_content": null,
      "align_items": null,
      "align_self": null,
      "border": null,
      "bottom": null,
      "display": null,
      "flex": null,
      "flex_flow": null,
      "grid_area": null,
      "grid_auto_columns": null,
      "grid_auto_flow": null,
      "grid_auto_rows": null,
      "grid_column": null,
      "grid_gap": null,
      "grid_row": null,
      "grid_template_areas": null,
      "grid_template_columns": null,
      "grid_template_rows": null,
      "height": null,
      "justify_content": null,
      "justify_items": null,
      "left": null,
      "margin": null,
      "max_height": null,
      "max_width": null,
      "min_height": null,
      "min_width": null,
      "object_fit": null,
      "object_position": null,
      "order": null,
      "overflow": null,
      "overflow_x": null,
      "overflow_y": null,
      "padding": null,
      "right": null,
      "top": null,
      "visibility": null,
      "width": null
     }
    },
    "991d913a554142c3892c0c7e1f3691ed": {
     "model_module": "@jupyter-widgets/base",
     "model_name": "LayoutModel",
     "state": {
      "_model_module": "@jupyter-widgets/base",
      "_model_module_version": "1.2.0",
      "_model_name": "LayoutModel",
      "_view_count": null,
      "_view_module": "@jupyter-widgets/base",
      "_view_module_version": "1.2.0",
      "_view_name": "LayoutView",
      "align_content": null,
      "align_items": null,
      "align_self": null,
      "border": null,
      "bottom": null,
      "display": null,
      "flex": null,
      "flex_flow": null,
      "grid_area": null,
      "grid_auto_columns": null,
      "grid_auto_flow": null,
      "grid_auto_rows": null,
      "grid_column": null,
      "grid_gap": null,
      "grid_row": null,
      "grid_template_areas": null,
      "grid_template_columns": null,
      "grid_template_rows": null,
      "height": null,
      "justify_content": null,
      "justify_items": null,
      "left": null,
      "margin": null,
      "max_height": null,
      "max_width": null,
      "min_height": null,
      "min_width": null,
      "object_fit": null,
      "object_position": null,
      "order": null,
      "overflow": null,
      "overflow_x": null,
      "overflow_y": null,
      "padding": null,
      "right": null,
      "top": null,
      "visibility": null,
      "width": null
     }
    },
    "9a3772d18bee4a3fbf7de8574a33d9b2": {
     "model_module": "@jupyter-widgets/controls",
     "model_name": "FloatProgressModel",
     "state": {
      "_dom_classes": [],
      "_model_module": "@jupyter-widgets/controls",
      "_model_module_version": "1.5.0",
      "_model_name": "FloatProgressModel",
      "_view_count": null,
      "_view_module": "@jupyter-widgets/controls",
      "_view_module_version": "1.5.0",
      "_view_name": "ProgressView",
      "bar_style": "",
      "description": "Epoch 10: 100%",
      "description_tooltip": null,
      "layout": "IPY_MODEL_f1c8761810ae4d3f9838f86fd35b0e21",
      "max": 315,
      "min": 0,
      "orientation": "horizontal",
      "style": "IPY_MODEL_f369cdb8291c43e082f07e6a7715cb31",
      "value": 315
     }
    },
    "9ac0c3052359489b9585672b3f43753b": {
     "model_module": "@jupyter-widgets/base",
     "model_name": "LayoutModel",
     "state": {
      "_model_module": "@jupyter-widgets/base",
      "_model_module_version": "1.2.0",
      "_model_name": "LayoutModel",
      "_view_count": null,
      "_view_module": "@jupyter-widgets/base",
      "_view_module_version": "1.2.0",
      "_view_name": "LayoutView",
      "align_content": null,
      "align_items": null,
      "align_self": null,
      "border": null,
      "bottom": null,
      "display": null,
      "flex": null,
      "flex_flow": null,
      "grid_area": null,
      "grid_auto_columns": null,
      "grid_auto_flow": null,
      "grid_auto_rows": null,
      "grid_column": null,
      "grid_gap": null,
      "grid_row": null,
      "grid_template_areas": null,
      "grid_template_columns": null,
      "grid_template_rows": null,
      "height": null,
      "justify_content": null,
      "justify_items": null,
      "left": null,
      "margin": null,
      "max_height": null,
      "max_width": null,
      "min_height": null,
      "min_width": null,
      "object_fit": null,
      "object_position": null,
      "order": null,
      "overflow": null,
      "overflow_x": null,
      "overflow_y": null,
      "padding": null,
      "right": null,
      "top": null,
      "visibility": null,
      "width": null
     }
    },
    "9ece789d4983482895ad0de0e6070866": {
     "model_module": "@jupyter-widgets/base",
     "model_name": "LayoutModel",
     "state": {
      "_model_module": "@jupyter-widgets/base",
      "_model_module_version": "1.2.0",
      "_model_name": "LayoutModel",
      "_view_count": null,
      "_view_module": "@jupyter-widgets/base",
      "_view_module_version": "1.2.0",
      "_view_name": "LayoutView",
      "align_content": null,
      "align_items": null,
      "align_self": null,
      "border": null,
      "bottom": null,
      "display": null,
      "flex": null,
      "flex_flow": null,
      "grid_area": null,
      "grid_auto_columns": null,
      "grid_auto_flow": null,
      "grid_auto_rows": null,
      "grid_column": null,
      "grid_gap": null,
      "grid_row": null,
      "grid_template_areas": null,
      "grid_template_columns": null,
      "grid_template_rows": null,
      "height": null,
      "justify_content": null,
      "justify_items": null,
      "left": null,
      "margin": null,
      "max_height": null,
      "max_width": null,
      "min_height": null,
      "min_width": null,
      "object_fit": null,
      "object_position": null,
      "order": null,
      "overflow": null,
      "overflow_x": null,
      "overflow_y": null,
      "padding": null,
      "right": null,
      "top": null,
      "visibility": null,
      "width": null
     }
    },
    "9f90b84497f4436394bd7cc5ecdd64aa": {
     "model_module": "@jupyter-widgets/controls",
     "model_name": "ProgressStyleModel",
     "state": {
      "_model_module": "@jupyter-widgets/controls",
      "_model_module_version": "1.5.0",
      "_model_name": "ProgressStyleModel",
      "_view_count": null,
      "_view_module": "@jupyter-widgets/base",
      "_view_module_version": "1.2.0",
      "_view_name": "StyleView",
      "bar_color": null,
      "description_width": "initial"
     }
    },
    "9feb9cd138eb418c83ad6892d5909749": {
     "model_module": "@jupyter-widgets/base",
     "model_name": "LayoutModel",
     "state": {
      "_model_module": "@jupyter-widgets/base",
      "_model_module_version": "1.2.0",
      "_model_name": "LayoutModel",
      "_view_count": null,
      "_view_module": "@jupyter-widgets/base",
      "_view_module_version": "1.2.0",
      "_view_name": "LayoutView",
      "align_content": null,
      "align_items": null,
      "align_self": null,
      "border": null,
      "bottom": null,
      "display": null,
      "flex": null,
      "flex_flow": null,
      "grid_area": null,
      "grid_auto_columns": null,
      "grid_auto_flow": null,
      "grid_auto_rows": null,
      "grid_column": null,
      "grid_gap": null,
      "grid_row": null,
      "grid_template_areas": null,
      "grid_template_columns": null,
      "grid_template_rows": null,
      "height": null,
      "justify_content": null,
      "justify_items": null,
      "left": null,
      "margin": null,
      "max_height": null,
      "max_width": null,
      "min_height": null,
      "min_width": null,
      "object_fit": null,
      "object_position": null,
      "order": null,
      "overflow": null,
      "overflow_x": null,
      "overflow_y": null,
      "padding": null,
      "right": null,
      "top": null,
      "visibility": null,
      "width": null
     }
    },
    "a681e942fb8e499db410e3c02dd24439": {
     "model_module": "@jupyter-widgets/base",
     "model_name": "LayoutModel",
     "state": {
      "_model_module": "@jupyter-widgets/base",
      "_model_module_version": "1.2.0",
      "_model_name": "LayoutModel",
      "_view_count": null,
      "_view_module": "@jupyter-widgets/base",
      "_view_module_version": "1.2.0",
      "_view_name": "LayoutView",
      "align_content": null,
      "align_items": null,
      "align_self": null,
      "border": null,
      "bottom": null,
      "display": null,
      "flex": null,
      "flex_flow": null,
      "grid_area": null,
      "grid_auto_columns": null,
      "grid_auto_flow": null,
      "grid_auto_rows": null,
      "grid_column": null,
      "grid_gap": null,
      "grid_row": null,
      "grid_template_areas": null,
      "grid_template_columns": null,
      "grid_template_rows": null,
      "height": null,
      "justify_content": null,
      "justify_items": null,
      "left": null,
      "margin": null,
      "max_height": null,
      "max_width": null,
      "min_height": null,
      "min_width": null,
      "object_fit": null,
      "object_position": null,
      "order": null,
      "overflow": null,
      "overflow_x": null,
      "overflow_y": null,
      "padding": null,
      "right": null,
      "top": null,
      "visibility": null,
      "width": null
     }
    },
    "ad6a39c83e5848f68f37e3256fb04af7": {
     "model_module": "@jupyter-widgets/controls",
     "model_name": "HTMLModel",
     "state": {
      "_dom_classes": [],
      "_model_module": "@jupyter-widgets/controls",
      "_model_module_version": "1.5.0",
      "_model_name": "HTMLModel",
      "_view_count": null,
      "_view_module": "@jupyter-widgets/controls",
      "_view_module_version": "1.5.0",
      "_view_name": "HTMLView",
      "description": "",
      "description_tooltip": null,
      "layout": "IPY_MODEL_d092a428faf7416784237c4bb76a25ae",
      "placeholder": "​",
      "style": "IPY_MODEL_907a152fb5d74568b33915a409cd05bc",
      "value": " 315/315 [01:11&lt;00:00,  4.98it/s, training_loss=0.001]"
     }
    },
    "afefafdd649544439348a83bd6750a75": {
     "model_module": "@jupyter-widgets/controls",
     "model_name": "HBoxModel",
     "state": {
      "_dom_classes": [],
      "_model_module": "@jupyter-widgets/controls",
      "_model_module_version": "1.5.0",
      "_model_name": "HBoxModel",
      "_view_count": null,
      "_view_module": "@jupyter-widgets/controls",
      "_view_module_version": "1.5.0",
      "_view_name": "HBoxView",
      "box_style": "",
      "children": [
       "IPY_MODEL_1b43a857ca2c4a0fac641bfc1f442aa6",
       "IPY_MODEL_ad6a39c83e5848f68f37e3256fb04af7"
      ],
      "layout": "IPY_MODEL_91d76748b78942fa9ef2e9a7ca03cfe0"
     }
    },
    "b107bd77a27d4121a34649f2cc4e3257": {
     "model_module": "@jupyter-widgets/controls",
     "model_name": "DescriptionStyleModel",
     "state": {
      "_model_module": "@jupyter-widgets/controls",
      "_model_module_version": "1.5.0",
      "_model_name": "DescriptionStyleModel",
      "_view_count": null,
      "_view_module": "@jupyter-widgets/base",
      "_view_module_version": "1.2.0",
      "_view_name": "StyleView",
      "description_width": ""
     }
    },
    "b8415b5575864692b186423e1b2b02b8": {
     "model_module": "@jupyter-widgets/controls",
     "model_name": "ProgressStyleModel",
     "state": {
      "_model_module": "@jupyter-widgets/controls",
      "_model_module_version": "1.5.0",
      "_model_name": "ProgressStyleModel",
      "_view_count": null,
      "_view_module": "@jupyter-widgets/base",
      "_view_module_version": "1.2.0",
      "_view_name": "StyleView",
      "bar_color": null,
      "description_width": "initial"
     }
    },
    "b9858affa9774c71b8fc309de38ba5cc": {
     "model_module": "@jupyter-widgets/controls",
     "model_name": "ProgressStyleModel",
     "state": {
      "_model_module": "@jupyter-widgets/controls",
      "_model_module_version": "1.5.0",
      "_model_name": "ProgressStyleModel",
      "_view_count": null,
      "_view_module": "@jupyter-widgets/base",
      "_view_module_version": "1.2.0",
      "_view_name": "StyleView",
      "bar_color": null,
      "description_width": "initial"
     }
    },
    "b9ccfa7bc26a4273abc90b0960a40268": {
     "model_module": "@jupyter-widgets/controls",
     "model_name": "ProgressStyleModel",
     "state": {
      "_model_module": "@jupyter-widgets/controls",
      "_model_module_version": "1.5.0",
      "_model_name": "ProgressStyleModel",
      "_view_count": null,
      "_view_module": "@jupyter-widgets/base",
      "_view_module_version": "1.2.0",
      "_view_name": "StyleView",
      "bar_color": null,
      "description_width": "initial"
     }
    },
    "c42e38e6a9694a69b542dad87a8df483": {
     "model_module": "@jupyter-widgets/base",
     "model_name": "LayoutModel",
     "state": {
      "_model_module": "@jupyter-widgets/base",
      "_model_module_version": "1.2.0",
      "_model_name": "LayoutModel",
      "_view_count": null,
      "_view_module": "@jupyter-widgets/base",
      "_view_module_version": "1.2.0",
      "_view_name": "LayoutView",
      "align_content": null,
      "align_items": null,
      "align_self": null,
      "border": null,
      "bottom": null,
      "display": null,
      "flex": null,
      "flex_flow": null,
      "grid_area": null,
      "grid_auto_columns": null,
      "grid_auto_flow": null,
      "grid_auto_rows": null,
      "grid_column": null,
      "grid_gap": null,
      "grid_row": null,
      "grid_template_areas": null,
      "grid_template_columns": null,
      "grid_template_rows": null,
      "height": null,
      "justify_content": null,
      "justify_items": null,
      "left": null,
      "margin": null,
      "max_height": null,
      "max_width": null,
      "min_height": null,
      "min_width": null,
      "object_fit": null,
      "object_position": null,
      "order": null,
      "overflow": null,
      "overflow_x": null,
      "overflow_y": null,
      "padding": null,
      "right": null,
      "top": null,
      "visibility": null,
      "width": null
     }
    },
    "c5a6eeea18af4d71bba217de10bd01c5": {
     "model_module": "@jupyter-widgets/controls",
     "model_name": "HTMLModel",
     "state": {
      "_dom_classes": [],
      "_model_module": "@jupyter-widgets/controls",
      "_model_module_version": "1.5.0",
      "_model_name": "HTMLModel",
      "_view_count": null,
      "_view_module": "@jupyter-widgets/controls",
      "_view_module_version": "1.5.0",
      "_view_name": "HTMLView",
      "description": "",
      "description_tooltip": null,
      "layout": "IPY_MODEL_51bd0b67c50f41c99cdde3cc3dff5071",
      "placeholder": "​",
      "style": "IPY_MODEL_8153ead4c2eb49b9aaf4ae2701ea580f",
      "value": " 315/315 [01:11&lt;00:00,  5.01it/s, training_loss=0.000]"
     }
    },
    "c6a2e50c256b48dba33dfac6ffbdf596": {
     "model_module": "@jupyter-widgets/controls",
     "model_name": "DescriptionStyleModel",
     "state": {
      "_model_module": "@jupyter-widgets/controls",
      "_model_module_version": "1.5.0",
      "_model_name": "DescriptionStyleModel",
      "_view_count": null,
      "_view_module": "@jupyter-widgets/base",
      "_view_module_version": "1.2.0",
      "_view_name": "StyleView",
      "description_width": ""
     }
    },
    "c6df0ddb5aa347a4a5afdf21d430753d": {
     "model_module": "@jupyter-widgets/base",
     "model_name": "LayoutModel",
     "state": {
      "_model_module": "@jupyter-widgets/base",
      "_model_module_version": "1.2.0",
      "_model_name": "LayoutModel",
      "_view_count": null,
      "_view_module": "@jupyter-widgets/base",
      "_view_module_version": "1.2.0",
      "_view_name": "LayoutView",
      "align_content": null,
      "align_items": null,
      "align_self": null,
      "border": null,
      "bottom": null,
      "display": null,
      "flex": null,
      "flex_flow": null,
      "grid_area": null,
      "grid_auto_columns": null,
      "grid_auto_flow": null,
      "grid_auto_rows": null,
      "grid_column": null,
      "grid_gap": null,
      "grid_row": null,
      "grid_template_areas": null,
      "grid_template_columns": null,
      "grid_template_rows": null,
      "height": null,
      "justify_content": null,
      "justify_items": null,
      "left": null,
      "margin": null,
      "max_height": null,
      "max_width": null,
      "min_height": null,
      "min_width": null,
      "object_fit": null,
      "object_position": null,
      "order": null,
      "overflow": null,
      "overflow_x": null,
      "overflow_y": null,
      "padding": null,
      "right": null,
      "top": null,
      "visibility": null,
      "width": null
     }
    },
    "c92d52dbdc0149658303f5299fff8c0f": {
     "model_module": "@jupyter-widgets/controls",
     "model_name": "HBoxModel",
     "state": {
      "_dom_classes": [],
      "_model_module": "@jupyter-widgets/controls",
      "_model_module_version": "1.5.0",
      "_model_name": "HBoxModel",
      "_view_count": null,
      "_view_module": "@jupyter-widgets/controls",
      "_view_module_version": "1.5.0",
      "_view_name": "HBoxView",
      "box_style": "",
      "children": [
       "IPY_MODEL_6dc71dbe1fcb44eea5aae80f424bc870",
       "IPY_MODEL_594d543d9dff4c528b7ec6507f9d2856"
      ],
      "layout": "IPY_MODEL_29789c980dfe44c1a53474ddf226331e"
     }
    },
    "ca9bdc79b51a4f9c97493f09c7d034d5": {
     "model_module": "@jupyter-widgets/controls",
     "model_name": "ProgressStyleModel",
     "state": {
      "_model_module": "@jupyter-widgets/controls",
      "_model_module_version": "1.5.0",
      "_model_name": "ProgressStyleModel",
      "_view_count": null,
      "_view_module": "@jupyter-widgets/base",
      "_view_module_version": "1.2.0",
      "_view_name": "StyleView",
      "bar_color": null,
      "description_width": "initial"
     }
    },
    "d092a428faf7416784237c4bb76a25ae": {
     "model_module": "@jupyter-widgets/base",
     "model_name": "LayoutModel",
     "state": {
      "_model_module": "@jupyter-widgets/base",
      "_model_module_version": "1.2.0",
      "_model_name": "LayoutModel",
      "_view_count": null,
      "_view_module": "@jupyter-widgets/base",
      "_view_module_version": "1.2.0",
      "_view_name": "LayoutView",
      "align_content": null,
      "align_items": null,
      "align_self": null,
      "border": null,
      "bottom": null,
      "display": null,
      "flex": null,
      "flex_flow": null,
      "grid_area": null,
      "grid_auto_columns": null,
      "grid_auto_flow": null,
      "grid_auto_rows": null,
      "grid_column": null,
      "grid_gap": null,
      "grid_row": null,
      "grid_template_areas": null,
      "grid_template_columns": null,
      "grid_template_rows": null,
      "height": null,
      "justify_content": null,
      "justify_items": null,
      "left": null,
      "margin": null,
      "max_height": null,
      "max_width": null,
      "min_height": null,
      "min_width": null,
      "object_fit": null,
      "object_position": null,
      "order": null,
      "overflow": null,
      "overflow_x": null,
      "overflow_y": null,
      "padding": null,
      "right": null,
      "top": null,
      "visibility": null,
      "width": null
     }
    },
    "d3028e2c82224be383c8ba1276df47eb": {
     "model_module": "@jupyter-widgets/controls",
     "model_name": "ProgressStyleModel",
     "state": {
      "_model_module": "@jupyter-widgets/controls",
      "_model_module_version": "1.5.0",
      "_model_name": "ProgressStyleModel",
      "_view_count": null,
      "_view_module": "@jupyter-widgets/base",
      "_view_module_version": "1.2.0",
      "_view_name": "StyleView",
      "bar_color": null,
      "description_width": "initial"
     }
    },
    "d93a210692f74adbaea4435d9f721259": {
     "model_module": "@jupyter-widgets/base",
     "model_name": "LayoutModel",
     "state": {
      "_model_module": "@jupyter-widgets/base",
      "_model_module_version": "1.2.0",
      "_model_name": "LayoutModel",
      "_view_count": null,
      "_view_module": "@jupyter-widgets/base",
      "_view_module_version": "1.2.0",
      "_view_name": "LayoutView",
      "align_content": null,
      "align_items": null,
      "align_self": null,
      "border": null,
      "bottom": null,
      "display": null,
      "flex": null,
      "flex_flow": null,
      "grid_area": null,
      "grid_auto_columns": null,
      "grid_auto_flow": null,
      "grid_auto_rows": null,
      "grid_column": null,
      "grid_gap": null,
      "grid_row": null,
      "grid_template_areas": null,
      "grid_template_columns": null,
      "grid_template_rows": null,
      "height": null,
      "justify_content": null,
      "justify_items": null,
      "left": null,
      "margin": null,
      "max_height": null,
      "max_width": null,
      "min_height": null,
      "min_width": null,
      "object_fit": null,
      "object_position": null,
      "order": null,
      "overflow": null,
      "overflow_x": null,
      "overflow_y": null,
      "padding": null,
      "right": null,
      "top": null,
      "visibility": null,
      "width": null
     }
    },
    "ddf3631b2cb8416b86c67eb6750538e6": {
     "model_module": "@jupyter-widgets/controls",
     "model_name": "ProgressStyleModel",
     "state": {
      "_model_module": "@jupyter-widgets/controls",
      "_model_module_version": "1.5.0",
      "_model_name": "ProgressStyleModel",
      "_view_count": null,
      "_view_module": "@jupyter-widgets/base",
      "_view_module_version": "1.2.0",
      "_view_name": "StyleView",
      "bar_color": null,
      "description_width": "initial"
     }
    },
    "e300b433677846cabdd6757674b22eb2": {
     "model_module": "@jupyter-widgets/base",
     "model_name": "LayoutModel",
     "state": {
      "_model_module": "@jupyter-widgets/base",
      "_model_module_version": "1.2.0",
      "_model_name": "LayoutModel",
      "_view_count": null,
      "_view_module": "@jupyter-widgets/base",
      "_view_module_version": "1.2.0",
      "_view_name": "LayoutView",
      "align_content": null,
      "align_items": null,
      "align_self": null,
      "border": null,
      "bottom": null,
      "display": null,
      "flex": null,
      "flex_flow": null,
      "grid_area": null,
      "grid_auto_columns": null,
      "grid_auto_flow": null,
      "grid_auto_rows": null,
      "grid_column": null,
      "grid_gap": null,
      "grid_row": null,
      "grid_template_areas": null,
      "grid_template_columns": null,
      "grid_template_rows": null,
      "height": null,
      "justify_content": null,
      "justify_items": null,
      "left": null,
      "margin": null,
      "max_height": null,
      "max_width": null,
      "min_height": null,
      "min_width": null,
      "object_fit": null,
      "object_position": null,
      "order": null,
      "overflow": null,
      "overflow_x": null,
      "overflow_y": null,
      "padding": null,
      "right": null,
      "top": null,
      "visibility": null,
      "width": null
     }
    },
    "e3bf7e48a6224ed8afb2d80ff2548108": {
     "model_module": "@jupyter-widgets/controls",
     "model_name": "DescriptionStyleModel",
     "state": {
      "_model_module": "@jupyter-widgets/controls",
      "_model_module_version": "1.5.0",
      "_model_name": "DescriptionStyleModel",
      "_view_count": null,
      "_view_module": "@jupyter-widgets/base",
      "_view_module_version": "1.2.0",
      "_view_name": "StyleView",
      "description_width": ""
     }
    },
    "e5a41cded64d4bc5abc212fb5417ae5b": {
     "model_module": "@jupyter-widgets/controls",
     "model_name": "HTMLModel",
     "state": {
      "_dom_classes": [],
      "_model_module": "@jupyter-widgets/controls",
      "_model_module_version": "1.5.0",
      "_model_name": "HTMLModel",
      "_view_count": null,
      "_view_module": "@jupyter-widgets/controls",
      "_view_module_version": "1.5.0",
      "_view_name": "HTMLView",
      "description": "",
      "description_tooltip": null,
      "layout": "IPY_MODEL_5fd0c2f7567b42f69c1bcaeb2297e52e",
      "placeholder": "​",
      "style": "IPY_MODEL_6aa8e23e19cf4ef8a346aa82b5102fe5",
      "value": " 315/315 [01:11&lt;00:00,  4.97it/s, training_loss=0.000]"
     }
    },
    "e6294aa43d2f4e38b6c85ee3578f4402": {
     "model_module": "@jupyter-widgets/controls",
     "model_name": "ProgressStyleModel",
     "state": {
      "_model_module": "@jupyter-widgets/controls",
      "_model_module_version": "1.5.0",
      "_model_name": "ProgressStyleModel",
      "_view_count": null,
      "_view_module": "@jupyter-widgets/base",
      "_view_module_version": "1.2.0",
      "_view_name": "StyleView",
      "bar_color": null,
      "description_width": "initial"
     }
    },
    "ebecd206a9ab4ebe9d93d063f21da3a1": {
     "model_module": "@jupyter-widgets/base",
     "model_name": "LayoutModel",
     "state": {
      "_model_module": "@jupyter-widgets/base",
      "_model_module_version": "1.2.0",
      "_model_name": "LayoutModel",
      "_view_count": null,
      "_view_module": "@jupyter-widgets/base",
      "_view_module_version": "1.2.0",
      "_view_name": "LayoutView",
      "align_content": null,
      "align_items": null,
      "align_self": null,
      "border": null,
      "bottom": null,
      "display": null,
      "flex": null,
      "flex_flow": null,
      "grid_area": null,
      "grid_auto_columns": null,
      "grid_auto_flow": null,
      "grid_auto_rows": null,
      "grid_column": null,
      "grid_gap": null,
      "grid_row": null,
      "grid_template_areas": null,
      "grid_template_columns": null,
      "grid_template_rows": null,
      "height": null,
      "justify_content": null,
      "justify_items": null,
      "left": null,
      "margin": null,
      "max_height": null,
      "max_width": null,
      "min_height": null,
      "min_width": null,
      "object_fit": null,
      "object_position": null,
      "order": null,
      "overflow": null,
      "overflow_x": null,
      "overflow_y": null,
      "padding": null,
      "right": null,
      "top": null,
      "visibility": null,
      "width": null
     }
    },
    "ec7e1857699c44e9a8f1c15e546a89a4": {
     "model_module": "@jupyter-widgets/base",
     "model_name": "LayoutModel",
     "state": {
      "_model_module": "@jupyter-widgets/base",
      "_model_module_version": "1.2.0",
      "_model_name": "LayoutModel",
      "_view_count": null,
      "_view_module": "@jupyter-widgets/base",
      "_view_module_version": "1.2.0",
      "_view_name": "LayoutView",
      "align_content": null,
      "align_items": null,
      "align_self": null,
      "border": null,
      "bottom": null,
      "display": null,
      "flex": null,
      "flex_flow": null,
      "grid_area": null,
      "grid_auto_columns": null,
      "grid_auto_flow": null,
      "grid_auto_rows": null,
      "grid_column": null,
      "grid_gap": null,
      "grid_row": null,
      "grid_template_areas": null,
      "grid_template_columns": null,
      "grid_template_rows": null,
      "height": null,
      "justify_content": null,
      "justify_items": null,
      "left": null,
      "margin": null,
      "max_height": null,
      "max_width": null,
      "min_height": null,
      "min_width": null,
      "object_fit": null,
      "object_position": null,
      "order": null,
      "overflow": null,
      "overflow_x": null,
      "overflow_y": null,
      "padding": null,
      "right": null,
      "top": null,
      "visibility": null,
      "width": null
     }
    },
    "f1c8761810ae4d3f9838f86fd35b0e21": {
     "model_module": "@jupyter-widgets/base",
     "model_name": "LayoutModel",
     "state": {
      "_model_module": "@jupyter-widgets/base",
      "_model_module_version": "1.2.0",
      "_model_name": "LayoutModel",
      "_view_count": null,
      "_view_module": "@jupyter-widgets/base",
      "_view_module_version": "1.2.0",
      "_view_name": "LayoutView",
      "align_content": null,
      "align_items": null,
      "align_self": null,
      "border": null,
      "bottom": null,
      "display": null,
      "flex": null,
      "flex_flow": null,
      "grid_area": null,
      "grid_auto_columns": null,
      "grid_auto_flow": null,
      "grid_auto_rows": null,
      "grid_column": null,
      "grid_gap": null,
      "grid_row": null,
      "grid_template_areas": null,
      "grid_template_columns": null,
      "grid_template_rows": null,
      "height": null,
      "justify_content": null,
      "justify_items": null,
      "left": null,
      "margin": null,
      "max_height": null,
      "max_width": null,
      "min_height": null,
      "min_width": null,
      "object_fit": null,
      "object_position": null,
      "order": null,
      "overflow": null,
      "overflow_x": null,
      "overflow_y": null,
      "padding": null,
      "right": null,
      "top": null,
      "visibility": null,
      "width": null
     }
    },
    "f369cdb8291c43e082f07e6a7715cb31": {
     "model_module": "@jupyter-widgets/controls",
     "model_name": "ProgressStyleModel",
     "state": {
      "_model_module": "@jupyter-widgets/controls",
      "_model_module_version": "1.5.0",
      "_model_name": "ProgressStyleModel",
      "_view_count": null,
      "_view_module": "@jupyter-widgets/base",
      "_view_module_version": "1.2.0",
      "_view_name": "StyleView",
      "bar_color": null,
      "description_width": "initial"
     }
    },
    "f80d7322c0594879af71f642c892bad6": {
     "model_module": "@jupyter-widgets/base",
     "model_name": "LayoutModel",
     "state": {
      "_model_module": "@jupyter-widgets/base",
      "_model_module_version": "1.2.0",
      "_model_name": "LayoutModel",
      "_view_count": null,
      "_view_module": "@jupyter-widgets/base",
      "_view_module_version": "1.2.0",
      "_view_name": "LayoutView",
      "align_content": null,
      "align_items": null,
      "align_self": null,
      "border": null,
      "bottom": null,
      "display": null,
      "flex": null,
      "flex_flow": null,
      "grid_area": null,
      "grid_auto_columns": null,
      "grid_auto_flow": null,
      "grid_auto_rows": null,
      "grid_column": null,
      "grid_gap": null,
      "grid_row": null,
      "grid_template_areas": null,
      "grid_template_columns": null,
      "grid_template_rows": null,
      "height": null,
      "justify_content": null,
      "justify_items": null,
      "left": null,
      "margin": null,
      "max_height": null,
      "max_width": null,
      "min_height": null,
      "min_width": null,
      "object_fit": null,
      "object_position": null,
      "order": null,
      "overflow": null,
      "overflow_x": null,
      "overflow_y": null,
      "padding": null,
      "right": null,
      "top": null,
      "visibility": null,
      "width": null
     }
    },
    "f9e100a7bd7148cd90f13cfc8c9807d5": {
     "model_module": "@jupyter-widgets/base",
     "model_name": "LayoutModel",
     "state": {
      "_model_module": "@jupyter-widgets/base",
      "_model_module_version": "1.2.0",
      "_model_name": "LayoutModel",
      "_view_count": null,
      "_view_module": "@jupyter-widgets/base",
      "_view_module_version": "1.2.0",
      "_view_name": "LayoutView",
      "align_content": null,
      "align_items": null,
      "align_self": null,
      "border": null,
      "bottom": null,
      "display": null,
      "flex": null,
      "flex_flow": null,
      "grid_area": null,
      "grid_auto_columns": null,
      "grid_auto_flow": null,
      "grid_auto_rows": null,
      "grid_column": null,
      "grid_gap": null,
      "grid_row": null,
      "grid_template_areas": null,
      "grid_template_columns": null,
      "grid_template_rows": null,
      "height": null,
      "justify_content": null,
      "justify_items": null,
      "left": null,
      "margin": null,
      "max_height": null,
      "max_width": null,
      "min_height": null,
      "min_width": null,
      "object_fit": null,
      "object_position": null,
      "order": null,
      "overflow": null,
      "overflow_x": null,
      "overflow_y": null,
      "padding": null,
      "right": null,
      "top": null,
      "visibility": null,
      "width": null
     }
    },
    "fb083fd6fc2b485a8f0c6d3a7c60b49f": {
     "model_module": "@jupyter-widgets/controls",
     "model_name": "HBoxModel",
     "state": {
      "_dom_classes": [],
      "_model_module": "@jupyter-widgets/controls",
      "_model_module_version": "1.5.0",
      "_model_name": "HBoxModel",
      "_view_count": null,
      "_view_module": "@jupyter-widgets/controls",
      "_view_module_version": "1.5.0",
      "_view_name": "HBoxView",
      "box_style": "",
      "children": [
       "IPY_MODEL_78edce6660d446dd8c09ddbc181f2504",
       "IPY_MODEL_1984dd992a8c478a89a398fac149cf1e"
      ],
      "layout": "IPY_MODEL_4280c9ae05d643a9a93ddb944e1e4f30"
     }
    },
    "fb2ce35ed97346d899d2fb9cc87c10e5": {
     "model_module": "@jupyter-widgets/controls",
     "model_name": "FloatProgressModel",
     "state": {
      "_dom_classes": [],
      "_model_module": "@jupyter-widgets/controls",
      "_model_module_version": "1.5.0",
      "_model_name": "FloatProgressModel",
      "_view_count": null,
      "_view_module": "@jupyter-widgets/controls",
      "_view_module_version": "1.5.0",
      "_view_name": "ProgressView",
      "bar_style": "",
      "description": "Epoch 1: 100%",
      "description_tooltip": null,
      "layout": "IPY_MODEL_8d1892dfc7e04dc49dece9dc2e65114b",
      "max": 315,
      "min": 0,
      "orientation": "horizontal",
      "style": "IPY_MODEL_88a3931f2dd14b0eba7e278150395b54",
      "value": 315
     }
    },
    "fc8b04e55fff43cd8a830a51f616edc2": {
     "model_module": "@jupyter-widgets/controls",
     "model_name": "HTMLModel",
     "state": {
      "_dom_classes": [],
      "_model_module": "@jupyter-widgets/controls",
      "_model_module_version": "1.5.0",
      "_model_name": "HTMLModel",
      "_view_count": null,
      "_view_module": "@jupyter-widgets/controls",
      "_view_module_version": "1.5.0",
      "_view_name": "HTMLView",
      "description": "",
      "description_tooltip": null,
      "layout": "IPY_MODEL_75c5750aa0a140e79b38fecf7ec59af2",
      "placeholder": "​",
      "style": "IPY_MODEL_ff39573ff24f4442b72dac561d8fecad",
      "value": " 315/315 [01:08&lt;00:00,  5.04it/s, training_loss=0.005]"
     }
    },
    "fd13ccebd6e14860aa38828d15da9a95": {
     "model_module": "@jupyter-widgets/controls",
     "model_name": "HBoxModel",
     "state": {
      "_dom_classes": [],
      "_model_module": "@jupyter-widgets/controls",
      "_model_module_version": "1.5.0",
      "_model_name": "HBoxModel",
      "_view_count": null,
      "_view_module": "@jupyter-widgets/controls",
      "_view_module_version": "1.5.0",
      "_view_name": "HBoxView",
      "box_style": "",
      "children": [
       "IPY_MODEL_9a3772d18bee4a3fbf7de8574a33d9b2",
       "IPY_MODEL_e5a41cded64d4bc5abc212fb5417ae5b"
      ],
      "layout": "IPY_MODEL_c6df0ddb5aa347a4a5afdf21d430753d"
     }
    },
    "fe00cce573c3401ea5f12da86895a620": {
     "model_module": "@jupyter-widgets/controls",
     "model_name": "ProgressStyleModel",
     "state": {
      "_model_module": "@jupyter-widgets/controls",
      "_model_module_version": "1.5.0",
      "_model_name": "ProgressStyleModel",
      "_view_count": null,
      "_view_module": "@jupyter-widgets/base",
      "_view_module_version": "1.2.0",
      "_view_name": "StyleView",
      "bar_color": null,
      "description_width": "initial"
     }
    },
    "fe5cec8912fd443e9f89140ba9c278b7": {
     "model_module": "@jupyter-widgets/base",
     "model_name": "LayoutModel",
     "state": {
      "_model_module": "@jupyter-widgets/base",
      "_model_module_version": "1.2.0",
      "_model_name": "LayoutModel",
      "_view_count": null,
      "_view_module": "@jupyter-widgets/base",
      "_view_module_version": "1.2.0",
      "_view_name": "LayoutView",
      "align_content": null,
      "align_items": null,
      "align_self": null,
      "border": null,
      "bottom": null,
      "display": null,
      "flex": null,
      "flex_flow": null,
      "grid_area": null,
      "grid_auto_columns": null,
      "grid_auto_flow": null,
      "grid_auto_rows": null,
      "grid_column": null,
      "grid_gap": null,
      "grid_row": null,
      "grid_template_areas": null,
      "grid_template_columns": null,
      "grid_template_rows": null,
      "height": null,
      "justify_content": null,
      "justify_items": null,
      "left": null,
      "margin": null,
      "max_height": null,
      "max_width": null,
      "min_height": null,
      "min_width": null,
      "object_fit": null,
      "object_position": null,
      "order": null,
      "overflow": null,
      "overflow_x": null,
      "overflow_y": null,
      "padding": null,
      "right": null,
      "top": null,
      "visibility": null,
      "width": null
     }
    },
    "ff39573ff24f4442b72dac561d8fecad": {
     "model_module": "@jupyter-widgets/controls",
     "model_name": "DescriptionStyleModel",
     "state": {
      "_model_module": "@jupyter-widgets/controls",
      "_model_module_version": "1.5.0",
      "_model_name": "DescriptionStyleModel",
      "_view_count": null,
      "_view_module": "@jupyter-widgets/base",
      "_view_module_version": "1.2.0",
      "_view_name": "StyleView",
      "description_width": ""
     }
    }
   }
  }
 },
 "nbformat": 4,
 "nbformat_minor": 1
}
